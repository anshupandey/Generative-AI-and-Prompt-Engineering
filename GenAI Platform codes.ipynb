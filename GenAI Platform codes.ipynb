{
 "cells": [
  {
   "cell_type": "code",
   "execution_count": null,
   "metadata": {},
   "outputs": [],
   "source": [
    "# Generate 20 random samples.\n",
    "import tensorflow_hub as hub\n",
    "import tensorflow as tf\n",
    "import matplotlib.pyplot as plt\n",
    "model_url = \"https://kaggle.com/models/google/progan-128/frameworks/tensorflow1/variations/progan-128/versions/1\"\n",
    "generate = hub.load(model_url).signatures['default']\n",
    "images = generate(tf.random.normal([20, 512]))\n",
    "imgs = images['default']\n",
    "\n",
    "\n",
    "rows,cols = 4,5\n",
    "plt.figure(figsize=(15, 12))  \n",
    "for i in range(1, rows * cols + 1):\n",
    "    plt.subplot(rows, cols, i)\n",
    "    plt.imshow(imgs[i - 1])\n",
    "    plt.axis('off')  # Turn off axis numbers and labels\n",
    "plt.tight_layout()\n",
    "plt.show()\n"
   ]
  },
  {
   "cell_type": "code",
   "execution_count": null,
   "metadata": {},
   "outputs": [],
   "source": [
    "# Run the code in Google Colab\n",
    "import tensorflow_hub as hub\n",
    "import tensorflow as tf\n",
    "from tensorflow.keras.preprocessing import image\n",
    "import matplotlib.pyplot as plt\n",
    "\n",
    "#!wget -q https://www.usaoncanvas.com/images/low_res_image.jpg\n",
    "model_url = \"https://kaggle.com/models/kaggle/esrgan-tf2/frameworks/TensorFlow2/variations/esrgan-tf2/versions/1\"\n",
    "model = hub.load(model_url)\n",
    "# To add an extra dimension for batch, use tf.expand_dims()\n",
    "low_resolution_image = image.load_img(\"low_res_image.jpg\",target_size=(150,150)) # Low Resolution Image of shape [batch_size, height, width, 3]\n",
    "low_resolution_image = tf.cast(low_resolution_image, tf.float32)\n",
    "low_resolution_image = tf.expand_dims(low_resolution_image, 0) # Reshape to [1, 240, 240, 3]\n",
    "super_resolution = model(low_resolution_image) # Perform Super Resolution here\n",
    "\n",
    "plt.subplot(121)\n",
    "plt.imshow(tf.cast(low_resolution_image[0],tf.int32))\n",
    "plt.title(\"Low Resolution Image\")\n",
    "plt.axis(False)\n",
    "plt.subplot(122)\n",
    "plt.imshow(tf.cast(super_resolution[0],tf.int32))\n",
    "plt.title(\"High Resolution Image\")\n",
    "plt.axis(False)\n",
    "plt.show()"
   ]
  },
  {
   "cell_type": "code",
   "execution_count": null,
   "metadata": {},
   "outputs": [],
   "source": [
    "from transformers import AutoModelForCausalLM, AutoTokenizer\n",
    "\n",
    "tokenizer = AutoTokenizer.from_pretrained(\"/kaggle/input/stablelm/pytorch/base-alpha-3b\")\n",
    "model = AutoModelForCausalLM.from_pretrained(\"/kaggle/input/stablelm/pytorch/base-alpha-3b\")\n",
    "model.half().cuda()\n",
    "\n",
    "inputs = tokenizer(\"What's your mood today?\", return_tensors=\"pt\").to(\"cuda\")\n",
    "tokens = model.generate(\n",
    "  **inputs,\n",
    "  max_new_tokens=64,\n",
    "  temperature=0.7,\n",
    "  do_sample=True,\n",
    ")\n",
    "print(tokenizer.decode(tokens[0], skip_special_tokens=True))\n"
   ]
  }
 ],
 "metadata": {
  "language_info": {
   "name": "python"
  }
 },
 "nbformat": 4,
 "nbformat_minor": 2
}
