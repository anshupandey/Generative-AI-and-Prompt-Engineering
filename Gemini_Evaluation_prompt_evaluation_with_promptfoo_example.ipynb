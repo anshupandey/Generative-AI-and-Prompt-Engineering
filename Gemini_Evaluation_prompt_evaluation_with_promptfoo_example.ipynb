{
  "cells": [
    {
      "cell_type": "markdown",
      "metadata": {
        "id": "view-in-github",
        "colab_type": "text"
      },
      "source": [
        "<a href=\"https://colab.research.google.com/github/anshupandey/Generative-AI-and-Prompt-Engineering/blob/main/Gemini_Evaluation_prompt_evaluation_with_promptfoo_example.ipynb\" target=\"_parent\"><img src=\"https://colab.research.google.com/assets/colab-badge.svg\" alt=\"Open In Colab\"/></a>"
      ]
    },
    {
      "cell_type": "markdown",
      "metadata": {
        "id": "uK0lOwXqCcci"
      },
      "source": [
        "This notebook shows how to\n",
        "\n",
        "\n",
        "1.   Set up & configure Promptfoo\n",
        "2.   Set up secrets (such as an OpenAI or Anthropic API key)\n",
        "3.   Run an eval of LLM models, prompts and outputs\n",
        "4.   Run another eval that includes Python code in this notebook\n",
        "\n"
      ]
    },
    {
      "cell_type": "markdown",
      "metadata": {
        "id": "5yj5q5FMSn6v"
      },
      "source": [
        "# Node/Promptfoo setup"
      ]
    },
    {
      "cell_type": "markdown",
      "metadata": {
        "id": "qBI5MsRN-mw9"
      },
      "source": [
        "Start by installing the Node.js dependency."
      ]
    },
    {
      "cell_type": "code",
      "execution_count": 1,
      "metadata": {
        "id": "CLsWqecMRPNn",
        "outputId": "b14e9d4a-bac4-437e-d1e6-c840d9f92ba3",
        "colab": {
          "base_uri": "https://localhost:8080/"
        }
      },
      "outputs": [
        {
          "output_type": "stream",
          "name": "stdout",
          "text": [
            "\u001b[K\u001b[?25h/tools/node/bin/n -> /tools/node/lib/node_modules/n/bin/n\n",
            "+ n@9.2.3\n",
            "added 1 package from 2 contributors in 0.457s\n",
            "  \u001b[36minstalling\u001b[0m : \u001b[2mnode-v22.2.0\u001b[0m\n",
            "  \u001b[36m     mkdir\u001b[0m : \u001b[2m/usr/local/n/versions/node/22.2.0\u001b[0m\n",
            "  \u001b[36m     fetch\u001b[0m : \u001b[2mhttps://nodejs.org/dist/v22.2.0/node-v22.2.0-linux-x64.tar.xz\u001b[0m\n",
            "############################################################################################# 100.0%\n",
            "\u001b[1A\u001b[2K  \u001b[36m   copying\u001b[0m : \u001b[2mnode/22.2.0\u001b[0m\n",
            "\u001b[1G\u001b[0K  \u001b[36m installed\u001b[0m : \u001b[2mv22.2.0 (with npm 10.7.0)\u001b[0m\n",
            "\n",
            "Note: the node command changed location and the old location may be remembered in your current shell.\n",
            "  \u001b[36m       old\u001b[0m : \u001b[2m/tools/node/bin/node\u001b[0m\n",
            "  \u001b[36m       new\u001b[0m : \u001b[2m/usr/local/bin/node\u001b[0m\n",
            "If \"node --version\" shows the old version then start a new shell, or reset the location hash with:\n",
            "hash -r  (for bash, zsh, ash, dash, and ksh)\n",
            "rehash   (for csh and tcsh)\n"
          ]
        }
      ],
      "source": [
        "# Node version 16 or higher is required for PromptFoo to work.\n",
        "# The current version of Node in Google Colab is 14.16.\n",
        "# Upgrade to the latest version of Node using the n package manager. Learn more at https://nodejs.org/en/download/package-manager#n\n",
        "!npm install -g n\n",
        "!n latest"
      ]
    },
    {
      "cell_type": "markdown",
      "metadata": {
        "id": "n61ejK4u-tFy"
      },
      "source": [
        "Next, we'll install and initialize promptfoo."
      ]
    },
    {
      "cell_type": "code",
      "execution_count": 2,
      "metadata": {
        "colab": {
          "base_uri": "https://localhost:8080/"
        },
        "id": "WNzZutVjRab-",
        "outputId": "3fedb592-252c-4b3d-e4af-8c64c77ad609"
      },
      "outputs": [
        {
          "output_type": "stream",
          "name": "stdout",
          "text": [
            "env: npm_config_yes=true\n",
            "\u001b[1G\u001b[0K⠙\u001b[1G\u001b[0K⠹\u001b[1G\u001b[0K⠸\u001b[1G\u001b[0K⠼\u001b[1G\u001b[0K⠴\u001b[1G\u001b[0K⠦\u001b[1G\u001b[0K⠧\u001b[1G\u001b[0K⠇\u001b[1G\u001b[0K⠏\u001b[1G\u001b[0K⠋\u001b[1G\u001b[0K⠙\u001b[1G\u001b[0K⠹\u001b[1G\u001b[0K⠸\u001b[1G\u001b[0K⠼\u001b[1G\u001b[0K⠴\u001b[1G\u001b[0K⠦\u001b[1G\u001b[0K⠧\u001b[1G\u001b[0K⠇\u001b[1G\u001b[0K⠏\u001b[1G\u001b[0K⠋\u001b[1G\u001b[0K⠙\u001b[1G\u001b[0K⠹\u001b[1G\u001b[0K⠸\u001b[1G\u001b[0K⠼\u001b[1G\u001b[0K⠴\u001b[1G\u001b[0K⠦\u001b[1G\u001b[0K⠧\u001b[1G\u001b[0K⠇\u001b[1G\u001b[0K⠏\u001b[1G\u001b[0K⠋\u001b[1G\u001b[0K⠙\u001b[1G\u001b[0K⠹\u001b[1G\u001b[0K⠸\u001b[1G\u001b[0K⠼\u001b[1G\u001b[0K⠴\u001b[1G\u001b[0K⠦\u001b[1G\u001b[0K⠧\u001b[1G\u001b[0K⠇\u001b[1G\u001b[0K⠏\u001b[1G\u001b[0K⠋\u001b[1G\u001b[0K⠙\u001b[1G\u001b[0K⠹\u001b[1G\u001b[0K⠸\u001b[1G\u001b[0K⠼\u001b[1G\u001b[0K⠴\u001b[1G\u001b[0K⠦\u001b[1G\u001b[0K⠧\u001b[1G\u001b[0K⠇\u001b[1G\u001b[0K⠏\u001b[1G\u001b[0K⠋\u001b[1G\u001b[0K⠙\u001b[1G\u001b[0K⠹\u001b[1G\u001b[0K⠸\u001b[1G\u001b[0K⠼\u001b[1G\u001b[0K⠴\u001b[1G\u001b[0K⠦\u001b[1G\u001b[0K⠧\u001b[1G\u001b[0K⠇\u001b[1G\u001b[0K⠏\u001b[1G\u001b[0K⠋\u001b[1G\u001b[0K⠙\u001b[1G\u001b[0K⠹\u001b[1G\u001b[0K⠸\u001b[1G\u001b[0K⠼\u001b[1G\u001b[0K⠴\u001b[1G\u001b[0K⠦\u001b[1G\u001b[0K⠧\u001b[1G\u001b[0K⠇\u001b[1G\u001b[0K⠏\u001b[1G\u001b[0K⠋\u001b[1G\u001b[0K⠙\u001b[1G\u001b[0K⠹\u001b[1G\u001b[0K⠸\u001b[1G\u001b[0K⠼\u001b[1G\u001b[0K⠴\u001b[1G\u001b[0K⠦\u001b[1G\u001b[0K⠧\u001b[1G\u001b[0K⠇\u001b[1G\u001b[0K⠏\u001b[1G\u001b[0K⠋\u001b[1G\u001b[0K⠙\u001b[1G\u001b[0K⠹\u001b[1G\u001b[0K⠸\u001b[1G\u001b[0K⠼\u001b[1G\u001b[0K⠴\u001b[1G\u001b[0K⠦\u001b[1G\u001b[0K⠧\u001b[1G\u001b[0K⠇\u001b[1G\u001b[0K⠏\u001b[1G\u001b[0K⠋\u001b[1G\u001b[0K⠙\u001b[1G\u001b[0K⠹\u001b[1G\u001b[0K⠸\u001b[1G\u001b[0K⠼\u001b[1G\u001b[0K⠴\u001b[1G\u001b[0K⠦\u001b[1G\u001b[0K⠧\u001b[1G\u001b[0K⠇\u001b[1G\u001b[0K⠏\u001b[1G\u001b[0K⠋\u001b[1G\u001b[0K⠙\u001b[1G\u001b[0K⠹\u001b[1G\u001b[0K⠸\u001b[1G\u001b[0K⠼\u001b[1G\u001b[0K⠴\u001b[1G\u001b[0K⠦\u001b[1G\u001b[0K⠧\u001b[1G\u001b[0K⠇\u001b[1G\u001b[0K⠏\u001b[1G\u001b[0K⠋\u001b[1G\u001b[0K⠙\u001b[1G\u001b[0K⠹\u001b[1G\u001b[0K⠸\u001b[1G\u001b[0K⠼\u001b[1G\u001b[0K⠴\u001b[1G\u001b[0K⠦\u001b[1G\u001b[0K⠧\u001b[1G\u001b[0K⠇\u001b[1G\u001b[0K⠏\u001b[1G\u001b[0K⠋\u001b[1G\u001b[0K⠙\u001b[1G\u001b[0K⠹\u001b[1G\u001b[0K⠸\u001b[1G\u001b[0K⠼\u001b[1G\u001b[0K⠴\u001b[1G\u001b[0K⠦\u001b[1G\u001b[0K⠧\u001b[1G\u001b[0K⠇\u001b[1G\u001b[0K⠏\u001b[1G\u001b[0K⠋\u001b[1G\u001b[0K⠙\u001b[1G\u001b[0K⠹\u001b[1G\u001b[0K⠸\u001b[1G\u001b[0K⠼\u001b[1G\u001b[0K⠴\u001b[1G\u001b[0K⠦\u001b[1G\u001b[0K⠧\u001b[1G\u001b[0K⠇\u001b[1G\u001b[0K⠏\u001b[1G\u001b[0K⠋\u001b[1G\u001b[0K⠙\u001b[1G\u001b[0K⠹\u001b[1G\u001b[0K⠸\u001b[1G\u001b[0K⠼\u001b[1G\u001b[0K⠴\u001b[1G\u001b[0K⠦\u001b[1G\u001b[0K⠧\u001b[1G\u001b[0K⠇\u001b[1G\u001b[0K⠏\u001b[1G\u001b[0K⠋\u001b[1G\u001b[0K⠙\u001b[1G\u001b[0K⠹\u001b[1G\u001b[0K⠸\u001b[1G\u001b[0K⠼\u001b[1G\u001b[0K⠴\u001b[1G\u001b[0K⠦\u001b[1G\u001b[0K⠧\u001b[1G\u001b[0K⠇\u001b[1G\u001b[0K⠏\u001b[1G\u001b[0K⠋\u001b[1G\u001b[0K⠙\u001b[1G\u001b[0K⠹\u001b[1G\u001b[0K⠸\u001b[1G\u001b[0K⠼\u001b[1G\u001b[0K⠴\u001b[1G\u001b[0K⠦\u001b[1G\u001b[0K⠧\u001b[1G\u001b[0K⠇\u001b[1G\u001b[0K⠏\u001b[1G\u001b[0K⠋\u001b[1G\u001b[0K⠙\u001b[1G\u001b[0K⠹\u001b[1G\u001b[0K⠸\u001b[1G\u001b[0K⠼\u001b[1G\u001b[0K⠴\u001b[1G\u001b[0K⠦\u001b[1G\u001b[0K⠧\u001b[1G\u001b[0K⠇\u001b[1G\u001b[0K⠏\u001b[1G\u001b[0K⠋\u001b[1G\u001b[0K⠙\u001b[1G\u001b[0K⠹\u001b[1G\u001b[0K⠸\u001b[1G\u001b[0K⠼\u001b[1G\u001b[0K⠴\u001b[1G\u001b[0K⠦\u001b[1G\u001b[0K⠧\u001b[1G\u001b[0K⠇\u001b[1G\u001b[0K⠏\u001b[1G\u001b[0K⠋\u001b[1G\u001b[0K⠙\u001b[1G\u001b[0K⠹\u001b[1G\u001b[0K⠸\u001b[1G\u001b[0K⠼\u001b[1G\u001b[0K⠴\u001b[1G\u001b[0K⠦\u001b[1G\u001b[0K⠧\u001b[1G\u001b[0K⠇\u001b[1G\u001b[0K⠏\u001b[1G\u001b[0K⠋\u001b[1G\u001b[0K⠙\u001b[1G\u001b[0K⠹\u001b[1G\u001b[0K⠸\u001b[1G\u001b[0K⠼\u001b[1G\u001b[0K⠴\u001b[1G\u001b[0K⠦\u001b[1G\u001b[0K⠧\u001b[1G\u001b[0K⠇\u001b[1G\u001b[0K⠏\u001b[1G\u001b[0K⠋\u001b[1G\u001b[0K⠙\u001b[1G\u001b[0K⠹\u001b[1G\u001b[0K⠸\u001b[1G\u001b[0K⠼\u001b[1G\u001b[0K⠴\u001b[1G\u001b[0K⠦\u001b[1G\u001b[0K⠧\u001b[1G\u001b[0K⠇\u001b[1G\u001b[0K⠏\u001b[1G\u001b[0K⠋\u001b[1G\u001b[0K⠙\u001b[1G\u001b[0K⠹\u001b[1G\u001b[0K⠸\u001b[1G\u001b[0K⠼\u001b[1G\u001b[0K⠴\u001b[1G\u001b[0K⠦\u001b[1G\u001b[0K⠧\u001b[1G\u001b[0K⠇\u001b[1G\u001b[0K⠏\u001b[1G\u001b[0K⠋\u001b[1G\u001b[0K⠙\u001b[1G\u001b[0K⠹\u001b[1G\u001b[0K⠸\u001b[1G\u001b[0K⠼\u001b[1G\u001b[0K⠴\u001b[1G\u001b[0K⠦\u001b[1G\u001b[0K⠧\u001b[1G\u001b[0K⠇\u001b[1G\u001b[0K⠏\u001b[1G\u001b[0K⠋\u001b[1G\u001b[0K⠙\u001b[1G\u001b[0K⠹\u001b[1G\u001b[0K⠸\u001b[1G\u001b[0K⠼\u001b[1G\u001b[0K⠴\u001b[1G\u001b[0K⠦\u001b[1G\u001b[0K⠧\u001b[1G\u001b[0K⠇\u001b[1G\u001b[0K⠏\u001b[1G\u001b[0K⠋\u001b[1G\u001b[0K⠙\u001b[1G\u001b[0K⠹\u001b[1G\u001b[0K⠸\u001b[1G\u001b[0K⠼\u001b[1G\u001b[0K⠴\u001b[1G\u001b[0K⠦\u001b[1G\u001b[0K⠧\u001b[1G\u001b[0K⠇\u001b[1G\u001b[0K⠏\u001b[1G\u001b[0K⠋\u001b[1G\u001b[0K⠙\u001b[1G\u001b[0K⠹\u001b[1G\u001b[0K⠸\u001b[1G\u001b[0K⠼\u001b[1G\u001b[0K⠴\u001b[1G\u001b[0K⠦\u001b[1G\u001b[0K⠧\u001b[1G\u001b[0K⠇\u001b[1G\u001b[0K⠏\u001b[1G\u001b[0K⠋\u001b[1G\u001b[0K⠙\u001b[1G\u001b[0K⠹\u001b[1G\u001b[0K⠸\u001b[1G\u001b[0K⠼\u001b[1G\u001b[0K⠴\u001b[1G\u001b[0K⠦\u001b[1G\u001b[0K⠧\u001b[1G\u001b[0K⠇\u001b[1G\u001b[0K⠏\u001b[1G\u001b[0K⠋\u001b[1G\u001b[0K⠙\u001b[1G\u001b[0K⠹\u001b[1G\u001b[0K⠸\u001b[1G\u001b[0K⠼\u001b[1G\u001b[0K⠴\u001b[1G\u001b[0K⠦\u001b[1G\u001b[0K⠧\u001b[1G\u001b[0K⠇\u001b[1G\u001b[0K⠏\u001b[1G\u001b[0K⠋\u001b[1G\u001b[0K⠙\u001b[1G\u001b[0K⠹\u001b[1G\u001b[0K⠸\u001b[1G\u001b[0K⠼\u001b[1G\u001b[0K⠴\u001b[1G\u001b[0K⠦\u001b[1G\u001b[0K⠧\u001b[1G\u001b[0K⠇\u001b[1G\u001b[0K⠏\u001b[1G\u001b[0K⠋\u001b[1G\u001b[0K⠙\u001b[1G\u001b[0K⠹\u001b[1G\u001b[0K⠸\u001b[1G\u001b[0K⠼\u001b[1G\u001b[0K⠴\u001b[1G\u001b[0K⠦\u001b[1G\u001b[0K⠧\u001b[1G\u001b[0K⠇\u001b[1G\u001b[0K⠏\u001b[1G\u001b[0K⠋\u001b[1G\u001b[0K⠙\u001b[1G\u001b[0K⠹\u001b[1G\u001b[0K⠸\u001b[1G\u001b[0K⠼\u001b[1G\u001b[0K⠴\u001b[1G\u001b[0K⠦\u001b[1G\u001b[0K⠧\u001b[1G\u001b[0K⠇\u001b[1G\u001b[0K⠏\u001b[1G\u001b[0K⠋\u001b[1G\u001b[0K⠙\u001b[1G\u001b[0K⠹\u001b[1G\u001b[0K⠸\u001b[1G\u001b[0K⠼\u001b[1G\u001b[0K⠴\u001b[1G\u001b[0K⠦\u001b[1G\u001b[0K⠧\u001b[1G\u001b[0K⠇\u001b[1G\u001b[0K⠏\u001b[1G\u001b[0K⠋\u001b[1G\u001b[0K⠙\u001b[1G\u001b[0K⠹\u001b[1G\u001b[0K⠸\u001b[1G\u001b[0K⠼\u001b[1G\u001b[0K⠴\u001b[1G\u001b[0K⠦\u001b[1G\u001b[0K⠧\u001b[1G\u001b[0K⠇\u001b[1G\u001b[0K⠏\u001b[1G\u001b[0K⠋\u001b[1G\u001b[0K⠙\u001b[1G\u001b[0K⠹\u001b[1G\u001b[0K⠸\u001b[1G\u001b[0K⠼\u001b[1G\u001b[0K⠴\u001b[1G\u001b[0K⠦\u001b[1G\u001b[0K⠧\u001b[1G\u001b[0K⠇\u001b[1G\u001b[0K⠏\u001b[1G\u001b[0K⠋\u001b[1G\u001b[0K⠙\u001b[1G\u001b[0K⠹\u001b[1G\u001b[0K⠸\u001b[1G\u001b[0K⠼\u001b[1G\u001b[0K⠴\u001b[1G\u001b[0K⠦\u001b[1G\u001b[0K⠧\u001b[1G\u001b[0K⠇\u001b[1G\u001b[0K⠏\u001b[1G\u001b[0K⠋\u001b[1G\u001b[0K⠙\u001b[1G\u001b[0K⠹\u001b[1G\u001b[0K⠸\u001b[1G\u001b[0K⠼\u001b[1G\u001b[0K⠴\u001b[1G\u001b[0K⠦\u001b[1G\u001b[0K⠧\u001b[1G\u001b[0K⠇\u001b[1G\u001b[0K⠏\u001b[1G\u001b[0K⠋\u001b[1G\u001b[0K⠙\u001b[1G\u001b[0K⠹\u001b[1G\u001b[0K⠸\u001b[1G\u001b[0K⠼\u001b[1G\u001b[0K⠴\u001b[1G\u001b[0K⠦\u001b[1G\u001b[0K⠧\u001b[1G\u001b[0K⠇\u001b[1G\u001b[0K⠏\u001b[1G\u001b[0K⠋\u001b[1G\u001b[0K⠙\u001b[1G\u001b[0K⠹\u001b[1G\u001b[0K⠸\u001b[1G\u001b[0K⠼\u001b[1G\u001b[0K⠴\u001b[1G\u001b[0K⠦\u001b[1G\u001b[0K⠧\u001b[1G\u001b[0K⠇\u001b[1G\u001b[0K⠏\u001b[1G\u001b[0K⠋\u001b[1G\u001b[0K⠙\u001b[1G\u001b[0K⠹\u001b[1G\u001b[0K⠸\u001b[1G\u001b[0K⠼\u001b[1G\u001b[0K⠴\u001b[1G\u001b[0K⠦\u001b[1G\u001b[0K⠧\u001b[1G\u001b[0K⠇\u001b[1G\u001b[0K⠏\u001b[1G\u001b[0K⠋\u001b[1G\u001b[0K⠙\u001b[1G\u001b[0K⠹\u001b[1G\u001b[0K⠸\u001b[1G\u001b[0K⠼\u001b[1G\u001b[0K⠴\u001b[1G\u001b[0K⠦\u001b[1G\u001b[0K⠧\u001b[1G\u001b[0K⠇\u001b[1G\u001b[0K⠏\u001b[1G\u001b[0K⠋\u001b[1G\u001b[0K⠙\u001b[1G\u001b[0K⠹\u001b[1G\u001b[0K⠸\u001b[1G\u001b[0K⠼\u001b[1G\u001b[0K⠴\u001b[1G\u001b[0K⠦\u001b[1G\u001b[0K⠧\u001b[1G\u001b[0K⠇\u001b[1G\u001b[0K⠏\u001b[1G\u001b[0K⠋\u001b[1G\u001b[0K⠙\u001b[1G\u001b[0K⠹\u001b[1G\u001b[0K⠸\u001b[1G\u001b[0K⠼\u001b[1G\u001b[0K⠴\u001b[1G\u001b[0K⠦\u001b[1G\u001b[0K⠧\u001b[1G\u001b[0K⠇\u001b[1G\u001b[0K⠏\u001b[1G\u001b[0K⠋\u001b[1G\u001b[0K⠙\u001b[1G\u001b[0K⠹\u001b[1G\u001b[0K⠸\u001b[1G\u001b[0K⠼\u001b[1G\u001b[0K⠴\u001b[1G\u001b[0K⠦\u001b[1G\u001b[0K⠧\u001b[1G\u001b[0K⠇\u001b[1G\u001b[0K⠏\u001b[1G\u001b[0K⠋\u001b[1G\u001b[0K⠙\u001b[1G\u001b[0K⠹\u001b[1G\u001b[0K⠸\u001b[1G\u001b[0K⠼\u001b[1G\u001b[0K⠴\u001b[1G\u001b[0K⠦\u001b[1G\u001b[0K⠧\u001b[1G\u001b[0K⠇\u001b[1G\u001b[0K⠏\u001b[1G\u001b[0K⠋\u001b[1G\u001b[0K⠙\u001b[1G\u001b[0K⠹\u001b[1G\u001b[0K⠸\u001b[1G\u001b[0K⠼\u001b[1G\u001b[0K⠴\u001b[1G\u001b[0K⠦\u001b[1G\u001b[0K⠧\u001b[1G\u001b[0K⠇\u001b[1G\u001b[0K⠏\u001b[1G\u001b[0K⠋\u001b[1G\u001b[0K⠙\u001b[1G\u001b[0K⠹\u001b[1G\u001b[0K⠸\u001b[1G\u001b[0K⠼\u001b[1G\u001b[0K⠴\u001b[1G\u001b[0K⠦\u001b[1G\u001b[0K⠧\u001b[1G\u001b[0K⠇\u001b[1G\u001b[0K⠏\u001b[1G\u001b[0K⠋\u001b[1G\u001b[0K⠙\u001b[1G\u001b[0K⠹\u001b[1G\u001b[0K⠸\u001b[1G\u001b[0K⠼\u001b[1G\u001b[0K⠴\u001b[1G\u001b[0K⠦\u001b[1G\u001b[0K⠧\u001b[1G\u001b[0K⠇\u001b[1G\u001b[0K⠏\u001b[1G\u001b[0K⠋\u001b[1G\u001b[0K⠙\u001b[1G\u001b[0K⠹\u001b[1G\u001b[0K⠸\u001b[1G\u001b[0K⠼\u001b[1G\u001b[0K⠴\u001b[1G\u001b[0K⠦\u001b[1G\u001b[0K⠧\u001b[1G\u001b[0K⠇\u001b[1G\u001b[0K⠏\u001b[1G\u001b[0K⠋\u001b[1G\u001b[0K⠙\u001b[1G\u001b[0K⠹\u001b[1G\u001b[0K⠸\u001b[1G\u001b[0K⠼\u001b[1G\u001b[0K⠴\u001b[1G\u001b[0K⠦\u001b[1G\u001b[0K⠧\u001b[1G\u001b[0K⠇\u001b[1G\u001b[0K⠏\u001b[1G\u001b[0K⠋\u001b[1G\u001b[0K⠙\u001b[1G\u001b[0K⠹\u001b[1G\u001b[0K⠸\u001b[1G\u001b[0K⠼\u001b[1G\u001b[0K⠴\u001b[1G\u001b[0K⠦\u001b[1G\u001b[0K⠧\u001b[1G\u001b[0K⠇\u001b[1G\u001b[0K⠏\u001b[1G\u001b[0K⠋\u001b[1G\u001b[0K⠙\u001b[1G\u001b[0K⠹\u001b[1G\u001b[0K⠸\u001b[1G\u001b[0K⠼\u001b[1G\u001b[0K⠴\u001b[1G\u001b[0K⠦\u001b[1G\u001b[0K⠧\u001b[1G\u001b[0K⠇\u001b[1G\u001b[0K⠏\u001b[1G\u001b[0K⠋\u001b[1G\u001b[0K⠙\u001b[1G\u001b[0K⠹\u001b[1G\u001b[0K⠸\u001b[1G\u001b[0K⠼\u001b[1G\u001b[0K⠴\u001b[1G\u001b[0K⠦\u001b[1G\u001b[0K⠧\u001b[1G\u001b[0K⠇\u001b[1G\u001b[0K⠏\u001b[1G\u001b[0K⠋\u001b[1G\u001b[0K⠙\u001b[1G\u001b[0K⠹\u001b[1G\u001b[0K⠸\u001b[1G\u001b[0K⠼\u001b[1G\u001b[0K⠴\u001b[1G\u001b[0K⠦\u001b[1G\u001b[0K⠧\u001b[1G\u001b[0K⠇\u001b[1G\u001b[0K⠏\u001b[1G\u001b[0K⠋\u001b[1G\u001b[0K⠙\u001b[1G\u001b[0K⠹\u001b[1G\u001b[0K⠸\u001b[1G\u001b[0K⠼\u001b[1G\u001b[0K⠴\u001b[1G\u001b[0K⠦\u001b[1G\u001b[0K⠧\u001b[1G\u001b[0K⠇\u001b[1G\u001b[0K⠏\u001b[1G\u001b[0K⠋\u001b[1G\u001b[0K⠙\u001b[1G\u001b[0K⠹\u001b[1G\u001b[0K⠸\u001b[1G\u001b[0K⠼\u001b[1G\u001b[0K⠴\u001b[1G\u001b[0K⠦\u001b[1G\u001b[0K⠧\u001b[1G\u001b[0K⠇\u001b[1G\u001b[0K⠏\u001b[1G\u001b[0K⠋\u001b[1G\u001b[0K⠙\u001b[1G\u001b[0K⠹\u001b[1G\u001b[0K⠸\u001b[1G\u001b[0K⠼\u001b[1G\u001b[0K⠴\u001b[1G\u001b[0K⠦\u001b[1G\u001b[0K⠧\u001b[1G\u001b[0K⠇\u001b[1G\u001b[0K⠏\u001b[1G\u001b[0K⠋\u001b[1G\u001b[0K⠙\u001b[1G\u001b[0K⠹\u001b[1G\u001b[0K⠸\u001b[1G\u001b[0K⠼\u001b[1G\u001b[0K⠴\u001b[1G\u001b[0K⠦\u001b[1G\u001b[0K⠧\u001b[1G\u001b[0K⠇\u001b[1G\u001b[0K⠏\u001b[1G\u001b[0K⠋\u001b[1G\u001b[0K⠙\u001b[1G\u001b[0K⠹\u001b[1G\u001b[0K⠸\u001b[1G\u001b[0K⠼\u001b[1G\u001b[0K⠴\u001b[1G\u001b[0K⠦\u001b[1G\u001b[0K⠧\u001b[1G\u001b[0K⠇\u001b[1G\u001b[0K⠏\u001b[1G\u001b[0K⠋\u001b[1G\u001b[0K⠙\u001b[1G\u001b[0K⠹\u001b[1G\u001b[0K⠸\u001b[1G\u001b[0K⠼\u001b[1G\u001b[0K⠴\u001b[1G\u001b[0K⠦\u001b[1G\u001b[0K⠧\u001b[1G\u001b[0K⠇\u001b[1G\u001b[0K⠏\u001b[1G\u001b[0K⠋\u001b[1G\u001b[0K⠙\u001b[1G\u001b[0K⠹\u001b[1G\u001b[0K⠸\u001b[1G\u001b[0K⠼\u001b[1G\u001b[0K⠴\u001b[1G\u001b[0K⠦\u001b[1G\u001b[0K⠧\u001b[1G\u001b[0K⠇\u001b[1G\u001b[0K⠏\u001b[1G\u001b[0K⠋\u001b[1G\u001b[0K⠙\u001b[1G\u001b[0K⠹\u001b[1G\u001b[0K⠸\u001b[1G\u001b[0K⠼\u001b[1G\u001b[0K⠴\u001b[1G\u001b[0K⠦\u001b[1G\u001b[0K⠧\u001b[1G\u001b[0K⠇\u001b[1G\u001b[0K⠏\u001b[1G\u001b[0K⠋\u001b[1G\u001b[0K⠙\u001b[1G\u001b[0K⠹\u001b[1G\u001b[0K⠸\u001b[1G\u001b[0K⠼\u001b[1G\u001b[0K⠴\u001b[1G\u001b[0K⠦\u001b[1G\u001b[0K⠧\u001b[1G\u001b[0K⠇\u001b[1G\u001b[0K⠏\u001b[1G\u001b[0K⠋\u001b[1G\u001b[0K⠙\u001b[1G\u001b[0K⠹\u001b[1G\u001b[0K⠸\u001b[1G\u001b[0K⠼\u001b[1G\u001b[0K⠴\u001b[1G\u001b[0K⠦\u001b[1G\u001b[0K⠧\u001b[1G\u001b[0K⠇\u001b[1G\u001b[0K⠏\u001b[1G\u001b[0K⠋\u001b[1G\u001b[0K⠙\u001b[1G\u001b[0K⠹\u001b[1G\u001b[0K⠸\u001b[1G\u001b[0K⠼\u001b[1G\u001b[0K⠴\u001b[1G\u001b[0K⠦\u001b[1G\u001b[0K⠧\u001b[1G\u001b[0K⠇\u001b[1G\u001b[0K⠏\u001b[1G\u001b[0K⠋\u001b[1G\u001b[0K⠙\u001b[1G\u001b[0K⠹\u001b[1G\u001b[0K⠸\u001b[1G\u001b[0K⠼\u001b[1G\u001b[0K⠴\u001b[1G\u001b[0K⠦\u001b[1G\u001b[0K⠧\u001b[1G\u001b[0K⠇\u001b[1G\u001b[0K⠏\u001b[1G\u001b[0K⠋\u001b[1G\u001b[0K⠙\u001b[1G\u001b[0K⠹\u001b[1G\u001b[0K⠸\u001b[1G\u001b[0K⠼\u001b[1G\u001b[0K⠴\u001b[1G\u001b[0K⠦\u001b[1G\u001b[0K⠧\u001b[1G\u001b[0K⠇\u001b[1G\u001b[0K⠏\u001b[1G\u001b[0K⠋\u001b[1G\u001b[0K⠙\u001b[1G\u001b[0K⠹\u001b[1G\u001b[0K⠸\u001b[1G\u001b[0K⠼\u001b[1G\u001b[0K⠴\u001b[1G\u001b[0K⠦\u001b[1G\u001b[0K⠧\u001b[1G\u001b[0K⠇\u001b[1G\u001b[0K⠏\u001b[1G\u001b[0K⠋\u001b[1G\u001b[0K⠙\u001b[1G\u001b[0K⠹\u001b[1G\u001b[0K⠸\u001b[1G\u001b[0K⠼\u001b[1G\u001b[0K⠴\u001b[1G\u001b[0K⠦\u001b[1G\u001b[0K⠧\u001b[1G\u001b[0K⠇\u001b[1G\u001b[0K⠏\u001b[1G\u001b[0K⠋\u001b[1G\u001b[0K⠙\u001b[1G\u001b[0K⠹\u001b[1G\u001b[0K⠸\u001b[1G\u001b[0K⠼\u001b[1G\u001b[0K⠴\u001b[1G\u001b[0K⠦\u001b[1G\u001b[0K⠧\u001b[1G\u001b[0K⠇\u001b[1G\u001b[0K⠏\u001b[1G\u001b[0K⠋\u001b[1G\u001b[0K⠙\u001b[1G\u001b[0K⠹\u001b[1G\u001b[0K⠸\u001b[1G\u001b[0K⠼\u001b[1G\u001b[0K⠴\u001b[1G\u001b[0K⠦\u001b[1G\u001b[0K⠧\u001b[1G\u001b[0K⠇\u001b[1G\u001b[0K⠏\u001b[1G\u001b[0K⠋\u001b[1G\u001b[0K⠙\u001b[1G\u001b[0K⠹\u001b[1G\u001b[0K⠸\u001b[1G\u001b[0K⠼\u001b[1G\u001b[0K⠴\u001b[1G\u001b[0K⠦\u001b[1G\u001b[0K⠧\u001b[1G\u001b[0K⠇\u001b[1G\u001b[0K⠏\u001b[1G\u001b[0K⠋\u001b[1G\u001b[0K⠙\u001b[1G\u001b[0K⠹\u001b[1G\u001b[0K⠸\u001b[1G\u001b[0K⠼\u001b[1G\u001b[0K⠴\u001b[1G\u001b[0K⠦\u001b[1G\u001b[0K⠧\u001b[1G\u001b[0K⠇\u001b[1G\u001b[0K⠏\u001b[1G\u001b[0K⠋\u001b[1G\u001b[0K⠙\u001b[1G\u001b[0K⠹\u001b[1G\u001b[0K⠸\u001b[1G\u001b[0K⠼\u001b[1G\u001b[0K⠴\u001b[1G\u001b[0K⠦\u001b[1G\u001b[0K⠧\u001b[1G\u001b[0K⠇\u001b[1G\u001b[0K⠏\u001b[1G\u001b[0K⠋\u001b[1G\u001b[0K⠙\u001b[1G\u001b[0K⠹\u001b[1G\u001b[0K⠸\u001b[1G\u001b[0K⠼\u001b[1G\u001b[0K⠴\u001b[1G\u001b[0K⠦\u001b[1G\u001b[0K⠧\u001b[1G\u001b[0K⠇\u001b[1G\u001b[0K⠏\u001b[1G\u001b[0K⠋\u001b[1G\u001b[0K⠙\u001b[1G\u001b[0K⠹\u001b[1G\u001b[0K⠸\u001b[1G\u001b[0K⠼\u001b[1G\u001b[0K⠴\u001b[1G\u001b[0K⠦\u001b[1G\u001b[0K⠧\u001b[1G\u001b[0K⠇\u001b[1G\u001b[0K⠏\u001b[1G\u001b[0K⠋\u001b[1G\u001b[0K⠙\u001b[1G\u001b[0K⠹\u001b[1G\u001b[0K⠸\u001b[1G\u001b[0K⠼\u001b[1G\u001b[0K⠴\u001b[1G\u001b[0K⠦\u001b[1G\u001b[0K⠧\u001b[1G\u001b[0K⠇\u001b[1G\u001b[0K⠏\u001b[1G\u001b[0K⠋\u001b[1G\u001b[0K⠙\u001b[1G\u001b[0K⠹\u001b[1G\u001b[0K⠸\u001b[1G\u001b[0K⠼\u001b[1G\u001b[0K⠴\u001b[1G\u001b[0K⠦\u001b[1G\u001b[0K⠧\u001b[1G\u001b[0K⠇\u001b[1G\u001b[0K⠏\u001b[1G\u001b[0K⠋\u001b[1G\u001b[0K⠙\u001b[1G\u001b[0K⠹\u001b[1G\u001b[0K⠸\u001b[1G\u001b[0K⠼\u001b[1G\u001b[0K⠴\u001b[1G\u001b[0K⠦\u001b[1G\u001b[0K⠧\u001b[1G\u001b[0K⠇\u001b[1G\u001b[0K⠏\u001b[1G\u001b[0K⠋\u001b[1G\u001b[0K⠙\u001b[1G\u001b[0K⠹\u001b[1G\u001b[0K⠸\u001b[1G\u001b[0K⠼\u001b[1G\u001b[0K⠴\u001b[1G\u001b[0K⠦\u001b[1G\u001b[0K⠧\u001b[1G\u001b[0K⠇\u001b[1G\u001b[0K⠏\u001b[1G\u001b[0K⠋\u001b[1G\u001b[0K⠙\u001b[1G\u001b[0K⠹\u001b[1G\u001b[0K⠸\u001b[1G\u001b[0K⠼\u001b[1G\u001b[0K⠴\u001b[1G\u001b[0K⠦\u001b[1G\u001b[0K⠧\u001b[1G\u001b[0K⠇\u001b[1G\u001b[0K⠏\u001b[1G\u001b[0K⠋\u001b[1G\u001b[0K⠙\u001b[1G\u001b[0K⠹\u001b[1G\u001b[0K⠸\u001b[1G\u001b[0K⠼\u001b[1G\u001b[0K⠴\u001b[1G\u001b[0K⠦\u001b[1G\u001b[0K⠧\u001b[1G\u001b[0K⠇\u001b[1G\u001b[0K⠏\u001b[1G\u001b[0K⠋\u001b[1G\u001b[0K⠙\u001b[1G\u001b[0K⠹\u001b[1G\u001b[0K⠸\u001b[1G\u001b[0K⠼\u001b[1G\u001b[0K⠴\u001b[1G\u001b[0K⠦\u001b[1G\u001b[0K⠧\u001b[1G\u001b[0K⠇\u001b[1G\u001b[0K⠏\u001b[1G\u001b[0K⠋\u001b[1G\u001b[0K⠙\u001b[1G\u001b[0K⠹\u001b[1G\u001b[0K⠸\u001b[1G\u001b[0K⠼\u001b[1G\u001b[0K⠴\u001b[1G\u001b[0K⠦\u001b[1G\u001b[0K⠧\u001b[1G\u001b[0K⠇\u001b[1G\u001b[0K⠏\u001b[1G\u001b[0K⠋\u001b[1G\u001b[0K⠙\u001b[1G\u001b[0K⠹\u001b[1G\u001b[0K⠸\u001b[1G\u001b[0K⠼\u001b[1G\u001b[0K⠴\u001b[1G\u001b[0K⠦\u001b[1G\u001b[0K⠧\u001b[1G\u001b[0K⠇\u001b[1G\u001b[0K⠏\u001b[1G\u001b[0K⠋\u001b[1G\u001b[0K⠙\u001b[1G\u001b[0K⠹\u001b[1G\u001b[0K⠸\u001b[1G\u001b[0K⠼\u001b[1G\u001b[0K⠴\u001b[1G\u001b[0K⠦\u001b[1G\u001b[0K⠧\u001b[1G\u001b[0K⠇\u001b[1G\u001b[0K⠏\u001b[1G\u001b[0K⠋\u001b[1G\u001b[0K⠙\u001b[1G\u001b[0K⠹\u001b[1G\u001b[0K⠸\u001b[1G\u001b[0K⠼\u001b[1G\u001b[0K⠴\u001b[1G\u001b[0K⠦\u001b[1G\u001b[0K⠧\u001b[1G\u001b[0K⠇\u001b[1G\u001b[0K⠏\u001b[1G\u001b[0K⠋\u001b[1G\u001b[0K⠙\u001b[1G\u001b[0K⠹\u001b[1G\u001b[0K⠸\u001b[1G\u001b[0K⠼\u001b[1G\u001b[0K⠴\u001b[1G\u001b[0K⠦\u001b[1G\u001b[0K⠧\u001b[1G\u001b[0K⠇\u001b[1G\u001b[0K⠏\u001b[1G\u001b[0K⠋\u001b[1G\u001b[0K⠙\u001b[1G\u001b[0K⠹\u001b[1G\u001b[0K⠸\u001b[1G\u001b[0K⠼\u001b[1G\u001b[0K⠴\u001b[1G\u001b[0K⠦\u001b[1G\u001b[0K⠧\u001b[1G\u001b[0K⠇\u001b[1G\u001b[0K⠏\u001b[1G\u001b[0K⠋\u001b[1G\u001b[0K⠙\u001b[1G\u001b[0K⠹\u001b[1G\u001b[0K⠸\u001b[1G\u001b[0K⠼\u001b[1G\u001b[0K⠴\u001b[1G\u001b[0K⠦\u001b[1G\u001b[0K⠧\u001b[1G\u001b[0K⠇\u001b[1G\u001b[0K⠏\u001b[1G\u001b[0K⠋\u001b[1G\u001b[0K⠙\u001b[1G\u001b[0K⠹\u001b[1G\u001b[0K⠸\u001b[1G\u001b[0K⠼\u001b[1G\u001b[0K⠴\u001b[1G\u001b[0K⠦\u001b[1G\u001b[0K⠧\u001b[1G\u001b[0K⠇\u001b[1G\u001b[0K⠏\u001b[1G\u001b[0K⠋\u001b[1G\u001b[0K⠙\u001b[1G\u001b[0K⠹\u001b[1G\u001b[0K⠸\u001b[1G\u001b[0K⠼\u001b[1G\u001b[0K⠴\u001b[1G\u001b[0K⠦\u001b[1G\u001b[0K⠧\u001b[1G\u001b[0K⠇\u001b[1G\u001b[0K⠏\u001b[1G\u001b[0K⠋\u001b[1G\u001b[0K⠙\u001b[1G\u001b[0K⠹\u001b[1G\u001b[0K⠸\u001b[1G\u001b[0K⠼\u001b[1G\u001b[0K⠴\u001b[1G\u001b[0K⠦\u001b[1G\u001b[0K⠧\u001b[1G\u001b[0K⠇\u001b[1G\u001b[0K⠏\u001b[1G\u001b[0K⠋\u001b[1G\u001b[0K⠙\u001b[1G\u001b[0K⠹\u001b[1G\u001b[0K⠸\u001b[1G\u001b[0K⠼\u001b[1G\u001b[0K⠴\u001b[1G\u001b[0K⠦\u001b[1G\u001b[0K⠧\u001b[1G\u001b[0K⠇\u001b[1G\u001b[0K⠏\u001b[1G\u001b[0K⠋\u001b[1G\u001b[0K⠙\u001b[1G\u001b[0K⠹\u001b[1G\u001b[0K⠸\u001b[1G\u001b[0K⠼\u001b[1G\u001b[0K⠴\u001b[1G\u001b[0K⠦\u001b[1G\u001b[0K⠧\u001b[1G\u001b[0K⠇\u001b[1G\u001b[0K⠏\u001b[1G\u001b[0K⠋\u001b[1G\u001b[0K⠙\u001b[1G\u001b[0K⠹\u001b[1G\u001b[0K⠸\u001b[1G\u001b[0K⠼\u001b[1G\u001b[0K⠴\u001b[1G\u001b[0K⠦\u001b[1G\u001b[0K⠧\u001b[1G\u001b[0K⠇\u001b[1G\u001b[0K⠏\u001b[1G\u001b[0K⠋\u001b[1G\u001b[0K⠙\u001b[1G\u001b[0K⠹\u001b[1G\u001b[0K⠸\u001b[1G\u001b[0K⠼\u001b[1G\u001b[0K⠴\u001b[1G\u001b[0K⠦\u001b[1G\u001b[0K⠧\u001b[1G\u001b[0K⠇\u001b[1G\u001b[0K⠏\u001b[1G\u001b[0K⠋\u001b[1G\u001b[0K⠙\u001b[1G\u001b[0K⠹\u001b[1G\u001b[0K⠸\u001b[1G\u001b[0K⠼\u001b[1G\u001b[0K⠴\u001b[1G\u001b[0K⠦\u001b[1G\u001b[0K⠧\u001b[1G\u001b[0K⠇\u001b[1G\u001b[0K⠏\u001b[1G\u001b[0K⠋\u001b[1G\u001b[0K⠙\u001b[1G\u001b[0K⠹\u001b[1G\u001b[0K⠸\u001b[1G\u001b[0K⠼\u001b[1G\u001b[0K⠴\u001b[1G\u001b[0K⠦\u001b[1G\u001b[0K⠧\u001b[1G\u001b[0K⠇\u001b[1G\u001b[0K⠏\u001b[1G\u001b[0K⠋\u001b[1G\u001b[0K⠙\u001b[1G\u001b[0K⠹\u001b[1G\u001b[0K⠸\u001b[1G\u001b[0K⠼\u001b[1G\u001b[0K⠴\u001b[1G\u001b[0K⠦\u001b[1G\u001b[0K⠧\u001b[1G\u001b[0K⠇\u001b[1G\u001b[0K⠏\u001b[1G\u001b[0K⠋\u001b[1G\u001b[0K⠙\u001b[1G\u001b[0K⠹\u001b[1G\u001b[0K⠸\u001b[1G\u001b[0K⠼\u001b[1G\u001b[0K⠴\u001b[1G\u001b[0K⠦\u001b[1G\u001b[0K⠧\u001b[1G\u001b[0K⠇\u001b[1G\u001b[0K⠏\u001b[1G\u001b[0K⠋\u001b[1G\u001b[0K⠙\u001b[1G\u001b[0K⠹\u001b[1G\u001b[0K⠸\u001b[1G\u001b[0K⠼\u001b[1G\u001b[0K⠴\u001b[1G\u001b[0K⠦\u001b[1G\u001b[0K⠧\u001b[1G\u001b[0K⠇\u001b[1G\u001b[0K⠏\u001b[1G\u001b[0K⠋\u001b[1G\u001b[0K⠙\u001b[1G\u001b[0K⠹\u001b[1G\u001b[0K⠸\u001b[1G\u001b[0K⠼\u001b[1G\u001b[0K⠴\u001b[1G\u001b[0K⠦\u001b[1G\u001b[0K⠧\u001b[1G\u001b[0K⠇\u001b[1G\u001b[0K⠏\u001b[1G\u001b[0K⠋\u001b[1G\u001b[0K⠙\u001b[1G\u001b[0K⠹\u001b[1G\u001b[0K⠸\u001b[1G\u001b[0K⠼\u001b[1G\u001b[0K⠴\u001b[1G\u001b[0K⠦\u001b[1G\u001b[0K⠧\u001b[1G\u001b[0K⠇\u001b[1G\u001b[0K⠏\u001b[1G\u001b[0K⠋\u001b[1G\u001b[0K⠙\u001b[1G\u001b[0K⠹\u001b[1G\u001b[0K⠸\u001b[1G\u001b[0K⠼\u001b[1G\u001b[0K⠴\u001b[1G\u001b[0K⠦\u001b[1G\u001b[0K⠧\u001b[1G\u001b[0K⠇\u001b[1G\u001b[0K⠏\u001b[1G\u001b[0K⠋\u001b[1G\u001b[0K⠙\u001b[1G\u001b[0K⠹\u001b[1G\u001b[0K⠸\u001b[1G\u001b[0K⠼\u001b[1G\u001b[0K⠴\u001b[1G\u001b[0K⠦\u001b[1G\u001b[0K⠧\u001b[1G\u001b[0K⠇\u001b[1G\u001b[0K⠏\u001b[1G\u001b[0K⠋\u001b[1G\u001b[0K⠙\u001b[1G\u001b[0K⠹\u001b[1G\u001b[0K⠸\u001b[1G\u001b[0K⠼\u001b[1G\u001b[0K⠴\u001b[1G\u001b[0K⠦\u001b[1G\u001b[0K⠧\u001b[1G\u001b[0K⠇\u001b[1G\u001b[0K⠏\u001b[1G\u001b[0K⠋\u001b[1G\u001b[0K⠙\u001b[1G\u001b[0K⠹\u001b[1G\u001b[0K⠸\u001b[1G\u001b[0K⠼\u001b[1G\u001b[0K⠴\u001b[1G\u001b[0K⠦\u001b[1G\u001b[0K⠧\u001b[1G\u001b[0K⠇\u001b[1G\u001b[0K⠏\u001b[1G\u001b[0K⠋\u001b[1G\u001b[0K⠙\u001b[1G\u001b[0K⠹\u001b[1G\u001b[0K⠸\u001b[1G\u001b[0K⠼\u001b[1G\u001b[0K⠴\u001b[1G\u001b[0K⠦\u001b[1G\u001b[0K⠧\u001b[1G\u001b[0K⠇\u001b[1G\u001b[0K⠏\u001b[1G\u001b[0K⠋\u001b[1G\u001b[0K⠙\u001b[1G\u001b[0K⠹\u001b[1G\u001b[0K⠸\u001b[1G\u001b[0K⠼\u001b[1G\u001b[0K⠴\u001b[1G\u001b[0K⠦\u001b[1G\u001b[0K⠧\u001b[1G\u001b[0K⠇\u001b[1G\u001b[0K⠏\u001b[1G\u001b[0K⠋\u001b[1G\u001b[0K⠙\u001b[1G\u001b[0K⠹\u001b[1G\u001b[0K⠸\u001b[1G\u001b[0K⠼\u001b[1G\u001b[0K⠴\u001b[1G\u001b[0K⠦\u001b[1G\u001b[0K⠧\u001b[1G\u001b[0K⠇\u001b[1G\u001b[0K⠏\u001b[1G\u001b[0K⠋\u001b[1G\u001b[0K⠙\u001b[1G\u001b[0K⠹\u001b[1G\u001b[0K⠸\u001b[1G\u001b[0K⠼\u001b[1G\u001b[0K⠴\u001b[1G\u001b[0K⠦\u001b[1G\u001b[0K⠧\u001b[1G\u001b[0K⠇\u001b[1G\u001b[0K⠏\u001b[1G\u001b[0K⠋\u001b[1G\u001b[0K⠙\u001b[1G\u001b[0K⠹\u001b[1G\u001b[0K⠸\u001b[1G\u001b[0K⠼\u001b[1G\u001b[0K⠴\u001b[1G\u001b[0K⠦\u001b[1G\u001b[0K⠧\u001b[1G\u001b[0K⠇\u001b[1G\u001b[0K⠏\u001b[1G\u001b[0K⠋\u001b[1G\u001b[0K⠙\u001b[1G\u001b[0K⠹\u001b[1G\u001b[0K⠸\u001b[1G\u001b[0K⠼\u001b[1G\u001b[0K⠴\u001b[1G\u001b[0K⠦\u001b[1G\u001b[0K⠧\u001b[1G\u001b[0K⠇\u001b[1G\u001b[0K⠏\u001b[1G\u001b[0K⠋\u001b[1G\u001b[0K⠙\u001b[1G\u001b[0K⠹\u001b[1G\u001b[0K⠸\u001b[1G\u001b[0K⠼\u001b[1G\u001b[0K⠴\u001b[1G\u001b[0K⠦\u001b[1G\u001b[0K⠧\u001b[1G\u001b[0K⠇\u001b[1G\u001b[0K⠏\u001b[1G\u001b[0K⠋\u001b[1G\u001b[0K⠙\u001b[1G\u001b[0K⠹\u001b[1G\u001b[0K⠸\u001b[1G\u001b[0K⠼\u001b[1G\u001b[0K⠴\u001b[1G\u001b[0K⠦\u001b[1G\u001b[0K⠧\u001b[1G\u001b[0K⠇\u001b[1G\u001b[0K⠏\u001b[1G\u001b[0K⠋\u001b[1G\u001b[0K⠙\u001b[1G\u001b[0K⠹\u001b[1G\u001b[0K⠸\u001b[1G\u001b[0K⠼\u001b[1G\u001b[0K⠴\u001b[1G\u001b[0K⠦\u001b[1G\u001b[0K⠧\u001b[1G\u001b[0K⠇\u001b[1G\u001b[0K⠏\u001b[1G\u001b[0K⠋\u001b[1G\u001b[0K⠙\u001b[1G\u001b[0K⠹\u001b[1G\u001b[0K⠸\u001b[1G\u001b[0K⠼\u001b[1G\u001b[0K⠴\u001b[1G\u001b[0K⠦\u001b[1G\u001b[0K⠧\u001b[1G\u001b[0K⠇\u001b[1G\u001b[0K⠏\u001b[1G\u001b[0K⠋\u001b[1G\u001b[0K⠙\u001b[1G\u001b[0K⠹\u001b[1G\u001b[0K⠸\u001b[1G\u001b[0K⠼\u001b[1G\u001b[0K⠴\u001b[1G\u001b[0K⠦\u001b[1G\u001b[0K⠧\u001b[1G\u001b[0K⠇\u001b[1G\u001b[0K⠏\u001b[1G\u001b[0K⠋\u001b[1G\u001b[0K⠙\u001b[1G\u001b[0K⠹\u001b[1G\u001b[0K⠸\u001b[1G\u001b[0K⠼\u001b[1G\u001b[0K⠴\u001b[1G\u001b[0K⠦\u001b[1G\u001b[0K⠧\u001b[1G\u001b[0K⠇\u001b[1G\u001b[0K⠏\u001b[1G\u001b[0K⠋\u001b[1G\u001b[0K⠙\u001b[1G\u001b[0K⠹\u001b[1G\u001b[0K⠸\u001b[1G\u001b[0K⠼\u001b[1G\u001b[0K\u001b[1mnpm\u001b[22m \u001b[33mwarn\u001b[39m \u001b[94mskipping integrity check for git dependency ssh://git@github.com/kenlimmj/rouge.git\u001b[39m\n",
            "\u001b[1G\u001b[0K⠼\u001b[1G\u001b[0K⠴\u001b[1G\u001b[0K⠦\u001b[1G\u001b[0K⠧\u001b[1G\u001b[0K⠇\u001b[1G\u001b[0K⠏\u001b[1G\u001b[0K⠋\u001b[1G\u001b[0K⠙\u001b[1G\u001b[0K⠹\u001b[1G\u001b[0K⠸\u001b[1G\u001b[0K⠼\u001b[1G\u001b[0K⠴\u001b[1G\u001b[0K⠦\u001b[1G\u001b[0K⠧\u001b[1G\u001b[0K⠇\u001b[1G\u001b[0K⠏\u001b[1G\u001b[0K⠋\u001b[1G\u001b[0K⠙\u001b[1G\u001b[0K⠹\u001b[1G\u001b[0K⠸\u001b[1G\u001b[0K⠼\u001b[1G\u001b[0K⠴\u001b[1G\u001b[0K⠦\u001b[1G\u001b[0K⠧\u001b[1G\u001b[0K⠇\u001b[1G\u001b[0K⠏\u001b[1G\u001b[0K⠋\u001b[1G\u001b[0K⠙\u001b[1G\u001b[0K⠹\u001b[1G\u001b[0K⠸\u001b[1G\u001b[0K⠼\u001b[1G\u001b[0K⠴\u001b[1G\u001b[0K⠦\u001b[1G\u001b[0K⠧\u001b[1G\u001b[0K⠇\u001b[1G\u001b[0K⠏\u001b[1G\u001b[0K⠋\u001b[1G\u001b[0K⠙\u001b[1G\u001b[0K⠹\u001b[1G\u001b[0K⠸\u001b[1G\u001b[0K⠼\u001b[1G\u001b[0K⠴\u001b[1G\u001b[0K⠦\u001b[1G\u001b[0K⠧\u001b[1G\u001b[0K⠇\u001b[1G\u001b[0K⠏\u001b[1G\u001b[0K⠋\u001b[1G\u001b[0K⠙\u001b[1G\u001b[0K⠹\u001b[1G\u001b[0K⠸\u001b[1G\u001b[0K⠼\u001b[1G\u001b[0K⠴\u001b[1G\u001b[0K⠦\u001b[1G\u001b[0K⠧\u001b[1G\u001b[0K⠇\u001b[1G\u001b[0K⠏\u001b[1G\u001b[0K⠋\u001b[1G\u001b[0K⠙\u001b[1G\u001b[0K⠹\u001b[1G\u001b[0K⠸\u001b[1G\u001b[0K⠼\u001b[1G\u001b[0K⠴\u001b[1G\u001b[0K⠦\u001b[1G\u001b[0K⠧\u001b[1G\u001b[0K⠇\u001b[1G\u001b[0K⠏\u001b[1G\u001b[0K⠋\u001b[1G\u001b[0K⠙\u001b[1G\u001b[0K⠹\u001b[1G\u001b[0K⠸\u001b[1G\u001b[0K⠼\u001b[1G\u001b[0K⠴\u001b[1G\u001b[0K⠦\u001b[1G\u001b[0K⠧\u001b[1G\u001b[0K⠇\u001b[1G\u001b[0K⠏\u001b[1G\u001b[0K⠋\u001b[1G\u001b[0K⠙\u001b[1G\u001b[0K⠹\u001b[1G\u001b[0K⠸\u001b[1G\u001b[0K⠼\u001b[1G\u001b[0K⠴\u001b[1G\u001b[0K⠦\u001b[1G\u001b[0K⠧\u001b[1G\u001b[0K⠇\u001b[1G\u001b[0K⠏\u001b[1G\u001b[0K⠋\u001b[1G\u001b[0K⠙\u001b[1G\u001b[0K⠹\u001b[1G\u001b[0K⠸\u001b[1G\u001b[0K⠼\u001b[1G\u001b[0K⠴\u001b[1G\u001b[0K⠦\u001b[1G\u001b[0K⠧\u001b[1G\u001b[0K⠇\u001b[1G\u001b[0K⠏\u001b[1G\u001b[0K⠋\u001b[1G\u001b[0K⠙\u001b[1G\u001b[0K⠹\u001b[1G\u001b[0K⠸\u001b[1G\u001b[0K⠼\u001b[1G\u001b[0K⠴\u001b[1G\u001b[0K⠦\u001b[1G\u001b[0K⠧\u001b[1G\u001b[0K⠇\u001b[1G\u001b[0K⠏\u001b[1G\u001b[0K⠋\u001b[1G\u001b[0K⠙\u001b[1G\u001b[0K⠹\u001b[1G\u001b[0K⠸\u001b[1G\u001b[0K⠼\u001b[1G\u001b[0K⠴\u001b[1G\u001b[0K⠦\u001b[1G\u001b[0K⠧\u001b[1G\u001b[0K⠇\u001b[1G\u001b[0K⠏\u001b[1G\u001b[0K⠋\u001b[1G\u001b[0K⠙\u001b[1G\u001b[0K⠹\u001b[1G\u001b[0K⠸\u001b[1G\u001b[0K⠼\u001b[1G\u001b[0K⠴\u001b[1G\u001b[0K⠦\u001b[1G\u001b[0K⠧\u001b[1G\u001b[0K⠇\u001b[1G\u001b[0K⠏\u001b[1G\u001b[0K⠋\u001b[1G\u001b[0K⠙\u001b[1G\u001b[0K⠹\u001b[1G\u001b[0K⠸\u001b[1G\u001b[0K⠼\u001b[1G\u001b[0K⠴\u001b[1G\u001b[0K⠦\u001b[1G\u001b[0K⠧\u001b[1G\u001b[0K⠇\u001b[1G\u001b[0K⠏\u001b[1G\u001b[0K⠋\u001b[1G\u001b[0K⠙\u001b[1G\u001b[0K⠹\u001b[1G\u001b[0K⠸\u001b[1G\u001b[0K⠼\u001b[1G\u001b[0K⠴\u001b[1G\u001b[0K⠦\u001b[1G\u001b[0K⠧\u001b[1G\u001b[0K⠇\u001b[1G\u001b[0K⠏\u001b[1G\u001b[0K⠋\u001b[1G\u001b[0K⠙\u001b[1G\u001b[0K⠹\u001b[1G\u001b[0K⠸\u001b[1G\u001b[0K⠼\u001b[1G\u001b[0K⠴\u001b[1G\u001b[0K⠦\u001b[1G\u001b[0K⠧\u001b[1G\u001b[0K⠇\u001b[1G\u001b[0K⠏\u001b[1G\u001b[0K⠋\u001b[1G\u001b[0K⠙\u001b[1G\u001b[0K⠹\u001b[1G\u001b[0K⠸\u001b[1G\u001b[0K⠼\u001b[1G\u001b[0K⠴\u001b[1G\u001b[0K⠦\u001b[1G\u001b[0K⠧\u001b[1G\u001b[0K⠇\u001b[1G\u001b[0K⠏\u001b[1G\u001b[0K⠋\u001b[1G\u001b[0K⠙\u001b[1G\u001b[0K⠹\u001b[1G\u001b[0K⠸\u001b[1G\u001b[0K⠼\u001b[1G\u001b[0K⠴\u001b[1G\u001b[0K⠦\u001b[1G\u001b[0K⠧\u001b[1G\u001b[0K⠇\u001b[1G\u001b[0K⠏\u001b[1G\u001b[0K⠋\u001b[1G\u001b[0K⠙\u001b[1G\u001b[0K⠹\u001b[1G\u001b[0K⠸\u001b[1G\u001b[0K⠼\u001b[1G\u001b[0K⠴\u001b[1G\u001b[0K⠦\u001b[1G\u001b[0K⠧\u001b[1G\u001b[0K⠇\u001b[1G\u001b[0K⠏\u001b[1G\u001b[0K⠋\u001b[1G\u001b[0K⠙\u001b[1G\u001b[0K⠹\u001b[1G\u001b[0K⠸\u001b[1G\u001b[0K⠼\u001b[1G\u001b[0K⠴\u001b[1G\u001b[0K⠦\u001b[1G\u001b[0K⠧\u001b[1G\u001b[0K⠇\u001b[1G\u001b[0K⠏\u001b[1G\u001b[0K⠋\u001b[1G\u001b[0K⠙\u001b[1G\u001b[0K⠹\u001b[1G\u001b[0K⠸\u001b[1G\u001b[0K⠼\u001b[1G\u001b[0K⠴\u001b[1G\u001b[0K⠦\u001b[1G\u001b[0K⠧\u001b[1G\u001b[0K⠇\u001b[1G\u001b[0K⠏\u001b[1G\u001b[0K⠋\u001b[1G\u001b[0K⠙\u001b[1G\u001b[0K⠹\u001b[1G\u001b[0K⠸\u001b[1G\u001b[0K⠼\u001b[1G\u001b[0K⠴\u001b[1G\u001b[0K⠦\u001b[1G\u001b[0K⠧\u001b[1G\u001b[0K⠇\u001b[1G\u001b[0K⠏\u001b[1G\u001b[0K⠋\u001b[1G\u001b[0K⠙\u001b[1G\u001b[0K⠹\u001b[1G\u001b[0K⠸\u001b[1G\u001b[0K⠼\u001b[1G\u001b[0K⠴\u001b[1G\u001b[0K⠦\u001b[1G\u001b[0K⠧\u001b[1G\u001b[0K⠇\u001b[1G\u001b[0K⠏\u001b[1G\u001b[0K⠋\u001b[1G\u001b[0K⠙\u001b[1G\u001b[0K⠹\u001b[1G\u001b[0K⠸\u001b[1G\u001b[0K⠼\u001b[1G\u001b[0K⠴\u001b[1G\u001b[0K⠦\u001b[1G\u001b[0K⠧\u001b[1G\u001b[0K⠇\u001b[1G\u001b[0K⠏\u001b[1G\u001b[0K⠋\u001b[1G\u001b[0K⠙\u001b[1G\u001b[0K⠹\u001b[1G\u001b[0K⠸\u001b[1G\u001b[0K⠼\u001b[1G\u001b[0K⠴\u001b[1G\u001b[0K⠦\u001b[1G\u001b[0K⠧\u001b[1G\u001b[0K⠇\u001b[1G\u001b[0K⠏\u001b[1G\u001b[0K⠋\u001b[1G\u001b[0K⠙\u001b[1G\u001b[0K⠹\u001b[1G\u001b[0K⠸\u001b[1G\u001b[0K⠼\u001b[1G\u001b[0K⠴\u001b[1G\u001b[0K⠦\u001b[1G\u001b[0K⠧\u001b[1G\u001b[0K⠇\u001b[1G\u001b[0K⠏\u001b[1G\u001b[0K⠋\u001b[1G\u001b[0K⠙\u001b[1G\u001b[0K⠹\u001b[1G\u001b[0K⠸\u001b[1G\u001b[0K⠼\u001b[1G\u001b[0K⠴\u001b[1G\u001b[0K⠦\u001b[1G\u001b[0K⠧\u001b[1G\u001b[0K⠇\u001b[1G\u001b[0K⠏\u001b[1G\u001b[0K⠋\u001b[1G\u001b[0K⠙\u001b[1G\u001b[0K⠹\u001b[1G\u001b[0K⠸\u001b[1G\u001b[0K⠼\u001b[1G\u001b[0K⠴\u001b[1G\u001b[0K⠦\u001b[1G\u001b[0K⠧\u001b[1G\u001b[0K⠇\u001b[1G\u001b[0K⠏\u001b[1G\u001b[0K⠋\u001b[1G\u001b[0K⠙\u001b[1G\u001b[0K⠹\u001b[1G\u001b[0K⠸\u001b[1G\u001b[0K⠼\u001b[1G\u001b[0K⠴\u001b[1G\u001b[0K⠦\u001b[1G\u001b[0K⠧\u001b[1G\u001b[0K⠇\u001b[1G\u001b[0K⠏\u001b[1G\u001b[0K⠋\u001b[1G\u001b[0K⠙\u001b[1G\u001b[0K⠹\u001b[1G\u001b[0K⠸\u001b[1G\u001b[0K⠼\u001b[1G\u001b[0K⠴\u001b[1G\u001b[0K⠦\u001b[1G\u001b[0K⠧\u001b[1G\u001b[0K⠇\u001b[1G\u001b[0K⠏\u001b[1G\u001b[0K⠋\u001b[1G\u001b[0K⠙\u001b[1G\u001b[0K⠹\u001b[1G\u001b[0K⠸\u001b[1G\u001b[0K⠼\u001b[1G\u001b[0K⠴\u001b[1G\u001b[0K⠦\u001b[1G\u001b[0K⠧\u001b[1G\u001b[0K⠇\u001b[1G\u001b[0K⠏\u001b[1G\u001b[0K⠋\u001b[1G\u001b[0K⠙\u001b[1G\u001b[0K⠹\u001b[1G\u001b[0K⠸\u001b[1G\u001b[0K⠼\u001b[1G\u001b[0K⠴\u001b[1G\u001b[0K⠦\u001b[1G\u001b[0K⠧\u001b[1G\u001b[0K⠇\u001b[1G\u001b[0K⠏\u001b[1G\u001b[0K⠋\u001b[1G\u001b[0K⠙\u001b[1G\u001b[0K⠹\u001b[1G\u001b[0K⠸\u001b[1G\u001b[0K⠼\u001b[1G\u001b[0K⠴\u001b[1G\u001b[0K⠦\u001b[1G\u001b[0K⠧\u001b[1G\u001b[0K⠇\u001b[1G\u001b[0K⠏\u001b[1G\u001b[0K⠋\u001b[1G\u001b[0K⠙\u001b[1G\u001b[0K⠹\u001b[1G\u001b[0K⠸\u001b[1G\u001b[0K⠼\u001b[1G\u001b[0K⠴\u001b[1G\u001b[0K⠦\u001b[1G\u001b[0K⠧\u001b[1G\u001b[0K⠇\u001b[1G\u001b[0K⠏\u001b[1G\u001b[0K⠋\u001b[1G\u001b[0K⠙\u001b[1G\u001b[0K⠹\u001b[1G\u001b[0K⠸\u001b[1G\u001b[0K⠼\u001b[1G\u001b[0K⠴\u001b[1G\u001b[0K⠦\u001b[1G\u001b[0K⠧\u001b[1G\u001b[0K⠇\u001b[1G\u001b[0K⠏\u001b[1G\u001b[0K⠋\u001b[1G\u001b[0K⠙\u001b[1G\u001b[0K⠹\u001b[1G\u001b[0K⠸\u001b[1G\u001b[0K⠼\u001b[1G\u001b[0K⠴\u001b[1G\u001b[0K⠦\u001b[1G\u001b[0K⠧\u001b[1G\u001b[0K⠇\u001b[1G\u001b[0K⠏\u001b[1G\u001b[0K⠋\u001b[1G\u001b[0K⠙\u001b[1G\u001b[0K⠹\u001b[1G\u001b[0K⠸\u001b[1G\u001b[0K⠼\u001b[1G\u001b[0K⠴\u001b[1G\u001b[0K⠦\u001b[1G\u001b[0K⠧\u001b[1G\u001b[0K⠇\u001b[1G\u001b[0K⠏\u001b[1G\u001b[0K⠋\u001b[1G\u001b[0K⠙\u001b[1G\u001b[0K⠹\u001b[1G\u001b[0K⠸\u001b[1G\u001b[0K⠼\u001b[1G\u001b[0K⠴\u001b[1G\u001b[0K⠦\u001b[1G\u001b[0K⠧\u001b[1G\u001b[0K⠇\u001b[1G\u001b[0K⠏\u001b[1G\u001b[0K⠋\u001b[1G\u001b[0K⠙\u001b[1G\u001b[0K⠹\u001b[1G\u001b[0K⠸\u001b[1G\u001b[0K⠼\u001b[1G\u001b[0K⠴\u001b[1G\u001b[0K⠦\u001b[1G\u001b[0K⠧\u001b[1G\u001b[0K⠇\u001b[1G\u001b[0K⠏\u001b[1G\u001b[0K⠋\u001b[1G\u001b[0K⠙\u001b[1G\u001b[0K⠹\u001b[1G\u001b[0K⠸\u001b[1G\u001b[0K⠼\u001b[1G\u001b[0K⠴\u001b[1G\u001b[0K⠦\u001b[1G\u001b[0K⠧\u001b[1G\u001b[0K⠇\u001b[1G\u001b[0K⠏\u001b[1G\u001b[0K⠋\u001b[1G\u001b[0K⠙\u001b[1G\u001b[0K⠹\u001b[1G\u001b[0K⠸\u001b[1G\u001b[0K⠼\u001b[1G\u001b[0K⠴\u001b[1G\u001b[0K⠦\u001b[1G\u001b[0K⠧\u001b[1G\u001b[0K⠇\u001b[1G\u001b[0K⠏\u001b[1G\u001b[0K⠋\u001b[1G\u001b[0K⠙\u001b[1G\u001b[0K⠹\u001b[1G\u001b[0K⠸\u001b[1G\u001b[0K⠼\u001b[1G\u001b[0K⠴\u001b[1G\u001b[0K⠦\u001b[1G\u001b[0K⠧\u001b[1G\u001b[0K⠇\u001b[1G\u001b[0K⠏\u001b[1G\u001b[0K⠋\u001b[1G\u001b[0K⠙\u001b[1G\u001b[0K⠹\u001b[1G\u001b[0K⠸\u001b[1G\u001b[0K⠼\u001b[1G\u001b[0K⠴\u001b[1G\u001b[0K⠦\u001b[1G\u001b[0K⠧\u001b[1G\u001b[0K⠇\u001b[1G\u001b[0K⠏\u001b[1G\u001b[0K⠋\u001b[1G\u001b[0K⠙\u001b[1G\u001b[0K⠹\u001b[1G\u001b[0K⠸\u001b[1G\u001b[0K⠼\u001b[1G\u001b[0K⠴\u001b[1G\u001b[0K⠦\u001b[1G\u001b[0K⠧\u001b[1G\u001b[0K⠇\u001b[1G\u001b[0K⠏\u001b[1G\u001b[0K⠋\u001b[1G\u001b[0K⠙\u001b[1G\u001b[0K⠹\u001b[1G\u001b[0K⠸\u001b[1G\u001b[0K⠼\u001b[1G\u001b[0K⠴\u001b[1G\u001b[0K⠦\u001b[1G\u001b[0K⠧\u001b[1G\u001b[0K⠇\u001b[1G\u001b[0K⠏\u001b[1G\u001b[0K⠋\u001b[1G\u001b[0K⠙\u001b[1G\u001b[0K⠹\u001b[1G\u001b[0K⠸\u001b[1G\u001b[0K⠼\u001b[1G\u001b[0K⠴\u001b[1G\u001b[0K⠦\u001b[1G\u001b[0K⠧\u001b[1G\u001b[0K⠇\u001b[1G\u001b[0K⠏\u001b[1G\u001b[0K⠋\u001b[1G\u001b[0K⠙\u001b[1G\u001b[0K⠹\u001b[1G\u001b[0K⠸\u001b[1G\u001b[0K⠼\u001b[1G\u001b[0K⠴\u001b[1G\u001b[0K⠦\u001b[1G\u001b[0K⠧\u001b[1G\u001b[0K⠇\u001b[1G\u001b[0K⠏\u001b[1G\u001b[0K⠋\u001b[1G\u001b[0K⠙\u001b[1G\u001b[0K⠹\u001b[1G\u001b[0K⠸\u001b[1G\u001b[0K⠼\u001b[1G\u001b[0K⠴\u001b[1G\u001b[0K⠦\u001b[1G\u001b[0K⠧\u001b[1G\u001b[0K⠇\u001b[1G\u001b[0K⠏\u001b[1G\u001b[0K⠋\u001b[1G\u001b[0K⠙\u001b[1G\u001b[0K⠹\u001b[1G\u001b[0K⠸\u001b[1G\u001b[0K⠼\u001b[1G\u001b[0K⠴\u001b[1G\u001b[0K⠦\u001b[1G\u001b[0K⠧\u001b[1G\u001b[0K⠇\u001b[1G\u001b[0K⠏\u001b[1G\u001b[0K⠋\u001b[1G\u001b[0K⠙\u001b[1G\u001b[0K⠹\u001b[1G\u001b[0K⠸\u001b[1G\u001b[0K⠼\u001b[1G\u001b[0K⠴\u001b[1G\u001b[0K⠦\u001b[1G\u001b[0K⠧\u001b[1G\u001b[0K⠇\u001b[1G\u001b[0K⠏\u001b[1G\u001b[0K⠋\u001b[1G\u001b[0K⠙\u001b[1G\u001b[0K⠹\u001b[1G\u001b[0K⠸\u001b[1G\u001b[0K⠼\u001b[1G\u001b[0K⠴\u001b[1G\u001b[0K⠦\u001b[1G\u001b[0K⠧\u001b[1G\u001b[0K⠇\u001b[1G\u001b[0K⠏\u001b[1G\u001b[0K⠋\u001b[1G\u001b[0K⠙\u001b[1G\u001b[0K⠹\u001b[1G\u001b[0K⠸\u001b[1G\u001b[0K⠼\u001b[1G\u001b[0K⠴\u001b[1G\u001b[0K⠦\u001b[1G\u001b[0K⠧\u001b[1G\u001b[0K⠇\u001b[1G\u001b[0K⠏\u001b[1G\u001b[0K⠋\u001b[1G\u001b[0K⠙\u001b[1G\u001b[0K⠹\u001b[1G\u001b[0K⠸\u001b[1G\u001b[0K⠼\u001b[1G\u001b[0K⠴\u001b[1G\u001b[0K⠦\u001b[1G\u001b[0K⠧\u001b[1G\u001b[0K⠇\u001b[1G\u001b[0K⠏\u001b[1G\u001b[0K⠋\u001b[1G\u001b[0K⠙\u001b[1G\u001b[0K⠹\u001b[1G\u001b[0K⠸\u001b[1G\u001b[0K⠼\u001b[1G\u001b[0K⠴\u001b[1G\u001b[0K⠦\u001b[1G\u001b[0K⠧\u001b[1G\u001b[0K⠇\u001b[1G\u001b[0K⠏\u001b[1G\u001b[0K⠋\u001b[1G\u001b[0K⠙\u001b[1G\u001b[0K⠹\u001b[1G\u001b[0K⠸\u001b[1G\u001b[0K⠼\u001b[1G\u001b[0K⠴\u001b[1G\u001b[0K⠦\u001b[1G\u001b[0K⠧\u001b[1G\u001b[0K⠇\u001b[1G\u001b[0K⠏\u001b[1G\u001b[0K⠋\u001b[1G\u001b[0K⠙\u001b[1G\u001b[0K⠹\u001b[1G\u001b[0K⠸\u001b[1G\u001b[0K⠼\u001b[1G\u001b[0K⠴\u001b[1G\u001b[0K⠦\u001b[1G\u001b[0K⠧\u001b[1G\u001b[0K⠇\u001b[1G\u001b[0K⠏\u001b[1G\u001b[0K⠋\u001b[1G\u001b[0K⠙\u001b[1G\u001b[0K⠹\u001b[1G\u001b[0K⠸\u001b[1G\u001b[0K⠼\u001b[1G\u001b[0K⠴\u001b[1G\u001b[0K⠦\u001b[1G\u001b[0K⠧\u001b[1G\u001b[0K⠇\u001b[1G\u001b[0K⠏\u001b[1G\u001b[0K⠋\u001b[1G\u001b[0K⠙\u001b[1G\u001b[0K⠹\u001b[1G\u001b[0K⠸\u001b[1G\u001b[0K⠼\u001b[1G\u001b[0K⠴\u001b[1G\u001b[0K⠦\u001b[1G\u001b[0K⠧\u001b[1G\u001b[0K⠇\u001b[1G\u001b[0K⠏\u001b[1G\u001b[0K⠋\u001b[1G\u001b[0K⠙\u001b[1G\u001b[0K⠹\u001b[1G\u001b[0K⠸\u001b[1G\u001b[0K⠼\u001b[1G\u001b[0K⠴\u001b[1G\u001b[0K⠦\u001b[1G\u001b[0K⠧\u001b[1G\u001b[0K⠇\u001b[1G\u001b[0K⠏\u001b[1G\u001b[0K⠋\u001b[1G\u001b[0K⠙\u001b[1G\u001b[0K⠹\u001b[1G\u001b[0K⠸\u001b[1G\u001b[0K⠼\u001b[1G\u001b[0K⠴\u001b[1G\u001b[0K⠦\u001b[1G\u001b[0K⠧\u001b[1G\u001b[0K⠇\u001b[1G\u001b[0K⠏\u001b[1G\u001b[0K⠋\u001b[1G\u001b[0K⠙\u001b[1G\u001b[0K⠹\u001b[1G\u001b[0K⠸\u001b[1G\u001b[0K⠼\u001b[1G\u001b[0K⠴\u001b[1G\u001b[0K⠦\u001b[1G\u001b[0K⠧\u001b[1G\u001b[0K⠇\u001b[1G\u001b[0K⠏\u001b[1G\u001b[0K⠋\u001b[1G\u001b[0K⠙\u001b[1G\u001b[0K⠹\u001b[1G\u001b[0K⠸\u001b[1G\u001b[0K⠼\u001b[1G\u001b[0K⠴\u001b[1G\u001b[0K⠦\u001b[1G\u001b[0K⠧\u001b[1G\u001b[0K⠇\u001b[1G\u001b[0K⠏\u001b[1G\u001b[0K⠋\u001b[1G\u001b[0K⠙\u001b[1G\u001b[0K⠹\u001b[1G\u001b[0K⠸\u001b[1G\u001b[0K⠼\u001b[1G\u001b[0K⠴\u001b[1G\u001b[0K⠦\u001b[1G\u001b[0K⠧\u001b[1G\u001b[0K⠇\u001b[1G\u001b[0K⠏\u001b[1G\u001b[0K⠋\u001b[1G\u001b[0K⠙\u001b[1G\u001b[0K⠹\u001b[1G\u001b[0K⠸\u001b[1G\u001b[0K⠼\u001b[1G\u001b[0K⠴\u001b[1G\u001b[0K⠦\u001b[1G\u001b[0K⠧\u001b[1G\u001b[0K⠇\u001b[1G\u001b[0K⠏\u001b[1G\u001b[0K⠋\u001b[1G\u001b[0K⠙\u001b[1G\u001b[0K⠹\u001b[1G\u001b[0K⠸\u001b[1G\u001b[0K⠼\u001b[1G\u001b[0K⠴\u001b[1G\u001b[0K⠦\u001b[1G\u001b[0K⠧\u001b[1G\u001b[0K⠇\u001b[1G\u001b[0K⠏\u001b[1G\u001b[0K⠋\u001b[1G\u001b[0K⠙\u001b[1G\u001b[0K⠹\u001b[1G\u001b[0K⠸\u001b[1G\u001b[0K⠼\u001b[1G\u001b[0K⠴\u001b[1G\u001b[0K⠦\u001b[1G\u001b[0K⠧\u001b[1G\u001b[0K⠇\u001b[1G\u001b[0K⠏\u001b[1G\u001b[0K⠋\u001b[1G\u001b[0K⠙\u001b[1G\u001b[0K⠹\u001b[1G\u001b[0K⠸\u001b[1G\u001b[0K⠼\u001b[1G\u001b[0K⠴\u001b[1G\u001b[0K⠦\u001b[1G\u001b[0K⠧\u001b[1G\u001b[0K⠇\u001b[1G\u001b[0K⠏\u001b[1G\u001b[0K⠋\u001b[1G\u001b[0K⠙\u001b[1G\u001b[0K⠹\u001b[1G\u001b[0K⠸\u001b[1G\u001b[0K⠼\u001b[1G\u001b[0K⠴\u001b[1G\u001b[0K⠦\u001b[1G\u001b[0K⠧\u001b[1G\u001b[0K⠇\u001b[1G\u001b[0K⠏\u001b[1G\u001b[0K⠋\u001b[1G\u001b[0K⠙\u001b[1G\u001b[0K⠹\u001b[1G\u001b[0K⠸\u001b[1G\u001b[0K⠼\u001b[1G\u001b[0K⠴\u001b[1G\u001b[0K⠦\u001b[1G\u001b[0K⠧\u001b[1G\u001b[0K⠇\u001b[1G\u001b[0K⠏\u001b[1G\u001b[0K⠋\u001b[1G\u001b[0K⠙\u001b[1G\u001b[0K⠹\u001b[1G\u001b[0K⠸\u001b[1G\u001b[0K⠼\u001b[1G\u001b[0K⠴\u001b[1G\u001b[0K⠦\u001b[1G\u001b[0K⠧\u001b[1G\u001b[0K⠇\u001b[1G\u001b[0K⠏\u001b[1G\u001b[0K⠋\u001b[1G\u001b[0K⠙\u001b[1G\u001b[0K⠹\u001b[1G\u001b[0K⠸\u001b[1G\u001b[0K⠼\u001b[1G\u001b[0K⠴\u001b[1G\u001b[0K⠦\u001b[1G\u001b[0K⠧\u001b[1G\u001b[0K⠇\u001b[1G\u001b[0K⠏\u001b[1G\u001b[0K⠋\u001b[1G\u001b[0K⠙\u001b[1G\u001b[0K⠹\u001b[1G\u001b[0K⠸\u001b[1G\u001b[0K⠼\u001b[1G\u001b[0K⠴\u001b[1G\u001b[0K⠦\u001b[1G\u001b[0K⠧\u001b[1G\u001b[0K⠇\u001b[1G\u001b[0K⠏\u001b[1G\u001b[0K⠋\u001b[1G\u001b[0K⠙\u001b[1G\u001b[0K⠹\u001b[1G\u001b[0K⠸\u001b[1G\u001b[0K⠼\u001b[1G\u001b[0K⠴\u001b[1G\u001b[0K⠦\u001b[1G\u001b[0K⠧\u001b[1G\u001b[0K⠇\u001b[1G\u001b[0K⠏\u001b[1G\u001b[0K⠋\u001b[1G\u001b[0K⠙\u001b[1G\u001b[0K⠹\u001b[1G\u001b[0K⠸\u001b[1G\u001b[0K⠼\u001b[1G\u001b[0K⠴\u001b[1G\u001b[0K⠦\u001b[1G\u001b[0K⠧\u001b[1G\u001b[0K⠇\u001b[1G\u001b[0K⠏\u001b[1G\u001b[0K⠋\u001b[1G\u001b[0K⠙\u001b[1G\u001b[0K⠹\u001b[1G\u001b[0K⠸\u001b[1G\u001b[0K⠼\u001b[1G\u001b[0K⠴\u001b[1G\u001b[0K⠦\u001b[1G\u001b[0K⠧\u001b[1G\u001b[0K⠇\u001b[1G\u001b[0K⠏\u001b[1G\u001b[0K⠋\u001b[1G\u001b[0K⠙\u001b[1G\u001b[0K⠹\u001b[1G\u001b[0K⠸\u001b[1G\u001b[0K⠼\u001b[1G\u001b[0K⠴\u001b[1G\u001b[0K⠦\u001b[1G\u001b[0K⠧\u001b[1G\u001b[0K⠇\u001b[1G\u001b[0K⠏\u001b[1G\u001b[0K⠋\u001b[1G\u001b[0K⠙\u001b[1G\u001b[0K⠹\u001b[1G\u001b[0K⠸\u001b[1G\u001b[0K⠼\u001b[1G\u001b[0K⠴\u001b[1G\u001b[0K⠦\u001b[1G\u001b[0K⠧\u001b[1G\u001b[0K⠇\u001b[1G\u001b[0K⠏\u001b[1G\u001b[0K⠋\u001b[1G\u001b[0K⠙\u001b[1G\u001b[0K⠹\u001b[1G\u001b[0K⠸\u001b[1G\u001b[0K⠼\u001b[1G\u001b[0K⠴\u001b[1G\u001b[0K⠦\u001b[1G\u001b[0K⠧\u001b[1G\u001b[0K⠇\u001b[1G\u001b[0K⠏\u001b[1G\u001b[0K⠋\u001b[1G\u001b[0K⠙\u001b[1G\u001b[0K⠹\u001b[1G\u001b[0K⠸\u001b[1G\u001b[0K⠼\u001b[1G\u001b[0K⠴\u001b[1G\u001b[0K⠦\u001b[1G\u001b[0K⠧\u001b[1G\u001b[0K⠇\u001b[1G\u001b[0K⠏\u001b[1G\u001b[0K⠋\u001b[1G\u001b[0K⠙\u001b[1G\u001b[0K⠹\u001b[1G\u001b[0K⠸\u001b[1G\u001b[0K⠼\u001b[1G\u001b[0K⠴\u001b[1G\u001b[0K⠦\u001b[1G\u001b[0K⠧\u001b[1G\u001b[0K⠇\u001b[1G\u001b[0K⠏\u001b[1G\u001b[0K⠋\u001b[1G\u001b[0K⠙\u001b[1G\u001b[0K⠹\u001b[1G\u001b[0K⠸\u001b[1G\u001b[0K⠼\u001b[1G\u001b[0K⠴\u001b[1G\u001b[0K⠦\u001b[1G\u001b[0K⠧\u001b[1G\u001b[0K⠇\u001b[1G\u001b[0K⠏\u001b[1G\u001b[0K⠋\u001b[1G\u001b[0K⠙\u001b[1G\u001b[0K⠹\u001b[1G\u001b[0K⠸\u001b[1G\u001b[0K⠼\u001b[1G\u001b[0K⠴\u001b[1G\u001b[0K⠦\u001b[1G\u001b[0K⠧\u001b[1G\u001b[0K⠇\u001b[1G\u001b[0K⠏\u001b[1G\u001b[0K⠋\u001b[1G\u001b[0K⠙\u001b[1G\u001b[0K⠹\u001b[1G\u001b[0K⠸\u001b[1G\u001b[0K⠼\u001b[1G\u001b[0K⠴\u001b[1G\u001b[0K⠦\u001b[1G\u001b[0K⠧\u001b[1G\u001b[0K⠇\u001b[1G\u001b[0K⠏\u001b[1G\u001b[0K⠋\u001b[1G\u001b[0K⠙\u001b[1G\u001b[0K⠹\u001b[1G\u001b[0K⠸\u001b[1G\u001b[0K⠼\u001b[1G\u001b[0K⠴\u001b[1G\u001b[0K⠦\u001b[1G\u001b[0K⠧\u001b[1G\u001b[0K⠇\u001b[1G\u001b[0K⠏\u001b[1G\u001b[0K⠋\u001b[1G\u001b[0K⠙\u001b[1G\u001b[0K⠹\u001b[1G\u001b[0K⠸\u001b[1G\u001b[0K⠼\u001b[1G\u001b[0K⠴\u001b[1G\u001b[0K⠦\u001b[1G\u001b[0K⠧\u001b[1G\u001b[0K⠇\u001b[1G\u001b[0K⠏\u001b[1G\u001b[0K⠋\u001b[1G\u001b[0K⠙\u001b[1G\u001b[0K⠹\u001b[1G\u001b[0K⠸\u001b[1G\u001b[0K⠼\u001b[1G\u001b[0K⠴\u001b[1G\u001b[0K⠦\u001b[1G\u001b[0K⠧\u001b[1G\u001b[0K⠇\u001b[1G\u001b[0K⠏\u001b[1G\u001b[0K⠋\u001b[1G\u001b[0K⠙\u001b[1G\u001b[0K⠹\u001b[1G\u001b[0K⠸\u001b[1G\u001b[0K⠼\u001b[1G\u001b[0K⠴\u001b[1G\u001b[0K⠦\u001b[1G\u001b[0K⠧\u001b[1G\u001b[0K⠇\u001b[1G\u001b[0K⠏\u001b[1G\u001b[0K⠋\u001b[1G\u001b[0K⠙\u001b[1G\u001b[0K⠹\u001b[1G\u001b[0K⠸\u001b[1G\u001b[0K⠼\u001b[1G\u001b[0K⠴\u001b[1G\u001b[0K⠦\u001b[1G\u001b[0K⠧\u001b[1G\u001b[0K⠇\u001b[1G\u001b[0K⠏\u001b[1G\u001b[0K⠋\u001b[1G\u001b[0K⠙\u001b[1G\u001b[0K⠹\u001b[1G\u001b[0K⠸\u001b[1G\u001b[0K⠼\u001b[1G\u001b[0K⠴\u001b[1G\u001b[0K⠦\u001b[1G\u001b[0K⠧\u001b[1G\u001b[0K⠇\u001b[1G\u001b[0K⠏\u001b[1G\u001b[0K⠋\u001b[1G\u001b[0K⠙\u001b[1G\u001b[0K⠹\u001b[1G\u001b[0K⠸\u001b[1G\u001b[0K⠼\u001b[1G\u001b[0K⠴\u001b[1G\u001b[0K⠦\u001b[1G\u001b[0K⠧\u001b[1G\u001b[0K⠇\u001b[1G\u001b[0K⠏\u001b[1G\u001b[0K⠋\u001b[1G\u001b[0K⠙\u001b[1G\u001b[0K⠹\u001b[1G\u001b[0K⠸\u001b[1G\u001b[0K⠼\u001b[1G\u001b[0K⠴\u001b[1G\u001b[0K⠦\u001b[1G\u001b[0K⠧\u001b[1G\u001b[0K⠇\u001b[1G\u001b[0K⠏\u001b[1G\u001b[0K⠋\u001b[1G\u001b[0K⠙\u001b[1G\u001b[0K⠹\u001b[1G\u001b[0K⠸\u001b[1G\u001b[0K⠼\u001b[1G\u001b[0K⠴\u001b[1G\u001b[0K⠦\u001b[1G\u001b[0K⠧\u001b[1G\u001b[0K⠇\u001b[1G\u001b[0K⠏\u001b[1G\u001b[0K⠋\u001b[1G\u001b[0K⠙\u001b[1G\u001b[0K⠹\u001b[1G\u001b[0K⠸\u001b[1G\u001b[0K⠼\u001b[1G\u001b[0K⠴\u001b[1G\u001b[0K⠦\u001b[1G\u001b[0K⠧\u001b[1G\u001b[0K⠇\u001b[1G\u001b[0K⠏\u001b[1G\u001b[0K⠋\u001b[1G\u001b[0K⠙\u001b[1G\u001b[0K⠹\u001b[1G\u001b[0K⠸\u001b[1G\u001b[0K⠼\u001b[1G\u001b[0K⠴\u001b[1G\u001b[0K⠦\u001b[1G\u001b[0K⠧\u001b[1G\u001b[0K⠇\u001b[1G\u001b[0K⠏\u001b[1G\u001b[0K⠋\u001b[1G\u001b[0K⠙\u001b[1G\u001b[0K⠹\u001b[1G\u001b[0K⠸\u001b[1G\u001b[0K⠼\u001b[1G\u001b[0K⠴\u001b[1G\u001b[0K⠦\u001b[1G\u001b[0K⠧\u001b[1G\u001b[0K⠇\u001b[1G\u001b[0K⠏\u001b[1G\u001b[0K⠋\u001b[1G\u001b[0K⠙\u001b[1G\u001b[0K⠹\u001b[1G\u001b[0K⠸\u001b[1G\u001b[0K⠼\u001b[1G\u001b[0K⠴\u001b[1G\u001b[0K⠦\u001b[1G\u001b[0K⠧\u001b[1G\u001b[0K⠇\u001b[1G\u001b[0K⠏\u001b[1G\u001b[0K⠋\u001b[1G\u001b[0K⠙\u001b[1G\u001b[0K⠹\u001b[1G\u001b[0K⠸\u001b[1G\u001b[0K⠼\u001b[1G\u001b[0K⠴\u001b[1G\u001b[0K⠦\u001b[1G\u001b[0K⠧\u001b[1G\u001b[0K⠇\u001b[1G\u001b[0K⠏\u001b[1G\u001b[0K⠋\u001b[1G\u001b[0K⠙\u001b[1G\u001b[0K⠹\u001b[1G\u001b[0K⠸\u001b[1G\u001b[0K⠼\u001b[1G\u001b[0K⠴\u001b[1G\u001b[0K⠦\u001b[1G\u001b[0K⠧\u001b[1G\u001b[0K⠇\u001b[1G\u001b[0K⠏\u001b[1G\u001b[0K⠋\u001b[1G\u001b[0K⠙\u001b[1G\u001b[0K⠹\u001b[1G\u001b[0K⠸\u001b[1G\u001b[0K⠼\u001b[1G\u001b[0K⠴\u001b[1G\u001b[0K⠦\u001b[1G\u001b[0K⠧\u001b[1G\u001b[0K⠇\u001b[1G\u001b[0K⠏\u001b[1G\u001b[0K⠋\u001b[1G\u001b[0K⠙\u001b[1G\u001b[0K⠹\u001b[1G\u001b[0K⠸\u001b[1G\u001b[0K⠼\u001b[1G\u001b[0K⠴\u001b[1G\u001b[0K⠦\u001b[1G\u001b[0K⠧\u001b[1G\u001b[0K⠇\u001b[1G\u001b[0K⠏\u001b[1G\u001b[0K⠋\u001b[1G\u001b[0K⠙\u001b[1G\u001b[0K⠹\u001b[1G\u001b[0K⠸\u001b[1G\u001b[0K⠼\u001b[1G\u001b[0K⠴\u001b[1G\u001b[0K⠦\u001b[1G\u001b[0K⠧\u001b[1G\u001b[0K⠇\u001b[1G\u001b[0K⠏\u001b[1G\u001b[0K⠋\u001b[1G\u001b[0K⠙\u001b[1G\u001b[0K⠹\u001b[1G\u001b[0K⠸\u001b[1G\u001b[0K⠼\u001b[1G\u001b[0K⠴\u001b[1G\u001b[0K⠦\u001b[1G\u001b[0K⠧\u001b[1G\u001b[0K⠇\u001b[1G\u001b[0K⠏\u001b[1G\u001b[0K⠋\u001b[1G\u001b[0K⠙\u001b[1G\u001b[0K⠹\u001b[1G\u001b[0K⠸\u001b[1G\u001b[0K⠼\u001b[1G\u001b[0K⠴\u001b[1G\u001b[0K⠦\u001b[1G\u001b[0K⠧\u001b[1G\u001b[0K⠇\u001b[1G\u001b[0K⠏\u001b[1G\u001b[0K⠋\u001b[1G\u001b[0K⠙\u001b[1G\u001b[0K⠹\u001b[1G\u001b[0K⠸\u001b[1G\u001b[0K⠼\u001b[1G\u001b[0K⠴\u001b[1G\u001b[0K⠦\u001b[1G\u001b[0K⠧\u001b[1G\u001b[0K⠇\u001b[1G\u001b[0K⠏\u001b[1G\u001b[0K⠋\u001b[1G\u001b[0K⠙\u001b[1G\u001b[0K⠹\u001b[1G\u001b[0K⠸\u001b[1G\u001b[0K⠼\u001b[1G\u001b[0K⠴\u001b[1G\u001b[0K⠦\u001b[1G\u001b[0K⠧\u001b[1G\u001b[0K⠇\u001b[1G\u001b[0K⠏\u001b[1G\u001b[0K⠋\u001b[1G\u001b[0K⠙\u001b[1G\u001b[0K⠹\u001b[1G\u001b[0K⠸\u001b[1G\u001b[0K⠼\u001b[1G\u001b[0K⠴\u001b[1G\u001b[0K⠦\u001b[1G\u001b[0K⠧\u001b[1G\u001b[0K⠇\u001b[1G\u001b[0K⠏\u001b[1G\u001b[0K⠋\u001b[1G\u001b[0K⠙\u001b[1G\u001b[0K⠹\u001b[1G\u001b[0K⠸\u001b[1G\u001b[0K⠼\u001b[1G\u001b[0K⠴\u001b[1G\u001b[0K⠦\u001b[1G\u001b[0K⠧\u001b[1G\u001b[0K⠇\u001b[1G\u001b[0K⠏\u001b[1G\u001b[0K⠋\u001b[1G\u001b[0K⠙\u001b[1G\u001b[0K⠹\u001b[1G\u001b[0K⠸\u001b[1G\u001b[0K⠼\u001b[1G\u001b[0K⠴\u001b[1G\u001b[0K⠦\u001b[1G\u001b[0K⠧\u001b[1G\u001b[0K⠇\u001b[1G\u001b[0K⠏\u001b[1G\u001b[0K⠋\u001b[1G\u001b[0K⠙\u001b[1G\u001b[0K⠹\u001b[1G\u001b[0K⠸\u001b[1G\u001b[0K⠼\u001b[1G\u001b[0K⠴\u001b[1G\u001b[0K⠦\u001b[1G\u001b[0K⠧\u001b[1G\u001b[0K⠇\u001b[1G\u001b[0K⠏\u001b[1G\u001b[0K⠋\u001b[1G\u001b[0K⠙\u001b[1G\u001b[0K⠹\u001b[1G\u001b[0K⠸\u001b[1G\u001b[0K⠼\u001b[1G\u001b[0K⠴\u001b[1G\u001b[0K⠦\u001b[1G\u001b[0K⠧\u001b[1G\u001b[0K⠇\u001b[1G\u001b[0K⠏\u001b[1G\u001b[0K⠋\u001b[1G\u001b[0K⠙\u001b[1G\u001b[0K⠹\u001b[1G\u001b[0K⠸\u001b[1G\u001b[0K⠼\u001b[1G\u001b[0K⠴\u001b[1G\u001b[0K⠦\u001b[1G\u001b[0K⠧\u001b[1G\u001b[0K⠇\u001b[1G\u001b[0K⠏\u001b[1G\u001b[0K⠋\u001b[1G\u001b[0K⠙\u001b[1G\u001b[0K⠹\u001b[1G\u001b[0K⠸\u001b[1G\u001b[0K⠼\u001b[1G\u001b[0K⠴\u001b[1G\u001b[0K⠦\u001b[1G\u001b[0K⠧\u001b[1G\u001b[0K⠇\u001b[1G\u001b[0K⠏\u001b[1G\u001b[0K⠋\u001b[1G\u001b[0K⠙\u001b[1G\u001b[0K⠹\u001b[1G\u001b[0K⠸\u001b[1G\u001b[0K⠼\u001b[1G\u001b[0K⠴\u001b[1G\u001b[0K⠦\u001b[1G\u001b[0K⠧\u001b[1G\u001b[0K⠇\u001b[1G\u001b[0K⠏\u001b[1G\u001b[0K⠋\u001b[1G\u001b[0K⠙\u001b[1G\u001b[0K⠹\u001b[1G\u001b[0K⠸\u001b[1G\u001b[0K⠼\u001b[1G\u001b[0K⠴\u001b[1G\u001b[0K⠦\u001b[1G\u001b[0K⠧\u001b[1G\u001b[0K⠇\u001b[1G\u001b[0K⠏\u001b[1G\u001b[0K⠋\u001b[1G\u001b[0K⠙\u001b[1G\u001b[0K⠹\u001b[1G\u001b[0K⠸\u001b[1G\u001b[0K⠼\u001b[1G\u001b[0K⠴\u001b[1G\u001b[0K⠦\u001b[1G\u001b[0K⠧\u001b[1G\u001b[0K⠇\u001b[1G\u001b[0K⠏\u001b[1G\u001b[0K⠋\u001b[1G\u001b[0K⠙\u001b[1G\u001b[0K⠹\u001b[1G\u001b[0K⠸\u001b[1G\u001b[0K⠼\u001b[1G\u001b[0K⠴\u001b[1G\u001b[0K⠦\u001b[1G\u001b[0K⠧\u001b[1G\u001b[0K⠇\u001b[1G\u001b[0K⠏\u001b[1G\u001b[0K⠋\u001b[1G\u001b[0K⠙\u001b[1G\u001b[0K⠹\u001b[1G\u001b[0K⠸\u001b[1G\u001b[0K⠼\u001b[1G\u001b[0K⠴\u001b[1G\u001b[0K⠦\u001b[1G\u001b[0K⠧\u001b[1G\u001b[0K⠇\u001b[1G\u001b[0K⠏\u001b[1G\u001b[0K⠋\u001b[1G\u001b[0K⠙\u001b[1G\u001b[0K⠹\u001b[1G\u001b[0K⠸\u001b[1G\u001b[0K⠼\u001b[1G\u001b[0K⠴\u001b[1G\u001b[0K⠦\u001b[1G\u001b[0K⠧\u001b[1G\u001b[0K⠇\u001b[1G\u001b[0K⠏\u001b[1G\u001b[0K⠋\u001b[1G\u001b[0K⠙\u001b[1G\u001b[0K⠹\u001b[1G\u001b[0K⠸\u001b[1G\u001b[0K⠼\u001b[1G\u001b[0K⠴\u001b[1G\u001b[0K⠦\u001b[1G\u001b[0K⠧\u001b[1G\u001b[0K⠇\u001b[1G\u001b[0K⠏\u001b[1G\u001b[0K⠋\u001b[1G\u001b[0K⠙\u001b[1G\u001b[0K⠹\u001b[1G\u001b[0K⠸\u001b[1G\u001b[0K⠼\u001b[1G\u001b[0K⠴\u001b[1G\u001b[0K⠦\u001b[1G\u001b[0K⠧\u001b[1G\u001b[0K⠇\u001b[1G\u001b[0K⠏\u001b[1G\u001b[0K⠋\u001b[1G\u001b[0K⠙\u001b[1G\u001b[0K⠹\u001b[1G\u001b[0K⠸\u001b[1G\u001b[0K⠼\u001b[1G\u001b[0K⠴\u001b[1G\u001b[0K⠦\u001b[1G\u001b[0K⠧\u001b[1G\u001b[0K⠇\u001b[1G\u001b[0K⠏\u001b[1G\u001b[0K⠋\u001b[1G\u001b[0K⠙\u001b[1G\u001b[0K⠹\u001b[1G\u001b[0K⠸\u001b[1G\u001b[0K⠼\u001b[1G\u001b[0K⠴\u001b[1G\u001b[0K⠦\u001b[1G\u001b[0K⠧\u001b[1G\u001b[0K⠇\u001b[1G\u001b[0K⠏\u001b[1G\u001b[0K⠋\u001b[1G\u001b[0K⠙\u001b[1G\u001b[0K⠹\u001b[1G\u001b[0K⠸\u001b[1G\u001b[0K⠼\u001b[1G\u001b[0K⠴\u001b[1G\u001b[0K⠦\u001b[1G\u001b[0K⠧\u001b[1G\u001b[0K⠇\u001b[1G\u001b[0K⠏\u001b[1G\u001b[0K⠋\u001b[1G\u001b[0K⠙\u001b[1G\u001b[0K⠹\u001b[1G\u001b[0K⠸\u001b[1G\u001b[0K⠼\u001b[1G\u001b[0K⠴\u001b[1G\u001b[0K⠦\u001b[1G\u001b[0K⠧\u001b[1G\u001b[0K⠇\u001b[1G\u001b[0K⠏\u001b[1G\u001b[0K⠋\u001b[1G\u001b[0K⠙\u001b[1G\u001b[0K⠹\u001b[1G\u001b[0K⠸\u001b[1G\u001b[0K⠼\u001b[1G\u001b[0K⠴\u001b[1G\u001b[0K⠦\u001b[1G\u001b[0K⠧\u001b[1G\u001b[0K⠇\u001b[1G\u001b[0K⠏\u001b[1G\u001b[0K⠋\u001b[1G\u001b[0K⠙\u001b[1G\u001b[0K⠹\u001b[1G\u001b[0K⠸\u001b[1G\u001b[0K⠼\u001b[1G\u001b[0K⠴\u001b[1G\u001b[0K⠦\u001b[1G\u001b[0K⠧\u001b[1G\u001b[0K⠇\u001b[1G\u001b[0K⠏\u001b[1G\u001b[0K⠋\u001b[1G\u001b[0K⠙\u001b[1G\u001b[0K⠹\u001b[1G\u001b[0K⠸\u001b[1G\u001b[0K⠼\u001b[1G\u001b[0K⠴\u001b[1G\u001b[0K⠦\u001b[1G\u001b[0K⠧\u001b[1G\u001b[0K⠇\u001b[1G\u001b[0K⠏\u001b[1G\u001b[0K⠋\u001b[1G\u001b[0K⠙\u001b[1G\u001b[0K⠹\u001b[1G\u001b[0K⠸\u001b[1G\u001b[0K⠼\u001b[1G\u001b[0K⠴\u001b[1G\u001b[0K⠦\u001b[1G\u001b[0K⠧\u001b[1G\u001b[0K⠇\u001b[1G\u001b[0K⠏\u001b[1G\u001b[0K⠋\u001b[1G\u001b[0K⠙\u001b[1G\u001b[0K⠹\u001b[1G\u001b[0K⠸\u001b[1G\u001b[0K⠼\u001b[1G\u001b[0K⠴\u001b[1G\u001b[0K⠦\u001b[1G\u001b[0K⠧\u001b[1G\u001b[0K⠇\u001b[1G\u001b[0K⠏\u001b[1G\u001b[0K⠋\u001b[1G\u001b[0K⠙\u001b[1G\u001b[0K⠹\u001b[1G\u001b[0K⠸\u001b[1G\u001b[0K⠼\u001b[1G\u001b[0K⠴\u001b[1G\u001b[0K⠦\u001b[1G\u001b[0K⠧\u001b[1G\u001b[0K⠇\u001b[1G\u001b[0K⠏\u001b[1G\u001b[0K⠋\u001b[1G\u001b[0K⠙\u001b[1G\u001b[0K⠹\u001b[1G\u001b[0K⠸\u001b[1G\u001b[0K⠼\u001b[1G\u001b[0K⠴\u001b[1G\u001b[0K⠦\u001b[1G\u001b[0K⠧\u001b[1G\u001b[0K⠇\u001b[1G\u001b[0K⠏\u001b[1G\u001b[0K⠋\u001b[1G\u001b[0K⠙\u001b[1G\u001b[0K⠹\u001b[1G\u001b[0K⠸\u001b[1G\u001b[0K⠼\u001b[1G\u001b[0K⠴\u001b[1G\u001b[0K⠦\u001b[1G\u001b[0K⠧\u001b[1G\u001b[0K⠇\u001b[1G\u001b[0K⠏\u001b[1G\u001b[0K⠋\u001b[1G\u001b[0K⠙\u001b[1G\u001b[0K⠹\u001b[1G\u001b[0K⠸\u001b[1G\u001b[0K⠼\u001b[1G\u001b[0K⠴\u001b[1G\u001b[0K⠦\u001b[1G\u001b[0K⠧\u001b[1G\u001b[0K⠇\u001b[1G\u001b[0K⠏\u001b[1G\u001b[0K⠋\u001b[1G\u001b[0K⠙\u001b[1G\u001b[0K⠹\u001b[1G\u001b[0K⠸\u001b[1G\u001b[0K⠼\u001b[1G\u001b[0K⠴\u001b[1G\u001b[0K⠦\u001b[1G\u001b[0K⠧\u001b[1G\u001b[0K⠇\u001b[1G\u001b[0K⠏\u001b[1G\u001b[0K⠋\u001b[1G\u001b[0K⠙\u001b[1G\u001b[0K⠹\u001b[1G\u001b[0K⠸\u001b[1G\u001b[0K⠼\u001b[1G\u001b[0K⠴\u001b[1G\u001b[0K⠦\u001b[1G\u001b[0K⠧\u001b[1G\u001b[0K⠇\u001b[1G\u001b[0K⠏\u001b[1G\u001b[0K⠋\u001b[1G\u001b[0K⠙\u001b[1G\u001b[0K⠹\u001b[1G\u001b[0K⠸\u001b[1G\u001b[0K⠼\u001b[1G\u001b[0K⠴\u001b[1G\u001b[0K⠦\u001b[1G\u001b[0K⠧\u001b[1G\u001b[0K⠇\u001b[1G\u001b[0K⠏\u001b[1G\u001b[0K⠋\u001b[1G\u001b[0K⠙\u001b[1G\u001b[0K⠹\u001b[1G\u001b[0K⠸\u001b[1G\u001b[0K⠼\u001b[1G\u001b[0K⠴\u001b[1G\u001b[0K⠦\u001b[1G\u001b[0K⠧\u001b[1G\u001b[0K⠇\u001b[1G\u001b[0K⠏\u001b[1G\u001b[0K⠋\u001b[1G\u001b[0K⠙\u001b[1G\u001b[0K⠹\u001b[1G\u001b[0K⠸\u001b[1G\u001b[0K⠼\u001b[1G\u001b[0K⠴\u001b[1G\u001b[0K⠦\u001b[1G\u001b[0K⠧\u001b[1G\u001b[0K⠇\u001b[1G\u001b[0K⠏\u001b[1G\u001b[0K⠋\u001b[1G\u001b[0K⠙\u001b[1G\u001b[0K⠹\u001b[1G\u001b[0K⠸\u001b[1G\u001b[0K⠼\u001b[1G\u001b[0K⠴\u001b[1G\u001b[0K⠦\u001b[1G\u001b[0K⠧\u001b[1G\u001b[0K⠇\u001b[1G\u001b[0K⠏\u001b[1G\u001b[0K⠋\u001b[1G\u001b[0K⠙\u001b[1G\u001b[0K⠹\u001b[1G\u001b[0K⠸\u001b[1G\u001b[0K⠼\u001b[1G\u001b[0K⠴\u001b[1G\u001b[0K⠦\u001b[1G\u001b[0K⠧\u001b[1G\u001b[0K⠇\u001b[1G\u001b[0K⠏\u001b[1G\u001b[0K⠋\u001b[1G\u001b[0K⠙\u001b[1G\u001b[0K⠹\u001b[1G\u001b[0K⠸\u001b[1G\u001b[0K⠼\u001b[1G\u001b[0K⠴\u001b[1G\u001b[0K⠦\u001b[1G\u001b[0K⠧\u001b[1G\u001b[0K⠇\u001b[1G\u001b[0K⠏\u001b[1G\u001b[0K⠋\u001b[1G\u001b[0K\u001b[31m(node:1568) [DEP0040] DeprecationWarning: The `punycode` module is deprecated. Please use a userland alternative instead.\n",
            "(Use `node --trace-deprecation ...` to show where the warning was created)\u001b[39m\n",
            "\u001b[90mAnonymous telemetry is enabled. For more info, see https://www.promptfoo.dev/docs/configuration/telemetry\u001b[39m\n",
            "\u001b[32m✅ Wrote promptfooconfig.yaml. Run `\u001b[1mpromptfoo eval\u001b[22m` to get started!\u001b[39m\n",
            "\u001b[1G\u001b[0K⠙\u001b[1G\u001b[0K\u001b[1mnpm\u001b[22m \u001b[96mnotice\u001b[39m\n",
            "\u001b[1mnpm\u001b[22m \u001b[96mnotice\u001b[39m New \u001b[33mminor\u001b[39m version of npm available! \u001b[33m10.7.0\u001b[39m -> \u001b[34m10.8.1\u001b[39m\n",
            "\u001b[1mnpm\u001b[22m \u001b[96mnotice\u001b[39m Changelog: \u001b[34mhttps://github.com/npm/cli/releases/tag/v10.8.1\u001b[39m\n",
            "\u001b[1mnpm\u001b[22m \u001b[96mnotice\u001b[39m To update run: \u001b[4mnpm install -g npm@10.8.1\u001b[24m\n",
            "\u001b[1mnpm\u001b[22m \u001b[96mnotice\u001b[39m\n",
            "\u001b[1G\u001b[0K⠙\u001b[1G\u001b[0K"
          ]
        }
      ],
      "source": [
        "# Set up promptfoo\n",
        "%env npm_config_yes=true\n",
        "!npx promptfoo@latest init"
      ]
    },
    {
      "cell_type": "code",
      "source": [
        "!npm i google-auth-library"
      ],
      "metadata": {
        "id": "7vRAPa1zhxNW",
        "outputId": "ef4ab523-50cf-45b1-c03a-819533cfbbcf",
        "colab": {
          "base_uri": "https://localhost:8080/"
        }
      },
      "execution_count": 3,
      "outputs": [
        {
          "output_type": "stream",
          "name": "stdout",
          "text": [
            "\u001b[1G\u001b[0K⠙\u001b[1G\u001b[0K⠹\u001b[1G\u001b[0K⠸\u001b[1G\u001b[0K⠼\u001b[1G\u001b[0K⠴\u001b[1G\u001b[0K⠦\u001b[1G\u001b[0K⠧\u001b[1G\u001b[0K⠇\u001b[1G\u001b[0K⠏\u001b[1G\u001b[0K⠋\u001b[1G\u001b[0K⠙\u001b[1G\u001b[0K⠹\u001b[1G\u001b[0K⠸\u001b[1G\u001b[0K⠼\u001b[1G\u001b[0K⠴\u001b[1G\u001b[0K⠦\u001b[1G\u001b[0K⠧\u001b[1G\u001b[0K⠇\u001b[1G\u001b[0K⠏\u001b[1G\u001b[0K⠋\u001b[1G\u001b[0K\n",
            "added 23 packages in 2s\n",
            "\u001b[1G\u001b[0K⠋\u001b[1G\u001b[0K\n",
            "\u001b[1G\u001b[0K⠋\u001b[1G\u001b[0K4 packages are looking for funding\n",
            "\u001b[1G\u001b[0K⠋\u001b[1G\u001b[0K  run `npm fund` for details\n",
            "\u001b[1G\u001b[0K⠋\u001b[1G\u001b[0K"
          ]
        }
      ]
    },
    {
      "cell_type": "code",
      "source": [
        "import sys\n",
        "\n",
        "if \"google.colab\" in sys.modules:\n",
        "    from google.colab import auth\n",
        "    auth.authenticate_user()"
      ],
      "metadata": {
        "id": "RJK02v5viufc"
      },
      "execution_count": 4,
      "outputs": []
    },
    {
      "cell_type": "code",
      "source": [
        "!gcloud config set project \"jrproject-402905\""
      ],
      "metadata": {
        "id": "ApWqEe2uiiD3",
        "outputId": "19df0177-6b19-4808-9e35-29e2fb93cba1",
        "colab": {
          "base_uri": "https://localhost:8080/"
        }
      },
      "execution_count": 5,
      "outputs": [
        {
          "output_type": "stream",
          "name": "stdout",
          "text": [
            "Updated property [core/project].\n"
          ]
        }
      ]
    },
    {
      "cell_type": "markdown",
      "metadata": {
        "id": "BWbwGrFLSzzQ"
      },
      "source": [
        "# Configure promptfoo"
      ]
    },
    {
      "cell_type": "markdown",
      "source": [],
      "metadata": {
        "id": "T59nD1lXwJqt"
      }
    },
    {
      "cell_type": "markdown",
      "metadata": {
        "id": "4WtI9tXZ98sB"
      },
      "source": [
        "First, we set up the prompts. See https://promptfoo.dev/docs/configuration/parameters for more info on prompt files."
      ]
    },
    {
      "cell_type": "code",
      "execution_count": 6,
      "metadata": {
        "colab": {
          "base_uri": "https://localhost:8080/"
        },
        "id": "8bgtMk0n86yj",
        "outputId": "996a3c69-f092-4dbb-c3a8-95a86ff2acfa"
      },
      "outputs": [
        {
          "output_type": "stream",
          "name": "stdout",
          "text": [
            "Writing prompts.txt\n"
          ]
        }
      ],
      "source": [
        "%%writefile prompts.txt\n",
        "You're an ecommerce chat assistant for a shoe company.\n",
        "Answer this user's question: {{name}}: \"{{question}}\"\n",
        "---\n",
        "You're a smart, bubbly chat assistant for a shoe company.\n",
        "Answer this user's question: {{name}}: \"{{question}}\""
      ]
    },
    {
      "cell_type": "markdown",
      "metadata": {
        "id": "T_zcpupd14Rm"
      },
      "source": [
        "Next, we set up the configuration. See https://promptfoo.dev/docs/configuration/guide for more info on configuration."
      ]
    },
    {
      "cell_type": "code",
      "execution_count": 7,
      "metadata": {
        "colab": {
          "base_uri": "https://localhost:8080/"
        },
        "id": "EUst0Tmv9Pfy",
        "outputId": "bc09df06-7268-408f-c08f-64f13ec6cd33"
      },
      "outputs": [
        {
          "output_type": "stream",
          "name": "stdout",
          "text": [
            "Overwriting promptfooconfig.yaml\n"
          ]
        }
      ],
      "source": [
        "%%writefile promptfooconfig.yaml\n",
        "prompts: [prompts.txt]\n",
        "providers:\n",
        "  - id: vertex:chat-bison-32k\n",
        "    config:\n",
        "      generationConfig:\n",
        "        temperature: 0\n",
        "        maxOutputTokens: 1024\n",
        "\n",
        "  - id: vertex:gemini-1.5-flash-preview-0514\n",
        "    config:\n",
        "      generationConfig:\n",
        "        temperature: 0\n",
        "        maxOutputTokens: 1024\n",
        "tests:\n",
        "  - vars:\n",
        "      name: Bob\n",
        "      question: Can you help me find a pair of sandals on your website?\n",
        "  - vars:\n",
        "      name: Jane\n",
        "      question: Do you have any discounts available?\n",
        "  - vars:\n",
        "      name: Dave\n",
        "      question: What are your shipping and return policies?\n",
        "  - vars:\n",
        "      name: Jim\n",
        "      question: Can you provide more info on your hiking boot options?\n",
        "  - vars:\n",
        "      name: Alice\n",
        "      question: What is the latest trend in winter footwear?"
      ]
    },
    {
      "cell_type": "markdown",
      "metadata": {
        "id": "yDgQDQiKvKCN"
      },
      "source": [
        "# Run the eval"
      ]
    },
    {
      "cell_type": "markdown",
      "metadata": {
        "id": "cdJXjemM1UDK"
      },
      "source": [
        "First, run the eval - this will produce a quick side-by-side table view."
      ]
    },
    {
      "cell_type": "code",
      "execution_count": 8,
      "metadata": {
        "colab": {
          "base_uri": "https://localhost:8080/"
        },
        "id": "d5hZGY2svL6D",
        "outputId": "3e06ec6f-8c89-4bfe-a662-b7b915a6fb24"
      },
      "outputs": [
        {
          "output_type": "stream",
          "name": "stdout",
          "text": [
            "\u001b[1G\u001b[0K⠙\u001b[1G\u001b[0K⠹\u001b[1G\u001b[0K⠸\u001b[1G\u001b[0K⠼\u001b[1G\u001b[0K⠴\u001b[1G\u001b[0K⠦\u001b[1G\u001b[0K⠧\u001b[1G\u001b[0K⠇\u001b[1G\u001b[0K⠏\u001b[1G\u001b[0K\u001b[31m(node:5505) [DEP0040] DeprecationWarning: The `punycode` module is deprecated. Please use a userland alternative instead.\n",
            "(Use `node --trace-deprecation ...` to show where the warning was created)\u001b[39m\n",
            "Creating cache folder at /root/.promptfoo/cache.\n",
            "\n",
            "\u001b[90m┌────────────────────\u001b[39m\u001b[90m┬────────────────────\u001b[39m\u001b[90m┬────────────────────\u001b[39m\u001b[90m┬────────────────────\u001b[39m\u001b[90m┬────────────────────\u001b[39m\u001b[90m┬────────────────────┐\u001b[39m\n",
            "\u001b[90m│\u001b[39m\u001b[1m\u001b[34m name               \u001b[39m\u001b[22m\u001b[90m│\u001b[39m\u001b[1m\u001b[34m question           \u001b[39m\u001b[22m\u001b[90m│\u001b[39m\u001b[1m\u001b[34m [vertex:chat-biso… \u001b[39m\u001b[22m\u001b[90m│\u001b[39m\u001b[1m\u001b[34m [vertex:gemini-1.… \u001b[39m\u001b[22m\u001b[90m│\u001b[39m\u001b[1m\u001b[34m [vertex:chat-biso… \u001b[39m\u001b[22m\u001b[90m│\u001b[39m\u001b[1m\u001b[34m [vertex:gemini-1.… \u001b[39m\u001b[22m\u001b[90m│\u001b[39m\n",
            "\u001b[90m│\u001b[39m\u001b[1m\u001b[34m                    \u001b[39m\u001b[22m\u001b[90m│\u001b[39m\u001b[1m\u001b[34m                    \u001b[39m\u001b[22m\u001b[90m│\u001b[39m\u001b[1m\u001b[34m You're an          \u001b[39m\u001b[22m\u001b[90m│\u001b[39m\u001b[1m\u001b[34m You're an          \u001b[39m\u001b[22m\u001b[90m│\u001b[39m\u001b[1m\u001b[34m You're a smart,    \u001b[39m\u001b[22m\u001b[90m│\u001b[39m\u001b[1m\u001b[34m You're a smart,    \u001b[39m\u001b[22m\u001b[90m│\u001b[39m\n",
            "\u001b[90m│\u001b[39m\u001b[1m\u001b[34m                    \u001b[39m\u001b[22m\u001b[90m│\u001b[39m\u001b[1m\u001b[34m                    \u001b[39m\u001b[22m\u001b[90m│\u001b[39m\u001b[1m\u001b[34m ecommerce chat     \u001b[39m\u001b[22m\u001b[90m│\u001b[39m\u001b[1m\u001b[34m ecommerce chat     \u001b[39m\u001b[22m\u001b[90m│\u001b[39m\u001b[1m\u001b[34m bubbly chat        \u001b[39m\u001b[22m\u001b[90m│\u001b[39m\u001b[1m\u001b[34m bubbly chat        \u001b[39m\u001b[22m\u001b[90m│\u001b[39m\n",
            "\u001b[90m│\u001b[39m\u001b[1m\u001b[34m                    \u001b[39m\u001b[22m\u001b[90m│\u001b[39m\u001b[1m\u001b[34m                    \u001b[39m\u001b[22m\u001b[90m│\u001b[39m\u001b[1m\u001b[34m assistant for a    \u001b[39m\u001b[22m\u001b[90m│\u001b[39m\u001b[1m\u001b[34m assistant for a    \u001b[39m\u001b[22m\u001b[90m│\u001b[39m\u001b[1m\u001b[34m assistant for a    \u001b[39m\u001b[22m\u001b[90m│\u001b[39m\u001b[1m\u001b[34m assistant for a    \u001b[39m\u001b[22m\u001b[90m│\u001b[39m\n",
            "\u001b[90m│\u001b[39m\u001b[1m\u001b[34m                    \u001b[39m\u001b[22m\u001b[90m│\u001b[39m\u001b[1m\u001b[34m                    \u001b[39m\u001b[22m\u001b[90m│\u001b[39m\u001b[1m\u001b[34m shoe company.      \u001b[39m\u001b[22m\u001b[90m│\u001b[39m\u001b[1m\u001b[34m shoe company.      \u001b[39m\u001b[22m\u001b[90m│\u001b[39m\u001b[1m\u001b[34m shoe company.      \u001b[39m\u001b[22m\u001b[90m│\u001b[39m\u001b[1m\u001b[34m shoe company.      \u001b[39m\u001b[22m\u001b[90m│\u001b[39m\n",
            "\u001b[90m│\u001b[39m\u001b[1m\u001b[34m                    \u001b[39m\u001b[22m\u001b[90m│\u001b[39m\u001b[1m\u001b[34m                    \u001b[39m\u001b[22m\u001b[90m│\u001b[39m\u001b[1m\u001b[34m Answer this user's \u001b[39m\u001b[22m\u001b[90m│\u001b[39m\u001b[1m\u001b[34m Answer this user's \u001b[39m\u001b[22m\u001b[90m│\u001b[39m\u001b[1m\u001b[34m Answer this user's \u001b[39m\u001b[22m\u001b[90m│\u001b[39m\u001b[1m\u001b[34m Answer this user's \u001b[39m\u001b[22m\u001b[90m│\u001b[39m\n",
            "\u001b[90m│\u001b[39m\u001b[1m\u001b[34m                    \u001b[39m\u001b[22m\u001b[90m│\u001b[39m\u001b[1m\u001b[34m                    \u001b[39m\u001b[22m\u001b[90m│\u001b[39m\u001b[1m\u001b[34m question:          \u001b[39m\u001b[22m\u001b[90m│\u001b[39m\u001b[1m\u001b[34m question:          \u001b[39m\u001b[22m\u001b[90m│\u001b[39m\u001b[1m\u001b[34m question:          \u001b[39m\u001b[22m\u001b[90m│\u001b[39m\u001b[1m\u001b[34m question:          \u001b[39m\u001b[22m\u001b[90m│\u001b[39m\n",
            "\u001b[90m│\u001b[39m\u001b[1m\u001b[34m                    \u001b[39m\u001b[22m\u001b[90m│\u001b[39m\u001b[1m\u001b[34m                    \u001b[39m\u001b[22m\u001b[90m│\u001b[39m\u001b[1m\u001b[34m {{name}}:          \u001b[39m\u001b[22m\u001b[90m│\u001b[39m\u001b[1m\u001b[34m {{name}}:          \u001b[39m\u001b[22m\u001b[90m│\u001b[39m\u001b[1m\u001b[34m {{name}}:          \u001b[39m\u001b[22m\u001b[90m│\u001b[39m\u001b[1m\u001b[34m {{name}}:          \u001b[39m\u001b[22m\u001b[90m│\u001b[39m\n",
            "\u001b[90m│\u001b[39m\u001b[1m\u001b[34m                    \u001b[39m\u001b[22m\u001b[90m│\u001b[39m\u001b[1m\u001b[34m                    \u001b[39m\u001b[22m\u001b[90m│\u001b[39m\u001b[1m\u001b[34m \"{{question}}\"     \u001b[39m\u001b[22m\u001b[90m│\u001b[39m\u001b[1m\u001b[34m \"{{question}}\"     \u001b[39m\u001b[22m\u001b[90m│\u001b[39m\u001b[1m\u001b[34m \"{{question}}\"     \u001b[39m\u001b[22m\u001b[90m│\u001b[39m\u001b[1m\u001b[34m \"{{question}}\"     \u001b[39m\u001b[22m\u001b[90m│\u001b[39m\n",
            "\u001b[90m├────────────────────\u001b[39m\u001b[90m┼────────────────────\u001b[39m\u001b[90m┼────────────────────\u001b[39m\u001b[90m┼────────────────────\u001b[39m\u001b[90m┼────────────────────\u001b[39m\u001b[90m┼────────────────────┤\u001b[39m\n",
            "\u001b[90m│\u001b[39m Bob                \u001b[90m│\u001b[39m Can you help me    \u001b[90m│\u001b[39m \u001b[32m[PASS] \u001b[39m Certainly! \u001b[90m│\u001b[39m \u001b[32m[PASS] \u001b[39mOf course!  \u001b[90m│\u001b[39m \u001b[32m[PASS] \u001b[39m Certainly! \u001b[90m│\u001b[39m \u001b[32m[PASS] \u001b[39mOf course,  \u001b[90m│\u001b[39m\n",
            "\u001b[90m│\u001b[39m                    \u001b[90m│\u001b[39m find a pair of     \u001b[90m│\u001b[39m To help you find   \u001b[90m│\u001b[39m I'd love to help   \u001b[90m│\u001b[39m To help you find   \u001b[90m│\u001b[39m Bob! I'd love to   \u001b[90m│\u001b[39m\n",
            "\u001b[90m│\u001b[39m                    \u001b[90m│\u001b[39m sandals on your    \u001b[90m│\u001b[39m the perfect pair   \u001b[90m│\u001b[39m you find the       \u001b[90m│\u001b[39m the perfect pair   \u001b[90m│\u001b[39m help you find the  \u001b[90m│\u001b[39m\n",
            "\u001b[90m│\u001b[39m                    \u001b[90m│\u001b[39m website?           \u001b[90m│\u001b[39m of sandals on our  \u001b[90m│\u001b[39m perfect sandals.   \u001b[90m│\u001b[39m of sandals on our  \u001b[90m│\u001b[39m perfect pair of    \u001b[90m│\u001b[39m\n",
            "\u001b[90m│\u001b[39m                    \u001b[90m│\u001b[39m                    \u001b[90m│\u001b[39m website, could you \u001b[90m│\u001b[39m 😊                 \u001b[90m│\u001b[39m website, could you \u001b[90m│\u001b[39m sandals!  ✨  Tell \u001b[90m│\u001b[39m\n",
            "\u001b[90m│\u001b[39m                    \u001b[90m│\u001b[39m                    \u001b[90m│\u001b[39m please provide me  \u001b[90m│\u001b[39m To get started,    \u001b[90m│\u001b[39m please provide me  \u001b[90m│\u001b[39m me, what kind of   \u001b[90m│\u001b[39m\n",
            "\u001b[90m│\u001b[39m                    \u001b[90m│\u001b[39m                    \u001b[90m│\u001b[39m with some          \u001b[90m│\u001b[39m tell me a little   \u001b[90m│\u001b[39m with some          \u001b[90m│\u001b[39m sandals are you    \u001b[90m│\u001b[39m\n",
            "\u001b[90m│\u001b[39m                    \u001b[90m│\u001b[39m                    \u001b[90m│\u001b[39m additional details \u001b[90m│\u001b[39m bit about what     \u001b[90m│\u001b[39m additional         \u001b[90m│\u001b[39m looking for?  Are  \u001b[90m│\u001b[39m\n",
            "\u001b[90m│\u001b[39m                    \u001b[90m│\u001b[39m                    \u001b[90m│\u001b[39m about your         \u001b[90m│\u001b[39m you're looking     \u001b[90m│\u001b[39m details? What type \u001b[90m│\u001b[39m you thinking       \u001b[90m│\u001b[39m\n",
            "\u001b[90m│\u001b[39m                    \u001b[90m│\u001b[39m                    \u001b[90m│\u001b[39m preferences?       \u001b[90m│\u001b[39m for.               \u001b[90m│\u001b[39m of sandals are you \u001b[90m│\u001b[39m flip-flops,        \u001b[90m│\u001b[39m\n",
            "\u001b[90m│\u001b[39m                    \u001b[90m│\u001b[39m                    \u001b[90m│\u001b[39m                    \u001b[90m│\u001b[39m * **What kind of   \u001b[90m│\u001b[39m looking for? Are   \u001b[90m│\u001b[39m wedges, or         \u001b[90m│\u001b[39m\n",
            "\u001b[90m│\u001b[39m                    \u001b[90m│\u001b[39m                    \u001b[90m│\u001b[39m                    \u001b[90m│\u001b[39m style are you      \u001b[90m│\u001b[39m you interested in  \u001b[90m│\u001b[39m something else     \u001b[90m│\u001b[39m\n",
            "\u001b[90m│\u001b[39m                    \u001b[90m│\u001b[39m                    \u001b[90m│\u001b[39m                    \u001b[90m│\u001b[39m interested in?**   \u001b[90m│\u001b[39m casual, dressy, or \u001b[90m│\u001b[39m entirely?  Do you  \u001b[90m│\u001b[39m\n",
            "\u001b[90m│\u001b[39m                    \u001b[90m│\u001b[39m                    \u001b[90m│\u001b[39m                    \u001b[90m│\u001b[39m (e.g., flip-flops, \u001b[90m│\u001b[39m athletic sandals?  \u001b[90m│\u001b[39m have a specific    \u001b[90m│\u001b[39m\n",
            "\u001b[90m│\u001b[39m                    \u001b[90m│\u001b[39m                    \u001b[90m│\u001b[39m                    \u001b[90m│\u001b[39m wedges, strappy    \u001b[90m│\u001b[39m Knowing your pr... \u001b[90m│\u001b[39m color or style in  \u001b[90m│\u001b[39m\n",
            "\u001b[90m│\u001b[39m                    \u001b[90m│\u001b[39m                    \u001b[90m│\u001b[39m                    \u001b[90m│\u001b[39m sandals)           \u001b[90m│\u001b[39m                    \u001b[90m│\u001b[39m mind?  The mo...   \u001b[90m│\u001b[39m\n",
            "\u001b[90m│\u001b[39m                    \u001b[90m│\u001b[39m                    \u001b[90m│\u001b[39m                    \u001b[90m│\u001b[39m * **What's your    \u001b[90m│\u001b[39m                    \u001b[90m│\u001b[39m                    \u001b[90m│\u001b[39m\n",
            "\u001b[90m│\u001b[39m                    \u001b[90m│\u001b[39m                    \u001b[90m│\u001b[39m                    \u001b[90m│\u001b[39m budget...          \u001b[90m│\u001b[39m                    \u001b[90m│\u001b[39m                    \u001b[90m│\u001b[39m\n",
            "\u001b[90m├────────────────────\u001b[39m\u001b[90m┼────────────────────\u001b[39m\u001b[90m┼────────────────────\u001b[39m\u001b[90m┼────────────────────\u001b[39m\u001b[90m┼────────────────────\u001b[39m\u001b[90m┼────────────────────┤\u001b[39m\n",
            "\u001b[90m│\u001b[39m Jane               \u001b[90m│\u001b[39m Do you have any    \u001b[90m│\u001b[39m \u001b[32m[PASS] \u001b[39m We do have \u001b[90m│\u001b[39m \u001b[32m[PASS] \u001b[39mHi Jane! 👋 \u001b[90m│\u001b[39m \u001b[32m[PASS] \u001b[39m Of course, \u001b[90m│\u001b[39m \u001b[31m[FAIL] \u001b[39m\u001b[31m\u001b[1mGemini API\u001b[22m\u001b[39m  \u001b[90m│\u001b[39m\n",
            "\u001b[90m│\u001b[39m                    \u001b[90m│\u001b[39m discounts          \u001b[90m│\u001b[39m some discounts     \u001b[90m│\u001b[39m We're always happy \u001b[90m│\u001b[39m we do! We          \u001b[90m│\u001b[39m \u001b[31m\u001b[1mresponse error:\u001b[22m\u001b[39m    \u001b[90m│\u001b[39m\n",
            "\u001b[90m│\u001b[39m                    \u001b[90m│\u001b[39m available?         \u001b[90m│\u001b[39m available! For     \u001b[90m│\u001b[39m to help you find   \u001b[90m│\u001b[39m currently have a   \u001b[90m│\u001b[39m \u001b[31m\u001b[1mTypeError: Cannot\u001b[22m\u001b[39m  \u001b[90m│\u001b[39m\n",
            "\u001b[90m│\u001b[39m                    \u001b[90m│\u001b[39m                    \u001b[90m│\u001b[39m example, we        \u001b[90m│\u001b[39m the perfect shoes  \u001b[90m│\u001b[39m 20% discount on    \u001b[90m│\u001b[39m \u001b[31m\u001b[1mread properties of\u001b[22m\u001b[39m \u001b[90m│\u001b[39m\n",
            "\u001b[90m│\u001b[39m                    \u001b[90m│\u001b[39m                    \u001b[90m│\u001b[39m currently have a   \u001b[90m│\u001b[39m at the best price. \u001b[90m│\u001b[39m all our products.  \u001b[90m│\u001b[39m \u001b[31m\u001b[1mundefined (reading\u001b[22m\u001b[39m \u001b[90m│\u001b[39m\n",
            "\u001b[90m│\u001b[39m                    \u001b[90m│\u001b[39m                    \u001b[90m│\u001b[39m 20% off sale on    \u001b[90m│\u001b[39m Right now, we have \u001b[90m│\u001b[39m You can use the    \u001b[90m│\u001b[39m \u001b[31m\u001b[1m'parts'):\u001b[22m\u001b[39m          \u001b[90m│\u001b[39m\n",
            "\u001b[90m│\u001b[39m                    \u001b[90m│\u001b[39m                    \u001b[90m│\u001b[39m all running shoes. \u001b[90m│\u001b[39m a few great deals  \u001b[90m│\u001b[39m code \"SUMMER20\" at \u001b[90m│\u001b[39m \u001b[31m\u001b[1m[{\"candidates\":[{\u001b[22m\u001b[39m… \u001b[90m│\u001b[39m\n",
            "\u001b[90m│\u001b[39m                    \u001b[90m│\u001b[39m                    \u001b[90m│\u001b[39m We also offer free \u001b[90m│\u001b[39m going on:          \u001b[90m│\u001b[39m checkout to redeem \u001b[90m│\u001b[39m \u001b[31m\u001b[1mJane! 👋  You're\u001b[22m\u001b[39m   \u001b[90m│\u001b[39m\n",
            "\u001b[90m│\u001b[39m                    \u001b[90m│\u001b[39m                    \u001b[90m│\u001b[39m shipping on orders \u001b[90m│\u001b[39m * **[Specific      \u001b[90m│\u001b[39m the discount.      \u001b[90m│\u001b[39m \u001b[31m\u001b[1min l...\u001b[22m\u001b[39m            \u001b[90m│\u001b[39m\n",
            "\u001b[90m│\u001b[39m                    \u001b[90m│\u001b[39m                    \u001b[90m│\u001b[39m over $50.          \u001b[90m│\u001b[39m Discount 1]:**     \u001b[90m│\u001b[39m                    \u001b[90m│\u001b[39m                    \u001b[90m│\u001b[39m\n",
            "\u001b[90m│\u001b[39m                    \u001b[90m│\u001b[39m                    \u001b[90m│\u001b[39m                    \u001b[90m│\u001b[39m [Brief description \u001b[90m│\u001b[39m                    \u001b[90m│\u001b[39m                    \u001b[90m│\u001b[39m\n",
            "\u001b[90m│\u001b[39m                    \u001b[90m│\u001b[39m                    \u001b[90m│\u001b[39m                    \u001b[90m│\u001b[39m of the discount,   \u001b[90m│\u001b[39m                    \u001b[90m│\u001b[39m                    \u001b[90m│\u001b[39m\n",
            "\u001b[90m│\u001b[39m                    \u001b[90m│\u001b[39m                    \u001b[90m│\u001b[39m                    \u001b[90m│\u001b[39m e.g., 20% off all  \u001b[90m│\u001b[39m                    \u001b[90m│\u001b[39m                    \u001b[90m│\u001b[39m\n",
            "\u001b[90m│\u001b[39m                    \u001b[90m│\u001b[39m                    \u001b[90m│\u001b[39m                    \u001b[90m│\u001b[39m sneakers]          \u001b[90m│\u001b[39m                    \u001b[90m│\u001b[39m                    \u001b[90m│\u001b[39m\n",
            "\u001b[90m│\u001b[39m                    \u001b[90m│\u001b[39m                    \u001b[90m│\u001b[39m                    \u001b[90m│\u001b[39m * **[Specific      \u001b[90m│\u001b[39m                    \u001b[90m│\u001b[39m                    \u001b[90m│\u001b[39m\n",
            "\u001b[90m│\u001b[39m                    \u001b[90m│\u001b[39m                    \u001b[90m│\u001b[39m                    \u001b[90m│\u001b[39m Dis...             \u001b[90m│\u001b[39m                    \u001b[90m│\u001b[39m                    \u001b[90m│\u001b[39m\n",
            "\u001b[90m├────────────────────\u001b[39m\u001b[90m┼────────────────────\u001b[39m\u001b[90m┼────────────────────\u001b[39m\u001b[90m┼────────────────────\u001b[39m\u001b[90m┼────────────────────\u001b[39m\u001b[90m┼────────────────────┤\u001b[39m\n",
            "\u001b[90m│\u001b[39m Dave               \u001b[90m│\u001b[39m What are your      \u001b[90m│\u001b[39m \u001b[32m[PASS] \u001b[39m Dave,      \u001b[90m│\u001b[39m \u001b[32m[PASS] \u001b[39mHi Dave!    \u001b[90m│\u001b[39m \u001b[32m[PASS] \u001b[39m Dave,      \u001b[90m│\u001b[39m \u001b[31m[FAIL] \u001b[39m\u001b[31m\u001b[1mGemini API\u001b[22m\u001b[39m  \u001b[90m│\u001b[39m\n",
            "\u001b[90m│\u001b[39m                    \u001b[90m│\u001b[39m shipping and       \u001b[90m│\u001b[39m thanks for         \u001b[90m│\u001b[39m Thanks for asking. \u001b[90m│\u001b[39m thanks for         \u001b[90m│\u001b[39m \u001b[31m\u001b[1mresponse error:\u001b[22m\u001b[39m    \u001b[90m│\u001b[39m\n",
            "\u001b[90m│\u001b[39m                    \u001b[90m│\u001b[39m return policies?   \u001b[90m│\u001b[39m reaching out! Here \u001b[90m│\u001b[39m Here's the lowdown \u001b[90m│\u001b[39m reaching out! Here \u001b[90m│\u001b[39m \u001b[31m\u001b[1mTypeError: Cannot\u001b[22m\u001b[39m  \u001b[90m│\u001b[39m\n",
            "\u001b[90m│\u001b[39m                    \u001b[90m│\u001b[39m                    \u001b[90m│\u001b[39m are our shipping   \u001b[90m│\u001b[39m on our shipping    \u001b[90m│\u001b[39m are our shipping   \u001b[90m│\u001b[39m \u001b[31m\u001b[1mread properties of\u001b[22m\u001b[39m \u001b[90m│\u001b[39m\n",
            "\u001b[90m│\u001b[39m                    \u001b[90m│\u001b[39m                    \u001b[90m│\u001b[39m and return         \u001b[90m│\u001b[39m and return         \u001b[90m│\u001b[39m and return         \u001b[90m│\u001b[39m \u001b[31m\u001b[1mundefined (reading\u001b[22m\u001b[39m \u001b[90m│\u001b[39m\n",
            "\u001b[90m│\u001b[39m                    \u001b[90m│\u001b[39m                    \u001b[90m│\u001b[39m policies:          \u001b[90m│\u001b[39m policies:          \u001b[90m│\u001b[39m policies:          \u001b[90m│\u001b[39m \u001b[31m\u001b[1m'parts'):\u001b[22m\u001b[39m          \u001b[90m│\u001b[39m\n",
            "\u001b[90m│\u001b[39m                    \u001b[90m│\u001b[39m                    \u001b[90m│\u001b[39m **Shipping:**      \u001b[90m│\u001b[39m **Shipping:**      \u001b[90m│\u001b[39m **Shipping:**      \u001b[90m│\u001b[39m \u001b[31m\u001b[1m[{\"candidates\":[{\u001b[22m\u001b[39m… \u001b[90m│\u001b[39m\n",
            "\u001b[90m│\u001b[39m                    \u001b[90m│\u001b[39m                    \u001b[90m│\u001b[39m - Free shipping on \u001b[90m│\u001b[39m * **Free shipping  \u001b[90m│\u001b[39m - Free shipping on \u001b[90m│\u001b[39m \u001b[31m\u001b[1mDave! 👋  So glad\u001b[22m\u001b[39m  \u001b[90m│\u001b[39m\n",
            "\u001b[90m│\u001b[39m                    \u001b[90m│\u001b[39m                    \u001b[90m│\u001b[39m orders over $50    \u001b[90m│\u001b[39m on orders over     \u001b[90m│\u001b[39m all orders over    \u001b[90m│\u001b[39m \u001b[31m\u001b[1myou...\u001b[22m\u001b[39m             \u001b[90m│\u001b[39m\n",
            "\u001b[90m│\u001b[39m                    \u001b[90m│\u001b[39m                    \u001b[90m│\u001b[39m - Standard         \u001b[90m│\u001b[39m $50!**             \u001b[90m│\u001b[39m $50                \u001b[90m│\u001b[39m                    \u001b[90m│\u001b[39m\n",
            "\u001b[90m│\u001b[39m                    \u001b[90m│\u001b[39m                    \u001b[90m│\u001b[39m shipping: $5       \u001b[90m│\u001b[39m * **Standard       \u001b[90m│\u001b[39m - Standard         \u001b[90m│\u001b[39m                    \u001b[90m│\u001b[39m\n",
            "\u001b[90m│\u001b[39m                    \u001b[90m│\u001b[39m                    \u001b[90m│\u001b[39m - Expedited        \u001b[90m│\u001b[39m shipping:** 3-5    \u001b[90m│\u001b[39m shipping is $5.95  \u001b[90m│\u001b[39m                    \u001b[90m│\u001b[39m\n",
            "\u001b[90m│\u001b[39m                    \u001b[90m│\u001b[39m                    \u001b[90m│\u001b[39m shipping: $10      \u001b[90m│\u001b[39m business days.     \u001b[90m│\u001b[39m - Expedited        \u001b[90m│\u001b[39m                    \u001b[90m│\u001b[39m\n",
            "\u001b[90m│\u001b[39m                    \u001b[90m│\u001b[39m                    \u001b[90m│\u001b[39m - International    \u001b[90m│\u001b[39m * **Expedited      \u001b[90m│\u001b[39m shipping is $9.95  \u001b[90m│\u001b[39m                    \u001b[90m│\u001b[39m\n",
            "\u001b[90m│\u001b[39m                    \u001b[90m│\u001b[39m                    \u001b[90m│\u001b[39m shipping: $15      \u001b[90m│\u001b[39m shipping:** 1-2    \u001b[90m│\u001b[39m - Orders are       \u001b[90m│\u001b[39m                    \u001b[90m│\u001b[39m\n",
            "\u001b[90m│\u001b[39m                    \u001b[90m│\u001b[39m                    \u001b[90m│\u001b[39m **Returns:**       \u001b[90m│\u001b[39m business days      \u001b[90m│\u001b[39m typically          \u001b[90m│\u001b[39m                    \u001b[90m│\u001b[39m\n",
            "\u001b[90m│\u001b[39m                    \u001b[90m│\u001b[39m                    \u001b[90m│\u001b[39m - Returns are      \u001b[90m│\u001b[39m (additional cost   \u001b[90m│\u001b[39m processed and      \u001b[90m│\u001b[39m                    \u001b[90m│\u001b[39m\n",
            "\u001b[90m│\u001b[39m                    \u001b[90m│\u001b[39m                    \u001b[90m│\u001b[39m accepted wit...    \u001b[90m│\u001b[39m ...                \u001b[90m│\u001b[39m shipped within 1-2 \u001b[90m│\u001b[39m                    \u001b[90m│\u001b[39m\n",
            "\u001b[90m│\u001b[39m                    \u001b[90m│\u001b[39m                    \u001b[90m│\u001b[39m                    \u001b[90m│\u001b[39m                    \u001b[90m│\u001b[39m bu...              \u001b[90m│\u001b[39m                    \u001b[90m│\u001b[39m\n",
            "\u001b[90m├────────────────────\u001b[39m\u001b[90m┼────────────────────\u001b[39m\u001b[90m┼────────────────────\u001b[39m\u001b[90m┼────────────────────\u001b[39m\u001b[90m┼────────────────────\u001b[39m\u001b[90m┼────────────────────┤\u001b[39m\n",
            "\u001b[90m│\u001b[39m Jim                \u001b[90m│\u001b[39m Can you provide    \u001b[90m│\u001b[39m \u001b[32m[PASS] \u001b[39m Certainly! \u001b[90m│\u001b[39m \u001b[32m[PASS] \u001b[39mHi Jim!     \u001b[90m│\u001b[39m \u001b[32m[PASS] \u001b[39m Certainly! \u001b[90m│\u001b[39m \u001b[31m[FAIL] \u001b[39m\u001b[31m\u001b[1mAPI call\u001b[22m\u001b[39m    \u001b[90m│\u001b[39m\n",
            "\u001b[90m│\u001b[39m                    \u001b[90m│\u001b[39m more info on your  \u001b[90m│\u001b[39m Our hiking boot    \u001b[90m│\u001b[39m We'd love to help  \u001b[90m│\u001b[39m Our hiking boot    \u001b[90m│\u001b[39m \u001b[31m\u001b[1merror: Status\u001b[22m\u001b[39m      \u001b[90m│\u001b[39m\n",
            "\u001b[90m│\u001b[39m                    \u001b[90m│\u001b[39m hiking boot        \u001b[90m│\u001b[39m collection offers  \u001b[90m│\u001b[39m you find the       \u001b[90m│\u001b[39m collection offers  \u001b[90m│\u001b[39m \u001b[31m\u001b[1mRESOURCE_EXHAUSTE\u001b[22m\u001b[39m… \u001b[90m│\u001b[39m\n",
            "\u001b[90m│\u001b[39m                    \u001b[90m│\u001b[39m options?           \u001b[90m│\u001b[39m a range of options \u001b[90m│\u001b[39m perfect hiking     \u001b[90m│\u001b[39m a range of options \u001b[90m│\u001b[39m \u001b[31m\u001b[1mCode 429, Message:\u001b[22m\u001b[39m \u001b[90m│\u001b[39m\n",
            "\u001b[90m│\u001b[39m                    \u001b[90m│\u001b[39m                    \u001b[90m│\u001b[39m to suit various    \u001b[90m│\u001b[39m boots!  To give    \u001b[90m│\u001b[39m to suit various    \u001b[90m│\u001b[39m \u001b[31m\u001b[1mQuota exceeded for\u001b[22m\u001b[39m \u001b[90m│\u001b[39m\n",
            "\u001b[90m│\u001b[39m                    \u001b[90m│\u001b[39m                    \u001b[90m│\u001b[39m terrains and       \u001b[90m│\u001b[39m you the best       \u001b[90m│\u001b[39m terrains and       \u001b[90m│\u001b[39m \u001b[31m\u001b[1maiplatform.google\u001b[22m\u001b[39m… \u001b[90m│\u001b[39m\n",
            "\u001b[90m│\u001b[39m                    \u001b[90m│\u001b[39m                    \u001b[90m│\u001b[39m preferences. Here  \u001b[90m│\u001b[39m recommendations,   \u001b[90m│\u001b[39m preferences. Here  \u001b[90m│\u001b[39m \u001b[31m\u001b[1mwith base model:\u001b[22m\u001b[39m   \u001b[90m│\u001b[39m\n",
            "\u001b[90m│\u001b[39m                    \u001b[90m│\u001b[39m                    \u001b[90m│\u001b[39m are some details:  \u001b[90m│\u001b[39m could you tell me  \u001b[90m│\u001b[39m are some details:  \u001b[90m│\u001b[39m \u001b[31m\u001b[1mgemini-1.5-flash.\u001b[22m\u001b[39m  \u001b[90m│\u001b[39m\n",
            "\u001b[90m│\u001b[39m                    \u001b[90m│\u001b[39m                    \u001b[90m│\u001b[39m 1. **Sturdy        \u001b[90m│\u001b[39m a little more      \u001b[90m│\u001b[39m 1. **Sturdy        \u001b[90m│\u001b[39m \u001b[31m\u001b[1mPlease submit a\u001b[22m\u001b[39m    \u001b[90m│\u001b[39m\n",
            "\u001b[90m│\u001b[39m                    \u001b[90m│\u001b[39m                    \u001b[90m│\u001b[39m Construction**:    \u001b[90m│\u001b[39m about what you're  \u001b[90m│\u001b[39m Construction**:    \u001b[90m│\u001b[39m \u001b[31m\u001b[1mquota increase\u001b[22m\u001b[39m     \u001b[90m│\u001b[39m\n",
            "\u001b[90m│\u001b[39m                    \u001b[90m│\u001b[39m                    \u001b[90m│\u001b[39m Our hiking boots   \u001b[90m│\u001b[39m looking for?       \u001b[90m│\u001b[39m Our hiking boots   \u001b[90m│\u001b[39m \u001b[31m\u001b[1mrequest. ...\u001b[22m\u001b[39m       \u001b[90m│\u001b[39m\n",
            "\u001b[90m│\u001b[39m                    \u001b[90m│\u001b[39m                    \u001b[90m│\u001b[39m are crafted from   \u001b[90m│\u001b[39m For example:       \u001b[90m│\u001b[39m are crafted from   \u001b[90m│\u001b[39m                    \u001b[90m│\u001b[39m\n",
            "\u001b[90m│\u001b[39m                    \u001b[90m│\u001b[39m                    \u001b[90m│\u001b[39m durable materials  \u001b[90m│\u001b[39m * **What type of   \u001b[90m│\u001b[39m durable materials  \u001b[90m│\u001b[39m                    \u001b[90m│\u001b[39m\n",
            "\u001b[90m│\u001b[39m                    \u001b[90m│\u001b[39m                    \u001b[90m│\u001b[39m like leather and   \u001b[90m│\u001b[39m hiking do you plan \u001b[90m│\u001b[39m like leather and   \u001b[90m│\u001b[39m                    \u001b[90m│\u001b[39m\n",
            "\u001b[90m│\u001b[39m                    \u001b[90m│\u001b[39m                    \u001b[90m│\u001b[39m synthetic fabrics, \u001b[90m│\u001b[39m to do?** (e.g.,    \u001b[90m│\u001b[39m high-quality       \u001b[90m│\u001b[39m                    \u001b[90m│\u001b[39m\n",
            "\u001b[90m│\u001b[39m                    \u001b[90m│\u001b[39m                    \u001b[90m│\u001b[39m ...                \u001b[90m│\u001b[39m casual trails, ... \u001b[90m│\u001b[39m synthe...          \u001b[90m│\u001b[39m                    \u001b[90m│\u001b[39m\n",
            "\u001b[90m├────────────────────\u001b[39m\u001b[90m┼────────────────────\u001b[39m\u001b[90m┼────────────────────\u001b[39m\u001b[90m┼────────────────────\u001b[39m\u001b[90m┼────────────────────\u001b[39m\u001b[90m┼────────────────────┤\u001b[39m\n",
            "\u001b[90m│\u001b[39m Alice              \u001b[90m│\u001b[39m What is the latest \u001b[90m│\u001b[39m \u001b[32m[PASS] \u001b[39m The latest \u001b[90m│\u001b[39m \u001b[32m[PASS] \u001b[39mHi Alice!   \u001b[90m│\u001b[39m \u001b[32m[PASS] \u001b[39m The latest \u001b[90m│\u001b[39m \u001b[31m[FAIL] \u001b[39m\u001b[31m\u001b[1mAPI call\u001b[22m\u001b[39m    \u001b[90m│\u001b[39m\n",
            "\u001b[90m│\u001b[39m                    \u001b[90m│\u001b[39m trend in winter    \u001b[90m│\u001b[39m trend in winter    \u001b[90m│\u001b[39m Winter footwear    \u001b[90m│\u001b[39m trend in winter    \u001b[90m│\u001b[39m \u001b[31m\u001b[1merror: Status\u001b[22m\u001b[39m      \u001b[90m│\u001b[39m\n",
            "\u001b[90m│\u001b[39m                    \u001b[90m│\u001b[39m footwear?          \u001b[90m│\u001b[39m footwear is chunky \u001b[90m│\u001b[39m trends are always  \u001b[90m│\u001b[39m footwear is all    \u001b[90m│\u001b[39m \u001b[31m\u001b[1mRESOURCE_EXHAUSTE\u001b[22m\u001b[39m… \u001b[90m│\u001b[39m\n",
            "\u001b[90m│\u001b[39m                    \u001b[90m│\u001b[39m                    \u001b[90m│\u001b[39m boots. These boots \u001b[90m│\u001b[39m evolving, but this \u001b[90m│\u001b[39m about chunky boots \u001b[90m│\u001b[39m \u001b[31m\u001b[1mCode 429, Message:\u001b[22m\u001b[39m \u001b[90m│\u001b[39m\n",
            "\u001b[90m│\u001b[39m                    \u001b[90m│\u001b[39m                    \u001b[90m│\u001b[39m are characterized  \u001b[90m│\u001b[39m season is all      \u001b[90m│\u001b[39m and statement      \u001b[90m│\u001b[39m \u001b[31m\u001b[1mQuota exceeded for\u001b[22m\u001b[39m \u001b[90m│\u001b[39m\n",
            "\u001b[90m│\u001b[39m                    \u001b[90m│\u001b[39m                    \u001b[90m│\u001b[39m by their thick     \u001b[90m│\u001b[39m about **comfort,   \u001b[90m│\u001b[39m sneakers. Chunky   \u001b[90m│\u001b[39m \u001b[31m\u001b[1maiplatform.google\u001b[22m\u001b[39m… \u001b[90m│\u001b[39m\n",
            "\u001b[90m│\u001b[39m                    \u001b[90m│\u001b[39m                    \u001b[90m│\u001b[39m soles and often    \u001b[90m│\u001b[39m warmth, and a      \u001b[90m│\u001b[39m boots, with their  \u001b[90m│\u001b[39m \u001b[31m\u001b[1mwith base model:\u001b[22m\u001b[39m   \u001b[90m│\u001b[39m\n",
            "\u001b[90m│\u001b[39m                    \u001b[90m│\u001b[39m                    \u001b[90m│\u001b[39m have a lugged      \u001b[90m│\u001b[39m touch of style**.  \u001b[90m│\u001b[39m thick soles and    \u001b[90m│\u001b[39m \u001b[31m\u001b[1mgemini-1.5-flash.\u001b[22m\u001b[39m  \u001b[90m│\u001b[39m\n",
            "\u001b[90m│\u001b[39m                    \u001b[90m│\u001b[39m                    \u001b[90m│\u001b[39m tread for added    \u001b[90m│\u001b[39m Here are some of   \u001b[90m│\u001b[39m rugged designs,    \u001b[90m│\u001b[39m \u001b[31m\u001b[1mPlease submit a\u001b[22m\u001b[39m    \u001b[90m│\u001b[39m\n",
            "\u001b[90m│\u001b[39m                    \u001b[90m│\u001b[39m                    \u001b[90m│\u001b[39m traction. They     \u001b[90m│\u001b[39m the hottest trends \u001b[90m│\u001b[39m provide both style \u001b[90m│\u001b[39m \u001b[31m\u001b[1mquota increase\u001b[22m\u001b[39m     \u001b[90m│\u001b[39m\n",
            "\u001b[90m│\u001b[39m                    \u001b[90m│\u001b[39m                    \u001b[90m│\u001b[39m come in a variety  \u001b[90m│\u001b[39m right now:         \u001b[90m│\u001b[39m and practicality   \u001b[90m│\u001b[39m \u001b[31m\u001b[1mrequest. ...\u001b[22m\u001b[39m       \u001b[90m│\u001b[39m\n",
            "\u001b[90m│\u001b[39m                    \u001b[90m│\u001b[39m                    \u001b[90m│\u001b[39m of styles, from    \u001b[90m│\u001b[39m * **Chunky         \u001b[90m│\u001b[39m for navigating     \u001b[90m│\u001b[39m                    \u001b[90m│\u001b[39m\n",
            "\u001b[90m│\u001b[39m                    \u001b[90m│\u001b[39m                    \u001b[90m│\u001b[39m classic lace-up    \u001b[90m│\u001b[39m Boots:**  Think    \u001b[90m│\u001b[39m snowy and icy      \u001b[90m│\u001b[39m                    \u001b[90m│\u001b[39m\n",
            "\u001b[90m│\u001b[39m                    \u001b[90m│\u001b[39m                    \u001b[90m│\u001b[39m boots to Chelsea   \u001b[90m│\u001b[39m platform soles,    \u001b[90m│\u001b[39m conditions.        \u001b[90m│\u001b[39m                    \u001b[90m│\u001b[39m\n",
            "\u001b[90m│\u001b[39m                    \u001b[90m│\u001b[39m                    \u001b[90m│\u001b[39m boots and combat   \u001b[90m│\u001b[39m lugged outsoles,   \u001b[90m│\u001b[39m Statement          \u001b[90m│\u001b[39m                    \u001b[90m│\u001b[39m\n",
            "\u001b[90m│\u001b[39m                    \u001b[90m│\u001b[39m                    \u001b[90m│\u001b[39m boo...             \u001b[90m│\u001b[39m and bold s...      \u001b[90m│\u001b[39m sneakers, on       \u001b[90m│\u001b[39m                    \u001b[90m│\u001b[39m\n",
            "\u001b[90m│\u001b[39m                    \u001b[90m│\u001b[39m                    \u001b[90m│\u001b[39m                    \u001b[90m│\u001b[39m                    \u001b[90m│\u001b[39m the...             \u001b[90m│\u001b[39m                    \u001b[90m│\u001b[39m\n",
            "\u001b[90m└────────────────────\u001b[39m\u001b[90m┴────────────────────\u001b[39m\u001b[90m┴────────────────────\u001b[39m\u001b[90m┴────────────────────\u001b[39m\u001b[90m┴────────────────────\u001b[39m\u001b[90m┴────────────────────┘\u001b[39m\n",
            "======================================================================\n",
            "\u001b[32m✔\u001b[39m Evaluation complete.\n",
            "\n",
            "» Run \u001b[92m\u001b[1mpromptfoo view\u001b[22m\u001b[39m to use the local web viewer\n",
            "» Run \u001b[92m\u001b[1mpromptfoo share\u001b[22m\u001b[39m to create a shareable URL\n",
            "» This project needs your feedback. What's one thing we can improve? \u001b[92m\u001b[1mhttps://forms.gle/YFLgTe1dKJKNSCsU7\u001b[22m\u001b[39m\n",
            "======================================================================\n",
            "\u001b[32m\u001b[1mSuccesses: 16\u001b[22m\u001b[39m\n",
            "\u001b[31m\u001b[1mFailures: 4\u001b[22m\u001b[39m\n",
            "Token usage: Total 1035, Prompt 201, Completion 834, Cached 0\n",
            "Done.\n",
            "\u001b[1G\u001b[0K⠙\u001b[1G\u001b[0K"
          ]
        }
      ],
      "source": [
        "!npx promptfoo@latest eval -c /content/promptfooconfig.yaml --no-progress-bar"
      ]
    },
    {
      "cell_type": "markdown",
      "metadata": {
        "id": "OBU2upLn1b0x"
      },
      "source": [
        "Now we can share and view this in the web viewer, which is easier to use and contains tools for drilling down and grading the outputs."
      ]
    },
    {
      "cell_type": "code",
      "execution_count": 9,
      "metadata": {
        "colab": {
          "base_uri": "https://localhost:8080/"
        },
        "id": "QQq6hV6006Cv",
        "outputId": "3dd51b8d-8c18-421f-cf4c-3c381f784e5d"
      },
      "outputs": [
        {
          "output_type": "stream",
          "name": "stdout",
          "text": [
            "\u001b[1G\u001b[0K⠙\u001b[1G\u001b[0K⠹\u001b[1G\u001b[0K⠸\u001b[1G\u001b[0K⠼\u001b[1G\u001b[0K⠴\u001b[1G\u001b[0K⠦\u001b[1G\u001b[0K⠧\u001b[1G\u001b[0K⠇\u001b[1G\u001b[0K⠏\u001b[1G\u001b[0K\u001b[31m(node:6853) [DEP0040] DeprecationWarning: The `punycode` module is deprecated. Please use a userland alternative instead.\n",
            "(Use `node --trace-deprecation ...` to show where the warning was created)\u001b[39m\n",
            "View results: \u001b[92m\u001b[1mhttps://app.promptfoo.dev/eval/f:f1bd087e-700c-45f5-953a-aae8dfce8611\u001b[22m\u001b[39m\n",
            "\u001b[1G\u001b[0K⠙\u001b[1G\u001b[0K"
          ]
        }
      ],
      "source": [
        "!npx promptfoo@latest share --yes"
      ]
    },
    {
      "cell_type": "markdown",
      "source": [
        "## Evaluating LLMs with Assertion"
      ],
      "metadata": {
        "id": "qARqnQnYjuuJ"
      }
    },
    {
      "cell_type": "code",
      "source": [
        "%%writefile mathprompt.txt\n",
        "Think carefully and answer this problem (think step by step and provide final answer): {{question}}\n",
        "---\n",
        "Answer this problem: {{question}}"
      ],
      "metadata": {
        "id": "AyL3IZnEni8g",
        "outputId": "f500fdd1-bf56-495d-b316-626fa853ca3e",
        "colab": {
          "base_uri": "https://localhost:8080/"
        }
      },
      "execution_count": 13,
      "outputs": [
        {
          "output_type": "stream",
          "name": "stdout",
          "text": [
            "Overwriting mathprompt.txt\n"
          ]
        }
      ]
    },
    {
      "cell_type": "code",
      "source": [
        "%%writefile mathconfig.yaml\n",
        "prompts: mathprompt.txt\n",
        "providers:\n",
        "  - id: vertex:chat-bison-32k\n",
        "    config:\n",
        "      generationConfig:\n",
        "        temperature: 1\n",
        "        maxOutputTokens: 1024\n",
        "\n",
        "  - id: vertex:gemini-1.5-flash-preview-0514\n",
        "    config:\n",
        "      generationConfig:\n",
        "        temperature: 0\n",
        "        maxOutputTokens: 1024\n",
        "\n",
        "tests:\n",
        "  - vars:\n",
        "      question: What is the cube root of 389017?\n",
        "    assert:\n",
        "      - type: contains\n",
        "        value: 73\n",
        "\n",
        "  - vars:\n",
        "      question: If you have 101101 in binary, what number does it represent in base 10?\n",
        "    assert:\n",
        "      - type: contains\n",
        "        value: 45\n",
        "  - vars:\n",
        "      question: write python code to print \"Hello World!\"\n",
        "    assert:\n",
        "      - type: contains\n",
        "        value: \"Hello World!\"\n",
        "  - vars:\n",
        "      question: If a complex number is represented as 3 + 4i, what is its magnitude?\n",
        "    assert:\n",
        "      - type: contains\n",
        "        value: 5\n",
        "  - vars:\n",
        "      question: What is the fourth root of 1296? only provide answer in one word(number).\n",
        "    assert:\n",
        "      - type: equals\n",
        "        value: 6"
      ],
      "metadata": {
        "id": "BCTMX_gTjz8Q",
        "outputId": "c99199c2-bb84-4f39-91e5-b8e0ae5c9169",
        "colab": {
          "base_uri": "https://localhost:8080/"
        }
      },
      "execution_count": 17,
      "outputs": [
        {
          "output_type": "stream",
          "name": "stdout",
          "text": [
            "Overwriting mathconfig.yaml\n"
          ]
        }
      ]
    },
    {
      "cell_type": "code",
      "source": [],
      "metadata": {
        "id": "rqOr4tPAmAWw"
      },
      "execution_count": 17,
      "outputs": []
    },
    {
      "cell_type": "markdown",
      "metadata": {
        "id": "O6hWhmylmMG-"
      },
      "source": [
        "# Run the eval"
      ]
    },
    {
      "cell_type": "markdown",
      "metadata": {
        "id": "mULuygWxmMG-"
      },
      "source": [
        "First, run the eval - this will produce a quick side-by-side table view."
      ]
    },
    {
      "cell_type": "code",
      "execution_count": 18,
      "metadata": {
        "colab": {
          "base_uri": "https://localhost:8080/"
        },
        "outputId": "2e1ddaa2-b1d2-4f9a-b9a3-a69aed3834f6",
        "id": "mLTeG73UmMG-"
      },
      "outputs": [
        {
          "output_type": "stream",
          "name": "stdout",
          "text": [
            "\u001b[1G\u001b[0K⠙\u001b[1G\u001b[0K⠹\u001b[1G\u001b[0K⠸\u001b[1G\u001b[0K⠼\u001b[1G\u001b[0K⠴\u001b[1G\u001b[0K⠦\u001b[1G\u001b[0K\u001b[31m(node:22783) [DEP0040] DeprecationWarning: The `punycode` module is deprecated. Please use a userland alternative instead.\n",
            "(Use `node --trace-deprecation ...` to show where the warning was created)\u001b[39m\n",
            "\n",
            "\u001b[90m┌────────────────────────\u001b[39m\u001b[90m┬────────────────────────\u001b[39m\u001b[90m┬────────────────────────\u001b[39m\u001b[90m┬────────────────────────\u001b[39m\u001b[90m┬────────────────────────┐\u001b[39m\n",
            "\u001b[90m│\u001b[39m\u001b[1m\u001b[34m question               \u001b[39m\u001b[22m\u001b[90m│\u001b[39m\u001b[1m\u001b[34m [vertex:chat-bison-32… \u001b[39m\u001b[22m\u001b[90m│\u001b[39m\u001b[1m\u001b[34m [vertex:gemini-1.5-fl… \u001b[39m\u001b[22m\u001b[90m│\u001b[39m\u001b[1m\u001b[34m [vertex:chat-bison-32… \u001b[39m\u001b[22m\u001b[90m│\u001b[39m\u001b[1m\u001b[34m [vertex:gemini-1.5-fl… \u001b[39m\u001b[22m\u001b[90m│\u001b[39m\n",
            "\u001b[90m│\u001b[39m\u001b[1m\u001b[34m                        \u001b[39m\u001b[22m\u001b[90m│\u001b[39m\u001b[1m\u001b[34m Think carefully and    \u001b[39m\u001b[22m\u001b[90m│\u001b[39m\u001b[1m\u001b[34m Think carefully and    \u001b[39m\u001b[22m\u001b[90m│\u001b[39m\u001b[1m\u001b[34m Answer this problem:   \u001b[39m\u001b[22m\u001b[90m│\u001b[39m\u001b[1m\u001b[34m Answer this problem:   \u001b[39m\u001b[22m\u001b[90m│\u001b[39m\n",
            "\u001b[90m│\u001b[39m\u001b[1m\u001b[34m                        \u001b[39m\u001b[22m\u001b[90m│\u001b[39m\u001b[1m\u001b[34m answer this problem    \u001b[39m\u001b[22m\u001b[90m│\u001b[39m\u001b[1m\u001b[34m answer this problem    \u001b[39m\u001b[22m\u001b[90m│\u001b[39m\u001b[1m\u001b[34m {{question}}           \u001b[39m\u001b[22m\u001b[90m│\u001b[39m\u001b[1m\u001b[34m {{question}}           \u001b[39m\u001b[22m\u001b[90m│\u001b[39m\n",
            "\u001b[90m│\u001b[39m\u001b[1m\u001b[34m                        \u001b[39m\u001b[22m\u001b[90m│\u001b[39m\u001b[1m\u001b[34m (think step by step    \u001b[39m\u001b[22m\u001b[90m│\u001b[39m\u001b[1m\u001b[34m (think step by step    \u001b[39m\u001b[22m\u001b[90m│\u001b[39m\u001b[1m\u001b[34m                        \u001b[39m\u001b[22m\u001b[90m│\u001b[39m\u001b[1m\u001b[34m                        \u001b[39m\u001b[22m\u001b[90m│\u001b[39m\n",
            "\u001b[90m│\u001b[39m\u001b[1m\u001b[34m                        \u001b[39m\u001b[22m\u001b[90m│\u001b[39m\u001b[1m\u001b[34m and provide final      \u001b[39m\u001b[22m\u001b[90m│\u001b[39m\u001b[1m\u001b[34m and provide final      \u001b[39m\u001b[22m\u001b[90m│\u001b[39m\u001b[1m\u001b[34m                        \u001b[39m\u001b[22m\u001b[90m│\u001b[39m\u001b[1m\u001b[34m                        \u001b[39m\u001b[22m\u001b[90m│\u001b[39m\n",
            "\u001b[90m│\u001b[39m\u001b[1m\u001b[34m                        \u001b[39m\u001b[22m\u001b[90m│\u001b[39m\u001b[1m\u001b[34m answer): {{question}}  \u001b[39m\u001b[22m\u001b[90m│\u001b[39m\u001b[1m\u001b[34m answer): {{question}}  \u001b[39m\u001b[22m\u001b[90m│\u001b[39m\u001b[1m\u001b[34m                        \u001b[39m\u001b[22m\u001b[90m│\u001b[39m\u001b[1m\u001b[34m                        \u001b[39m\u001b[22m\u001b[90m│\u001b[39m\n",
            "\u001b[90m├────────────────────────\u001b[39m\u001b[90m┼────────────────────────\u001b[39m\u001b[90m┼────────────────────────\u001b[39m\u001b[90m┼────────────────────────\u001b[39m\u001b[90m┼────────────────────────┤\u001b[39m\n",
            "\u001b[90m│\u001b[39m What is the cube root  \u001b[90m│\u001b[39m \u001b[31m[FAIL] \u001b[39m\u001b[31m\u001b[1mExpected output\u001b[22m\u001b[39m \u001b[90m│\u001b[39m \u001b[32m[PASS] \u001b[39mHere's how to   \u001b[90m│\u001b[39m \u001b[31m[FAIL] \u001b[39m\u001b[31m\u001b[1mExpected output\u001b[22m\u001b[39m \u001b[90m│\u001b[39m \u001b[32m[PASS] \u001b[39mThe cube root   \u001b[90m│\u001b[39m\n",
            "\u001b[90m│\u001b[39m of 389017?             \u001b[90m│\u001b[39m \u001b[31m\u001b[1mto contain \"73\"\u001b[22m\u001b[39m        \u001b[90m│\u001b[39m find the cube root of  \u001b[90m│\u001b[39m \u001b[31m\u001b[1mto contain \"73\"\u001b[22m\u001b[39m        \u001b[90m│\u001b[39m of 389017 is **73**.   \u001b[90m│\u001b[39m\n",
            "\u001b[90m│\u001b[39m                        \u001b[90m│\u001b[39m \u001b[31m\u001b[1m\u001b[22m\u001b[39m---                    \u001b[90m│\u001b[39m 389017:                \u001b[90m│\u001b[39m \u001b[31m\u001b[1m\u001b[22m\u001b[39m---                    \u001b[90m│\u001b[39m Here's how to find     \u001b[90m│\u001b[39m\n",
            "\u001b[90m│\u001b[39m                        \u001b[90m│\u001b[39m  To find the cube root \u001b[90m│\u001b[39m **Understanding Cube   \u001b[90m│\u001b[39m  The cube root of      \u001b[90m│\u001b[39m that:                  \u001b[90m│\u001b[39m\n",
            "\u001b[90m│\u001b[39m                        \u001b[90m│\u001b[39m of 389017, we can      \u001b[90m│\u001b[39m Roots**                \u001b[90m│\u001b[39m 389017 is              \u001b[90m│\u001b[39m * **Understanding Cube \u001b[90m│\u001b[39m\n",
            "\u001b[90m│\u001b[39m                        \u001b[90m│\u001b[39m follow these steps:    \u001b[90m│\u001b[39m The cube root of a     \u001b[90m│\u001b[39m approximately 72.      \u001b[90m│\u001b[39m Roots:** A cube root   \u001b[90m│\u001b[39m\n",
            "\u001b[90m│\u001b[39m                        \u001b[90m│\u001b[39m 1. Find the prime      \u001b[90m│\u001b[39m number is the value    \u001b[90m│\u001b[39m                        \u001b[90m│\u001b[39m of a number is a value \u001b[90m│\u001b[39m\n",
            "\u001b[90m│\u001b[39m                        \u001b[90m│\u001b[39m factorization of       \u001b[90m│\u001b[39m that, when multiplied  \u001b[90m│\u001b[39m                        \u001b[90m│\u001b[39m that, when multiplied  \u001b[90m│\u001b[39m\n",
            "\u001b[90m│\u001b[39m                        \u001b[90m│\u001b[39m 389017:                \u001b[90m│\u001b[39m by itself three times, \u001b[90m│\u001b[39m                        \u001b[90m│\u001b[39m by itself three times, \u001b[90m│\u001b[39m\n",
            "\u001b[90m│\u001b[39m                        \u001b[90m│\u001b[39m 389017 = 17 x 22937    \u001b[90m│\u001b[39m equals the original    \u001b[90m│\u001b[39m                        \u001b[90m│\u001b[39m equals the original    \u001b[90m│\u001b[39m\n",
            "\u001b[90m│\u001b[39m                        \u001b[90m│\u001b[39m 2. Group the factors   \u001b[90m│\u001b[39m number.                \u001b[90m│\u001b[39m                        \u001b[90m│\u001b[39m number.                \u001b[90m│\u001b[39m\n",
            "\u001b[90m│\u001b[39m                        \u001b[90m│\u001b[39m into groups of three:  \u001b[90m│\u001b[39m **Finding the Cube     \u001b[90m│\u001b[39m                        \u001b[90m│\u001b[39m * **Calculation:** You \u001b[90m│\u001b[39m\n",
            "\u001b[90m│\u001b[39m                        \u001b[90m│\u001b[39m (17) x (22937)         \u001b[90m│\u001b[39m Root**                 \u001b[90m│\u001b[39m                        \u001b[90m│\u001b[39m can use a              \u001b[90m│\u001b[39m\n",
            "\u001b[90m│\u001b[39m                        \u001b[90m│\u001b[39m 3. Take the cube root  \u001b[90m│\u001b[39m 1. **Estimation:**     \u001b[90m│\u001b[39m                        \u001b[90m│\u001b[39m calculator...          \u001b[90m│\u001b[39m\n",
            "\u001b[90m│\u001b[39m                        \u001b[90m│\u001b[39m of e...                \u001b[90m│\u001b[39m Start by t...          \u001b[90m│\u001b[39m                        \u001b[90m│\u001b[39m                        \u001b[90m│\u001b[39m\n",
            "\u001b[90m├────────────────────────\u001b[39m\u001b[90m┼────────────────────────\u001b[39m\u001b[90m┼────────────────────────\u001b[39m\u001b[90m┼────────────────────────\u001b[39m\u001b[90m┼────────────────────────┤\u001b[39m\n",
            "\u001b[90m│\u001b[39m If you have 101101 in  \u001b[90m│\u001b[39m \u001b[32m[PASS] \u001b[39m To convert a   \u001b[90m│\u001b[39m \u001b[32m[PASS] \u001b[39mHere's how to   \u001b[90m│\u001b[39m \u001b[32m[PASS] \u001b[39m To convert a   \u001b[90m│\u001b[39m \u001b[32m[PASS] \u001b[39mHere's how to   \u001b[90m│\u001b[39m\n",
            "\u001b[90m│\u001b[39m binary, what number    \u001b[90m│\u001b[39m binary number to base  \u001b[90m│\u001b[39m convert binary to      \u001b[90m│\u001b[39m binary number to base  \u001b[90m│\u001b[39m convert 101101 from    \u001b[90m│\u001b[39m\n",
            "\u001b[90m│\u001b[39m does it represent in   \u001b[90m│\u001b[39m 10, we need to         \u001b[90m│\u001b[39m decimal:               \u001b[90m│\u001b[39m 10, you need to        \u001b[90m│\u001b[39m binary to base 10:     \u001b[90m│\u001b[39m\n",
            "\u001b[90m│\u001b[39m base 10?               \u001b[90m│\u001b[39m multiply each digit of \u001b[90m│\u001b[39m **1. Understand Place  \u001b[90m│\u001b[39m multiply each digit of \u001b[90m│\u001b[39m **Understanding Place  \u001b[90m│\u001b[39m\n",
            "\u001b[90m│\u001b[39m                        \u001b[90m│\u001b[39m the binary number by   \u001b[90m│\u001b[39m Values:**              \u001b[90m│\u001b[39m the binary number by   \u001b[90m│\u001b[39m Values**               \u001b[90m│\u001b[39m\n",
            "\u001b[90m│\u001b[39m                        \u001b[90m│\u001b[39m the corresponding      \u001b[90m│\u001b[39m * Each digit in a      \u001b[90m│\u001b[39m the corresponding      \u001b[90m│\u001b[39m In binary, each        \u001b[90m│\u001b[39m\n",
            "\u001b[90m│\u001b[39m                        \u001b[90m│\u001b[39m power of 2 and then    \u001b[90m│\u001b[39m binary number          \u001b[90m│\u001b[39m power of 2 and then    \u001b[90m│\u001b[39m digit's place value is \u001b[90m│\u001b[39m\n",
            "\u001b[90m│\u001b[39m                        \u001b[90m│\u001b[39m add the results.       \u001b[90m│\u001b[39m represents a power of  \u001b[90m│\u001b[39m add the results.       \u001b[90m│\u001b[39m a power of 2, starting \u001b[90m│\u001b[39m\n",
            "\u001b[90m│\u001b[39m                        \u001b[90m│\u001b[39m In this case, we have: \u001b[90m│\u001b[39m 2.                     \u001b[90m│\u001b[39m In this case, we have: \u001b[90m│\u001b[39m from the rightmost     \u001b[90m│\u001b[39m\n",
            "\u001b[90m│\u001b[39m                        \u001b[90m│\u001b[39m 101101 = 1 * 2^5 + 0 * \u001b[90m│\u001b[39m *  For example, in the \u001b[90m│\u001b[39m 101101 = 1 * 2^5 + 0 * \u001b[90m│\u001b[39m digit:                 \u001b[90m│\u001b[39m\n",
            "\u001b[90m│\u001b[39m                        \u001b[90m│\u001b[39m 2^4 + 1 * 2^3 + 1 *    \u001b[90m│\u001b[39m number 101101, the     \u001b[90m│\u001b[39m 2^4 + 1 * 2^3 + 1 *    \u001b[90m│\u001b[39m * **... 2^5  2^4  2^3  \u001b[90m│\u001b[39m\n",
            "\u001b[90m│\u001b[39m                        \u001b[90m│\u001b[39m 2^2 + 0 * 2^1 + 1 *    \u001b[90m│\u001b[39m place values are:      \u001b[90m│\u001b[39m 2^2 + 0 * 2^1 + 1 *    \u001b[90m│\u001b[39m 2^2  2^1  2^0**        \u001b[90m│\u001b[39m\n",
            "\u001b[90m│\u001b[39m                        \u001b[90m│\u001b[39m 2^0                    \u001b[90m│\u001b[39m     * 1: 2^5 (32)      \u001b[90m│\u001b[39m 2^0                    \u001b[90m│\u001b[39m **Conversion**         \u001b[90m│\u001b[39m\n",
            "\u001b[90m│\u001b[39m                        \u001b[90m│\u001b[39m = 32 ...               \u001b[90m│\u001b[39m     * 0: 2^4 (16)      \u001b[90m│\u001b[39m = 3...                 \u001b[90m│\u001b[39m 1. **Write out t...    \u001b[90m│\u001b[39m\n",
            "\u001b[90m│\u001b[39m                        \u001b[90m│\u001b[39m                        \u001b[90m│\u001b[39m     * 1: 2^3 (8)       \u001b[90m│\u001b[39m                        \u001b[90m│\u001b[39m                        \u001b[90m│\u001b[39m\n",
            "\u001b[90m│\u001b[39m                        \u001b[90m│\u001b[39m                        \u001b[90m│\u001b[39m   ...                  \u001b[90m│\u001b[39m                        \u001b[90m│\u001b[39m                        \u001b[90m│\u001b[39m\n",
            "\u001b[90m├────────────────────────\u001b[39m\u001b[90m┼────────────────────────\u001b[39m\u001b[90m┼────────────────────────\u001b[39m\u001b[90m┼────────────────────────\u001b[39m\u001b[90m┼────────────────────────┤\u001b[39m\n",
            "\u001b[90m│\u001b[39m write python code to   \u001b[90m│\u001b[39m \u001b[31m[FAIL] \u001b[39m\u001b[31m\u001b[1mNo output\u001b[22m\u001b[39m       \u001b[90m│\u001b[39m \u001b[32m[PASS] \u001b[39m```python       \u001b[90m│\u001b[39m \u001b[32m[PASS] \u001b[39m ```python      \u001b[90m│\u001b[39m \u001b[32m[PASS] \u001b[39m```python       \u001b[90m│\u001b[39m\n",
            "\u001b[90m│\u001b[39m print \"Hello World!\"   \u001b[90m│\u001b[39m \u001b[31m\u001b[1m\u001b[22m\u001b[39m---                    \u001b[90m│\u001b[39m print(\"Hello World!\")  \u001b[90m│\u001b[39m print(\"Hello World!\")  \u001b[90m│\u001b[39m print(\"Hello World!\")  \u001b[90m│\u001b[39m\n",
            "\u001b[90m│\u001b[39m                        \u001b[90m│\u001b[39m                        \u001b[90m│\u001b[39m ```                    \u001b[90m│\u001b[39m ```                    \u001b[90m│\u001b[39m ```                    \u001b[90m│\u001b[39m\n",
            "\u001b[90m│\u001b[39m                        \u001b[90m│\u001b[39m                        \u001b[90m│\u001b[39m **Explanation:**       \u001b[90m│\u001b[39m                        \u001b[90m│\u001b[39m                        \u001b[90m│\u001b[39m\n",
            "\u001b[90m│\u001b[39m                        \u001b[90m│\u001b[39m                        \u001b[90m│\u001b[39m 1. **`print()`         \u001b[90m│\u001b[39m                        \u001b[90m│\u001b[39m                        \u001b[90m│\u001b[39m\n",
            "\u001b[90m│\u001b[39m                        \u001b[90m│\u001b[39m                        \u001b[90m│\u001b[39m function:** This is a  \u001b[90m│\u001b[39m                        \u001b[90m│\u001b[39m                        \u001b[90m│\u001b[39m\n",
            "\u001b[90m│\u001b[39m                        \u001b[90m│\u001b[39m                        \u001b[90m│\u001b[39m built-in function in   \u001b[90m│\u001b[39m                        \u001b[90m│\u001b[39m                        \u001b[90m│\u001b[39m\n",
            "\u001b[90m│\u001b[39m                        \u001b[90m│\u001b[39m                        \u001b[90m│\u001b[39m Python that displays   \u001b[90m│\u001b[39m                        \u001b[90m│\u001b[39m                        \u001b[90m│\u001b[39m\n",
            "\u001b[90m│\u001b[39m                        \u001b[90m│\u001b[39m                        \u001b[90m│\u001b[39m output to the console. \u001b[90m│\u001b[39m                        \u001b[90m│\u001b[39m                        \u001b[90m│\u001b[39m\n",
            "\u001b[90m│\u001b[39m                        \u001b[90m│\u001b[39m                        \u001b[90m│\u001b[39m 2. **`\"Hello           \u001b[90m│\u001b[39m                        \u001b[90m│\u001b[39m                        \u001b[90m│\u001b[39m\n",
            "\u001b[90m│\u001b[39m                        \u001b[90m│\u001b[39m                        \u001b[90m│\u001b[39m World!\"`:** This is a  \u001b[90m│\u001b[39m                        \u001b[90m│\u001b[39m                        \u001b[90m│\u001b[39m\n",
            "\u001b[90m│\u001b[39m                        \u001b[90m│\u001b[39m                        \u001b[90m│\u001b[39m string literal, which  \u001b[90m│\u001b[39m                        \u001b[90m│\u001b[39m                        \u001b[90m│\u001b[39m\n",
            "\u001b[90m│\u001b[39m                        \u001b[90m│\u001b[39m                        \u001b[90m│\u001b[39m is a sequence of       \u001b[90m│\u001b[39m                        \u001b[90m│\u001b[39m                        \u001b[90m│\u001b[39m\n",
            "\u001b[90m│\u001b[39m                        \u001b[90m│\u001b[39m                        \u001b[90m│\u001b[39m characters enclo...    \u001b[90m│\u001b[39m                        \u001b[90m│\u001b[39m                        \u001b[90m│\u001b[39m\n",
            "\u001b[90m├────────────────────────\u001b[39m\u001b[90m┼────────────────────────\u001b[39m\u001b[90m┼────────────────────────\u001b[39m\u001b[90m┼────────────────────────\u001b[39m\u001b[90m┼────────────────────────┤\u001b[39m\n",
            "\u001b[90m│\u001b[39m If a complex number is \u001b[90m│\u001b[39m \u001b[32m[PASS] \u001b[39m To find the    \u001b[90m│\u001b[39m \u001b[32m[PASS] \u001b[39mHere's how to   \u001b[90m│\u001b[39m \u001b[32m[PASS] \u001b[39m The magnitude  \u001b[90m│\u001b[39m \u001b[32m[PASS] \u001b[39mHere's how to   \u001b[90m│\u001b[39m\n",
            "\u001b[90m│\u001b[39m represented as 3 + 4i, \u001b[90m│\u001b[39m magnitude of a complex \u001b[90m│\u001b[39m find the magnitude of  \u001b[90m│\u001b[39m of a complex number is \u001b[90m│\u001b[39m find the magnitude of  \u001b[90m│\u001b[39m\n",
            "\u001b[90m│\u001b[39m what is its magnitude? \u001b[90m│\u001b[39m number, we use the     \u001b[90m│\u001b[39m a complex number:      \u001b[90m│\u001b[39m calculated using the   \u001b[90m│\u001b[39m a complex number:      \u001b[90m│\u001b[39m\n",
            "\u001b[90m│\u001b[39m                        \u001b[90m│\u001b[39m formula:               \u001b[90m│\u001b[39m **Understanding        \u001b[90m│\u001b[39m formula:               \u001b[90m│\u001b[39m **Understanding        \u001b[90m│\u001b[39m\n",
            "\u001b[90m│\u001b[39m                        \u001b[90m│\u001b[39m $$|z| = \\sqrt{a^2 +    \u001b[90m│\u001b[39m Magnitude**            \u001b[90m│\u001b[39m $$|z| = \\sqrt{a^2 +    \u001b[90m│\u001b[39m Magnitude**            \u001b[90m│\u001b[39m\n",
            "\u001b[90m│\u001b[39m                        \u001b[90m│\u001b[39m b^2}$$                 \u001b[90m│\u001b[39m The magnitude of a     \u001b[90m│\u001b[39m b^2}$$                 \u001b[90m│\u001b[39m The magnitude of a     \u001b[90m│\u001b[39m\n",
            "\u001b[90m│\u001b[39m                        \u001b[90m│\u001b[39m where \\(a\\) and \\(b\\)  \u001b[90m│\u001b[39m complex number         \u001b[90m│\u001b[39m where a and b are the  \u001b[90m│\u001b[39m complex number         \u001b[90m│\u001b[39m\n",
            "\u001b[90m│\u001b[39m                        \u001b[90m│\u001b[39m are the real and       \u001b[90m│\u001b[39m represents its         \u001b[90m│\u001b[39m real and imaginary     \u001b[90m│\u001b[39m represents its         \u001b[90m│\u001b[39m\n",
            "\u001b[90m│\u001b[39m                        \u001b[90m│\u001b[39m imaginary parts of the \u001b[90m│\u001b[39m distance from the      \u001b[90m│\u001b[39m parts of the complex   \u001b[90m│\u001b[39m distance from the      \u001b[90m│\u001b[39m\n",
            "\u001b[90m│\u001b[39m                        \u001b[90m│\u001b[39m complex number,        \u001b[90m│\u001b[39m origin (0, 0) on the   \u001b[90m│\u001b[39m number, respectively.  \u001b[90m│\u001b[39m origin (0, 0) on the   \u001b[90m│\u001b[39m\n",
            "\u001b[90m│\u001b[39m                        \u001b[90m│\u001b[39m respectively.          \u001b[90m│\u001b[39m complex plane. It's    \u001b[90m│\u001b[39m In this case, a = 3    \u001b[90m│\u001b[39m complex plane. It's    \u001b[90m│\u001b[39m\n",
            "\u001b[90m│\u001b[39m                        \u001b[90m│\u001b[39m In this case, \\(a =    \u001b[90m│\u001b[39m essentially the length \u001b[90m│\u001b[39m and b = 4, so the      \u001b[90m│\u001b[39m essentially the length \u001b[90m│\u001b[39m\n",
            "\u001b[90m│\u001b[39m                        \u001b[90m│\u001b[39m 3\\) and \\(b = 4\\), so: \u001b[90m│\u001b[39m of the hypotenuse of a \u001b[90m│\u001b[39m magnitude of the       \u001b[90m│\u001b[39m of the hypotenuse of a \u001b[90m│\u001b[39m\n",
            "\u001b[90m│\u001b[39m                        \u001b[90m│\u001b[39m $$|z| = \\sqrt{3^2...   \u001b[90m│\u001b[39m right tri...           \u001b[90m│\u001b[39m complex numb...        \u001b[90m│\u001b[39m right tri...           \u001b[90m│\u001b[39m\n",
            "\u001b[90m├────────────────────────\u001b[39m\u001b[90m┼────────────────────────\u001b[39m\u001b[90m┼────────────────────────\u001b[39m\u001b[90m┼────────────────────────\u001b[39m\u001b[90m┼────────────────────────┤\u001b[39m\n",
            "\u001b[90m│\u001b[39m What is the fourth     \u001b[90m│\u001b[39m \u001b[32m[PASS] \u001b[39m 6              \u001b[90m│\u001b[39m \u001b[31m[FAIL] \u001b[39m\u001b[31m\u001b[1mExpected output\u001b[22m\u001b[39m \u001b[90m│\u001b[39m \u001b[32m[PASS] \u001b[39m 6              \u001b[90m│\u001b[39m \u001b[31m[FAIL] \u001b[39m\u001b[31m\u001b[1mExpected output\u001b[22m\u001b[39m \u001b[90m│\u001b[39m\n",
            "\u001b[90m│\u001b[39m root of 1296? only     \u001b[90m│\u001b[39m                        \u001b[90m│\u001b[39m \u001b[31m\u001b[1m\"6\" to equal \"Six \u001b[22m\u001b[39m     \u001b[90m│\u001b[39m                        \u001b[90m│\u001b[39m \u001b[31m\u001b[1m\"6\" to equal \"Six \u001b[22m\u001b[39m     \u001b[90m│\u001b[39m\n",
            "\u001b[90m│\u001b[39m provide answer in one  \u001b[90m│\u001b[39m                        \u001b[90m│\u001b[39m \u001b[31m\u001b[1m\"\u001b[22m\u001b[39m                      \u001b[90m│\u001b[39m                        \u001b[90m│\u001b[39m \u001b[31m\u001b[1m\"\u001b[22m\u001b[39m                      \u001b[90m│\u001b[39m\n",
            "\u001b[90m│\u001b[39m word(number).          \u001b[90m│\u001b[39m                        \u001b[90m│\u001b[39m \u001b[31m\u001b[1m\u001b[22m\u001b[39m---                    \u001b[90m│\u001b[39m                        \u001b[90m│\u001b[39m \u001b[31m\u001b[1m\u001b[22m\u001b[39m---                    \u001b[90m│\u001b[39m\n",
            "\u001b[90m│\u001b[39m                        \u001b[90m│\u001b[39m                        \u001b[90m│\u001b[39m Six                    \u001b[90m│\u001b[39m                        \u001b[90m│\u001b[39m Six                    \u001b[90m│\u001b[39m\n",
            "\u001b[90m└────────────────────────\u001b[39m\u001b[90m┴────────────────────────\u001b[39m\u001b[90m┴────────────────────────\u001b[39m\u001b[90m┴────────────────────────\u001b[39m\u001b[90m┴────────────────────────┘\u001b[39m\n",
            "======================================================================\n",
            "\u001b[32m✔\u001b[39m Evaluation complete.\n",
            "\n",
            "» Run \u001b[92m\u001b[1mpromptfoo view\u001b[22m\u001b[39m to use the local web viewer\n",
            "» Run \u001b[92m\u001b[1mpromptfoo share\u001b[22m\u001b[39m to create a shareable URL\n",
            "» This project needs your feedback. What's one thing we can improve? \u001b[92m\u001b[1mhttps://forms.gle/YFLgTe1dKJKNSCsU7\u001b[22m\u001b[39m\n",
            "======================================================================\n",
            "\u001b[32m\u001b[1mSuccesses: 15\u001b[22m\u001b[39m\n",
            "\u001b[31m\u001b[1mFailures: 5\u001b[22m\u001b[39m\n",
            "Token usage: Total 1603, Prompt 274, Completion 1329, Cached 1339\n",
            "Done.\n",
            "\u001b[1G\u001b[0K⠙\u001b[1G\u001b[0K"
          ]
        }
      ],
      "source": [
        "!npx promptfoo@latest eval -c /content/mathconfig.yaml --no-progress-bar"
      ]
    },
    {
      "cell_type": "markdown",
      "metadata": {
        "id": "KOEsfFHGmMG_"
      },
      "source": [
        "Now we can share and view this in the web viewer, which is easier to use and contains tools for drilling down and grading the outputs."
      ]
    },
    {
      "cell_type": "code",
      "execution_count": 19,
      "metadata": {
        "colab": {
          "base_uri": "https://localhost:8080/"
        },
        "outputId": "fa6fec14-0789-4639-a2c2-a3de0ad506d6",
        "id": "qLM-O6z5mMG_"
      },
      "outputs": [
        {
          "output_type": "stream",
          "name": "stdout",
          "text": [
            "\u001b[1G\u001b[0K⠙\u001b[1G\u001b[0K⠹\u001b[1G\u001b[0K⠸\u001b[1G\u001b[0K⠼\u001b[1G\u001b[0K⠴\u001b[1G\u001b[0K⠦\u001b[1G\u001b[0K\u001b[31m(node:22963) [DEP0040] DeprecationWarning: The `punycode` module is deprecated. Please use a userland alternative instead.\n",
            "(Use `node --trace-deprecation ...` to show where the warning was created)\u001b[39m\n",
            "View results: \u001b[92m\u001b[1mhttps://app.promptfoo.dev/eval/f:a426519c-43ba-45d9-8d4b-8831628b56eb\u001b[22m\u001b[39m\n",
            "\u001b[1G\u001b[0K⠙\u001b[1G\u001b[0K"
          ]
        }
      ],
      "source": [
        "!npx promptfoo@latest share --yes"
      ]
    },
    {
      "cell_type": "code",
      "source": [],
      "metadata": {
        "id": "NS8u_UJAmeqB"
      },
      "execution_count": null,
      "outputs": []
    }
  ],
  "metadata": {
    "colab": {
      "provenance": [],
      "include_colab_link": true
    },
    "kernelspec": {
      "display_name": "Python 3",
      "name": "python3"
    },
    "language_info": {
      "name": "python"
    }
  },
  "nbformat": 4,
  "nbformat_minor": 0
}