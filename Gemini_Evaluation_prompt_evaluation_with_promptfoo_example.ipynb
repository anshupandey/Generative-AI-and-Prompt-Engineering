{
  "cells": [
    {
      "cell_type": "markdown",
      "metadata": {
        "id": "view-in-github",
        "colab_type": "text"
      },
      "source": [
        "<a href=\"https://colab.research.google.com/github/anshupandey/Generative-AI-and-Prompt-Engineering/blob/main/Gemini_Evaluation_prompt_evaluation_with_promptfoo_example.ipynb\" target=\"_parent\"><img src=\"https://colab.research.google.com/assets/colab-badge.svg\" alt=\"Open In Colab\"/></a>"
      ]
    },
    {
      "cell_type": "markdown",
      "metadata": {
        "id": "uK0lOwXqCcci"
      },
      "source": [
        "This notebook shows how to\n",
        "\n",
        "\n",
        "1.   Set up & configure Promptfoo\n",
        "2.   Set up secrets (such as an OpenAI or Anthropic API key)\n",
        "3.   Run an eval of LLM models, prompts and outputs\n",
        "4.   Run another eval that includes Python code in this notebook\n",
        "\n"
      ]
    },
    {
      "cell_type": "markdown",
      "metadata": {
        "id": "5yj5q5FMSn6v"
      },
      "source": [
        "# Node/Promptfoo setup"
      ]
    },
    {
      "cell_type": "markdown",
      "metadata": {
        "id": "qBI5MsRN-mw9"
      },
      "source": [
        "Start by installing the Node.js dependency."
      ]
    },
    {
      "cell_type": "code",
      "execution_count": 1,
      "metadata": {
        "id": "CLsWqecMRPNn",
        "outputId": "57deaab1-e483-42b7-df86-f211f9f0910e",
        "colab": {
          "base_uri": "https://localhost:8080/"
        }
      },
      "outputs": [
        {
          "output_type": "stream",
          "name": "stdout",
          "text": [
            "\u001b[K\u001b[?25h/tools/node/bin/n -> /tools/node/lib/node_modules/n/bin/n\n",
            "\u001b[K\u001b[?25h+ n@9.2.3\n",
            "added 1 package from 2 contributors in 0.819s\n",
            "  \u001b[36minstalling\u001b[0m : \u001b[2mnode-v22.2.0\u001b[0m\n",
            "  \u001b[36m     mkdir\u001b[0m : \u001b[2m/usr/local/n/versions/node/22.2.0\u001b[0m\n",
            "  \u001b[36m     fetch\u001b[0m : \u001b[2mhttps://nodejs.org/dist/v22.2.0/node-v22.2.0-linux-x64.tar.xz\u001b[0m\n",
            "############################################################################################# 100.0%\n",
            "\u001b[1A\u001b[2K  \u001b[36m   copying\u001b[0m : \u001b[2mnode/22.2.0\u001b[0m\n",
            "\u001b[1G\u001b[0K  \u001b[36m installed\u001b[0m : \u001b[2mv22.2.0 (with npm 10.7.0)\u001b[0m\n",
            "\n",
            "Note: the node command changed location and the old location may be remembered in your current shell.\n",
            "  \u001b[36m       old\u001b[0m : \u001b[2m/tools/node/bin/node\u001b[0m\n",
            "  \u001b[36m       new\u001b[0m : \u001b[2m/usr/local/bin/node\u001b[0m\n",
            "If \"node --version\" shows the old version then start a new shell, or reset the location hash with:\n",
            "hash -r  (for bash, zsh, ash, dash, and ksh)\n",
            "rehash   (for csh and tcsh)\n"
          ]
        }
      ],
      "source": [
        "# Node version 16 or higher is required for PromptFoo to work.\n",
        "# The current version of Node in Google Colab is 14.16.\n",
        "# Upgrade to the latest version of Node using the n package manager. Learn more at https://nodejs.org/en/download/package-manager#n\n",
        "!npm install -g n\n",
        "!n latest"
      ]
    },
    {
      "cell_type": "markdown",
      "metadata": {
        "id": "n61ejK4u-tFy"
      },
      "source": [
        "Next, we'll install and initialize promptfoo."
      ]
    },
    {
      "cell_type": "code",
      "execution_count": 2,
      "metadata": {
        "colab": {
          "base_uri": "https://localhost:8080/"
        },
        "id": "WNzZutVjRab-",
        "outputId": "dcecacd5-e892-4724-fb53-928ae79cb793"
      },
      "outputs": [
        {
          "output_type": "stream",
          "name": "stdout",
          "text": [
            "env: npm_config_yes=true\n",
            "\u001b[1G\u001b[0K⠙\u001b[1G\u001b[0K⠹\u001b[1G\u001b[0K⠸\u001b[1G\u001b[0K⠼\u001b[1G\u001b[0K⠴\u001b[1G\u001b[0K⠦\u001b[1G\u001b[0K⠧\u001b[1G\u001b[0K⠇\u001b[1G\u001b[0K⠏\u001b[1G\u001b[0K⠋\u001b[1G\u001b[0K⠙\u001b[1G\u001b[0K⠹\u001b[1G\u001b[0K⠸\u001b[1G\u001b[0K⠼\u001b[1G\u001b[0K⠴\u001b[1G\u001b[0K⠦\u001b[1G\u001b[0K⠧\u001b[1G\u001b[0K⠇\u001b[1G\u001b[0K⠏\u001b[1G\u001b[0K⠋\u001b[1G\u001b[0K⠙\u001b[1G\u001b[0K⠹\u001b[1G\u001b[0K⠸\u001b[1G\u001b[0K⠼\u001b[1G\u001b[0K⠴\u001b[1G\u001b[0K⠦\u001b[1G\u001b[0K⠧\u001b[1G\u001b[0K⠇\u001b[1G\u001b[0K⠏\u001b[1G\u001b[0K⠋\u001b[1G\u001b[0K⠙\u001b[1G\u001b[0K⠹\u001b[1G\u001b[0K⠸\u001b[1G\u001b[0K⠼\u001b[1G\u001b[0K⠴\u001b[1G\u001b[0K⠦\u001b[1G\u001b[0K⠧\u001b[1G\u001b[0K⠇\u001b[1G\u001b[0K⠏\u001b[1G\u001b[0K⠋\u001b[1G\u001b[0K⠙\u001b[1G\u001b[0K⠹\u001b[1G\u001b[0K⠸\u001b[1G\u001b[0K⠼\u001b[1G\u001b[0K⠴\u001b[1G\u001b[0K⠦\u001b[1G\u001b[0K⠧\u001b[1G\u001b[0K⠇\u001b[1G\u001b[0K⠏\u001b[1G\u001b[0K⠋\u001b[1G\u001b[0K⠙\u001b[1G\u001b[0K⠹\u001b[1G\u001b[0K⠸\u001b[1G\u001b[0K⠼\u001b[1G\u001b[0K⠴\u001b[1G\u001b[0K⠦\u001b[1G\u001b[0K⠧\u001b[1G\u001b[0K⠇\u001b[1G\u001b[0K⠏\u001b[1G\u001b[0K⠋\u001b[1G\u001b[0K⠙\u001b[1G\u001b[0K⠹\u001b[1G\u001b[0K⠸\u001b[1G\u001b[0K⠼\u001b[1G\u001b[0K⠴\u001b[1G\u001b[0K⠦\u001b[1G\u001b[0K⠧\u001b[1G\u001b[0K⠇\u001b[1G\u001b[0K⠏\u001b[1G\u001b[0K⠋\u001b[1G\u001b[0K⠙\u001b[1G\u001b[0K⠹\u001b[1G\u001b[0K⠸\u001b[1G\u001b[0K⠼\u001b[1G\u001b[0K⠴\u001b[1G\u001b[0K⠦\u001b[1G\u001b[0K⠧\u001b[1G\u001b[0K⠇\u001b[1G\u001b[0K⠏\u001b[1G\u001b[0K⠋\u001b[1G\u001b[0K⠙\u001b[1G\u001b[0K⠹\u001b[1G\u001b[0K⠸\u001b[1G\u001b[0K⠼\u001b[1G\u001b[0K⠴\u001b[1G\u001b[0K⠦\u001b[1G\u001b[0K⠧\u001b[1G\u001b[0K⠇\u001b[1G\u001b[0K⠏\u001b[1G\u001b[0K⠋\u001b[1G\u001b[0K⠙\u001b[1G\u001b[0K⠹\u001b[1G\u001b[0K⠸\u001b[1G\u001b[0K⠼\u001b[1G\u001b[0K⠴\u001b[1G\u001b[0K⠦\u001b[1G\u001b[0K⠧\u001b[1G\u001b[0K⠇\u001b[1G\u001b[0K⠏\u001b[1G\u001b[0K⠋\u001b[1G\u001b[0K⠙\u001b[1G\u001b[0K⠹\u001b[1G\u001b[0K⠸\u001b[1G\u001b[0K⠼\u001b[1G\u001b[0K⠴\u001b[1G\u001b[0K⠦\u001b[1G\u001b[0K⠧\u001b[1G\u001b[0K⠇\u001b[1G\u001b[0K⠏\u001b[1G\u001b[0K⠋\u001b[1G\u001b[0K⠙\u001b[1G\u001b[0K⠹\u001b[1G\u001b[0K⠸\u001b[1G\u001b[0K⠼\u001b[1G\u001b[0K⠴\u001b[1G\u001b[0K⠦\u001b[1G\u001b[0K⠧\u001b[1G\u001b[0K⠇\u001b[1G\u001b[0K⠏\u001b[1G\u001b[0K⠋\u001b[1G\u001b[0K⠙\u001b[1G\u001b[0K⠹\u001b[1G\u001b[0K⠸\u001b[1G\u001b[0K⠼\u001b[1G\u001b[0K⠴\u001b[1G\u001b[0K⠦\u001b[1G\u001b[0K⠧\u001b[1G\u001b[0K⠇\u001b[1G\u001b[0K⠏\u001b[1G\u001b[0K⠋\u001b[1G\u001b[0K⠙\u001b[1G\u001b[0K⠹\u001b[1G\u001b[0K⠸\u001b[1G\u001b[0K⠼\u001b[1G\u001b[0K⠴\u001b[1G\u001b[0K⠦\u001b[1G\u001b[0K⠧\u001b[1G\u001b[0K⠇\u001b[1G\u001b[0K⠏\u001b[1G\u001b[0K⠋\u001b[1G\u001b[0K⠙\u001b[1G\u001b[0K⠹\u001b[1G\u001b[0K⠸\u001b[1G\u001b[0K⠼\u001b[1G\u001b[0K⠴\u001b[1G\u001b[0K⠦\u001b[1G\u001b[0K⠧\u001b[1G\u001b[0K⠇\u001b[1G\u001b[0K⠏\u001b[1G\u001b[0K⠋\u001b[1G\u001b[0K⠙\u001b[1G\u001b[0K⠹\u001b[1G\u001b[0K⠸\u001b[1G\u001b[0K⠼\u001b[1G\u001b[0K⠴\u001b[1G\u001b[0K⠦\u001b[1G\u001b[0K⠧\u001b[1G\u001b[0K⠇\u001b[1G\u001b[0K⠏\u001b[1G\u001b[0K⠋\u001b[1G\u001b[0K⠙\u001b[1G\u001b[0K⠹\u001b[1G\u001b[0K⠸\u001b[1G\u001b[0K⠼\u001b[1G\u001b[0K⠴\u001b[1G\u001b[0K⠦\u001b[1G\u001b[0K⠧\u001b[1G\u001b[0K⠇\u001b[1G\u001b[0K⠏\u001b[1G\u001b[0K⠋\u001b[1G\u001b[0K⠙\u001b[1G\u001b[0K⠹\u001b[1G\u001b[0K⠸\u001b[1G\u001b[0K⠼\u001b[1G\u001b[0K⠴\u001b[1G\u001b[0K⠦\u001b[1G\u001b[0K⠧\u001b[1G\u001b[0K⠇\u001b[1G\u001b[0K⠏\u001b[1G\u001b[0K⠋\u001b[1G\u001b[0K⠙\u001b[1G\u001b[0K⠹\u001b[1G\u001b[0K⠸\u001b[1G\u001b[0K⠼\u001b[1G\u001b[0K⠴\u001b[1G\u001b[0K⠦\u001b[1G\u001b[0K⠧\u001b[1G\u001b[0K⠇\u001b[1G\u001b[0K⠏\u001b[1G\u001b[0K⠋\u001b[1G\u001b[0K⠙\u001b[1G\u001b[0K⠹\u001b[1G\u001b[0K⠸\u001b[1G\u001b[0K⠼\u001b[1G\u001b[0K⠴\u001b[1G\u001b[0K⠦\u001b[1G\u001b[0K⠧\u001b[1G\u001b[0K⠇\u001b[1G\u001b[0K⠏\u001b[1G\u001b[0K⠋\u001b[1G\u001b[0K⠙\u001b[1G\u001b[0K⠹\u001b[1G\u001b[0K⠸\u001b[1G\u001b[0K⠼\u001b[1G\u001b[0K⠴\u001b[1G\u001b[0K⠦\u001b[1G\u001b[0K⠧\u001b[1G\u001b[0K⠇\u001b[1G\u001b[0K⠏\u001b[1G\u001b[0K⠋\u001b[1G\u001b[0K⠙\u001b[1G\u001b[0K⠹\u001b[1G\u001b[0K⠸\u001b[1G\u001b[0K⠼\u001b[1G\u001b[0K⠴\u001b[1G\u001b[0K⠦\u001b[1G\u001b[0K⠧\u001b[1G\u001b[0K⠇\u001b[1G\u001b[0K⠏\u001b[1G\u001b[0K⠋\u001b[1G\u001b[0K⠙\u001b[1G\u001b[0K⠹\u001b[1G\u001b[0K⠸\u001b[1G\u001b[0K⠼\u001b[1G\u001b[0K⠴\u001b[1G\u001b[0K⠦\u001b[1G\u001b[0K⠧\u001b[1G\u001b[0K⠇\u001b[1G\u001b[0K⠏\u001b[1G\u001b[0K⠋\u001b[1G\u001b[0K⠙\u001b[1G\u001b[0K⠹\u001b[1G\u001b[0K⠸\u001b[1G\u001b[0K⠼\u001b[1G\u001b[0K⠴\u001b[1G\u001b[0K⠦\u001b[1G\u001b[0K⠧\u001b[1G\u001b[0K⠇\u001b[1G\u001b[0K⠏\u001b[1G\u001b[0K⠋\u001b[1G\u001b[0K⠙\u001b[1G\u001b[0K⠹\u001b[1G\u001b[0K⠸\u001b[1G\u001b[0K⠼\u001b[1G\u001b[0K⠴\u001b[1G\u001b[0K⠦\u001b[1G\u001b[0K⠧\u001b[1G\u001b[0K⠇\u001b[1G\u001b[0K⠏\u001b[1G\u001b[0K⠋\u001b[1G\u001b[0K⠙\u001b[1G\u001b[0K⠹\u001b[1G\u001b[0K⠸\u001b[1G\u001b[0K⠼\u001b[1G\u001b[0K⠴\u001b[1G\u001b[0K⠦\u001b[1G\u001b[0K⠧\u001b[1G\u001b[0K⠇\u001b[1G\u001b[0K⠏\u001b[1G\u001b[0K⠋\u001b[1G\u001b[0K⠙\u001b[1G\u001b[0K⠹\u001b[1G\u001b[0K⠸\u001b[1G\u001b[0K⠼\u001b[1G\u001b[0K⠴\u001b[1G\u001b[0K⠦\u001b[1G\u001b[0K⠧\u001b[1G\u001b[0K⠇\u001b[1G\u001b[0K⠏\u001b[1G\u001b[0K⠋\u001b[1G\u001b[0K⠙\u001b[1G\u001b[0K⠹\u001b[1G\u001b[0K⠸\u001b[1G\u001b[0K⠼\u001b[1G\u001b[0K⠴\u001b[1G\u001b[0K⠦\u001b[1G\u001b[0K⠧\u001b[1G\u001b[0K⠇\u001b[1G\u001b[0K⠏\u001b[1G\u001b[0K⠋\u001b[1G\u001b[0K⠙\u001b[1G\u001b[0K⠹\u001b[1G\u001b[0K⠸\u001b[1G\u001b[0K⠼\u001b[1G\u001b[0K⠴\u001b[1G\u001b[0K⠦\u001b[1G\u001b[0K⠧\u001b[1G\u001b[0K⠇\u001b[1G\u001b[0K⠏\u001b[1G\u001b[0K⠋\u001b[1G\u001b[0K⠙\u001b[1G\u001b[0K⠹\u001b[1G\u001b[0K⠸\u001b[1G\u001b[0K⠼\u001b[1G\u001b[0K⠴\u001b[1G\u001b[0K⠦\u001b[1G\u001b[0K⠧\u001b[1G\u001b[0K⠇\u001b[1G\u001b[0K⠏\u001b[1G\u001b[0K⠋\u001b[1G\u001b[0K⠙\u001b[1G\u001b[0K⠹\u001b[1G\u001b[0K⠸\u001b[1G\u001b[0K⠼\u001b[1G\u001b[0K⠴\u001b[1G\u001b[0K⠦\u001b[1G\u001b[0K⠧\u001b[1G\u001b[0K⠇\u001b[1G\u001b[0K⠏\u001b[1G\u001b[0K⠋\u001b[1G\u001b[0K⠙\u001b[1G\u001b[0K⠹\u001b[1G\u001b[0K⠸\u001b[1G\u001b[0K⠼\u001b[1G\u001b[0K⠴\u001b[1G\u001b[0K⠦\u001b[1G\u001b[0K⠧\u001b[1G\u001b[0K⠇\u001b[1G\u001b[0K⠏\u001b[1G\u001b[0K⠋\u001b[1G\u001b[0K⠙\u001b[1G\u001b[0K⠹\u001b[1G\u001b[0K⠸\u001b[1G\u001b[0K⠼\u001b[1G\u001b[0K⠴\u001b[1G\u001b[0K⠦\u001b[1G\u001b[0K⠧\u001b[1G\u001b[0K⠇\u001b[1G\u001b[0K⠏\u001b[1G\u001b[0K⠋\u001b[1G\u001b[0K⠙\u001b[1G\u001b[0K⠹\u001b[1G\u001b[0K⠸\u001b[1G\u001b[0K⠼\u001b[1G\u001b[0K⠴\u001b[1G\u001b[0K⠦\u001b[1G\u001b[0K⠧\u001b[1G\u001b[0K⠇\u001b[1G\u001b[0K⠏\u001b[1G\u001b[0K⠋\u001b[1G\u001b[0K⠙\u001b[1G\u001b[0K⠹\u001b[1G\u001b[0K⠸\u001b[1G\u001b[0K⠼\u001b[1G\u001b[0K⠴\u001b[1G\u001b[0K⠦\u001b[1G\u001b[0K⠧\u001b[1G\u001b[0K⠇\u001b[1G\u001b[0K⠏\u001b[1G\u001b[0K⠋\u001b[1G\u001b[0K⠙\u001b[1G\u001b[0K⠹\u001b[1G\u001b[0K⠸\u001b[1G\u001b[0K⠼\u001b[1G\u001b[0K⠴\u001b[1G\u001b[0K⠦\u001b[1G\u001b[0K⠧\u001b[1G\u001b[0K⠇\u001b[1G\u001b[0K⠏\u001b[1G\u001b[0K⠋\u001b[1G\u001b[0K⠙\u001b[1G\u001b[0K⠹\u001b[1G\u001b[0K⠸\u001b[1G\u001b[0K⠼\u001b[1G\u001b[0K⠴\u001b[1G\u001b[0K⠦\u001b[1G\u001b[0K⠧\u001b[1G\u001b[0K⠇\u001b[1G\u001b[0K⠏\u001b[1G\u001b[0K⠋\u001b[1G\u001b[0K⠙\u001b[1G\u001b[0K⠹\u001b[1G\u001b[0K⠸\u001b[1G\u001b[0K⠼\u001b[1G\u001b[0K⠴\u001b[1G\u001b[0K⠦\u001b[1G\u001b[0K⠧\u001b[1G\u001b[0K⠇\u001b[1G\u001b[0K⠏\u001b[1G\u001b[0K⠋\u001b[1G\u001b[0K⠙\u001b[1G\u001b[0K⠹\u001b[1G\u001b[0K⠸\u001b[1G\u001b[0K⠼\u001b[1G\u001b[0K⠴\u001b[1G\u001b[0K⠦\u001b[1G\u001b[0K⠧\u001b[1G\u001b[0K⠇\u001b[1G\u001b[0K⠏\u001b[1G\u001b[0K⠋\u001b[1G\u001b[0K⠙\u001b[1G\u001b[0K⠹\u001b[1G\u001b[0K⠸\u001b[1G\u001b[0K⠼\u001b[1G\u001b[0K⠴\u001b[1G\u001b[0K⠦\u001b[1G\u001b[0K⠧\u001b[1G\u001b[0K⠇\u001b[1G\u001b[0K⠏\u001b[1G\u001b[0K⠋\u001b[1G\u001b[0K⠙\u001b[1G\u001b[0K⠹\u001b[1G\u001b[0K⠸\u001b[1G\u001b[0K⠼\u001b[1G\u001b[0K⠴\u001b[1G\u001b[0K⠦\u001b[1G\u001b[0K⠧\u001b[1G\u001b[0K⠇\u001b[1G\u001b[0K⠏\u001b[1G\u001b[0K⠋\u001b[1G\u001b[0K⠙\u001b[1G\u001b[0K⠹\u001b[1G\u001b[0K⠸\u001b[1G\u001b[0K⠼\u001b[1G\u001b[0K⠴\u001b[1G\u001b[0K⠦\u001b[1G\u001b[0K⠧\u001b[1G\u001b[0K⠇\u001b[1G\u001b[0K⠏\u001b[1G\u001b[0K⠋\u001b[1G\u001b[0K⠙\u001b[1G\u001b[0K⠹\u001b[1G\u001b[0K⠸\u001b[1G\u001b[0K⠼\u001b[1G\u001b[0K⠴\u001b[1G\u001b[0K⠦\u001b[1G\u001b[0K⠧\u001b[1G\u001b[0K⠇\u001b[1G\u001b[0K⠏\u001b[1G\u001b[0K⠋\u001b[1G\u001b[0K⠙\u001b[1G\u001b[0K⠹\u001b[1G\u001b[0K⠸\u001b[1G\u001b[0K⠼\u001b[1G\u001b[0K⠴\u001b[1G\u001b[0K⠦\u001b[1G\u001b[0K⠧\u001b[1G\u001b[0K⠇\u001b[1G\u001b[0K⠏\u001b[1G\u001b[0K⠋\u001b[1G\u001b[0K⠙\u001b[1G\u001b[0K⠹\u001b[1G\u001b[0K⠸\u001b[1G\u001b[0K⠼\u001b[1G\u001b[0K⠴\u001b[1G\u001b[0K⠦\u001b[1G\u001b[0K⠧\u001b[1G\u001b[0K⠇\u001b[1G\u001b[0K⠏\u001b[1G\u001b[0K⠋\u001b[1G\u001b[0K⠙\u001b[1G\u001b[0K⠹\u001b[1G\u001b[0K⠸\u001b[1G\u001b[0K⠼\u001b[1G\u001b[0K⠴\u001b[1G\u001b[0K⠦\u001b[1G\u001b[0K⠧\u001b[1G\u001b[0K⠇\u001b[1G\u001b[0K⠏\u001b[1G\u001b[0K⠋\u001b[1G\u001b[0K⠙\u001b[1G\u001b[0K⠹\u001b[1G\u001b[0K⠸\u001b[1G\u001b[0K⠼\u001b[1G\u001b[0K⠴\u001b[1G\u001b[0K⠦\u001b[1G\u001b[0K⠧\u001b[1G\u001b[0K⠇\u001b[1G\u001b[0K⠏\u001b[1G\u001b[0K⠋\u001b[1G\u001b[0K⠙\u001b[1G\u001b[0K⠹\u001b[1G\u001b[0K⠸\u001b[1G\u001b[0K⠼\u001b[1G\u001b[0K⠴\u001b[1G\u001b[0K⠦\u001b[1G\u001b[0K⠧\u001b[1G\u001b[0K⠇\u001b[1G\u001b[0K⠏\u001b[1G\u001b[0K⠋\u001b[1G\u001b[0K⠙\u001b[1G\u001b[0K⠹\u001b[1G\u001b[0K⠸\u001b[1G\u001b[0K⠼\u001b[1G\u001b[0K⠴\u001b[1G\u001b[0K⠦\u001b[1G\u001b[0K⠧\u001b[1G\u001b[0K⠇\u001b[1G\u001b[0K⠏\u001b[1G\u001b[0K⠋\u001b[1G\u001b[0K⠙\u001b[1G\u001b[0K⠹\u001b[1G\u001b[0K⠸\u001b[1G\u001b[0K⠼\u001b[1G\u001b[0K⠴\u001b[1G\u001b[0K⠦\u001b[1G\u001b[0K⠧\u001b[1G\u001b[0K⠇\u001b[1G\u001b[0K⠏\u001b[1G\u001b[0K⠋\u001b[1G\u001b[0K⠙\u001b[1G\u001b[0K⠹\u001b[1G\u001b[0K⠸\u001b[1G\u001b[0K⠼\u001b[1G\u001b[0K⠴\u001b[1G\u001b[0K⠦\u001b[1G\u001b[0K⠧\u001b[1G\u001b[0K⠇\u001b[1G\u001b[0K⠏\u001b[1G\u001b[0K⠋\u001b[1G\u001b[0K⠙\u001b[1G\u001b[0K⠹\u001b[1G\u001b[0K⠸\u001b[1G\u001b[0K⠼\u001b[1G\u001b[0K⠴\u001b[1G\u001b[0K⠦\u001b[1G\u001b[0K⠧\u001b[1G\u001b[0K⠇\u001b[1G\u001b[0K⠏\u001b[1G\u001b[0K⠋\u001b[1G\u001b[0K⠙\u001b[1G\u001b[0K⠹\u001b[1G\u001b[0K⠸\u001b[1G\u001b[0K⠼\u001b[1G\u001b[0K⠴\u001b[1G\u001b[0K⠦\u001b[1G\u001b[0K⠧\u001b[1G\u001b[0K⠇\u001b[1G\u001b[0K⠏\u001b[1G\u001b[0K⠋\u001b[1G\u001b[0K⠙\u001b[1G\u001b[0K⠹\u001b[1G\u001b[0K⠸\u001b[1G\u001b[0K⠼\u001b[1G\u001b[0K⠴\u001b[1G\u001b[0K⠦\u001b[1G\u001b[0K⠧\u001b[1G\u001b[0K⠇\u001b[1G\u001b[0K⠏\u001b[1G\u001b[0K⠋\u001b[1G\u001b[0K⠙\u001b[1G\u001b[0K⠹\u001b[1G\u001b[0K⠸\u001b[1G\u001b[0K⠼\u001b[1G\u001b[0K⠴\u001b[1G\u001b[0K⠦\u001b[1G\u001b[0K⠧\u001b[1G\u001b[0K⠇\u001b[1G\u001b[0K⠏\u001b[1G\u001b[0K⠋\u001b[1G\u001b[0K⠙\u001b[1G\u001b[0K⠹\u001b[1G\u001b[0K⠸\u001b[1G\u001b[0K⠼\u001b[1G\u001b[0K⠴\u001b[1G\u001b[0K⠦\u001b[1G\u001b[0K⠧\u001b[1G\u001b[0K⠇\u001b[1G\u001b[0K⠏\u001b[1G\u001b[0K⠋\u001b[1G\u001b[0K⠙\u001b[1G\u001b[0K⠹\u001b[1G\u001b[0K⠸\u001b[1G\u001b[0K⠼\u001b[1G\u001b[0K⠴\u001b[1G\u001b[0K⠦\u001b[1G\u001b[0K⠧\u001b[1G\u001b[0K⠇\u001b[1G\u001b[0K⠏\u001b[1G\u001b[0K⠋\u001b[1G\u001b[0K⠙\u001b[1G\u001b[0K⠹\u001b[1G\u001b[0K⠸\u001b[1G\u001b[0K⠼\u001b[1G\u001b[0K⠴\u001b[1G\u001b[0K⠦\u001b[1G\u001b[0K⠧\u001b[1G\u001b[0K⠇\u001b[1G\u001b[0K⠏\u001b[1G\u001b[0K⠋\u001b[1G\u001b[0K⠙\u001b[1G\u001b[0K⠹\u001b[1G\u001b[0K⠸\u001b[1G\u001b[0K⠼\u001b[1G\u001b[0K⠴\u001b[1G\u001b[0K⠦\u001b[1G\u001b[0K⠧\u001b[1G\u001b[0K⠇\u001b[1G\u001b[0K⠏\u001b[1G\u001b[0K⠋\u001b[1G\u001b[0K⠙\u001b[1G\u001b[0K⠹\u001b[1G\u001b[0K⠸\u001b[1G\u001b[0K⠼\u001b[1G\u001b[0K⠴\u001b[1G\u001b[0K⠦\u001b[1G\u001b[0K⠧\u001b[1G\u001b[0K⠇\u001b[1G\u001b[0K⠏\u001b[1G\u001b[0K⠋\u001b[1G\u001b[0K⠙\u001b[1G\u001b[0K⠹\u001b[1G\u001b[0K⠸\u001b[1G\u001b[0K⠼\u001b[1G\u001b[0K⠴\u001b[1G\u001b[0K⠦\u001b[1G\u001b[0K\u001b[1mnpm\u001b[22m \u001b[33mwarn\u001b[39m \u001b[94mskipping integrity check for git dependency ssh://git@github.com/kenlimmj/rouge.git\u001b[39m\n",
            "\u001b[1G\u001b[0K⠧\u001b[1G\u001b[0K⠇\u001b[1G\u001b[0K⠏\u001b[1G\u001b[0K⠋\u001b[1G\u001b[0K⠙\u001b[1G\u001b[0K⠹\u001b[1G\u001b[0K⠸\u001b[1G\u001b[0K⠼\u001b[1G\u001b[0K⠴\u001b[1G\u001b[0K⠦\u001b[1G\u001b[0K⠧\u001b[1G\u001b[0K⠇\u001b[1G\u001b[0K⠏\u001b[1G\u001b[0K⠋\u001b[1G\u001b[0K⠙\u001b[1G\u001b[0K⠹\u001b[1G\u001b[0K⠸\u001b[1G\u001b[0K⠼\u001b[1G\u001b[0K⠴\u001b[1G\u001b[0K⠦\u001b[1G\u001b[0K⠧\u001b[1G\u001b[0K⠇\u001b[1G\u001b[0K⠏\u001b[1G\u001b[0K⠋\u001b[1G\u001b[0K⠙\u001b[1G\u001b[0K⠹\u001b[1G\u001b[0K⠸\u001b[1G\u001b[0K⠼\u001b[1G\u001b[0K⠴\u001b[1G\u001b[0K⠦\u001b[1G\u001b[0K⠧\u001b[1G\u001b[0K⠇\u001b[1G\u001b[0K⠏\u001b[1G\u001b[0K⠋\u001b[1G\u001b[0K⠙\u001b[1G\u001b[0K⠹\u001b[1G\u001b[0K⠸\u001b[1G\u001b[0K⠼\u001b[1G\u001b[0K⠴\u001b[1G\u001b[0K⠦\u001b[1G\u001b[0K⠧\u001b[1G\u001b[0K⠇\u001b[1G\u001b[0K⠏\u001b[1G\u001b[0K⠋\u001b[1G\u001b[0K⠙\u001b[1G\u001b[0K⠹\u001b[1G\u001b[0K⠸\u001b[1G\u001b[0K⠼\u001b[1G\u001b[0K⠴\u001b[1G\u001b[0K⠦\u001b[1G\u001b[0K⠧\u001b[1G\u001b[0K⠇\u001b[1G\u001b[0K⠏\u001b[1G\u001b[0K⠋\u001b[1G\u001b[0K⠙\u001b[1G\u001b[0K⠹\u001b[1G\u001b[0K⠸\u001b[1G\u001b[0K⠼\u001b[1G\u001b[0K⠴\u001b[1G\u001b[0K⠦\u001b[1G\u001b[0K⠧\u001b[1G\u001b[0K⠇\u001b[1G\u001b[0K⠏\u001b[1G\u001b[0K⠋\u001b[1G\u001b[0K⠙\u001b[1G\u001b[0K⠹\u001b[1G\u001b[0K⠸\u001b[1G\u001b[0K⠼\u001b[1G\u001b[0K⠴\u001b[1G\u001b[0K⠦\u001b[1G\u001b[0K⠧\u001b[1G\u001b[0K⠇\u001b[1G\u001b[0K⠏\u001b[1G\u001b[0K⠋\u001b[1G\u001b[0K⠙\u001b[1G\u001b[0K⠹\u001b[1G\u001b[0K⠸\u001b[1G\u001b[0K⠼\u001b[1G\u001b[0K⠴\u001b[1G\u001b[0K⠦\u001b[1G\u001b[0K⠧\u001b[1G\u001b[0K⠇\u001b[1G\u001b[0K⠏\u001b[1G\u001b[0K⠋\u001b[1G\u001b[0K⠙\u001b[1G\u001b[0K⠹\u001b[1G\u001b[0K⠸\u001b[1G\u001b[0K⠼\u001b[1G\u001b[0K⠴\u001b[1G\u001b[0K⠦\u001b[1G\u001b[0K⠧\u001b[1G\u001b[0K⠇\u001b[1G\u001b[0K⠏\u001b[1G\u001b[0K⠋\u001b[1G\u001b[0K⠙\u001b[1G\u001b[0K⠹\u001b[1G\u001b[0K⠸\u001b[1G\u001b[0K⠼\u001b[1G\u001b[0K⠴\u001b[1G\u001b[0K⠦\u001b[1G\u001b[0K⠧\u001b[1G\u001b[0K⠇\u001b[1G\u001b[0K⠏\u001b[1G\u001b[0K⠋\u001b[1G\u001b[0K⠙\u001b[1G\u001b[0K⠹\u001b[1G\u001b[0K⠸\u001b[1G\u001b[0K⠼\u001b[1G\u001b[0K⠴\u001b[1G\u001b[0K⠦\u001b[1G\u001b[0K⠧\u001b[1G\u001b[0K⠇\u001b[1G\u001b[0K⠏\u001b[1G\u001b[0K⠋\u001b[1G\u001b[0K⠙\u001b[1G\u001b[0K⠹\u001b[1G\u001b[0K⠸\u001b[1G\u001b[0K⠼\u001b[1G\u001b[0K⠴\u001b[1G\u001b[0K⠦\u001b[1G\u001b[0K⠧\u001b[1G\u001b[0K⠇\u001b[1G\u001b[0K⠏\u001b[1G\u001b[0K⠋\u001b[1G\u001b[0K⠙\u001b[1G\u001b[0K⠹\u001b[1G\u001b[0K⠸\u001b[1G\u001b[0K⠼\u001b[1G\u001b[0K⠴\u001b[1G\u001b[0K⠦\u001b[1G\u001b[0K⠧\u001b[1G\u001b[0K⠇\u001b[1G\u001b[0K⠏\u001b[1G\u001b[0K⠋\u001b[1G\u001b[0K⠙\u001b[1G\u001b[0K⠹\u001b[1G\u001b[0K⠸\u001b[1G\u001b[0K⠼\u001b[1G\u001b[0K⠴\u001b[1G\u001b[0K⠦\u001b[1G\u001b[0K⠧\u001b[1G\u001b[0K⠇\u001b[1G\u001b[0K⠏\u001b[1G\u001b[0K⠋\u001b[1G\u001b[0K⠙\u001b[1G\u001b[0K⠹\u001b[1G\u001b[0K⠸\u001b[1G\u001b[0K⠼\u001b[1G\u001b[0K⠴\u001b[1G\u001b[0K⠦\u001b[1G\u001b[0K⠧\u001b[1G\u001b[0K⠇\u001b[1G\u001b[0K⠏\u001b[1G\u001b[0K⠋\u001b[1G\u001b[0K⠙\u001b[1G\u001b[0K⠹\u001b[1G\u001b[0K⠸\u001b[1G\u001b[0K⠼\u001b[1G\u001b[0K⠴\u001b[1G\u001b[0K⠦\u001b[1G\u001b[0K⠧\u001b[1G\u001b[0K⠇\u001b[1G\u001b[0K⠏\u001b[1G\u001b[0K⠋\u001b[1G\u001b[0K⠙\u001b[1G\u001b[0K⠹\u001b[1G\u001b[0K⠸\u001b[1G\u001b[0K⠼\u001b[1G\u001b[0K⠴\u001b[1G\u001b[0K⠦\u001b[1G\u001b[0K⠧\u001b[1G\u001b[0K⠇\u001b[1G\u001b[0K⠏\u001b[1G\u001b[0K⠋\u001b[1G\u001b[0K⠙\u001b[1G\u001b[0K⠹\u001b[1G\u001b[0K⠸\u001b[1G\u001b[0K⠼\u001b[1G\u001b[0K⠴\u001b[1G\u001b[0K⠦\u001b[1G\u001b[0K⠧\u001b[1G\u001b[0K⠇\u001b[1G\u001b[0K⠏\u001b[1G\u001b[0K⠋\u001b[1G\u001b[0K⠙\u001b[1G\u001b[0K⠹\u001b[1G\u001b[0K⠸\u001b[1G\u001b[0K⠼\u001b[1G\u001b[0K⠴\u001b[1G\u001b[0K⠦\u001b[1G\u001b[0K⠧\u001b[1G\u001b[0K⠇\u001b[1G\u001b[0K⠏\u001b[1G\u001b[0K⠋\u001b[1G\u001b[0K⠙\u001b[1G\u001b[0K⠹\u001b[1G\u001b[0K⠸\u001b[1G\u001b[0K⠼\u001b[1G\u001b[0K⠴\u001b[1G\u001b[0K⠦\u001b[1G\u001b[0K⠧\u001b[1G\u001b[0K⠇\u001b[1G\u001b[0K⠏\u001b[1G\u001b[0K⠋\u001b[1G\u001b[0K⠙\u001b[1G\u001b[0K⠹\u001b[1G\u001b[0K⠸\u001b[1G\u001b[0K⠼\u001b[1G\u001b[0K⠴\u001b[1G\u001b[0K⠦\u001b[1G\u001b[0K⠧\u001b[1G\u001b[0K⠇\u001b[1G\u001b[0K⠏\u001b[1G\u001b[0K⠋\u001b[1G\u001b[0K⠙\u001b[1G\u001b[0K⠹\u001b[1G\u001b[0K⠸\u001b[1G\u001b[0K⠼\u001b[1G\u001b[0K⠴\u001b[1G\u001b[0K⠦\u001b[1G\u001b[0K⠧\u001b[1G\u001b[0K⠇\u001b[1G\u001b[0K⠏\u001b[1G\u001b[0K⠋\u001b[1G\u001b[0K⠙\u001b[1G\u001b[0K⠹\u001b[1G\u001b[0K⠸\u001b[1G\u001b[0K⠼\u001b[1G\u001b[0K⠴\u001b[1G\u001b[0K⠦\u001b[1G\u001b[0K⠧\u001b[1G\u001b[0K⠇\u001b[1G\u001b[0K⠏\u001b[1G\u001b[0K⠋\u001b[1G\u001b[0K⠙\u001b[1G\u001b[0K⠹\u001b[1G\u001b[0K⠸\u001b[1G\u001b[0K⠼\u001b[1G\u001b[0K⠴\u001b[1G\u001b[0K⠦\u001b[1G\u001b[0K⠧\u001b[1G\u001b[0K⠇\u001b[1G\u001b[0K⠏\u001b[1G\u001b[0K⠋\u001b[1G\u001b[0K⠙\u001b[1G\u001b[0K⠹\u001b[1G\u001b[0K⠸\u001b[1G\u001b[0K⠼\u001b[1G\u001b[0K⠴\u001b[1G\u001b[0K⠦\u001b[1G\u001b[0K⠧\u001b[1G\u001b[0K⠇\u001b[1G\u001b[0K⠏\u001b[1G\u001b[0K⠋\u001b[1G\u001b[0K⠙\u001b[1G\u001b[0K⠹\u001b[1G\u001b[0K⠸\u001b[1G\u001b[0K⠼\u001b[1G\u001b[0K⠴\u001b[1G\u001b[0K⠦\u001b[1G\u001b[0K⠧\u001b[1G\u001b[0K⠇\u001b[1G\u001b[0K⠏\u001b[1G\u001b[0K⠋\u001b[1G\u001b[0K⠙\u001b[1G\u001b[0K⠹\u001b[1G\u001b[0K⠸\u001b[1G\u001b[0K⠼\u001b[1G\u001b[0K⠴\u001b[1G\u001b[0K⠦\u001b[1G\u001b[0K⠧\u001b[1G\u001b[0K⠇\u001b[1G\u001b[0K⠏\u001b[1G\u001b[0K⠋\u001b[1G\u001b[0K⠙\u001b[1G\u001b[0K⠹\u001b[1G\u001b[0K⠸\u001b[1G\u001b[0K⠼\u001b[1G\u001b[0K⠴\u001b[1G\u001b[0K⠦\u001b[1G\u001b[0K⠧\u001b[1G\u001b[0K⠇\u001b[1G\u001b[0K⠏\u001b[1G\u001b[0K⠋\u001b[1G\u001b[0K⠙\u001b[1G\u001b[0K⠹\u001b[1G\u001b[0K⠸\u001b[1G\u001b[0K⠼\u001b[1G\u001b[0K⠴\u001b[1G\u001b[0K⠦\u001b[1G\u001b[0K⠧\u001b[1G\u001b[0K⠇\u001b[1G\u001b[0K⠏\u001b[1G\u001b[0K⠋\u001b[1G\u001b[0K⠙\u001b[1G\u001b[0K⠹\u001b[1G\u001b[0K⠸\u001b[1G\u001b[0K⠼\u001b[1G\u001b[0K⠴\u001b[1G\u001b[0K⠦\u001b[1G\u001b[0K⠧\u001b[1G\u001b[0K⠇\u001b[1G\u001b[0K⠏\u001b[1G\u001b[0K⠋\u001b[1G\u001b[0K⠙\u001b[1G\u001b[0K⠹\u001b[1G\u001b[0K⠸\u001b[1G\u001b[0K⠼\u001b[1G\u001b[0K⠴\u001b[1G\u001b[0K⠦\u001b[1G\u001b[0K⠧\u001b[1G\u001b[0K⠇\u001b[1G\u001b[0K⠏\u001b[1G\u001b[0K⠋\u001b[1G\u001b[0K⠙\u001b[1G\u001b[0K⠹\u001b[1G\u001b[0K⠸\u001b[1G\u001b[0K⠼\u001b[1G\u001b[0K⠴\u001b[1G\u001b[0K⠦\u001b[1G\u001b[0K⠧\u001b[1G\u001b[0K⠇\u001b[1G\u001b[0K⠏\u001b[1G\u001b[0K⠋\u001b[1G\u001b[0K⠙\u001b[1G\u001b[0K⠹\u001b[1G\u001b[0K⠸\u001b[1G\u001b[0K⠼\u001b[1G\u001b[0K⠴\u001b[1G\u001b[0K⠦\u001b[1G\u001b[0K⠧\u001b[1G\u001b[0K⠇\u001b[1G\u001b[0K⠏\u001b[1G\u001b[0K⠋\u001b[1G\u001b[0K⠙\u001b[1G\u001b[0K⠹\u001b[1G\u001b[0K⠸\u001b[1G\u001b[0K⠼\u001b[1G\u001b[0K⠴\u001b[1G\u001b[0K⠦\u001b[1G\u001b[0K⠧\u001b[1G\u001b[0K⠇\u001b[1G\u001b[0K⠏\u001b[1G\u001b[0K⠋\u001b[1G\u001b[0K⠙\u001b[1G\u001b[0K⠹\u001b[1G\u001b[0K⠸\u001b[1G\u001b[0K⠼\u001b[1G\u001b[0K⠴\u001b[1G\u001b[0K⠦\u001b[1G\u001b[0K⠧\u001b[1G\u001b[0K⠇\u001b[1G\u001b[0K⠏\u001b[1G\u001b[0K⠋\u001b[1G\u001b[0K⠙\u001b[1G\u001b[0K⠹\u001b[1G\u001b[0K⠸\u001b[1G\u001b[0K⠼\u001b[1G\u001b[0K⠴\u001b[1G\u001b[0K⠦\u001b[1G\u001b[0K⠧\u001b[1G\u001b[0K⠇\u001b[1G\u001b[0K⠏\u001b[1G\u001b[0K⠋\u001b[1G\u001b[0K⠙\u001b[1G\u001b[0K⠹\u001b[1G\u001b[0K⠸\u001b[1G\u001b[0K⠼\u001b[1G\u001b[0K⠴\u001b[1G\u001b[0K⠦\u001b[1G\u001b[0K⠧\u001b[1G\u001b[0K⠇\u001b[1G\u001b[0K⠏\u001b[1G\u001b[0K⠋\u001b[1G\u001b[0K⠙\u001b[1G\u001b[0K⠹\u001b[1G\u001b[0K⠸\u001b[1G\u001b[0K⠼\u001b[1G\u001b[0K⠴\u001b[1G\u001b[0K⠦\u001b[1G\u001b[0K⠧\u001b[1G\u001b[0K⠇\u001b[1G\u001b[0K⠏\u001b[1G\u001b[0K⠋\u001b[1G\u001b[0K⠙\u001b[1G\u001b[0K⠹\u001b[1G\u001b[0K⠸\u001b[1G\u001b[0K⠼\u001b[1G\u001b[0K⠴\u001b[1G\u001b[0K⠦\u001b[1G\u001b[0K⠧\u001b[1G\u001b[0K⠇\u001b[1G\u001b[0K⠏\u001b[1G\u001b[0K⠋\u001b[1G\u001b[0K⠙\u001b[1G\u001b[0K⠹\u001b[1G\u001b[0K⠸\u001b[1G\u001b[0K⠼\u001b[1G\u001b[0K⠴\u001b[1G\u001b[0K⠦\u001b[1G\u001b[0K⠧\u001b[1G\u001b[0K⠇\u001b[1G\u001b[0K⠏\u001b[1G\u001b[0K⠋\u001b[1G\u001b[0K⠙\u001b[1G\u001b[0K⠹\u001b[1G\u001b[0K⠸\u001b[1G\u001b[0K⠼\u001b[1G\u001b[0K⠴\u001b[1G\u001b[0K⠦\u001b[1G\u001b[0K⠧\u001b[1G\u001b[0K⠇\u001b[1G\u001b[0K⠏\u001b[1G\u001b[0K⠋\u001b[1G\u001b[0K⠙\u001b[1G\u001b[0K⠹\u001b[1G\u001b[0K⠸\u001b[1G\u001b[0K⠼\u001b[1G\u001b[0K⠴\u001b[1G\u001b[0K⠦\u001b[1G\u001b[0K⠧\u001b[1G\u001b[0K⠇\u001b[1G\u001b[0K⠏\u001b[1G\u001b[0K⠋\u001b[1G\u001b[0K⠙\u001b[1G\u001b[0K⠹\u001b[1G\u001b[0K⠸\u001b[1G\u001b[0K⠼\u001b[1G\u001b[0K⠴\u001b[1G\u001b[0K⠦\u001b[1G\u001b[0K⠧\u001b[1G\u001b[0K⠇\u001b[1G\u001b[0K⠏\u001b[1G\u001b[0K⠋\u001b[1G\u001b[0K⠙\u001b[1G\u001b[0K⠹\u001b[1G\u001b[0K⠸\u001b[1G\u001b[0K⠼\u001b[1G\u001b[0K⠴\u001b[1G\u001b[0K⠦\u001b[1G\u001b[0K⠧\u001b[1G\u001b[0K⠇\u001b[1G\u001b[0K⠏\u001b[1G\u001b[0K⠋\u001b[1G\u001b[0K⠙\u001b[1G\u001b[0K⠹\u001b[1G\u001b[0K⠸\u001b[1G\u001b[0K⠼\u001b[1G\u001b[0K⠴\u001b[1G\u001b[0K⠦\u001b[1G\u001b[0K⠧\u001b[1G\u001b[0K⠇\u001b[1G\u001b[0K⠏\u001b[1G\u001b[0K⠋\u001b[1G\u001b[0K⠙\u001b[1G\u001b[0K⠹\u001b[1G\u001b[0K⠸\u001b[1G\u001b[0K⠼\u001b[1G\u001b[0K⠴\u001b[1G\u001b[0K⠦\u001b[1G\u001b[0K⠧\u001b[1G\u001b[0K⠇\u001b[1G\u001b[0K⠏\u001b[1G\u001b[0K⠋\u001b[1G\u001b[0K⠙\u001b[1G\u001b[0K⠹\u001b[1G\u001b[0K⠸\u001b[1G\u001b[0K⠼\u001b[1G\u001b[0K⠴\u001b[1G\u001b[0K⠦\u001b[1G\u001b[0K⠧\u001b[1G\u001b[0K⠇\u001b[1G\u001b[0K⠏\u001b[1G\u001b[0K⠋\u001b[1G\u001b[0K⠙\u001b[1G\u001b[0K⠹\u001b[1G\u001b[0K⠸\u001b[1G\u001b[0K⠼\u001b[1G\u001b[0K⠴\u001b[1G\u001b[0K⠦\u001b[1G\u001b[0K⠧\u001b[1G\u001b[0K⠇\u001b[1G\u001b[0K⠏\u001b[1G\u001b[0K⠋\u001b[1G\u001b[0K⠙\u001b[1G\u001b[0K⠹\u001b[1G\u001b[0K⠸\u001b[1G\u001b[0K⠼\u001b[1G\u001b[0K⠴\u001b[1G\u001b[0K⠦\u001b[1G\u001b[0K⠧\u001b[1G\u001b[0K⠇\u001b[1G\u001b[0K⠏\u001b[1G\u001b[0K⠋\u001b[1G\u001b[0K⠙\u001b[1G\u001b[0K⠹\u001b[1G\u001b[0K⠸\u001b[1G\u001b[0K⠼\u001b[1G\u001b[0K⠴\u001b[1G\u001b[0K⠦\u001b[1G\u001b[0K⠧\u001b[1G\u001b[0K⠇\u001b[1G\u001b[0K⠏\u001b[1G\u001b[0K⠋\u001b[1G\u001b[0K⠙\u001b[1G\u001b[0K⠹\u001b[1G\u001b[0K⠸\u001b[1G\u001b[0K⠼\u001b[1G\u001b[0K⠴\u001b[1G\u001b[0K⠦\u001b[1G\u001b[0K⠧\u001b[1G\u001b[0K⠇\u001b[1G\u001b[0K⠏\u001b[1G\u001b[0K⠋\u001b[1G\u001b[0K⠙\u001b[1G\u001b[0K⠹\u001b[1G\u001b[0K⠸\u001b[1G\u001b[0K⠼\u001b[1G\u001b[0K⠴\u001b[1G\u001b[0K⠦\u001b[1G\u001b[0K⠧\u001b[1G\u001b[0K⠇\u001b[1G\u001b[0K⠏\u001b[1G\u001b[0K⠋\u001b[1G\u001b[0K⠙\u001b[1G\u001b[0K⠹\u001b[1G\u001b[0K⠸\u001b[1G\u001b[0K⠼\u001b[1G\u001b[0K⠴\u001b[1G\u001b[0K⠦\u001b[1G\u001b[0K⠧\u001b[1G\u001b[0K⠇\u001b[1G\u001b[0K⠏\u001b[1G\u001b[0K⠋\u001b[1G\u001b[0K⠙\u001b[1G\u001b[0K⠹\u001b[1G\u001b[0K⠸\u001b[1G\u001b[0K⠼\u001b[1G\u001b[0K⠴\u001b[1G\u001b[0K⠦\u001b[1G\u001b[0K⠧\u001b[1G\u001b[0K⠇\u001b[1G\u001b[0K⠏\u001b[1G\u001b[0K⠋\u001b[1G\u001b[0K⠙\u001b[1G\u001b[0K⠹\u001b[1G\u001b[0K⠸\u001b[1G\u001b[0K⠼\u001b[1G\u001b[0K⠴\u001b[1G\u001b[0K⠦\u001b[1G\u001b[0K⠧\u001b[1G\u001b[0K⠇\u001b[1G\u001b[0K⠏\u001b[1G\u001b[0K⠋\u001b[1G\u001b[0K⠙\u001b[1G\u001b[0K⠹\u001b[1G\u001b[0K⠸\u001b[1G\u001b[0K⠼\u001b[1G\u001b[0K⠴\u001b[1G\u001b[0K⠦\u001b[1G\u001b[0K⠧\u001b[1G\u001b[0K⠇\u001b[1G\u001b[0K⠏\u001b[1G\u001b[0K⠋\u001b[1G\u001b[0K⠙\u001b[1G\u001b[0K⠹\u001b[1G\u001b[0K⠸\u001b[1G\u001b[0K⠼\u001b[1G\u001b[0K⠴\u001b[1G\u001b[0K⠦\u001b[1G\u001b[0K⠧\u001b[1G\u001b[0K⠇\u001b[1G\u001b[0K⠏\u001b[1G\u001b[0K⠋\u001b[1G\u001b[0K⠙\u001b[1G\u001b[0K⠹\u001b[1G\u001b[0K⠸\u001b[1G\u001b[0K⠼\u001b[1G\u001b[0K⠴\u001b[1G\u001b[0K⠦\u001b[1G\u001b[0K⠧\u001b[1G\u001b[0K⠇\u001b[1G\u001b[0K⠏\u001b[1G\u001b[0K⠋\u001b[1G\u001b[0K⠙\u001b[1G\u001b[0K⠹\u001b[1G\u001b[0K⠸\u001b[1G\u001b[0K⠼\u001b[1G\u001b[0K⠴\u001b[1G\u001b[0K⠦\u001b[1G\u001b[0K⠧\u001b[1G\u001b[0K⠇\u001b[1G\u001b[0K⠏\u001b[1G\u001b[0K⠋\u001b[1G\u001b[0K⠙\u001b[1G\u001b[0K⠹\u001b[1G\u001b[0K⠸\u001b[1G\u001b[0K⠼\u001b[1G\u001b[0K⠴\u001b[1G\u001b[0K⠦\u001b[1G\u001b[0K⠧\u001b[1G\u001b[0K⠇\u001b[1G\u001b[0K⠏\u001b[1G\u001b[0K⠋\u001b[1G\u001b[0K⠙\u001b[1G\u001b[0K⠹\u001b[1G\u001b[0K⠸\u001b[1G\u001b[0K⠼\u001b[1G\u001b[0K⠴\u001b[1G\u001b[0K⠦\u001b[1G\u001b[0K⠧\u001b[1G\u001b[0K⠇\u001b[1G\u001b[0K⠏\u001b[1G\u001b[0K⠋\u001b[1G\u001b[0K⠙\u001b[1G\u001b[0K⠹\u001b[1G\u001b[0K⠸\u001b[1G\u001b[0K⠼\u001b[1G\u001b[0K⠴\u001b[1G\u001b[0K⠦\u001b[1G\u001b[0K⠧\u001b[1G\u001b[0K⠇\u001b[1G\u001b[0K⠏\u001b[1G\u001b[0K⠋\u001b[1G\u001b[0K⠙\u001b[1G\u001b[0K⠹\u001b[1G\u001b[0K⠸\u001b[1G\u001b[0K⠼\u001b[1G\u001b[0K⠴\u001b[1G\u001b[0K⠦\u001b[1G\u001b[0K⠧\u001b[1G\u001b[0K⠇\u001b[1G\u001b[0K⠏\u001b[1G\u001b[0K⠋\u001b[1G\u001b[0K⠙\u001b[1G\u001b[0K⠹\u001b[1G\u001b[0K⠸\u001b[1G\u001b[0K⠼\u001b[1G\u001b[0K⠴\u001b[1G\u001b[0K⠦\u001b[1G\u001b[0K⠧\u001b[1G\u001b[0K⠇\u001b[1G\u001b[0K⠏\u001b[1G\u001b[0K⠋\u001b[1G\u001b[0K⠙\u001b[1G\u001b[0K⠹\u001b[1G\u001b[0K⠸\u001b[1G\u001b[0K⠼\u001b[1G\u001b[0K⠴\u001b[1G\u001b[0K⠦\u001b[1G\u001b[0K⠧\u001b[1G\u001b[0K⠇\u001b[1G\u001b[0K⠏\u001b[1G\u001b[0K⠋\u001b[1G\u001b[0K⠙\u001b[1G\u001b[0K⠹\u001b[1G\u001b[0K⠸\u001b[1G\u001b[0K⠼\u001b[1G\u001b[0K⠴\u001b[1G\u001b[0K⠦\u001b[1G\u001b[0K⠧\u001b[1G\u001b[0K⠇\u001b[1G\u001b[0K⠏\u001b[1G\u001b[0K⠋\u001b[1G\u001b[0K⠙\u001b[1G\u001b[0K⠹\u001b[1G\u001b[0K⠸\u001b[1G\u001b[0K⠼\u001b[1G\u001b[0K⠴\u001b[1G\u001b[0K⠦\u001b[1G\u001b[0K⠧\u001b[1G\u001b[0K⠇\u001b[1G\u001b[0K⠏\u001b[1G\u001b[0K⠋\u001b[1G\u001b[0K⠙\u001b[1G\u001b[0K⠹\u001b[1G\u001b[0K⠸\u001b[1G\u001b[0K⠼\u001b[1G\u001b[0K⠴\u001b[1G\u001b[0K⠦\u001b[1G\u001b[0K⠧\u001b[1G\u001b[0K⠇\u001b[1G\u001b[0K⠏\u001b[1G\u001b[0K⠋\u001b[1G\u001b[0K⠙\u001b[1G\u001b[0K⠹\u001b[1G\u001b[0K⠸\u001b[1G\u001b[0K⠼\u001b[1G\u001b[0K⠴\u001b[1G\u001b[0K⠦\u001b[1G\u001b[0K⠧\u001b[1G\u001b[0K⠇\u001b[1G\u001b[0K⠏\u001b[1G\u001b[0K⠋\u001b[1G\u001b[0K⠙\u001b[1G\u001b[0K⠹\u001b[1G\u001b[0K⠸\u001b[1G\u001b[0K⠼\u001b[1G\u001b[0K⠴\u001b[1G\u001b[0K⠦\u001b[1G\u001b[0K⠧\u001b[1G\u001b[0K⠇\u001b[1G\u001b[0K⠏\u001b[1G\u001b[0K⠋\u001b[1G\u001b[0K⠙\u001b[1G\u001b[0K⠹\u001b[1G\u001b[0K⠸\u001b[1G\u001b[0K⠼\u001b[1G\u001b[0K⠴\u001b[1G\u001b[0K⠦\u001b[1G\u001b[0K⠧\u001b[1G\u001b[0K⠇\u001b[1G\u001b[0K⠏\u001b[1G\u001b[0K⠋\u001b[1G\u001b[0K⠙\u001b[1G\u001b[0K⠹\u001b[1G\u001b[0K⠸\u001b[1G\u001b[0K⠼\u001b[1G\u001b[0K⠴\u001b[1G\u001b[0K⠦\u001b[1G\u001b[0K⠧\u001b[1G\u001b[0K⠇\u001b[1G\u001b[0K⠏\u001b[1G\u001b[0K⠋\u001b[1G\u001b[0K⠙\u001b[1G\u001b[0K⠹\u001b[1G\u001b[0K⠸\u001b[1G\u001b[0K⠼\u001b[1G\u001b[0K⠴\u001b[1G\u001b[0K⠦\u001b[1G\u001b[0K⠧\u001b[1G\u001b[0K⠇\u001b[1G\u001b[0K⠏\u001b[1G\u001b[0K⠋\u001b[1G\u001b[0K⠙\u001b[1G\u001b[0K⠹\u001b[1G\u001b[0K⠸\u001b[1G\u001b[0K⠼\u001b[1G\u001b[0K⠴\u001b[1G\u001b[0K⠦\u001b[1G\u001b[0K⠧\u001b[1G\u001b[0K⠇\u001b[1G\u001b[0K⠏\u001b[1G\u001b[0K⠋\u001b[1G\u001b[0K⠙\u001b[1G\u001b[0K⠹\u001b[1G\u001b[0K⠸\u001b[1G\u001b[0K⠼\u001b[1G\u001b[0K⠴\u001b[1G\u001b[0K⠦\u001b[1G\u001b[0K⠧\u001b[1G\u001b[0K⠇\u001b[1G\u001b[0K⠏\u001b[1G\u001b[0K⠋\u001b[1G\u001b[0K⠙\u001b[1G\u001b[0K⠹\u001b[1G\u001b[0K⠸\u001b[1G\u001b[0K⠼\u001b[1G\u001b[0K⠴\u001b[1G\u001b[0K⠦\u001b[1G\u001b[0K⠧\u001b[1G\u001b[0K⠇\u001b[1G\u001b[0K⠏\u001b[1G\u001b[0K⠋\u001b[1G\u001b[0K⠙\u001b[1G\u001b[0K⠹\u001b[1G\u001b[0K⠸\u001b[1G\u001b[0K⠼\u001b[1G\u001b[0K⠴\u001b[1G\u001b[0K⠦\u001b[1G\u001b[0K⠧\u001b[1G\u001b[0K⠇\u001b[1G\u001b[0K⠏\u001b[1G\u001b[0K⠋\u001b[1G\u001b[0K⠙\u001b[1G\u001b[0K⠹\u001b[1G\u001b[0K⠸\u001b[1G\u001b[0K⠼\u001b[1G\u001b[0K⠴\u001b[1G\u001b[0K⠦\u001b[1G\u001b[0K⠧\u001b[1G\u001b[0K⠇\u001b[1G\u001b[0K⠏\u001b[1G\u001b[0K⠋\u001b[1G\u001b[0K⠙\u001b[1G\u001b[0K⠹\u001b[1G\u001b[0K⠸\u001b[1G\u001b[0K⠼\u001b[1G\u001b[0K⠴\u001b[1G\u001b[0K⠦\u001b[1G\u001b[0K⠧\u001b[1G\u001b[0K⠇\u001b[1G\u001b[0K⠏\u001b[1G\u001b[0K⠋\u001b[1G\u001b[0K⠙\u001b[1G\u001b[0K⠹\u001b[1G\u001b[0K⠸\u001b[1G\u001b[0K⠼\u001b[1G\u001b[0K⠴\u001b[1G\u001b[0K⠦\u001b[1G\u001b[0K⠧\u001b[1G\u001b[0K⠇\u001b[1G\u001b[0K⠏\u001b[1G\u001b[0K⠋\u001b[1G\u001b[0K⠙\u001b[1G\u001b[0K⠹\u001b[1G\u001b[0K⠸\u001b[1G\u001b[0K⠼\u001b[1G\u001b[0K⠴\u001b[1G\u001b[0K⠦\u001b[1G\u001b[0K⠧\u001b[1G\u001b[0K⠇\u001b[1G\u001b[0K⠏\u001b[1G\u001b[0K⠋\u001b[1G\u001b[0K⠙\u001b[1G\u001b[0K⠹\u001b[1G\u001b[0K⠸\u001b[1G\u001b[0K⠼\u001b[1G\u001b[0K⠴\u001b[1G\u001b[0K⠦\u001b[1G\u001b[0K⠧\u001b[1G\u001b[0K⠇\u001b[1G\u001b[0K⠏\u001b[1G\u001b[0K⠋\u001b[1G\u001b[0K⠙\u001b[1G\u001b[0K⠹\u001b[1G\u001b[0K⠸\u001b[1G\u001b[0K⠼\u001b[1G\u001b[0K⠴\u001b[1G\u001b[0K⠦\u001b[1G\u001b[0K⠧\u001b[1G\u001b[0K⠇\u001b[1G\u001b[0K⠏\u001b[1G\u001b[0K⠋\u001b[1G\u001b[0K⠙\u001b[1G\u001b[0K⠹\u001b[1G\u001b[0K⠸\u001b[1G\u001b[0K⠼\u001b[1G\u001b[0K⠴\u001b[1G\u001b[0K⠦\u001b[1G\u001b[0K⠧\u001b[1G\u001b[0K⠇\u001b[1G\u001b[0K⠏\u001b[1G\u001b[0K⠋\u001b[1G\u001b[0K⠙\u001b[1G\u001b[0K⠹\u001b[1G\u001b[0K⠸\u001b[1G\u001b[0K⠼\u001b[1G\u001b[0K⠴\u001b[1G\u001b[0K⠦\u001b[1G\u001b[0K⠧\u001b[1G\u001b[0K⠇\u001b[1G\u001b[0K⠏\u001b[1G\u001b[0K⠋\u001b[1G\u001b[0K⠙\u001b[1G\u001b[0K⠹\u001b[1G\u001b[0K⠸\u001b[1G\u001b[0K⠼\u001b[1G\u001b[0K⠴\u001b[1G\u001b[0K⠦\u001b[1G\u001b[0K⠧\u001b[1G\u001b[0K⠇\u001b[1G\u001b[0K⠏\u001b[1G\u001b[0K⠋\u001b[1G\u001b[0K⠙\u001b[1G\u001b[0K⠹\u001b[1G\u001b[0K⠸\u001b[1G\u001b[0K⠼\u001b[1G\u001b[0K⠴\u001b[1G\u001b[0K⠦\u001b[1G\u001b[0K⠧\u001b[1G\u001b[0K⠇\u001b[1G\u001b[0K⠏\u001b[1G\u001b[0K⠋\u001b[1G\u001b[0K⠙\u001b[1G\u001b[0K⠹\u001b[1G\u001b[0K⠸\u001b[1G\u001b[0K⠼\u001b[1G\u001b[0K⠴\u001b[1G\u001b[0K⠦\u001b[1G\u001b[0K⠧\u001b[1G\u001b[0K⠇\u001b[1G\u001b[0K⠏\u001b[1G\u001b[0K⠋\u001b[1G\u001b[0K⠙\u001b[1G\u001b[0K⠹\u001b[1G\u001b[0K⠸\u001b[1G\u001b[0K⠼\u001b[1G\u001b[0K⠴\u001b[1G\u001b[0K⠦\u001b[1G\u001b[0K⠧\u001b[1G\u001b[0K⠇\u001b[1G\u001b[0K⠏\u001b[1G\u001b[0K⠋\u001b[1G\u001b[0K⠙\u001b[1G\u001b[0K⠹\u001b[1G\u001b[0K⠸\u001b[1G\u001b[0K⠼\u001b[1G\u001b[0K⠴\u001b[1G\u001b[0K⠦\u001b[1G\u001b[0K⠧\u001b[1G\u001b[0K⠇\u001b[1G\u001b[0K⠏\u001b[1G\u001b[0K⠋\u001b[1G\u001b[0K⠙\u001b[1G\u001b[0K⠹\u001b[1G\u001b[0K⠸\u001b[1G\u001b[0K⠼\u001b[1G\u001b[0K⠴\u001b[1G\u001b[0K⠦\u001b[1G\u001b[0K⠧\u001b[1G\u001b[0K⠇\u001b[1G\u001b[0K⠏\u001b[1G\u001b[0K⠋\u001b[1G\u001b[0K⠙\u001b[1G\u001b[0K⠹\u001b[1G\u001b[0K⠸\u001b[1G\u001b[0K⠼\u001b[1G\u001b[0K⠴\u001b[1G\u001b[0K⠦\u001b[1G\u001b[0K⠧\u001b[1G\u001b[0K⠇\u001b[1G\u001b[0K⠏\u001b[1G\u001b[0K⠋\u001b[1G\u001b[0K⠙\u001b[1G\u001b[0K⠹\u001b[1G\u001b[0K⠸\u001b[1G\u001b[0K⠼\u001b[1G\u001b[0K⠴\u001b[1G\u001b[0K⠦\u001b[1G\u001b[0K⠧\u001b[1G\u001b[0K⠇\u001b[1G\u001b[0K⠏\u001b[1G\u001b[0K⠋\u001b[1G\u001b[0K⠙\u001b[1G\u001b[0K⠹\u001b[1G\u001b[0K⠸\u001b[1G\u001b[0K⠼\u001b[1G\u001b[0K⠴\u001b[1G\u001b[0K⠦\u001b[1G\u001b[0K⠧\u001b[1G\u001b[0K⠇\u001b[1G\u001b[0K⠏\u001b[1G\u001b[0K⠋\u001b[1G\u001b[0K⠙\u001b[1G\u001b[0K⠹\u001b[1G\u001b[0K⠸\u001b[1G\u001b[0K⠼\u001b[1G\u001b[0K⠴\u001b[1G\u001b[0K⠦\u001b[1G\u001b[0K⠧\u001b[1G\u001b[0K⠇\u001b[1G\u001b[0K⠏\u001b[1G\u001b[0K⠋\u001b[1G\u001b[0K⠙\u001b[1G\u001b[0K⠹\u001b[1G\u001b[0K⠸\u001b[1G\u001b[0K⠼\u001b[1G\u001b[0K⠴\u001b[1G\u001b[0K⠦\u001b[1G\u001b[0K⠧\u001b[1G\u001b[0K⠇\u001b[1G\u001b[0K⠏\u001b[1G\u001b[0K⠋\u001b[1G\u001b[0K⠙\u001b[1G\u001b[0K⠹\u001b[1G\u001b[0K⠸\u001b[1G\u001b[0K⠼\u001b[1G\u001b[0K⠴\u001b[1G\u001b[0K⠦\u001b[1G\u001b[0K⠧\u001b[1G\u001b[0K⠇\u001b[1G\u001b[0K⠏\u001b[1G\u001b[0K⠋\u001b[1G\u001b[0K⠙\u001b[1G\u001b[0K⠹\u001b[1G\u001b[0K⠸\u001b[1G\u001b[0K⠼\u001b[1G\u001b[0K⠴\u001b[1G\u001b[0K⠦\u001b[1G\u001b[0K⠧\u001b[1G\u001b[0K⠇\u001b[1G\u001b[0K⠏\u001b[1G\u001b[0K⠋\u001b[1G\u001b[0K⠙\u001b[1G\u001b[0K⠹\u001b[1G\u001b[0K⠸\u001b[1G\u001b[0K⠼\u001b[1G\u001b[0K⠴\u001b[1G\u001b[0K⠦\u001b[1G\u001b[0K⠧\u001b[1G\u001b[0K⠇\u001b[1G\u001b[0K⠏\u001b[1G\u001b[0K⠋\u001b[1G\u001b[0K⠙\u001b[1G\u001b[0K⠹\u001b[1G\u001b[0K⠸\u001b[1G\u001b[0K⠼\u001b[1G\u001b[0K⠴\u001b[1G\u001b[0K⠦\u001b[1G\u001b[0K⠧\u001b[1G\u001b[0K⠇\u001b[1G\u001b[0K⠏\u001b[1G\u001b[0K⠋\u001b[1G\u001b[0K⠙\u001b[1G\u001b[0K⠹\u001b[1G\u001b[0K⠸\u001b[1G\u001b[0K⠼\u001b[1G\u001b[0K⠴\u001b[1G\u001b[0K⠦\u001b[1G\u001b[0K⠧\u001b[1G\u001b[0K⠇\u001b[1G\u001b[0K⠏\u001b[1G\u001b[0K⠋\u001b[1G\u001b[0K⠙\u001b[1G\u001b[0K⠹\u001b[1G\u001b[0K⠸\u001b[1G\u001b[0K⠼\u001b[1G\u001b[0K⠴\u001b[1G\u001b[0K⠦\u001b[1G\u001b[0K⠧\u001b[1G\u001b[0K⠇\u001b[1G\u001b[0K⠏\u001b[1G\u001b[0K⠋\u001b[1G\u001b[0K⠙\u001b[1G\u001b[0K⠹\u001b[1G\u001b[0K⠸\u001b[1G\u001b[0K⠼\u001b[1G\u001b[0K⠴\u001b[1G\u001b[0K⠦\u001b[1G\u001b[0K⠧\u001b[1G\u001b[0K⠇\u001b[1G\u001b[0K⠏\u001b[1G\u001b[0K⠋\u001b[1G\u001b[0K⠙\u001b[1G\u001b[0K⠹\u001b[1G\u001b[0K⠸\u001b[1G\u001b[0K⠼\u001b[1G\u001b[0K⠴\u001b[1G\u001b[0K⠦\u001b[1G\u001b[0K⠧\u001b[1G\u001b[0K⠇\u001b[1G\u001b[0K⠏\u001b[1G\u001b[0K⠋\u001b[1G\u001b[0K⠙\u001b[1G\u001b[0K⠹\u001b[1G\u001b[0K⠸\u001b[1G\u001b[0K⠼\u001b[1G\u001b[0K⠴\u001b[1G\u001b[0K⠦\u001b[1G\u001b[0K⠧\u001b[1G\u001b[0K⠇\u001b[1G\u001b[0K⠏\u001b[1G\u001b[0K⠋\u001b[1G\u001b[0K⠙\u001b[1G\u001b[0K⠹\u001b[1G\u001b[0K⠸\u001b[1G\u001b[0K⠼\u001b[1G\u001b[0K⠴\u001b[1G\u001b[0K⠦\u001b[1G\u001b[0K⠧\u001b[1G\u001b[0K⠇\u001b[1G\u001b[0K⠏\u001b[1G\u001b[0K⠋\u001b[1G\u001b[0K⠙\u001b[1G\u001b[0K⠹\u001b[1G\u001b[0K⠸\u001b[1G\u001b[0K⠼\u001b[1G\u001b[0K⠴\u001b[1G\u001b[0K⠦\u001b[1G\u001b[0K⠧\u001b[1G\u001b[0K⠇\u001b[1G\u001b[0K⠏\u001b[1G\u001b[0K⠋\u001b[1G\u001b[0K⠙\u001b[1G\u001b[0K⠹\u001b[1G\u001b[0K⠸\u001b[1G\u001b[0K⠼\u001b[1G\u001b[0K⠴\u001b[1G\u001b[0K⠦\u001b[1G\u001b[0K⠧\u001b[1G\u001b[0K⠇\u001b[1G\u001b[0K⠏\u001b[1G\u001b[0K⠋\u001b[1G\u001b[0K⠙\u001b[1G\u001b[0K⠹\u001b[1G\u001b[0K⠸\u001b[1G\u001b[0K⠼\u001b[1G\u001b[0K⠴\u001b[1G\u001b[0K⠦\u001b[1G\u001b[0K⠧\u001b[1G\u001b[0K⠇\u001b[1G\u001b[0K⠏\u001b[1G\u001b[0K⠋\u001b[1G\u001b[0K⠙\u001b[1G\u001b[0K⠹\u001b[1G\u001b[0K⠸\u001b[1G\u001b[0K⠼\u001b[1G\u001b[0K⠴\u001b[1G\u001b[0K⠦\u001b[1G\u001b[0K⠧\u001b[1G\u001b[0K⠇\u001b[1G\u001b[0K⠏\u001b[1G\u001b[0K⠋\u001b[1G\u001b[0K⠙\u001b[1G\u001b[0K⠹\u001b[1G\u001b[0K⠸\u001b[1G\u001b[0K⠼\u001b[1G\u001b[0K⠴\u001b[1G\u001b[0K⠦\u001b[1G\u001b[0K⠧\u001b[1G\u001b[0K⠇\u001b[1G\u001b[0K⠏\u001b[1G\u001b[0K⠋\u001b[1G\u001b[0K⠙\u001b[1G\u001b[0K⠹\u001b[1G\u001b[0K⠸\u001b[1G\u001b[0K⠼\u001b[1G\u001b[0K⠴\u001b[1G\u001b[0K⠦\u001b[1G\u001b[0K⠧\u001b[1G\u001b[0K⠇\u001b[1G\u001b[0K⠏\u001b[1G\u001b[0K⠋\u001b[1G\u001b[0K⠙\u001b[1G\u001b[0K⠹\u001b[1G\u001b[0K⠸\u001b[1G\u001b[0K⠼\u001b[1G\u001b[0K⠴\u001b[1G\u001b[0K⠦\u001b[1G\u001b[0K⠧\u001b[1G\u001b[0K⠇\u001b[1G\u001b[0K⠏\u001b[1G\u001b[0K⠋\u001b[1G\u001b[0K⠙\u001b[1G\u001b[0K⠹\u001b[1G\u001b[0K⠸\u001b[1G\u001b[0K⠼\u001b[1G\u001b[0K⠴\u001b[1G\u001b[0K⠦\u001b[1G\u001b[0K⠧\u001b[1G\u001b[0K⠇\u001b[1G\u001b[0K⠏\u001b[1G\u001b[0K⠋\u001b[1G\u001b[0K⠙\u001b[1G\u001b[0K⠹\u001b[1G\u001b[0K⠸\u001b[1G\u001b[0K⠼\u001b[1G\u001b[0K⠴\u001b[1G\u001b[0K⠦\u001b[1G\u001b[0K⠧\u001b[1G\u001b[0K⠇\u001b[1G\u001b[0K⠏\u001b[1G\u001b[0K⠋\u001b[1G\u001b[0K⠙\u001b[1G\u001b[0K⠹\u001b[1G\u001b[0K⠸\u001b[1G\u001b[0K⠼\u001b[1G\u001b[0K⠴\u001b[1G\u001b[0K⠦\u001b[1G\u001b[0K⠧\u001b[1G\u001b[0K⠇\u001b[1G\u001b[0K⠏\u001b[1G\u001b[0K⠋\u001b[1G\u001b[0K⠙\u001b[1G\u001b[0K⠹\u001b[1G\u001b[0K⠸\u001b[1G\u001b[0K⠼\u001b[1G\u001b[0K⠴\u001b[1G\u001b[0K⠦\u001b[1G\u001b[0K⠧\u001b[1G\u001b[0K⠇\u001b[1G\u001b[0K⠏\u001b[1G\u001b[0K⠋\u001b[1G\u001b[0K⠙\u001b[1G\u001b[0K⠹\u001b[1G\u001b[0K⠸\u001b[1G\u001b[0K⠼\u001b[1G\u001b[0K⠴\u001b[1G\u001b[0K⠦\u001b[1G\u001b[0K⠧\u001b[1G\u001b[0K⠇\u001b[1G\u001b[0K⠏\u001b[1G\u001b[0K⠋\u001b[1G\u001b[0K⠙\u001b[1G\u001b[0K⠹\u001b[1G\u001b[0K⠸\u001b[1G\u001b[0K⠼\u001b[1G\u001b[0K⠴\u001b[1G\u001b[0K⠦\u001b[1G\u001b[0K⠧\u001b[1G\u001b[0K⠇\u001b[1G\u001b[0K⠏\u001b[1G\u001b[0K⠋\u001b[1G\u001b[0K⠙\u001b[1G\u001b[0K⠹\u001b[1G\u001b[0K⠸\u001b[1G\u001b[0K⠼\u001b[1G\u001b[0K⠴\u001b[1G\u001b[0K⠦\u001b[1G\u001b[0K⠧\u001b[1G\u001b[0K⠇\u001b[1G\u001b[0K⠏\u001b[1G\u001b[0K⠋\u001b[1G\u001b[0K⠙\u001b[1G\u001b[0K⠹\u001b[1G\u001b[0K⠸\u001b[1G\u001b[0K⠼\u001b[1G\u001b[0K⠴\u001b[1G\u001b[0K⠦\u001b[1G\u001b[0K⠧\u001b[1G\u001b[0K⠇\u001b[1G\u001b[0K⠏\u001b[1G\u001b[0K⠋\u001b[1G\u001b[0K⠙\u001b[1G\u001b[0K⠹\u001b[1G\u001b[0K⠸\u001b[1G\u001b[0K⠼\u001b[1G\u001b[0K⠴\u001b[1G\u001b[0K⠦\u001b[1G\u001b[0K⠧\u001b[1G\u001b[0K⠇\u001b[1G\u001b[0K⠏\u001b[1G\u001b[0K⠋\u001b[1G\u001b[0K⠙\u001b[1G\u001b[0K⠹\u001b[1G\u001b[0K⠸\u001b[1G\u001b[0K⠼\u001b[1G\u001b[0K⠴\u001b[1G\u001b[0K⠦\u001b[1G\u001b[0K⠧\u001b[1G\u001b[0K⠇\u001b[1G\u001b[0K⠏\u001b[1G\u001b[0K⠋\u001b[1G\u001b[0K⠙\u001b[1G\u001b[0K⠹\u001b[1G\u001b[0K⠸\u001b[1G\u001b[0K⠼\u001b[1G\u001b[0K⠴\u001b[1G\u001b[0K⠦\u001b[1G\u001b[0K⠧\u001b[1G\u001b[0K⠇\u001b[1G\u001b[0K⠏\u001b[1G\u001b[0K⠋\u001b[1G\u001b[0K⠙\u001b[1G\u001b[0K⠹\u001b[1G\u001b[0K⠸\u001b[1G\u001b[0K⠼\u001b[1G\u001b[0K⠴\u001b[1G\u001b[0K⠦\u001b[1G\u001b[0K⠧\u001b[1G\u001b[0K⠇\u001b[1G\u001b[0K⠏\u001b[1G\u001b[0K⠋\u001b[1G\u001b[0K⠙\u001b[1G\u001b[0K⠹\u001b[1G\u001b[0K⠸\u001b[1G\u001b[0K⠼\u001b[1G\u001b[0K⠴\u001b[1G\u001b[0K⠦\u001b[1G\u001b[0K⠧\u001b[1G\u001b[0K⠇\u001b[1G\u001b[0K⠏\u001b[1G\u001b[0K⠋\u001b[1G\u001b[0K⠙\u001b[1G\u001b[0K⠹\u001b[1G\u001b[0K⠸\u001b[1G\u001b[0K⠼\u001b[1G\u001b[0K⠴\u001b[1G\u001b[0K⠦\u001b[1G\u001b[0K⠧\u001b[1G\u001b[0K⠇\u001b[1G\u001b[0K⠏\u001b[1G\u001b[0K⠋\u001b[1G\u001b[0K⠙\u001b[1G\u001b[0K⠹\u001b[1G\u001b[0K⠸\u001b[1G\u001b[0K⠼\u001b[1G\u001b[0K⠴\u001b[1G\u001b[0K⠦\u001b[1G\u001b[0K⠧\u001b[1G\u001b[0K⠇\u001b[1G\u001b[0K⠏\u001b[1G\u001b[0K⠋\u001b[1G\u001b[0K⠙\u001b[1G\u001b[0K⠹\u001b[1G\u001b[0K⠸\u001b[1G\u001b[0K⠼\u001b[1G\u001b[0K⠴\u001b[1G\u001b[0K⠦\u001b[1G\u001b[0K⠧\u001b[1G\u001b[0K⠇\u001b[1G\u001b[0K⠏\u001b[1G\u001b[0K⠋\u001b[1G\u001b[0K⠙\u001b[1G\u001b[0K⠹\u001b[1G\u001b[0K⠸\u001b[1G\u001b[0K⠼\u001b[1G\u001b[0K⠴\u001b[1G\u001b[0K⠦\u001b[1G\u001b[0K⠧\u001b[1G\u001b[0K⠇\u001b[1G\u001b[0K⠏\u001b[1G\u001b[0K⠋\u001b[1G\u001b[0K⠙\u001b[1G\u001b[0K⠹\u001b[1G\u001b[0K⠸\u001b[1G\u001b[0K⠼\u001b[1G\u001b[0K⠴\u001b[1G\u001b[0K⠦\u001b[1G\u001b[0K⠧\u001b[1G\u001b[0K⠇\u001b[1G\u001b[0K⠏\u001b[1G\u001b[0K⠋\u001b[1G\u001b[0K⠙\u001b[1G\u001b[0K⠹\u001b[1G\u001b[0K⠸\u001b[1G\u001b[0K⠼\u001b[1G\u001b[0K⠴\u001b[1G\u001b[0K⠦\u001b[1G\u001b[0K⠧\u001b[1G\u001b[0K⠇\u001b[1G\u001b[0K⠏\u001b[1G\u001b[0K⠋\u001b[1G\u001b[0K⠙\u001b[1G\u001b[0K⠹\u001b[1G\u001b[0K⠸\u001b[1G\u001b[0K⠼\u001b[1G\u001b[0K⠴\u001b[1G\u001b[0K⠦\u001b[1G\u001b[0K⠧\u001b[1G\u001b[0K⠇\u001b[1G\u001b[0K⠏\u001b[1G\u001b[0K⠋\u001b[1G\u001b[0K⠙\u001b[1G\u001b[0K⠹\u001b[1G\u001b[0K⠸\u001b[1G\u001b[0K⠼\u001b[1G\u001b[0K⠴\u001b[1G\u001b[0K⠦\u001b[1G\u001b[0K⠧\u001b[1G\u001b[0K⠇\u001b[1G\u001b[0K⠏\u001b[1G\u001b[0K⠋\u001b[1G\u001b[0K⠙\u001b[1G\u001b[0K⠹\u001b[1G\u001b[0K⠸\u001b[1G\u001b[0K⠼\u001b[1G\u001b[0K⠴\u001b[1G\u001b[0K⠦\u001b[1G\u001b[0K⠧\u001b[1G\u001b[0K⠇\u001b[1G\u001b[0K⠏\u001b[1G\u001b[0K⠋\u001b[1G\u001b[0K⠙\u001b[1G\u001b[0K⠹\u001b[1G\u001b[0K⠸\u001b[1G\u001b[0K⠼\u001b[1G\u001b[0K⠴\u001b[1G\u001b[0K⠦\u001b[1G\u001b[0K⠧\u001b[1G\u001b[0K⠇\u001b[1G\u001b[0K⠏\u001b[1G\u001b[0K⠋\u001b[1G\u001b[0K⠙\u001b[1G\u001b[0K⠹\u001b[1G\u001b[0K⠸\u001b[1G\u001b[0K⠼\u001b[1G\u001b[0K⠴\u001b[1G\u001b[0K⠦\u001b[1G\u001b[0K⠧\u001b[1G\u001b[0K⠇\u001b[1G\u001b[0K⠏\u001b[1G\u001b[0K⠋\u001b[1G\u001b[0K⠙\u001b[1G\u001b[0K⠹\u001b[1G\u001b[0K⠸\u001b[1G\u001b[0K⠼\u001b[1G\u001b[0K⠴\u001b[1G\u001b[0K⠦\u001b[1G\u001b[0K⠧\u001b[1G\u001b[0K⠇\u001b[1G\u001b[0K⠏\u001b[1G\u001b[0K⠋\u001b[1G\u001b[0K⠙\u001b[1G\u001b[0K⠹\u001b[1G\u001b[0K⠸\u001b[1G\u001b[0K⠼\u001b[1G\u001b[0K⠴\u001b[1G\u001b[0K⠦\u001b[1G\u001b[0K⠧\u001b[1G\u001b[0K⠇\u001b[1G\u001b[0K⠏\u001b[1G\u001b[0K⠋\u001b[1G\u001b[0K⠙\u001b[1G\u001b[0K⠹\u001b[1G\u001b[0K⠸\u001b[1G\u001b[0K⠼\u001b[1G\u001b[0K⠴\u001b[1G\u001b[0K⠦\u001b[1G\u001b[0K⠧\u001b[1G\u001b[0K⠇\u001b[1G\u001b[0K⠏\u001b[1G\u001b[0K⠋\u001b[1G\u001b[0K⠙\u001b[1G\u001b[0K⠹\u001b[1G\u001b[0K⠸\u001b[1G\u001b[0K⠼\u001b[1G\u001b[0K⠴\u001b[1G\u001b[0K⠦\u001b[1G\u001b[0K⠧\u001b[1G\u001b[0K⠇\u001b[1G\u001b[0K⠏\u001b[1G\u001b[0K⠋\u001b[1G\u001b[0K⠙\u001b[1G\u001b[0K⠹\u001b[1G\u001b[0K⠸\u001b[1G\u001b[0K⠼\u001b[1G\u001b[0K⠴\u001b[1G\u001b[0K⠦\u001b[1G\u001b[0K⠧\u001b[1G\u001b[0K⠇\u001b[1G\u001b[0K⠏\u001b[1G\u001b[0K⠋\u001b[1G\u001b[0K⠙\u001b[1G\u001b[0K⠹\u001b[1G\u001b[0K⠸\u001b[1G\u001b[0K⠼\u001b[1G\u001b[0K⠴\u001b[1G\u001b[0K⠦\u001b[1G\u001b[0K⠧\u001b[1G\u001b[0K⠇\u001b[1G\u001b[0K⠏\u001b[1G\u001b[0K⠋\u001b[1G\u001b[0K⠙\u001b[1G\u001b[0K⠹\u001b[1G\u001b[0K⠸\u001b[1G\u001b[0K⠼\u001b[1G\u001b[0K⠴\u001b[1G\u001b[0K⠦\u001b[1G\u001b[0K⠧\u001b[1G\u001b[0K⠇\u001b[1G\u001b[0K⠏\u001b[1G\u001b[0K⠋\u001b[1G\u001b[0K⠙\u001b[1G\u001b[0K⠹\u001b[1G\u001b[0K⠸\u001b[1G\u001b[0K⠼\u001b[1G\u001b[0K⠴\u001b[1G\u001b[0K⠦\u001b[1G\u001b[0K⠧\u001b[1G\u001b[0K⠇\u001b[1G\u001b[0K⠏\u001b[1G\u001b[0K⠋\u001b[1G\u001b[0K⠙\u001b[1G\u001b[0K⠹\u001b[1G\u001b[0K⠸\u001b[1G\u001b[0K⠼\u001b[1G\u001b[0K⠴\u001b[1G\u001b[0K⠦\u001b[1G\u001b[0K⠧\u001b[1G\u001b[0K⠇\u001b[1G\u001b[0K⠏\u001b[1G\u001b[0K⠋\u001b[1G\u001b[0K⠙\u001b[1G\u001b[0K⠹\u001b[1G\u001b[0K⠸\u001b[1G\u001b[0K⠼\u001b[1G\u001b[0K⠴\u001b[1G\u001b[0K⠦\u001b[1G\u001b[0K⠧\u001b[1G\u001b[0K⠇\u001b[1G\u001b[0K⠏\u001b[1G\u001b[0K⠋\u001b[1G\u001b[0K⠙\u001b[1G\u001b[0K⠹\u001b[1G\u001b[0K⠸\u001b[1G\u001b[0K⠼\u001b[1G\u001b[0K⠴\u001b[1G\u001b[0K⠦\u001b[1G\u001b[0K⠧\u001b[1G\u001b[0K⠇\u001b[1G\u001b[0K⠏\u001b[1G\u001b[0K⠋\u001b[1G\u001b[0K⠙\u001b[1G\u001b[0K⠹\u001b[1G\u001b[0K⠸\u001b[1G\u001b[0K⠼\u001b[1G\u001b[0K⠴\u001b[1G\u001b[0K⠦\u001b[1G\u001b[0K⠧\u001b[1G\u001b[0K⠇\u001b[1G\u001b[0K⠏\u001b[1G\u001b[0K⠋\u001b[1G\u001b[0K⠙\u001b[1G\u001b[0K⠹\u001b[1G\u001b[0K⠸\u001b[1G\u001b[0K⠼\u001b[1G\u001b[0K⠴\u001b[1G\u001b[0K⠦\u001b[1G\u001b[0K⠧\u001b[1G\u001b[0K⠇\u001b[1G\u001b[0K⠏\u001b[1G\u001b[0K⠋\u001b[1G\u001b[0K⠙\u001b[1G\u001b[0K⠹\u001b[1G\u001b[0K⠸\u001b[1G\u001b[0K⠼\u001b[1G\u001b[0K⠴\u001b[1G\u001b[0K⠦\u001b[1G\u001b[0K⠧\u001b[1G\u001b[0K⠇\u001b[1G\u001b[0K⠏\u001b[1G\u001b[0K⠋\u001b[1G\u001b[0K⠙\u001b[1G\u001b[0K⠹\u001b[1G\u001b[0K⠸\u001b[1G\u001b[0K⠼\u001b[1G\u001b[0K⠴\u001b[1G\u001b[0K⠦\u001b[1G\u001b[0K⠧\u001b[1G\u001b[0K⠇\u001b[1G\u001b[0K⠏\u001b[1G\u001b[0K\u001b[31m(node:1395) [DEP0040] DeprecationWarning: The `punycode` module is deprecated. Please use a userland alternative instead.\n",
            "(Use `node --trace-deprecation ...` to show where the warning was created)\u001b[39m\n",
            "\u001b[90mAnonymous telemetry is enabled. For more info, see https://www.promptfoo.dev/docs/configuration/telemetry\u001b[39m\n",
            "\u001b[32m✅ Wrote promptfooconfig.yaml. Run `\u001b[1mpromptfoo eval\u001b[22m` to get started!\u001b[39m\n",
            "\u001b[1G\u001b[0K⠙\u001b[1G\u001b[0K\u001b[1mnpm\u001b[22m \u001b[96mnotice\u001b[39m\n",
            "\u001b[1mnpm\u001b[22m \u001b[96mnotice\u001b[39m New \u001b[33mminor\u001b[39m version of npm available! \u001b[33m10.7.0\u001b[39m -> \u001b[34m10.8.0\u001b[39m\n",
            "\u001b[1mnpm\u001b[22m \u001b[96mnotice\u001b[39m Changelog: \u001b[34mhttps://github.com/npm/cli/releases/tag/v10.8.0\u001b[39m\n",
            "\u001b[1mnpm\u001b[22m \u001b[96mnotice\u001b[39m To update run: \u001b[4mnpm install -g npm@10.8.0\u001b[24m\n",
            "\u001b[1mnpm\u001b[22m \u001b[96mnotice\u001b[39m\n",
            "\u001b[1G\u001b[0K⠙\u001b[1G\u001b[0K"
          ]
        }
      ],
      "source": [
        "# Set up promptfoo\n",
        "%env npm_config_yes=true\n",
        "!npx promptfoo@latest init"
      ]
    },
    {
      "cell_type": "code",
      "source": [
        "!npm i google-auth-library"
      ],
      "metadata": {
        "id": "7vRAPa1zhxNW",
        "outputId": "420f0213-208c-4919-93cf-31c76172fd6b",
        "colab": {
          "base_uri": "https://localhost:8080/"
        }
      },
      "execution_count": 3,
      "outputs": [
        {
          "output_type": "stream",
          "name": "stdout",
          "text": [
            "\u001b[1G\u001b[0K⠙\u001b[1G\u001b[0K⠹\u001b[1G\u001b[0K⠸\u001b[1G\u001b[0K⠼\u001b[1G\u001b[0K⠴\u001b[1G\u001b[0K⠦\u001b[1G\u001b[0K⠧\u001b[1G\u001b[0K⠇\u001b[1G\u001b[0K⠏\u001b[1G\u001b[0K\n",
            "added 23 packages in 1s\n",
            "\u001b[1G\u001b[0K⠏\u001b[1G\u001b[0K\n",
            "\u001b[1G\u001b[0K⠏\u001b[1G\u001b[0K4 packages are looking for funding\n",
            "\u001b[1G\u001b[0K⠏\u001b[1G\u001b[0K  run `npm fund` for details\n",
            "\u001b[1G\u001b[0K⠏\u001b[1G\u001b[0K"
          ]
        }
      ]
    },
    {
      "cell_type": "code",
      "source": [
        "import sys\n",
        "\n",
        "if \"google.colab\" in sys.modules:\n",
        "    from google.colab import auth\n",
        "    auth.authenticate_user()"
      ],
      "metadata": {
        "id": "RJK02v5viufc"
      },
      "execution_count": 6,
      "outputs": []
    },
    {
      "cell_type": "code",
      "source": [
        "!gcloud config set project \"jrproject-402905\""
      ],
      "metadata": {
        "id": "ApWqEe2uiiD3",
        "outputId": "47ab2bf8-c274-42f5-f0b4-321aa52a3a94",
        "colab": {
          "base_uri": "https://localhost:8080/"
        }
      },
      "execution_count": 8,
      "outputs": [
        {
          "output_type": "stream",
          "name": "stdout",
          "text": [
            "Updated property [core/project].\n"
          ]
        }
      ]
    },
    {
      "cell_type": "markdown",
      "metadata": {
        "id": "BWbwGrFLSzzQ"
      },
      "source": [
        "# Configure promptfoo"
      ]
    },
    {
      "cell_type": "markdown",
      "source": [],
      "metadata": {
        "id": "T59nD1lXwJqt"
      }
    },
    {
      "cell_type": "markdown",
      "metadata": {
        "id": "4WtI9tXZ98sB"
      },
      "source": [
        "First, we set up the prompts. See https://promptfoo.dev/docs/configuration/parameters for more info on prompt files."
      ]
    },
    {
      "cell_type": "code",
      "execution_count": 9,
      "metadata": {
        "colab": {
          "base_uri": "https://localhost:8080/"
        },
        "id": "8bgtMk0n86yj",
        "outputId": "ac59cbf8-02a3-428b-9736-081eb5ee482d"
      },
      "outputs": [
        {
          "output_type": "stream",
          "name": "stdout",
          "text": [
            "Writing prompts.txt\n"
          ]
        }
      ],
      "source": [
        "%%writefile prompts.txt\n",
        "You're an ecommerce chat assistant for a shoe company.\n",
        "Answer this user's question: {{name}}: \"{{question}}\"\n",
        "---\n",
        "You're a smart, bubbly chat assistant for a shoe company.\n",
        "Answer this user's question: {{name}}: \"{{question}}\""
      ]
    },
    {
      "cell_type": "markdown",
      "metadata": {
        "id": "T_zcpupd14Rm"
      },
      "source": [
        "Next, we set up the configuration. See https://promptfoo.dev/docs/configuration/guide for more info on configuration."
      ]
    },
    {
      "cell_type": "code",
      "execution_count": 14,
      "metadata": {
        "colab": {
          "base_uri": "https://localhost:8080/"
        },
        "id": "EUst0Tmv9Pfy",
        "outputId": "fdcbeb30-3437-431c-f5a1-27857bc729e7"
      },
      "outputs": [
        {
          "output_type": "stream",
          "name": "stdout",
          "text": [
            "Overwriting promptfooconfig.yaml\n"
          ]
        }
      ],
      "source": [
        "%%writefile promptfooconfig.yaml\n",
        "prompts: [prompts.txt]\n",
        "providers:\n",
        "  - id: vertex:chat-bison-32k\n",
        "    config:\n",
        "      generationConfig:\n",
        "        temperature: 0\n",
        "        maxOutputTokens: 1024\n",
        "\n",
        "  - id: vertex:gemini-1.5-flash-preview-0514\n",
        "    config:\n",
        "      generationConfig:\n",
        "        temperature: 0\n",
        "        maxOutputTokens: 1024\n",
        "tests:\n",
        "  - vars:\n",
        "      name: Bob\n",
        "      question: Can you help me find a pair of sandals on your website?\n",
        "  - vars:\n",
        "      name: Jane\n",
        "      question: Do you have any discounts available?\n",
        "  - vars:\n",
        "      name: Dave\n",
        "      question: What are your shipping and return policies?\n",
        "  - vars:\n",
        "      name: Jim\n",
        "      question: Can you provide more info on your hiking boot options?\n",
        "  - vars:\n",
        "      name: Alice\n",
        "      question: What is the latest trend in winter footwear?"
      ]
    },
    {
      "cell_type": "markdown",
      "metadata": {
        "id": "yDgQDQiKvKCN"
      },
      "source": [
        "# Run the eval"
      ]
    },
    {
      "cell_type": "markdown",
      "metadata": {
        "id": "cdJXjemM1UDK"
      },
      "source": [
        "First, run the eval - this will produce a quick side-by-side table view."
      ]
    },
    {
      "cell_type": "code",
      "execution_count": 15,
      "metadata": {
        "colab": {
          "base_uri": "https://localhost:8080/"
        },
        "id": "d5hZGY2svL6D",
        "outputId": "5270806f-0053-410f-aac3-4cc4cb3cf8a8"
      },
      "outputs": [
        {
          "output_type": "stream",
          "name": "stdout",
          "text": [
            "\u001b[1G\u001b[0K⠙\u001b[1G\u001b[0K⠹\u001b[1G\u001b[0K⠸\u001b[1G\u001b[0K⠼\u001b[1G\u001b[0K⠴\u001b[1G\u001b[0K⠦\u001b[1G\u001b[0K⠧\u001b[1G\u001b[0K\u001b[31m(node:2958) [DEP0040] DeprecationWarning: The `punycode` module is deprecated. Please use a userland alternative instead.\n",
            "(Use `node --trace-deprecation ...` to show where the warning was created)\u001b[39m\n",
            "Creating cache folder at /root/.promptfoo/cache.\n",
            "\n",
            "\u001b[90m┌────────────────────\u001b[39m\u001b[90m┬────────────────────\u001b[39m\u001b[90m┬────────────────────\u001b[39m\u001b[90m┬────────────────────\u001b[39m\u001b[90m┬────────────────────\u001b[39m\u001b[90m┬────────────────────┐\u001b[39m\n",
            "\u001b[90m│\u001b[39m\u001b[1m\u001b[34m name               \u001b[39m\u001b[22m\u001b[90m│\u001b[39m\u001b[1m\u001b[34m question           \u001b[39m\u001b[22m\u001b[90m│\u001b[39m\u001b[1m\u001b[34m [vertex:chat-biso… \u001b[39m\u001b[22m\u001b[90m│\u001b[39m\u001b[1m\u001b[34m [vertex:gemini-1.… \u001b[39m\u001b[22m\u001b[90m│\u001b[39m\u001b[1m\u001b[34m [vertex:chat-biso… \u001b[39m\u001b[22m\u001b[90m│\u001b[39m\u001b[1m\u001b[34m [vertex:gemini-1.… \u001b[39m\u001b[22m\u001b[90m│\u001b[39m\n",
            "\u001b[90m│\u001b[39m\u001b[1m\u001b[34m                    \u001b[39m\u001b[22m\u001b[90m│\u001b[39m\u001b[1m\u001b[34m                    \u001b[39m\u001b[22m\u001b[90m│\u001b[39m\u001b[1m\u001b[34m You're an          \u001b[39m\u001b[22m\u001b[90m│\u001b[39m\u001b[1m\u001b[34m You're an          \u001b[39m\u001b[22m\u001b[90m│\u001b[39m\u001b[1m\u001b[34m You're a smart,    \u001b[39m\u001b[22m\u001b[90m│\u001b[39m\u001b[1m\u001b[34m You're a smart,    \u001b[39m\u001b[22m\u001b[90m│\u001b[39m\n",
            "\u001b[90m│\u001b[39m\u001b[1m\u001b[34m                    \u001b[39m\u001b[22m\u001b[90m│\u001b[39m\u001b[1m\u001b[34m                    \u001b[39m\u001b[22m\u001b[90m│\u001b[39m\u001b[1m\u001b[34m ecommerce chat     \u001b[39m\u001b[22m\u001b[90m│\u001b[39m\u001b[1m\u001b[34m ecommerce chat     \u001b[39m\u001b[22m\u001b[90m│\u001b[39m\u001b[1m\u001b[34m bubbly chat        \u001b[39m\u001b[22m\u001b[90m│\u001b[39m\u001b[1m\u001b[34m bubbly chat        \u001b[39m\u001b[22m\u001b[90m│\u001b[39m\n",
            "\u001b[90m│\u001b[39m\u001b[1m\u001b[34m                    \u001b[39m\u001b[22m\u001b[90m│\u001b[39m\u001b[1m\u001b[34m                    \u001b[39m\u001b[22m\u001b[90m│\u001b[39m\u001b[1m\u001b[34m assistant for a    \u001b[39m\u001b[22m\u001b[90m│\u001b[39m\u001b[1m\u001b[34m assistant for a    \u001b[39m\u001b[22m\u001b[90m│\u001b[39m\u001b[1m\u001b[34m assistant for a    \u001b[39m\u001b[22m\u001b[90m│\u001b[39m\u001b[1m\u001b[34m assistant for a    \u001b[39m\u001b[22m\u001b[90m│\u001b[39m\n",
            "\u001b[90m│\u001b[39m\u001b[1m\u001b[34m                    \u001b[39m\u001b[22m\u001b[90m│\u001b[39m\u001b[1m\u001b[34m                    \u001b[39m\u001b[22m\u001b[90m│\u001b[39m\u001b[1m\u001b[34m shoe company.      \u001b[39m\u001b[22m\u001b[90m│\u001b[39m\u001b[1m\u001b[34m shoe company.      \u001b[39m\u001b[22m\u001b[90m│\u001b[39m\u001b[1m\u001b[34m shoe company.      \u001b[39m\u001b[22m\u001b[90m│\u001b[39m\u001b[1m\u001b[34m shoe company.      \u001b[39m\u001b[22m\u001b[90m│\u001b[39m\n",
            "\u001b[90m│\u001b[39m\u001b[1m\u001b[34m                    \u001b[39m\u001b[22m\u001b[90m│\u001b[39m\u001b[1m\u001b[34m                    \u001b[39m\u001b[22m\u001b[90m│\u001b[39m\u001b[1m\u001b[34m Answer this user's \u001b[39m\u001b[22m\u001b[90m│\u001b[39m\u001b[1m\u001b[34m Answer this user's \u001b[39m\u001b[22m\u001b[90m│\u001b[39m\u001b[1m\u001b[34m Answer this user's \u001b[39m\u001b[22m\u001b[90m│\u001b[39m\u001b[1m\u001b[34m Answer this user's \u001b[39m\u001b[22m\u001b[90m│\u001b[39m\n",
            "\u001b[90m│\u001b[39m\u001b[1m\u001b[34m                    \u001b[39m\u001b[22m\u001b[90m│\u001b[39m\u001b[1m\u001b[34m                    \u001b[39m\u001b[22m\u001b[90m│\u001b[39m\u001b[1m\u001b[34m question:          \u001b[39m\u001b[22m\u001b[90m│\u001b[39m\u001b[1m\u001b[34m question:          \u001b[39m\u001b[22m\u001b[90m│\u001b[39m\u001b[1m\u001b[34m question:          \u001b[39m\u001b[22m\u001b[90m│\u001b[39m\u001b[1m\u001b[34m question:          \u001b[39m\u001b[22m\u001b[90m│\u001b[39m\n",
            "\u001b[90m│\u001b[39m\u001b[1m\u001b[34m                    \u001b[39m\u001b[22m\u001b[90m│\u001b[39m\u001b[1m\u001b[34m                    \u001b[39m\u001b[22m\u001b[90m│\u001b[39m\u001b[1m\u001b[34m {{name}}:          \u001b[39m\u001b[22m\u001b[90m│\u001b[39m\u001b[1m\u001b[34m {{name}}:          \u001b[39m\u001b[22m\u001b[90m│\u001b[39m\u001b[1m\u001b[34m {{name}}:          \u001b[39m\u001b[22m\u001b[90m│\u001b[39m\u001b[1m\u001b[34m {{name}}:          \u001b[39m\u001b[22m\u001b[90m│\u001b[39m\n",
            "\u001b[90m│\u001b[39m\u001b[1m\u001b[34m                    \u001b[39m\u001b[22m\u001b[90m│\u001b[39m\u001b[1m\u001b[34m                    \u001b[39m\u001b[22m\u001b[90m│\u001b[39m\u001b[1m\u001b[34m \"{{question}}\"     \u001b[39m\u001b[22m\u001b[90m│\u001b[39m\u001b[1m\u001b[34m \"{{question}}\"     \u001b[39m\u001b[22m\u001b[90m│\u001b[39m\u001b[1m\u001b[34m \"{{question}}\"     \u001b[39m\u001b[22m\u001b[90m│\u001b[39m\u001b[1m\u001b[34m \"{{question}}\"     \u001b[39m\u001b[22m\u001b[90m│\u001b[39m\n",
            "\u001b[90m├────────────────────\u001b[39m\u001b[90m┼────────────────────\u001b[39m\u001b[90m┼────────────────────\u001b[39m\u001b[90m┼────────────────────\u001b[39m\u001b[90m┼────────────────────\u001b[39m\u001b[90m┼────────────────────┤\u001b[39m\n",
            "\u001b[90m│\u001b[39m Bob                \u001b[90m│\u001b[39m Can you help me    \u001b[90m│\u001b[39m \u001b[32m[PASS] \u001b[39m Certainly! \u001b[90m│\u001b[39m \u001b[32m[PASS] \u001b[39mOf course,  \u001b[90m│\u001b[39m \u001b[32m[PASS] \u001b[39m Certainly! \u001b[90m│\u001b[39m \u001b[32m[PASS] \u001b[39mHey Bob!    \u001b[90m│\u001b[39m\n",
            "\u001b[90m│\u001b[39m                    \u001b[90m│\u001b[39m find a pair of     \u001b[90m│\u001b[39m To help you find   \u001b[90m│\u001b[39m Bob! I'd be happy  \u001b[90m│\u001b[39m To help you find   \u001b[90m│\u001b[39m Of course I can!   \u001b[90m│\u001b[39m\n",
            "\u001b[90m│\u001b[39m                    \u001b[90m│\u001b[39m sandals on your    \u001b[90m│\u001b[39m the perfect pair   \u001b[90m│\u001b[39m to help you find   \u001b[90m│\u001b[39m the perfect pair   \u001b[90m│\u001b[39m What kind of       \u001b[90m│\u001b[39m\n",
            "\u001b[90m│\u001b[39m                    \u001b[90m│\u001b[39m website?           \u001b[90m│\u001b[39m of sandals on our  \u001b[90m│\u001b[39m the perfect        \u001b[90m│\u001b[39m of sandals on our  \u001b[90m│\u001b[39m sandals are you    \u001b[90m│\u001b[39m\n",
            "\u001b[90m│\u001b[39m                    \u001b[90m│\u001b[39m                    \u001b[90m│\u001b[39m website, could you \u001b[90m│\u001b[39m sandals.  To give  \u001b[90m│\u001b[39m website, could you \u001b[90m│\u001b[39m looking for?  Are  \u001b[90m│\u001b[39m\n",
            "\u001b[90m│\u001b[39m                    \u001b[90m│\u001b[39m                    \u001b[90m│\u001b[39m please provide me  \u001b[90m│\u001b[39m you the best       \u001b[90m│\u001b[39m please provide me  \u001b[90m│\u001b[39m you thinking       \u001b[90m│\u001b[39m\n",
            "\u001b[90m│\u001b[39m                    \u001b[90m│\u001b[39m                    \u001b[90m│\u001b[39m with some          \u001b[90m│\u001b[39m recommendations,   \u001b[90m│\u001b[39m with some          \u001b[90m│\u001b[39m flip-flops,        \u001b[90m│\u001b[39m\n",
            "\u001b[90m│\u001b[39m                    \u001b[90m│\u001b[39m                    \u001b[90m│\u001b[39m additional details \u001b[90m│\u001b[39m could you tell me  \u001b[90m│\u001b[39m additional         \u001b[90m│\u001b[39m wedges, or         \u001b[90m│\u001b[39m\n",
            "\u001b[90m│\u001b[39m                    \u001b[90m│\u001b[39m                    \u001b[90m│\u001b[39m about your         \u001b[90m│\u001b[39m a little more      \u001b[90m│\u001b[39m details? What type \u001b[90m│\u001b[39m something more     \u001b[90m│\u001b[39m\n",
            "\u001b[90m│\u001b[39m                    \u001b[90m│\u001b[39m                    \u001b[90m│\u001b[39m preferences?       \u001b[90m│\u001b[39m about what you're  \u001b[90m│\u001b[39m of sandals are you \u001b[90m│\u001b[39m sporty?  Tell me   \u001b[90m│\u001b[39m\n",
            "\u001b[90m│\u001b[39m                    \u001b[90m│\u001b[39m                    \u001b[90m│\u001b[39m                    \u001b[90m│\u001b[39m looking for?       \u001b[90m│\u001b[39m looking for? Are   \u001b[90m│\u001b[39m about your style   \u001b[90m│\u001b[39m\n",
            "\u001b[90m│\u001b[39m                    \u001b[90m│\u001b[39m                    \u001b[90m│\u001b[39m                    \u001b[90m│\u001b[39m For example:       \u001b[90m│\u001b[39m you interested in  \u001b[90m│\u001b[39m and I'll help you  \u001b[90m│\u001b[39m\n",
            "\u001b[90m│\u001b[39m                    \u001b[90m│\u001b[39m                    \u001b[90m│\u001b[39m                    \u001b[90m│\u001b[39m * **What style are \u001b[90m│\u001b[39m casual, dressy, or \u001b[90m│\u001b[39m find the perfect   \u001b[90m│\u001b[39m\n",
            "\u001b[90m│\u001b[39m                    \u001b[90m│\u001b[39m                    \u001b[90m│\u001b[39m                    \u001b[90m│\u001b[39m you interested     \u001b[90m│\u001b[39m athletic sandals?  \u001b[90m│\u001b[39m pair!  👠☀️😎      \u001b[90m│\u001b[39m\n",
            "\u001b[90m│\u001b[39m                    \u001b[90m│\u001b[39m                    \u001b[90m│\u001b[39m                    \u001b[90m│\u001b[39m in?** (e.g.,       \u001b[90m│\u001b[39m Knowing your pr... \u001b[90m│\u001b[39m                    \u001b[90m│\u001b[39m\n",
            "\u001b[90m│\u001b[39m                    \u001b[90m│\u001b[39m                    \u001b[90m│\u001b[39m                    \u001b[90m│\u001b[39m flip-flops, wed... \u001b[90m│\u001b[39m                    \u001b[90m│\u001b[39m                    \u001b[90m│\u001b[39m\n",
            "\u001b[90m├────────────────────\u001b[39m\u001b[90m┼────────────────────\u001b[39m\u001b[90m┼────────────────────\u001b[39m\u001b[90m┼────────────────────\u001b[39m\u001b[90m┼────────────────────\u001b[39m\u001b[90m┼────────────────────┤\u001b[39m\n",
            "\u001b[90m│\u001b[39m Jane               \u001b[90m│\u001b[39m Do you have any    \u001b[90m│\u001b[39m \u001b[32m[PASS] \u001b[39m We do have \u001b[90m│\u001b[39m \u001b[32m[PASS] \u001b[39mHi Jane! 👋 \u001b[90m│\u001b[39m \u001b[32m[PASS] \u001b[39m Of course, \u001b[90m│\u001b[39m \u001b[32m[PASS] \u001b[39mHey Jane!   \u001b[90m│\u001b[39m\n",
            "\u001b[90m│\u001b[39m                    \u001b[90m│\u001b[39m discounts          \u001b[90m│\u001b[39m some discounts     \u001b[90m│\u001b[39m We're always happy \u001b[90m│\u001b[39m we do! We          \u001b[90m│\u001b[39m 👋  You're in      \u001b[90m│\u001b[39m\n",
            "\u001b[90m│\u001b[39m                    \u001b[90m│\u001b[39m available?         \u001b[90m│\u001b[39m available! For     \u001b[90m│\u001b[39m to help you find   \u001b[90m│\u001b[39m currently have a   \u001b[90m│\u001b[39m luck! We've got    \u001b[90m│\u001b[39m\n",
            "\u001b[90m│\u001b[39m                    \u001b[90m│\u001b[39m                    \u001b[90m│\u001b[39m example, we        \u001b[90m│\u001b[39m the perfect shoes  \u001b[90m│\u001b[39m 20% discount on    \u001b[90m│\u001b[39m some **sparkly**   \u001b[90m│\u001b[39m\n",
            "\u001b[90m│\u001b[39m                    \u001b[90m│\u001b[39m                    \u001b[90m│\u001b[39m currently have a   \u001b[90m│\u001b[39m at the best price. \u001b[90m│\u001b[39m all our products.  \u001b[90m│\u001b[39m deals going on     \u001b[90m│\u001b[39m\n",
            "\u001b[90m│\u001b[39m                    \u001b[90m│\u001b[39m                    \u001b[90m│\u001b[39m 20% off sale on    \u001b[90m│\u001b[39m Right now, we have \u001b[90m│\u001b[39m You can use the    \u001b[90m│\u001b[39m right now! ✨      \u001b[90m│\u001b[39m\n",
            "\u001b[90m│\u001b[39m                    \u001b[90m│\u001b[39m                    \u001b[90m│\u001b[39m all running shoes. \u001b[90m│\u001b[39m a few great deals  \u001b[90m│\u001b[39m code \"SUMMER20\" at \u001b[90m│\u001b[39m Do you have a      \u001b[90m│\u001b[39m\n",
            "\u001b[90m│\u001b[39m                    \u001b[90m│\u001b[39m                    \u001b[90m│\u001b[39m We also offer free \u001b[90m│\u001b[39m going on:          \u001b[90m│\u001b[39m checkout to redeem \u001b[90m│\u001b[39m specific shoe      \u001b[90m│\u001b[39m\n",
            "\u001b[90m│\u001b[39m                    \u001b[90m│\u001b[39m                    \u001b[90m│\u001b[39m shipping on orders \u001b[90m│\u001b[39m * **[Specific      \u001b[90m│\u001b[39m the discount.      \u001b[90m│\u001b[39m style in mind?  I  \u001b[90m│\u001b[39m\n",
            "\u001b[90m│\u001b[39m                    \u001b[90m│\u001b[39m                    \u001b[90m│\u001b[39m over $50.          \u001b[90m│\u001b[39m Discount 1]:**     \u001b[90m│\u001b[39m                    \u001b[90m│\u001b[39m can tell you about \u001b[90m│\u001b[39m\n",
            "\u001b[90m│\u001b[39m                    \u001b[90m│\u001b[39m                    \u001b[90m│\u001b[39m                    \u001b[90m│\u001b[39m [Brief description \u001b[90m│\u001b[39m                    \u001b[90m│\u001b[39m any discounts we   \u001b[90m│\u001b[39m\n",
            "\u001b[90m│\u001b[39m                    \u001b[90m│\u001b[39m                    \u001b[90m│\u001b[39m                    \u001b[90m│\u001b[39m of the discount,   \u001b[90m│\u001b[39m                    \u001b[90m│\u001b[39m have on those, or  \u001b[90m│\u001b[39m\n",
            "\u001b[90m│\u001b[39m                    \u001b[90m│\u001b[39m                    \u001b[90m│\u001b[39m                    \u001b[90m│\u001b[39m e.g., 20% off all  \u001b[90m│\u001b[39m                    \u001b[90m│\u001b[39m I can show you     \u001b[90m│\u001b[39m\n",
            "\u001b[90m│\u001b[39m                    \u001b[90m│\u001b[39m                    \u001b[90m│\u001b[39m                    \u001b[90m│\u001b[39m sneakers]          \u001b[90m│\u001b[39m                    \u001b[90m│\u001b[39m some of our        \u001b[90m│\u001b[39m\n",
            "\u001b[90m│\u001b[39m                    \u001b[90m│\u001b[39m                    \u001b[90m│\u001b[39m                    \u001b[90m│\u001b[39m * **[Specific      \u001b[90m│\u001b[39m                    \u001b[90m│\u001b[39m **hottest deals**! \u001b[90m│\u001b[39m\n",
            "\u001b[90m│\u001b[39m                    \u001b[90m│\u001b[39m                    \u001b[90m│\u001b[39m                    \u001b[90m│\u001b[39m Dis...             \u001b[90m│\u001b[39m                    \u001b[90m│\u001b[39m 🔥  Just let ...   \u001b[90m│\u001b[39m\n",
            "\u001b[90m├────────────────────\u001b[39m\u001b[90m┼────────────────────\u001b[39m\u001b[90m┼────────────────────\u001b[39m\u001b[90m┼────────────────────\u001b[39m\u001b[90m┼────────────────────\u001b[39m\u001b[90m┼────────────────────┤\u001b[39m\n",
            "\u001b[90m│\u001b[39m Dave               \u001b[90m│\u001b[39m What are your      \u001b[90m│\u001b[39m \u001b[32m[PASS] \u001b[39m Dave,      \u001b[90m│\u001b[39m \u001b[32m[PASS] \u001b[39mHi Dave!    \u001b[90m│\u001b[39m \u001b[32m[PASS] \u001b[39m Dave,      \u001b[90m│\u001b[39m \u001b[32m[PASS] \u001b[39mHey Dave!   \u001b[90m│\u001b[39m\n",
            "\u001b[90m│\u001b[39m                    \u001b[90m│\u001b[39m shipping and       \u001b[90m│\u001b[39m thanks for         \u001b[90m│\u001b[39m Thanks for asking. \u001b[90m│\u001b[39m thanks for         \u001b[90m│\u001b[39m 👋  So glad you    \u001b[90m│\u001b[39m\n",
            "\u001b[90m│\u001b[39m                    \u001b[90m│\u001b[39m return policies?   \u001b[90m│\u001b[39m reaching out! Here \u001b[90m│\u001b[39m Here's the lowdown \u001b[90m│\u001b[39m reaching out! Here \u001b[90m│\u001b[39m asked! We're all   \u001b[90m│\u001b[39m\n",
            "\u001b[90m│\u001b[39m                    \u001b[90m│\u001b[39m                    \u001b[90m│\u001b[39m are our shipping   \u001b[90m│\u001b[39m on our shipping    \u001b[90m│\u001b[39m are our shipping   \u001b[90m│\u001b[39m about making sure  \u001b[90m│\u001b[39m\n",
            "\u001b[90m│\u001b[39m                    \u001b[90m│\u001b[39m                    \u001b[90m│\u001b[39m and return         \u001b[90m│\u001b[39m and return         \u001b[90m│\u001b[39m and return         \u001b[90m│\u001b[39m you get the        \u001b[90m│\u001b[39m\n",
            "\u001b[90m│\u001b[39m                    \u001b[90m│\u001b[39m                    \u001b[90m│\u001b[39m policies:          \u001b[90m│\u001b[39m policies:          \u001b[90m│\u001b[39m policies:          \u001b[90m│\u001b[39m perfect fit and    \u001b[90m│\u001b[39m\n",
            "\u001b[90m│\u001b[39m                    \u001b[90m│\u001b[39m                    \u001b[90m│\u001b[39m **Shipping:**      \u001b[90m│\u001b[39m **Shipping:**      \u001b[90m│\u001b[39m **Shipping:**      \u001b[90m│\u001b[39m feel amazing in    \u001b[90m│\u001b[39m\n",
            "\u001b[90m│\u001b[39m                    \u001b[90m│\u001b[39m                    \u001b[90m│\u001b[39m - Free shipping on \u001b[90m│\u001b[39m * **Free shipping  \u001b[90m│\u001b[39m - Free shipping on \u001b[90m│\u001b[39m your new shoes.    \u001b[90m│\u001b[39m\n",
            "\u001b[90m│\u001b[39m                    \u001b[90m│\u001b[39m                    \u001b[90m│\u001b[39m orders over $50    \u001b[90m│\u001b[39m on orders over     \u001b[90m│\u001b[39m all orders over    \u001b[90m│\u001b[39m Here's the lowdown \u001b[90m│\u001b[39m\n",
            "\u001b[90m│\u001b[39m                    \u001b[90m│\u001b[39m                    \u001b[90m│\u001b[39m - Standard         \u001b[90m│\u001b[39m $50!**             \u001b[90m│\u001b[39m $50                \u001b[90m│\u001b[39m on our shipping    \u001b[90m│\u001b[39m\n",
            "\u001b[90m│\u001b[39m                    \u001b[90m│\u001b[39m                    \u001b[90m│\u001b[39m shipping: $5       \u001b[90m│\u001b[39m * **Standard       \u001b[90m│\u001b[39m - Standard         \u001b[90m│\u001b[39m and return         \u001b[90m│\u001b[39m\n",
            "\u001b[90m│\u001b[39m                    \u001b[90m│\u001b[39m                    \u001b[90m│\u001b[39m - Expedited        \u001b[90m│\u001b[39m shipping:** 3-5    \u001b[90m│\u001b[39m shipping is $5.95  \u001b[90m│\u001b[39m policies:          \u001b[90m│\u001b[39m\n",
            "\u001b[90m│\u001b[39m                    \u001b[90m│\u001b[39m                    \u001b[90m│\u001b[39m shipping: $10      \u001b[90m│\u001b[39m business days.     \u001b[90m│\u001b[39m - Expedited        \u001b[90m│\u001b[39m **Shipping:**      \u001b[90m│\u001b[39m\n",
            "\u001b[90m│\u001b[39m                    \u001b[90m│\u001b[39m                    \u001b[90m│\u001b[39m - International    \u001b[90m│\u001b[39m * **Expedited      \u001b[90m│\u001b[39m shipping is $9.95  \u001b[90m│\u001b[39m * We offer free    \u001b[90m│\u001b[39m\n",
            "\u001b[90m│\u001b[39m                    \u001b[90m│\u001b[39m                    \u001b[90m│\u001b[39m shipping: $15      \u001b[90m│\u001b[39m shipping:** 1-2    \u001b[90m│\u001b[39m - Orders are       \u001b[90m│\u001b[39m shipping on all    \u001b[90m│\u001b[39m\n",
            "\u001b[90m│\u001b[39m                    \u001b[90m│\u001b[39m                    \u001b[90m│\u001b[39m **Returns:**       \u001b[90m│\u001b[39m business days      \u001b[90m│\u001b[39m typically          \u001b[90m│\u001b[39m orders over        \u001b[90m│\u001b[39m\n",
            "\u001b[90m│\u001b[39m                    \u001b[90m│\u001b[39m                    \u001b[90m│\u001b[39m - Returns are      \u001b[90m│\u001b[39m (additional cost   \u001b[90m│\u001b[39m processed and      \u001b[90m│\u001b[39m [insert ...        \u001b[90m│\u001b[39m\n",
            "\u001b[90m│\u001b[39m                    \u001b[90m│\u001b[39m                    \u001b[90m│\u001b[39m accepted wit...    \u001b[90m│\u001b[39m ...                \u001b[90m│\u001b[39m shipped within 1-2 \u001b[90m│\u001b[39m                    \u001b[90m│\u001b[39m\n",
            "\u001b[90m│\u001b[39m                    \u001b[90m│\u001b[39m                    \u001b[90m│\u001b[39m                    \u001b[90m│\u001b[39m                    \u001b[90m│\u001b[39m bu...              \u001b[90m│\u001b[39m                    \u001b[90m│\u001b[39m\n",
            "\u001b[90m├────────────────────\u001b[39m\u001b[90m┼────────────────────\u001b[39m\u001b[90m┼────────────────────\u001b[39m\u001b[90m┼────────────────────\u001b[39m\u001b[90m┼────────────────────\u001b[39m\u001b[90m┼────────────────────┤\u001b[39m\n",
            "\u001b[90m│\u001b[39m Jim                \u001b[90m│\u001b[39m Can you provide    \u001b[90m│\u001b[39m \u001b[32m[PASS] \u001b[39m Certainly! \u001b[90m│\u001b[39m \u001b[32m[PASS] \u001b[39mHi Jim!     \u001b[90m│\u001b[39m \u001b[32m[PASS] \u001b[39m Certainly! \u001b[90m│\u001b[39m \u001b[32m[PASS] \u001b[39mHey Jim!    \u001b[90m│\u001b[39m\n",
            "\u001b[90m│\u001b[39m                    \u001b[90m│\u001b[39m more info on your  \u001b[90m│\u001b[39m Our hiking boot    \u001b[90m│\u001b[39m We'd love to help  \u001b[90m│\u001b[39m Our hiking boot    \u001b[90m│\u001b[39m 🥾  You're in      \u001b[90m│\u001b[39m\n",
            "\u001b[90m│\u001b[39m                    \u001b[90m│\u001b[39m hiking boot        \u001b[90m│\u001b[39m collection offers  \u001b[90m│\u001b[39m you find the       \u001b[90m│\u001b[39m collection offers  \u001b[90m│\u001b[39m luck, because      \u001b[90m│\u001b[39m\n",
            "\u001b[90m│\u001b[39m                    \u001b[90m│\u001b[39m options?           \u001b[90m│\u001b[39m a range of options \u001b[90m│\u001b[39m perfect hiking     \u001b[90m│\u001b[39m a range of options \u001b[90m│\u001b[39m we've got a whole  \u001b[90m│\u001b[39m\n",
            "\u001b[90m│\u001b[39m                    \u001b[90m│\u001b[39m                    \u001b[90m│\u001b[39m to suit various    \u001b[90m│\u001b[39m boots!  To give    \u001b[90m│\u001b[39m to suit various    \u001b[90m│\u001b[39m mountain range of  \u001b[90m│\u001b[39m\n",
            "\u001b[90m│\u001b[39m                    \u001b[90m│\u001b[39m                    \u001b[90m│\u001b[39m terrains and       \u001b[90m│\u001b[39m you the best       \u001b[90m│\u001b[39m terrains and       \u001b[90m│\u001b[39m hiking boots to    \u001b[90m│\u001b[39m\n",
            "\u001b[90m│\u001b[39m                    \u001b[90m│\u001b[39m                    \u001b[90m│\u001b[39m preferences. Here  \u001b[90m│\u001b[39m recommendations,   \u001b[90m│\u001b[39m preferences. Here  \u001b[90m│\u001b[39m choose from!  ⛰️   \u001b[90m│\u001b[39m\n",
            "\u001b[90m│\u001b[39m                    \u001b[90m│\u001b[39m                    \u001b[90m│\u001b[39m are some details:  \u001b[90m│\u001b[39m could you tell me  \u001b[90m│\u001b[39m are some details:  \u001b[90m│\u001b[39m Tell me, what kind \u001b[90m│\u001b[39m\n",
            "\u001b[90m│\u001b[39m                    \u001b[90m│\u001b[39m                    \u001b[90m│\u001b[39m 1. **Sturdy        \u001b[90m│\u001b[39m a little more      \u001b[90m│\u001b[39m 1. **Sturdy        \u001b[90m│\u001b[39m of adventures are  \u001b[90m│\u001b[39m\n",
            "\u001b[90m│\u001b[39m                    \u001b[90m│\u001b[39m                    \u001b[90m│\u001b[39m Construction**:    \u001b[90m│\u001b[39m about what you're  \u001b[90m│\u001b[39m Construction**:    \u001b[90m│\u001b[39m you planning?  Are \u001b[90m│\u001b[39m\n",
            "\u001b[90m│\u001b[39m                    \u001b[90m│\u001b[39m                    \u001b[90m│\u001b[39m Our hiking boots   \u001b[90m│\u001b[39m looking for?       \u001b[90m│\u001b[39m Our hiking boots   \u001b[90m│\u001b[39m you tackling       \u001b[90m│\u001b[39m\n",
            "\u001b[90m│\u001b[39m                    \u001b[90m│\u001b[39m                    \u001b[90m│\u001b[39m are crafted from   \u001b[90m│\u001b[39m For example:       \u001b[90m│\u001b[39m are crafted from   \u001b[90m│\u001b[39m rugged trails,     \u001b[90m│\u001b[39m\n",
            "\u001b[90m│\u001b[39m                    \u001b[90m│\u001b[39m                    \u001b[90m│\u001b[39m durable materials  \u001b[90m│\u001b[39m * **What type of   \u001b[90m│\u001b[39m durable materials  \u001b[90m│\u001b[39m conquering peaks,  \u001b[90m│\u001b[39m\n",
            "\u001b[90m│\u001b[39m                    \u001b[90m│\u001b[39m                    \u001b[90m│\u001b[39m like leather and   \u001b[90m│\u001b[39m hiking do you plan \u001b[90m│\u001b[39m like leather and   \u001b[90m│\u001b[39m or just enjoying a \u001b[90m│\u001b[39m\n",
            "\u001b[90m│\u001b[39m                    \u001b[90m│\u001b[39m                    \u001b[90m│\u001b[39m synthetic fabrics, \u001b[90m│\u001b[39m to do?** (e.g.,    \u001b[90m│\u001b[39m high-quality       \u001b[90m│\u001b[39m leisurely stroll   \u001b[90m│\u001b[39m\n",
            "\u001b[90m│\u001b[39m                    \u001b[90m│\u001b[39m                    \u001b[90m│\u001b[39m ...                \u001b[90m│\u001b[39m casual trails, ... \u001b[90m│\u001b[39m synthe...          \u001b[90m│\u001b[39m t...               \u001b[90m│\u001b[39m\n",
            "\u001b[90m├────────────────────\u001b[39m\u001b[90m┼────────────────────\u001b[39m\u001b[90m┼────────────────────\u001b[39m\u001b[90m┼────────────────────\u001b[39m\u001b[90m┼────────────────────\u001b[39m\u001b[90m┼────────────────────┤\u001b[39m\n",
            "\u001b[90m│\u001b[39m Alice              \u001b[90m│\u001b[39m What is the latest \u001b[90m│\u001b[39m \u001b[32m[PASS] \u001b[39m The latest \u001b[90m│\u001b[39m \u001b[32m[PASS] \u001b[39mHi Alice!   \u001b[90m│\u001b[39m \u001b[32m[PASS] \u001b[39m The latest \u001b[90m│\u001b[39m \u001b[31m[FAIL] \u001b[39m\u001b[31m\u001b[1mAPI call\u001b[22m\u001b[39m    \u001b[90m│\u001b[39m\n",
            "\u001b[90m│\u001b[39m                    \u001b[90m│\u001b[39m trend in winter    \u001b[90m│\u001b[39m trend in winter    \u001b[90m│\u001b[39m Winter footwear    \u001b[90m│\u001b[39m trend in winter    \u001b[90m│\u001b[39m \u001b[31m\u001b[1merror: Status\u001b[22m\u001b[39m      \u001b[90m│\u001b[39m\n",
            "\u001b[90m│\u001b[39m                    \u001b[90m│\u001b[39m footwear?          \u001b[90m│\u001b[39m footwear is chunky \u001b[90m│\u001b[39m trends are always  \u001b[90m│\u001b[39m footwear is all    \u001b[90m│\u001b[39m \u001b[31m\u001b[1mRESOURCE_EXHAUSTE\u001b[22m\u001b[39m… \u001b[90m│\u001b[39m\n",
            "\u001b[90m│\u001b[39m                    \u001b[90m│\u001b[39m                    \u001b[90m│\u001b[39m boots. These boots \u001b[90m│\u001b[39m evolving, but this \u001b[90m│\u001b[39m about chunky boots \u001b[90m│\u001b[39m \u001b[31m\u001b[1mCode 429, Message:\u001b[22m\u001b[39m \u001b[90m│\u001b[39m\n",
            "\u001b[90m│\u001b[39m                    \u001b[90m│\u001b[39m                    \u001b[90m│\u001b[39m are characterized  \u001b[90m│\u001b[39m season is all      \u001b[90m│\u001b[39m and statement      \u001b[90m│\u001b[39m \u001b[31m\u001b[1mQuota exceeded for\u001b[22m\u001b[39m \u001b[90m│\u001b[39m\n",
            "\u001b[90m│\u001b[39m                    \u001b[90m│\u001b[39m                    \u001b[90m│\u001b[39m by their thick     \u001b[90m│\u001b[39m about **comfort,   \u001b[90m│\u001b[39m sneakers. Chunky   \u001b[90m│\u001b[39m \u001b[31m\u001b[1maiplatform.google\u001b[22m\u001b[39m… \u001b[90m│\u001b[39m\n",
            "\u001b[90m│\u001b[39m                    \u001b[90m│\u001b[39m                    \u001b[90m│\u001b[39m soles and often    \u001b[90m│\u001b[39m warmth, and a      \u001b[90m│\u001b[39m boots, with their  \u001b[90m│\u001b[39m \u001b[31m\u001b[1mwith base model:\u001b[22m\u001b[39m   \u001b[90m│\u001b[39m\n",
            "\u001b[90m│\u001b[39m                    \u001b[90m│\u001b[39m                    \u001b[90m│\u001b[39m have a lugged      \u001b[90m│\u001b[39m touch of style**.  \u001b[90m│\u001b[39m thick soles and    \u001b[90m│\u001b[39m \u001b[31m\u001b[1mgemini-1.5-flash.\u001b[22m\u001b[39m  \u001b[90m│\u001b[39m\n",
            "\u001b[90m│\u001b[39m                    \u001b[90m│\u001b[39m                    \u001b[90m│\u001b[39m tread for added    \u001b[90m│\u001b[39m Here are some of   \u001b[90m│\u001b[39m rugged designs,    \u001b[90m│\u001b[39m \u001b[31m\u001b[1mPlease submit a\u001b[22m\u001b[39m    \u001b[90m│\u001b[39m\n",
            "\u001b[90m│\u001b[39m                    \u001b[90m│\u001b[39m                    \u001b[90m│\u001b[39m traction. They     \u001b[90m│\u001b[39m the hottest trends \u001b[90m│\u001b[39m provide both style \u001b[90m│\u001b[39m \u001b[31m\u001b[1mquota increase\u001b[22m\u001b[39m     \u001b[90m│\u001b[39m\n",
            "\u001b[90m│\u001b[39m                    \u001b[90m│\u001b[39m                    \u001b[90m│\u001b[39m come in a variety  \u001b[90m│\u001b[39m right now:         \u001b[90m│\u001b[39m and practicality   \u001b[90m│\u001b[39m \u001b[31m\u001b[1mrequest. ...\u001b[22m\u001b[39m       \u001b[90m│\u001b[39m\n",
            "\u001b[90m│\u001b[39m                    \u001b[90m│\u001b[39m                    \u001b[90m│\u001b[39m of styles, from    \u001b[90m│\u001b[39m * **Chunky         \u001b[90m│\u001b[39m for navigating     \u001b[90m│\u001b[39m                    \u001b[90m│\u001b[39m\n",
            "\u001b[90m│\u001b[39m                    \u001b[90m│\u001b[39m                    \u001b[90m│\u001b[39m classic lace-up    \u001b[90m│\u001b[39m Boots:**  Think    \u001b[90m│\u001b[39m snowy and icy      \u001b[90m│\u001b[39m                    \u001b[90m│\u001b[39m\n",
            "\u001b[90m│\u001b[39m                    \u001b[90m│\u001b[39m                    \u001b[90m│\u001b[39m boots to Chelsea   \u001b[90m│\u001b[39m platform soles,    \u001b[90m│\u001b[39m conditions.        \u001b[90m│\u001b[39m                    \u001b[90m│\u001b[39m\n",
            "\u001b[90m│\u001b[39m                    \u001b[90m│\u001b[39m                    \u001b[90m│\u001b[39m boots and combat   \u001b[90m│\u001b[39m lugged outsoles,   \u001b[90m│\u001b[39m Statement          \u001b[90m│\u001b[39m                    \u001b[90m│\u001b[39m\n",
            "\u001b[90m│\u001b[39m                    \u001b[90m│\u001b[39m                    \u001b[90m│\u001b[39m boo...             \u001b[90m│\u001b[39m and bold s...      \u001b[90m│\u001b[39m sneakers, on       \u001b[90m│\u001b[39m                    \u001b[90m│\u001b[39m\n",
            "\u001b[90m│\u001b[39m                    \u001b[90m│\u001b[39m                    \u001b[90m│\u001b[39m                    \u001b[90m│\u001b[39m                    \u001b[90m│\u001b[39m the...             \u001b[90m│\u001b[39m                    \u001b[90m│\u001b[39m\n",
            "\u001b[90m└────────────────────\u001b[39m\u001b[90m┴────────────────────\u001b[39m\u001b[90m┴────────────────────\u001b[39m\u001b[90m┴────────────────────\u001b[39m\u001b[90m┴────────────────────\u001b[39m\u001b[90m┴────────────────────┘\u001b[39m\n",
            "======================================================================\n",
            "\u001b[32m✔\u001b[39m Evaluation complete.\n",
            "\n",
            "» Run \u001b[92m\u001b[1mpromptfoo view\u001b[22m\u001b[39m to use the local web viewer\n",
            "» Run \u001b[92m\u001b[1mpromptfoo share\u001b[22m\u001b[39m to create a shareable URL\n",
            "» This project needs your feedback. What's one thing we can improve? \u001b[92m\u001b[1mhttps://forms.gle/YFLgTe1dKJKNSCsU7\u001b[22m\u001b[39m\n",
            "======================================================================\n",
            "\u001b[32m\u001b[1mSuccesses: 19\u001b[22m\u001b[39m\n",
            "\u001b[31m\u001b[1mFailures: 1\u001b[22m\u001b[39m\n",
            "Token usage: Total 1548, Prompt 302, Completion 1246, Cached 0\n",
            "Done.\n",
            "\u001b[1G\u001b[0K⠙\u001b[1G\u001b[0K"
          ]
        }
      ],
      "source": [
        "!npx promptfoo@latest eval -c /content/promptfooconfig.yaml --no-progress-bar"
      ]
    },
    {
      "cell_type": "markdown",
      "metadata": {
        "id": "OBU2upLn1b0x"
      },
      "source": [
        "Now we can share and view this in the web viewer, which is easier to use and contains tools for drilling down and grading the outputs."
      ]
    },
    {
      "cell_type": "code",
      "execution_count": 16,
      "metadata": {
        "colab": {
          "base_uri": "https://localhost:8080/"
        },
        "id": "QQq6hV6006Cv",
        "outputId": "133978f3-25d2-40cf-dc50-7113a3cff45f"
      },
      "outputs": [
        {
          "output_type": "stream",
          "name": "stdout",
          "text": [
            "\u001b[1G\u001b[0K⠙\u001b[1G\u001b[0K⠹\u001b[1G\u001b[0K⠸\u001b[1G\u001b[0K⠼\u001b[1G\u001b[0K⠴\u001b[1G\u001b[0K⠦\u001b[1G\u001b[0K⠧\u001b[1G\u001b[0K\u001b[31m(node:3142) [DEP0040] DeprecationWarning: The `punycode` module is deprecated. Please use a userland alternative instead.\n",
            "(Use `node --trace-deprecation ...` to show where the warning was created)\u001b[39m\n",
            "View results: \u001b[92m\u001b[1mhttps://app.promptfoo.dev/eval/f:51df2874-d4fe-47d4-8c92-b5b8dae7fe3c\u001b[22m\u001b[39m\n",
            "\u001b[1G\u001b[0K⠙\u001b[1G\u001b[0K"
          ]
        }
      ],
      "source": [
        "!npx promptfoo@latest share --yes"
      ]
    },
    {
      "cell_type": "code",
      "source": [],
      "metadata": {
        "id": "AyL3IZnEni8g"
      },
      "execution_count": null,
      "outputs": []
    }
  ],
  "metadata": {
    "colab": {
      "provenance": [],
      "include_colab_link": true
    },
    "kernelspec": {
      "display_name": "Python 3",
      "name": "python3"
    },
    "language_info": {
      "name": "python"
    }
  },
  "nbformat": 4,
  "nbformat_minor": 0
}