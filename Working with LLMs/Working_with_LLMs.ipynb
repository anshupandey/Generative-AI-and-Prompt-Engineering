{
  "nbformat": 4,
  "nbformat_minor": 0,
  "metadata": {
    "colab": {
      "provenance": []
    },
    "kernelspec": {
      "name": "python3",
      "display_name": "Python 3"
    },
    "language_info": {
      "name": "python"
    }
  },
  "cells": [
    {
      "cell_type": "code",
      "source": [
        "pip install transformers --quiet"
      ],
      "metadata": {
        "colab": {
          "base_uri": "https://localhost:8080/"
        },
        "id": "PLGKvqNU72XF",
        "outputId": "65c0ffdd-15f3-4c7b-d39e-ba468bcb982f"
      },
      "execution_count": 3,
      "outputs": [
        {
          "output_type": "stream",
          "name": "stdout",
          "text": [
            "\u001b[2K     \u001b[90m━━━━━━━━━━━━━━━━━━━━━━━━━━━━━━━━━━━━━━━━\u001b[0m \u001b[32m7.6/7.6 MB\u001b[0m \u001b[31m11.8 MB/s\u001b[0m eta \u001b[36m0:00:00\u001b[0m\n",
            "\u001b[2K     \u001b[90m━━━━━━━━━━━━━━━━━━━━━━━━━━━━━━━━━━━━━━\u001b[0m \u001b[32m294.8/294.8 kB\u001b[0m \u001b[31m14.7 MB/s\u001b[0m eta \u001b[36m0:00:00\u001b[0m\n",
            "\u001b[2K     \u001b[90m━━━━━━━━━━━━━━━━━━━━━━━━━━━━━━━━━━━━━━━━\u001b[0m \u001b[32m7.8/7.8 MB\u001b[0m \u001b[31m19.4 MB/s\u001b[0m eta \u001b[36m0:00:00\u001b[0m\n",
            "\u001b[2K     \u001b[90m━━━━━━━━━━━━━━━━━━━━━━━━━━━━━━━━━━━━━━━━\u001b[0m \u001b[32m1.3/1.3 MB\u001b[0m \u001b[31m19.9 MB/s\u001b[0m eta \u001b[36m0:00:00\u001b[0m\n",
            "\u001b[?25h"
          ]
        }
      ]
    },
    {
      "cell_type": "code",
      "execution_count": 9,
      "metadata": {
        "id": "qKa2DyTF7mgA"
      },
      "outputs": [],
      "source": [
        "from transformers import GPT2Tokenizer, GPT2LMHeadModel"
      ]
    },
    {
      "cell_type": "code",
      "source": [
        "tokenizer = GPT2Tokenizer.from_pretrained(\"gpt2-medium\")\n",
        "model = GPT2LMHeadModel.from_pretrained(\"gpt2-medium\")"
      ],
      "metadata": {
        "id": "mqUSJb8B7y2G"
      },
      "execution_count": null,
      "outputs": []
    },
    {
      "cell_type": "code",
      "source": [
        "def generate_response(prompt):\n",
        "  input_ids = tokenizer.encode(prompt,return_tensors='pt')\n",
        "  output = model.generate(input_ids,max_length=200)\n",
        "  return tokenizer.decode(output[:, input_ids.shape[-1]:][0],skip_special_tokens=True)\n",
        ""
      ],
      "metadata": {
        "id": "Oy9244bh8WxS"
      },
      "execution_count": 7,
      "outputs": []
    },
    {
      "cell_type": "code",
      "source": [
        "while True:\n",
        "  prompt = input(\"Prompt: \")\n",
        "  if prompt==\"exit\":\n",
        "    break\n",
        "  response = generate_response(prompt)\n",
        "  print(\"GPT: \",response)"
      ],
      "metadata": {
        "colab": {
          "base_uri": "https://localhost:8080/"
        },
        "id": "ExmUz9oe889z",
        "outputId": "c0116dc8-face-4421-a245-8547205d82ee"
      },
      "execution_count": 8,
      "outputs": [
        {
          "name": "stdout",
          "output_type": "stream",
          "text": [
            "Prompt: explain artificial intelligence\n"
          ]
        },
        {
          "output_type": "stream",
          "name": "stderr",
          "text": [
            "The attention mask and the pad token id were not set. As a consequence, you may observe unexpected behavior. Please pass your input's `attention_mask` to obtain reliable results.\n",
            "Setting `pad_token_id` to `eos_token_id`:50256 for open-end generation.\n"
          ]
        },
        {
          "name": "stdout",
          "output_type": "stream",
          "text": [
            "GPT:   to the public.\n",
            "\n",
            "\"I think it's important to understand that artificial intelligence is not a new concept,\" he said. \"It's been around for a long time. It's been around for a long time. It's been around for a long time. It's been around for a long time. It's been around for a long time. It's been around for a long time. It's been around for a long time. It's been around for a long time. It's been around for a long time. It's been around for a long time. It's been around for a long time. It's been around for a long time. It's been around for a long time. It's been around for a long time. It's been around for a long time. It's been around for a long time. It's been around for a long time. It's been around for a long time. It's been around for a long\n",
            "Prompt: AI in education\n"
          ]
        },
        {
          "output_type": "stream",
          "name": "stderr",
          "text": [
            "The attention mask and the pad token id were not set. As a consequence, you may observe unexpected behavior. Please pass your input's `attention_mask` to obtain reliable results.\n",
            "Setting `pad_token_id` to `eos_token_id`:50256 for open-end generation.\n"
          ]
        },
        {
          "name": "stdout",
          "output_type": "stream",
          "text": [
            "GPT:  , and the National Science Foundation.\n",
            "\n",
            "The study was funded by the National Science Foundation, the National Institutes of Health, the National Science Foundation, the National Institute of Mental Health, the National Institute of Health, the National Institute of Neurological Disorders and Stroke, the National Institute of Child Health and Human Development, the National Institute of Neurological Disorders and Stroke, the National Institute of Neurological Disorders and Stroke, the National Institute of Neurological Disorders and Stroke, the National Institute of Neurological Disorders and Stroke, the National Institute of Neurological Disorders and Stroke, the National Institute of Neurological Disorders and Stroke, the National Institute of Neurological Disorders and Stroke, the National Institute of Neurological Disorders and Stroke, the National Institute of Neurological Disorders and Stroke, the National Institute of Neurological Disorders and Stroke, the National Institute of Neurological Disorders and Stroke, the National Institute of Neurological Disorders and Stroke, the\n",
            "Prompt: Python code to add two numbers\n"
          ]
        },
        {
          "output_type": "stream",
          "name": "stderr",
          "text": [
            "The attention mask and the pad token id were not set. As a consequence, you may observe unexpected behavior. Please pass your input's `attention_mask` to obtain reliable results.\n",
            "Setting `pad_token_id` to `eos_token_id`:50256 for open-end generation.\n"
          ]
        },
        {
          "name": "stdout",
          "output_type": "stream",
          "text": [
            "GPT:   to the end of a string.\n",
            "\n",
            "The code is written in C# and uses the following syntax:\n",
            "\n",
            "string string = \"Hello, world!\"; string string2 = string.Split(\" \"); string2.Append(\" \");\n",
            "\n",
            "The code is then executed using the following syntax:\n",
            "\n",
            "string string = string2.Append(\" \"); string string3 = string.Split(\" \"); string3.Append(\" \");\n",
            "\n",
            "The code is then executed using the following syntax:\n",
            "\n",
            "string string = string3.Append(\" \"); string string4 = string.Split(\" \"); string4.Append(\" \");\n",
            "\n",
            "The code is then executed using the following syntax:\n",
            "\n",
            "string string = string4.Append(\" \"); string string5 = string.Split(\" \"); string5.Append(\" \");\n",
            "\n",
            "The code is then executed using the following syntax:\n",
            "\n",
            "\n",
            "Prompt: exit\n"
          ]
        }
      ]
    },
    {
      "cell_type": "code",
      "source": [],
      "metadata": {
        "id": "RObko0s99JNW"
      },
      "execution_count": null,
      "outputs": []
    }
  ]
}