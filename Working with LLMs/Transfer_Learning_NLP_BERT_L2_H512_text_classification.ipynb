{
  "nbformat": 4,
  "nbformat_minor": 0,
  "metadata": {
    "colab": {
      "name": "Transfer Learning - NLP -BERT_L2_H512_text_classification.ipynb",
      "provenance": []
    },
    "kernelspec": {
      "name": "python3",
      "display_name": "Python 3"
    },
    "accelerator": "GPU",
    "gpuClass": "standard"
  },
  "cells": [
    {
      "cell_type": "code",
      "metadata": {
        "colab": {
          "base_uri": "https://localhost:8080/"
        },
        "id": "S8XyBIszEmuF",
        "outputId": "d4352ed4-68ad-4393-e9c6-de93073453b4"
      },
      "source": [
        "!pip install tensorflow-text --quiet"
      ],
      "execution_count": 1,
      "outputs": [
        {
          "output_type": "stream",
          "name": "stdout",
          "text": [
            "\u001b[2K     \u001b[90m━━━━━━━━━━━━━━━━━━━━━━━━━━━━━━━━━━━━━━━━\u001b[0m \u001b[32m6.5/6.5 MB\u001b[0m \u001b[31m21.1 MB/s\u001b[0m eta \u001b[36m0:00:00\u001b[0m\n",
            "\u001b[?25h"
          ]
        }
      ]
    },
    {
      "cell_type": "code",
      "metadata": {
        "id": "3mRd3jqVisNU"
      },
      "source": [
        "import tensorflow as tf\n",
        "import tensorflow_hub as hub\n",
        "from tensorflow.keras import models,layers\n",
        "import tensorflow_text as text"
      ],
      "execution_count": 2,
      "outputs": []
    },
    {
      "cell_type": "code",
      "metadata": {
        "id": "0LBV4lgLEDYb"
      },
      "source": [
        "text_input = layers.Input(shape=(),dtype=tf.string)\n",
        "prep = hub.KerasLayer(\"https://tfhub.dev/tensorflow/bert_en_uncased_preprocess/3\")\n",
        "encoder_inputs = prep(text_input)\n",
        "\n",
        "encoder = hub.KerasLayer(\"https://tfhub.dev/tensorflow/small_bert/bert_en_uncased_L-4_H-512_A-8/2\",trainable=True)\n",
        "outputs = encoder(encoder_inputs)\n",
        "pooled_output = outputs[\"pooled_output\"] #[batchsize,512]\n",
        "sequence_ouptut = outputs[\"sequence_output\"] #[batchsize,seqlength,512]"
      ],
      "execution_count": 3,
      "outputs": []
    },
    {
      "cell_type": "code",
      "metadata": {
        "colab": {
          "base_uri": "https://localhost:8080/"
        },
        "id": "BZ_mFcJ5FPBm",
        "outputId": "5c86b5aa-a538-47e6-ce15-791f4386a963"
      },
      "source": [
        "embedding_model = tf.keras.Model(text_input, pooled_output)\n",
        "sentences = tf.constant([\"My name is Anthony and I am doing today, I am in Dubai\"])\n",
        "print(embedding_model(sentences).shape)"
      ],
      "execution_count": 5,
      "outputs": [
        {
          "output_type": "stream",
          "name": "stdout",
          "text": [
            "(1, 512)\n"
          ]
        }
      ]
    },
    {
      "cell_type": "code",
      "metadata": {
        "colab": {
          "base_uri": "https://localhost:8080/"
        },
        "id": "g8jZZtGXGP__",
        "outputId": "69a4a259-a5be-43f5-8d9c-53fe5283af20"
      },
      "source": [
        "embedding_model2 = tf.keras.Model(text_input, sequence_ouptut)\n",
        "sentences = tf.constant([\"My name is anshu here, who are you\"])\n",
        "print(embedding_model2(sentences).shape)"
      ],
      "execution_count": 6,
      "outputs": [
        {
          "output_type": "stream",
          "name": "stdout",
          "text": [
            "(1, 128, 512)\n"
          ]
        }
      ]
    },
    {
      "cell_type": "code",
      "metadata": {
        "colab": {
          "base_uri": "https://localhost:8080/"
        },
        "id": "atCflHNeGlNG",
        "outputId": "2d67a8fe-aad1-4d33-f74f-9080a4def899"
      },
      "source": [
        "sentences.shape"
      ],
      "execution_count": null,
      "outputs": [
        {
          "output_type": "execute_result",
          "data": {
            "text/plain": [
              "TensorShape([1])"
            ]
          },
          "metadata": {},
          "execution_count": 6
        }
      ]
    },
    {
      "cell_type": "code",
      "metadata": {
        "id": "5YOVb8_Yi9Oy",
        "colab": {
          "base_uri": "https://localhost:8080/"
        },
        "outputId": "8f30e073-adee-4c22-ab12-f3a7fc254905"
      },
      "source": [
        "doc1 = [\"India\"]\n",
        "doc2 = [\"I love coding\"]\n",
        "doc3 = [\"I love python porgamming and Data Science. Machine Learning is amazing.\"]\n",
        "data = [doc1,doc2,doc3]\n",
        "for doc in data:\n",
        "  doc = tf.constant(doc)\n",
        "  print(embedding_model(doc).shape)"
      ],
      "execution_count": 7,
      "outputs": [
        {
          "output_type": "stream",
          "name": "stdout",
          "text": [
            "(1, 512)\n",
            "(1, 512)\n",
            "(1, 512)\n"
          ]
        }
      ]
    },
    {
      "cell_type": "code",
      "metadata": {
        "colab": {
          "base_uri": "https://localhost:8080/"
        },
        "id": "qzfdge_vTTI7",
        "outputId": "41053969-acb7-4f2e-acf6-394edc92695f"
      },
      "source": [
        "for doc in data:\n",
        "  doc = tf.constant(doc)\n",
        "  print(embedding_model2(doc).shape)"
      ],
      "execution_count": 8,
      "outputs": [
        {
          "output_type": "stream",
          "name": "stdout",
          "text": [
            "(1, 128, 512)\n",
            "(1, 128, 512)\n",
            "(1, 128, 512)\n"
          ]
        }
      ]
    },
    {
      "cell_type": "markdown",
      "metadata": {
        "id": "2aps-TOgTWb8"
      },
      "source": [
        "# Text Classification"
      ]
    },
    {
      "cell_type": "code",
      "metadata": {
        "id": "HIAXLtnvkEms"
      },
      "source": [
        "# Text Classification"
      ],
      "execution_count": null,
      "outputs": []
    },
    {
      "cell_type": "code",
      "metadata": {
        "id": "ZG8sUdKtzMih"
      },
      "source": [
        "!wget -q https://www.dropbox.com/s/p1z32pkhs9j7cv3/test_data.txt\n",
        "!wget -q https://www.dropbox.com/s/ed3qcu1231e8ubx/train_5500.txt"
      ],
      "execution_count": 9,
      "outputs": []
    },
    {
      "cell_type": "code",
      "metadata": {
        "id": "518KnDYKnKjf"
      },
      "source": [
        "train_data = open(\"train_5500.txt\").readlines()\n",
        "test_data = open(\"test_data.txt\").readlines()"
      ],
      "execution_count": 10,
      "outputs": []
    },
    {
      "cell_type": "code",
      "metadata": {
        "id": "x6cb1MnSnTW4",
        "colab": {
          "base_uri": "https://localhost:8080/"
        },
        "outputId": "7e6612b5-9415-491c-f83a-4989c1bca7b1"
      },
      "source": [
        "len(train_data)"
      ],
      "execution_count": 11,
      "outputs": [
        {
          "output_type": "execute_result",
          "data": {
            "text/plain": [
              "5452"
            ]
          },
          "metadata": {},
          "execution_count": 11
        }
      ]
    },
    {
      "cell_type": "code",
      "metadata": {
        "id": "WyI6gZ85nVUA",
        "colab": {
          "base_uri": "https://localhost:8080/"
        },
        "outputId": "108d7b5e-816e-4515-bdb3-7e89aff8ea7e"
      },
      "source": [
        "len(test_data)"
      ],
      "execution_count": 12,
      "outputs": [
        {
          "output_type": "execute_result",
          "data": {
            "text/plain": [
              "500"
            ]
          },
          "metadata": {},
          "execution_count": 12
        }
      ]
    },
    {
      "cell_type": "code",
      "metadata": {
        "id": "hq43cNhJnepg",
        "colab": {
          "base_uri": "https://localhost:8080/"
        },
        "outputId": "223ad9fc-f425-47b0-fda4-4bffc3dab5d8"
      },
      "source": [
        "train_data[:5]"
      ],
      "execution_count": 13,
      "outputs": [
        {
          "output_type": "execute_result",
          "data": {
            "text/plain": [
              "['DESC:manner How did serfdom develop in and then leave Russia ?\\n',\n",
              " 'ENTY:cremat What films featured the character Popeye Doyle ?\\n',\n",
              " \"DESC:manner How can I find a list of celebrities ' real names ?\\n\",\n",
              " 'ENTY:animal What fowl grabs the spotlight after the Chinese Year of the Monkey ?\\n',\n",
              " 'ABBR:exp What is the full form of .com ?\\n']"
            ]
          },
          "metadata": {},
          "execution_count": 13
        }
      ]
    },
    {
      "cell_type": "code",
      "metadata": {
        "id": "pXN2j4kln5Ow"
      },
      "source": [
        "def prepare_data(data):\n",
        "  x = []\n",
        "  y = []\n",
        "  for doc in data:\n",
        "    docs = doc.split(\" \")\n",
        "    y.append(docs[0].split(\":\")[0])\n",
        "    x.append(\" \".join(docs[1:]).strip())\n",
        "  return x,y\n"
      ],
      "execution_count": 14,
      "outputs": []
    },
    {
      "cell_type": "code",
      "metadata": {
        "id": "h1PMEX4DoIHT"
      },
      "source": [
        "xtrain,ytrain = prepare_data(train_data)\n",
        "xtest,ytest = prepare_data(test_data)"
      ],
      "execution_count": 15,
      "outputs": []
    },
    {
      "cell_type": "code",
      "metadata": {
        "id": "KapSq4tDpS0e"
      },
      "source": [
        "import pandas as pd"
      ],
      "execution_count": 16,
      "outputs": []
    },
    {
      "cell_type": "code",
      "metadata": {
        "id": "kVT4C3pFpO1T",
        "colab": {
          "base_uri": "https://localhost:8080/",
          "height": 206
        },
        "outputId": "c904ef23-b793-47d6-9c84-a69b0893f360"
      },
      "source": [
        "ytrain = pd.DataFrame(ytrain)\n",
        "ytrain = pd.get_dummies(ytrain)\n",
        "ytrain.head()"
      ],
      "execution_count": 17,
      "outputs": [
        {
          "output_type": "execute_result",
          "data": {
            "text/plain": [
              "   0_ABBR  0_DESC  0_ENTY  0_HUM  0_LOC  0_NUM\n",
              "0       0       1       0      0      0      0\n",
              "1       0       0       1      0      0      0\n",
              "2       0       1       0      0      0      0\n",
              "3       0       0       1      0      0      0\n",
              "4       1       0       0      0      0      0"
            ],
            "text/html": [
              "\n",
              "  <div id=\"df-44f35b59-3752-48e6-8837-00d61ead280b\" class=\"colab-df-container\">\n",
              "    <div>\n",
              "<style scoped>\n",
              "    .dataframe tbody tr th:only-of-type {\n",
              "        vertical-align: middle;\n",
              "    }\n",
              "\n",
              "    .dataframe tbody tr th {\n",
              "        vertical-align: top;\n",
              "    }\n",
              "\n",
              "    .dataframe thead th {\n",
              "        text-align: right;\n",
              "    }\n",
              "</style>\n",
              "<table border=\"1\" class=\"dataframe\">\n",
              "  <thead>\n",
              "    <tr style=\"text-align: right;\">\n",
              "      <th></th>\n",
              "      <th>0_ABBR</th>\n",
              "      <th>0_DESC</th>\n",
              "      <th>0_ENTY</th>\n",
              "      <th>0_HUM</th>\n",
              "      <th>0_LOC</th>\n",
              "      <th>0_NUM</th>\n",
              "    </tr>\n",
              "  </thead>\n",
              "  <tbody>\n",
              "    <tr>\n",
              "      <th>0</th>\n",
              "      <td>0</td>\n",
              "      <td>1</td>\n",
              "      <td>0</td>\n",
              "      <td>0</td>\n",
              "      <td>0</td>\n",
              "      <td>0</td>\n",
              "    </tr>\n",
              "    <tr>\n",
              "      <th>1</th>\n",
              "      <td>0</td>\n",
              "      <td>0</td>\n",
              "      <td>1</td>\n",
              "      <td>0</td>\n",
              "      <td>0</td>\n",
              "      <td>0</td>\n",
              "    </tr>\n",
              "    <tr>\n",
              "      <th>2</th>\n",
              "      <td>0</td>\n",
              "      <td>1</td>\n",
              "      <td>0</td>\n",
              "      <td>0</td>\n",
              "      <td>0</td>\n",
              "      <td>0</td>\n",
              "    </tr>\n",
              "    <tr>\n",
              "      <th>3</th>\n",
              "      <td>0</td>\n",
              "      <td>0</td>\n",
              "      <td>1</td>\n",
              "      <td>0</td>\n",
              "      <td>0</td>\n",
              "      <td>0</td>\n",
              "    </tr>\n",
              "    <tr>\n",
              "      <th>4</th>\n",
              "      <td>1</td>\n",
              "      <td>0</td>\n",
              "      <td>0</td>\n",
              "      <td>0</td>\n",
              "      <td>0</td>\n",
              "      <td>0</td>\n",
              "    </tr>\n",
              "  </tbody>\n",
              "</table>\n",
              "</div>\n",
              "    <div class=\"colab-df-buttons\">\n",
              "\n",
              "  <div class=\"colab-df-container\">\n",
              "    <button class=\"colab-df-convert\" onclick=\"convertToInteractive('df-44f35b59-3752-48e6-8837-00d61ead280b')\"\n",
              "            title=\"Convert this dataframe to an interactive table.\"\n",
              "            style=\"display:none;\">\n",
              "\n",
              "  <svg xmlns=\"http://www.w3.org/2000/svg\" height=\"24px\" viewBox=\"0 -960 960 960\">\n",
              "    <path d=\"M120-120v-720h720v720H120Zm60-500h600v-160H180v160Zm220 220h160v-160H400v160Zm0 220h160v-160H400v160ZM180-400h160v-160H180v160Zm440 0h160v-160H620v160ZM180-180h160v-160H180v160Zm440 0h160v-160H620v160Z\"/>\n",
              "  </svg>\n",
              "    </button>\n",
              "\n",
              "  <style>\n",
              "    .colab-df-container {\n",
              "      display:flex;\n",
              "      gap: 12px;\n",
              "    }\n",
              "\n",
              "    .colab-df-convert {\n",
              "      background-color: #E8F0FE;\n",
              "      border: none;\n",
              "      border-radius: 50%;\n",
              "      cursor: pointer;\n",
              "      display: none;\n",
              "      fill: #1967D2;\n",
              "      height: 32px;\n",
              "      padding: 0 0 0 0;\n",
              "      width: 32px;\n",
              "    }\n",
              "\n",
              "    .colab-df-convert:hover {\n",
              "      background-color: #E2EBFA;\n",
              "      box-shadow: 0px 1px 2px rgba(60, 64, 67, 0.3), 0px 1px 3px 1px rgba(60, 64, 67, 0.15);\n",
              "      fill: #174EA6;\n",
              "    }\n",
              "\n",
              "    .colab-df-buttons div {\n",
              "      margin-bottom: 4px;\n",
              "    }\n",
              "\n",
              "    [theme=dark] .colab-df-convert {\n",
              "      background-color: #3B4455;\n",
              "      fill: #D2E3FC;\n",
              "    }\n",
              "\n",
              "    [theme=dark] .colab-df-convert:hover {\n",
              "      background-color: #434B5C;\n",
              "      box-shadow: 0px 1px 3px 1px rgba(0, 0, 0, 0.15);\n",
              "      filter: drop-shadow(0px 1px 2px rgba(0, 0, 0, 0.3));\n",
              "      fill: #FFFFFF;\n",
              "    }\n",
              "  </style>\n",
              "\n",
              "    <script>\n",
              "      const buttonEl =\n",
              "        document.querySelector('#df-44f35b59-3752-48e6-8837-00d61ead280b button.colab-df-convert');\n",
              "      buttonEl.style.display =\n",
              "        google.colab.kernel.accessAllowed ? 'block' : 'none';\n",
              "\n",
              "      async function convertToInteractive(key) {\n",
              "        const element = document.querySelector('#df-44f35b59-3752-48e6-8837-00d61ead280b');\n",
              "        const dataTable =\n",
              "          await google.colab.kernel.invokeFunction('convertToInteractive',\n",
              "                                                    [key], {});\n",
              "        if (!dataTable) return;\n",
              "\n",
              "        const docLinkHtml = 'Like what you see? Visit the ' +\n",
              "          '<a target=\"_blank\" href=https://colab.research.google.com/notebooks/data_table.ipynb>data table notebook</a>'\n",
              "          + ' to learn more about interactive tables.';\n",
              "        element.innerHTML = '';\n",
              "        dataTable['output_type'] = 'display_data';\n",
              "        await google.colab.output.renderOutput(dataTable, element);\n",
              "        const docLink = document.createElement('div');\n",
              "        docLink.innerHTML = docLinkHtml;\n",
              "        element.appendChild(docLink);\n",
              "      }\n",
              "    </script>\n",
              "  </div>\n",
              "\n",
              "\n",
              "<div id=\"df-77a247ec-f132-4c05-b17b-4798f3e50f32\">\n",
              "  <button class=\"colab-df-quickchart\" onclick=\"quickchart('df-77a247ec-f132-4c05-b17b-4798f3e50f32')\"\n",
              "            title=\"Suggest charts.\"\n",
              "            style=\"display:none;\">\n",
              "\n",
              "<svg xmlns=\"http://www.w3.org/2000/svg\" height=\"24px\"viewBox=\"0 0 24 24\"\n",
              "     width=\"24px\">\n",
              "    <g>\n",
              "        <path d=\"M19 3H5c-1.1 0-2 .9-2 2v14c0 1.1.9 2 2 2h14c1.1 0 2-.9 2-2V5c0-1.1-.9-2-2-2zM9 17H7v-7h2v7zm4 0h-2V7h2v10zm4 0h-2v-4h2v4z\"/>\n",
              "    </g>\n",
              "</svg>\n",
              "  </button>\n",
              "\n",
              "<style>\n",
              "  .colab-df-quickchart {\n",
              "      --bg-color: #E8F0FE;\n",
              "      --fill-color: #1967D2;\n",
              "      --hover-bg-color: #E2EBFA;\n",
              "      --hover-fill-color: #174EA6;\n",
              "      --disabled-fill-color: #AAA;\n",
              "      --disabled-bg-color: #DDD;\n",
              "  }\n",
              "\n",
              "  [theme=dark] .colab-df-quickchart {\n",
              "      --bg-color: #3B4455;\n",
              "      --fill-color: #D2E3FC;\n",
              "      --hover-bg-color: #434B5C;\n",
              "      --hover-fill-color: #FFFFFF;\n",
              "      --disabled-bg-color: #3B4455;\n",
              "      --disabled-fill-color: #666;\n",
              "  }\n",
              "\n",
              "  .colab-df-quickchart {\n",
              "    background-color: var(--bg-color);\n",
              "    border: none;\n",
              "    border-radius: 50%;\n",
              "    cursor: pointer;\n",
              "    display: none;\n",
              "    fill: var(--fill-color);\n",
              "    height: 32px;\n",
              "    padding: 0;\n",
              "    width: 32px;\n",
              "  }\n",
              "\n",
              "  .colab-df-quickchart:hover {\n",
              "    background-color: var(--hover-bg-color);\n",
              "    box-shadow: 0 1px 2px rgba(60, 64, 67, 0.3), 0 1px 3px 1px rgba(60, 64, 67, 0.15);\n",
              "    fill: var(--button-hover-fill-color);\n",
              "  }\n",
              "\n",
              "  .colab-df-quickchart-complete:disabled,\n",
              "  .colab-df-quickchart-complete:disabled:hover {\n",
              "    background-color: var(--disabled-bg-color);\n",
              "    fill: var(--disabled-fill-color);\n",
              "    box-shadow: none;\n",
              "  }\n",
              "\n",
              "  .colab-df-spinner {\n",
              "    border: 2px solid var(--fill-color);\n",
              "    border-color: transparent;\n",
              "    border-bottom-color: var(--fill-color);\n",
              "    animation:\n",
              "      spin 1s steps(1) infinite;\n",
              "  }\n",
              "\n",
              "  @keyframes spin {\n",
              "    0% {\n",
              "      border-color: transparent;\n",
              "      border-bottom-color: var(--fill-color);\n",
              "      border-left-color: var(--fill-color);\n",
              "    }\n",
              "    20% {\n",
              "      border-color: transparent;\n",
              "      border-left-color: var(--fill-color);\n",
              "      border-top-color: var(--fill-color);\n",
              "    }\n",
              "    30% {\n",
              "      border-color: transparent;\n",
              "      border-left-color: var(--fill-color);\n",
              "      border-top-color: var(--fill-color);\n",
              "      border-right-color: var(--fill-color);\n",
              "    }\n",
              "    40% {\n",
              "      border-color: transparent;\n",
              "      border-right-color: var(--fill-color);\n",
              "      border-top-color: var(--fill-color);\n",
              "    }\n",
              "    60% {\n",
              "      border-color: transparent;\n",
              "      border-right-color: var(--fill-color);\n",
              "    }\n",
              "    80% {\n",
              "      border-color: transparent;\n",
              "      border-right-color: var(--fill-color);\n",
              "      border-bottom-color: var(--fill-color);\n",
              "    }\n",
              "    90% {\n",
              "      border-color: transparent;\n",
              "      border-bottom-color: var(--fill-color);\n",
              "    }\n",
              "  }\n",
              "</style>\n",
              "\n",
              "  <script>\n",
              "    async function quickchart(key) {\n",
              "      const quickchartButtonEl =\n",
              "        document.querySelector('#' + key + ' button');\n",
              "      quickchartButtonEl.disabled = true;  // To prevent multiple clicks.\n",
              "      quickchartButtonEl.classList.add('colab-df-spinner');\n",
              "      try {\n",
              "        const charts = await google.colab.kernel.invokeFunction(\n",
              "            'suggestCharts', [key], {});\n",
              "      } catch (error) {\n",
              "        console.error('Error during call to suggestCharts:', error);\n",
              "      }\n",
              "      quickchartButtonEl.classList.remove('colab-df-spinner');\n",
              "      quickchartButtonEl.classList.add('colab-df-quickchart-complete');\n",
              "    }\n",
              "    (() => {\n",
              "      let quickchartButtonEl =\n",
              "        document.querySelector('#df-77a247ec-f132-4c05-b17b-4798f3e50f32 button');\n",
              "      quickchartButtonEl.style.display =\n",
              "        google.colab.kernel.accessAllowed ? 'block' : 'none';\n",
              "    })();\n",
              "  </script>\n",
              "</div>\n",
              "    </div>\n",
              "  </div>\n"
            ]
          },
          "metadata": {},
          "execution_count": 17
        }
      ]
    },
    {
      "cell_type": "code",
      "metadata": {
        "id": "fKQBHApYoKV0",
        "colab": {
          "base_uri": "https://localhost:8080/",
          "height": 206
        },
        "outputId": "242c2242-39db-4218-e632-b233d9ffa53b"
      },
      "source": [
        "ytest = pd.DataFrame(ytest)\n",
        "ytest = pd.get_dummies(ytest)\n",
        "ytest.head()"
      ],
      "execution_count": 18,
      "outputs": [
        {
          "output_type": "execute_result",
          "data": {
            "text/plain": [
              "   0_ABBR  0_DESC  0_ENTY  0_HUM  0_LOC  0_NUM\n",
              "0       0       0       0      0      0      1\n",
              "1       0       0       0      0      1      0\n",
              "2       0       0       0      1      0      0\n",
              "3       0       1       0      0      0      0\n",
              "4       0       0       0      0      0      1"
            ],
            "text/html": [
              "\n",
              "  <div id=\"df-3e9f68cd-5ad7-4024-a88a-ca05e3a2184a\" class=\"colab-df-container\">\n",
              "    <div>\n",
              "<style scoped>\n",
              "    .dataframe tbody tr th:only-of-type {\n",
              "        vertical-align: middle;\n",
              "    }\n",
              "\n",
              "    .dataframe tbody tr th {\n",
              "        vertical-align: top;\n",
              "    }\n",
              "\n",
              "    .dataframe thead th {\n",
              "        text-align: right;\n",
              "    }\n",
              "</style>\n",
              "<table border=\"1\" class=\"dataframe\">\n",
              "  <thead>\n",
              "    <tr style=\"text-align: right;\">\n",
              "      <th></th>\n",
              "      <th>0_ABBR</th>\n",
              "      <th>0_DESC</th>\n",
              "      <th>0_ENTY</th>\n",
              "      <th>0_HUM</th>\n",
              "      <th>0_LOC</th>\n",
              "      <th>0_NUM</th>\n",
              "    </tr>\n",
              "  </thead>\n",
              "  <tbody>\n",
              "    <tr>\n",
              "      <th>0</th>\n",
              "      <td>0</td>\n",
              "      <td>0</td>\n",
              "      <td>0</td>\n",
              "      <td>0</td>\n",
              "      <td>0</td>\n",
              "      <td>1</td>\n",
              "    </tr>\n",
              "    <tr>\n",
              "      <th>1</th>\n",
              "      <td>0</td>\n",
              "      <td>0</td>\n",
              "      <td>0</td>\n",
              "      <td>0</td>\n",
              "      <td>1</td>\n",
              "      <td>0</td>\n",
              "    </tr>\n",
              "    <tr>\n",
              "      <th>2</th>\n",
              "      <td>0</td>\n",
              "      <td>0</td>\n",
              "      <td>0</td>\n",
              "      <td>1</td>\n",
              "      <td>0</td>\n",
              "      <td>0</td>\n",
              "    </tr>\n",
              "    <tr>\n",
              "      <th>3</th>\n",
              "      <td>0</td>\n",
              "      <td>1</td>\n",
              "      <td>0</td>\n",
              "      <td>0</td>\n",
              "      <td>0</td>\n",
              "      <td>0</td>\n",
              "    </tr>\n",
              "    <tr>\n",
              "      <th>4</th>\n",
              "      <td>0</td>\n",
              "      <td>0</td>\n",
              "      <td>0</td>\n",
              "      <td>0</td>\n",
              "      <td>0</td>\n",
              "      <td>1</td>\n",
              "    </tr>\n",
              "  </tbody>\n",
              "</table>\n",
              "</div>\n",
              "    <div class=\"colab-df-buttons\">\n",
              "\n",
              "  <div class=\"colab-df-container\">\n",
              "    <button class=\"colab-df-convert\" onclick=\"convertToInteractive('df-3e9f68cd-5ad7-4024-a88a-ca05e3a2184a')\"\n",
              "            title=\"Convert this dataframe to an interactive table.\"\n",
              "            style=\"display:none;\">\n",
              "\n",
              "  <svg xmlns=\"http://www.w3.org/2000/svg\" height=\"24px\" viewBox=\"0 -960 960 960\">\n",
              "    <path d=\"M120-120v-720h720v720H120Zm60-500h600v-160H180v160Zm220 220h160v-160H400v160Zm0 220h160v-160H400v160ZM180-400h160v-160H180v160Zm440 0h160v-160H620v160ZM180-180h160v-160H180v160Zm440 0h160v-160H620v160Z\"/>\n",
              "  </svg>\n",
              "    </button>\n",
              "\n",
              "  <style>\n",
              "    .colab-df-container {\n",
              "      display:flex;\n",
              "      gap: 12px;\n",
              "    }\n",
              "\n",
              "    .colab-df-convert {\n",
              "      background-color: #E8F0FE;\n",
              "      border: none;\n",
              "      border-radius: 50%;\n",
              "      cursor: pointer;\n",
              "      display: none;\n",
              "      fill: #1967D2;\n",
              "      height: 32px;\n",
              "      padding: 0 0 0 0;\n",
              "      width: 32px;\n",
              "    }\n",
              "\n",
              "    .colab-df-convert:hover {\n",
              "      background-color: #E2EBFA;\n",
              "      box-shadow: 0px 1px 2px rgba(60, 64, 67, 0.3), 0px 1px 3px 1px rgba(60, 64, 67, 0.15);\n",
              "      fill: #174EA6;\n",
              "    }\n",
              "\n",
              "    .colab-df-buttons div {\n",
              "      margin-bottom: 4px;\n",
              "    }\n",
              "\n",
              "    [theme=dark] .colab-df-convert {\n",
              "      background-color: #3B4455;\n",
              "      fill: #D2E3FC;\n",
              "    }\n",
              "\n",
              "    [theme=dark] .colab-df-convert:hover {\n",
              "      background-color: #434B5C;\n",
              "      box-shadow: 0px 1px 3px 1px rgba(0, 0, 0, 0.15);\n",
              "      filter: drop-shadow(0px 1px 2px rgba(0, 0, 0, 0.3));\n",
              "      fill: #FFFFFF;\n",
              "    }\n",
              "  </style>\n",
              "\n",
              "    <script>\n",
              "      const buttonEl =\n",
              "        document.querySelector('#df-3e9f68cd-5ad7-4024-a88a-ca05e3a2184a button.colab-df-convert');\n",
              "      buttonEl.style.display =\n",
              "        google.colab.kernel.accessAllowed ? 'block' : 'none';\n",
              "\n",
              "      async function convertToInteractive(key) {\n",
              "        const element = document.querySelector('#df-3e9f68cd-5ad7-4024-a88a-ca05e3a2184a');\n",
              "        const dataTable =\n",
              "          await google.colab.kernel.invokeFunction('convertToInteractive',\n",
              "                                                    [key], {});\n",
              "        if (!dataTable) return;\n",
              "\n",
              "        const docLinkHtml = 'Like what you see? Visit the ' +\n",
              "          '<a target=\"_blank\" href=https://colab.research.google.com/notebooks/data_table.ipynb>data table notebook</a>'\n",
              "          + ' to learn more about interactive tables.';\n",
              "        element.innerHTML = '';\n",
              "        dataTable['output_type'] = 'display_data';\n",
              "        await google.colab.output.renderOutput(dataTable, element);\n",
              "        const docLink = document.createElement('div');\n",
              "        docLink.innerHTML = docLinkHtml;\n",
              "        element.appendChild(docLink);\n",
              "      }\n",
              "    </script>\n",
              "  </div>\n",
              "\n",
              "\n",
              "<div id=\"df-eadba96a-f0f7-41ac-a75d-eb3561d1d59b\">\n",
              "  <button class=\"colab-df-quickchart\" onclick=\"quickchart('df-eadba96a-f0f7-41ac-a75d-eb3561d1d59b')\"\n",
              "            title=\"Suggest charts.\"\n",
              "            style=\"display:none;\">\n",
              "\n",
              "<svg xmlns=\"http://www.w3.org/2000/svg\" height=\"24px\"viewBox=\"0 0 24 24\"\n",
              "     width=\"24px\">\n",
              "    <g>\n",
              "        <path d=\"M19 3H5c-1.1 0-2 .9-2 2v14c0 1.1.9 2 2 2h14c1.1 0 2-.9 2-2V5c0-1.1-.9-2-2-2zM9 17H7v-7h2v7zm4 0h-2V7h2v10zm4 0h-2v-4h2v4z\"/>\n",
              "    </g>\n",
              "</svg>\n",
              "  </button>\n",
              "\n",
              "<style>\n",
              "  .colab-df-quickchart {\n",
              "      --bg-color: #E8F0FE;\n",
              "      --fill-color: #1967D2;\n",
              "      --hover-bg-color: #E2EBFA;\n",
              "      --hover-fill-color: #174EA6;\n",
              "      --disabled-fill-color: #AAA;\n",
              "      --disabled-bg-color: #DDD;\n",
              "  }\n",
              "\n",
              "  [theme=dark] .colab-df-quickchart {\n",
              "      --bg-color: #3B4455;\n",
              "      --fill-color: #D2E3FC;\n",
              "      --hover-bg-color: #434B5C;\n",
              "      --hover-fill-color: #FFFFFF;\n",
              "      --disabled-bg-color: #3B4455;\n",
              "      --disabled-fill-color: #666;\n",
              "  }\n",
              "\n",
              "  .colab-df-quickchart {\n",
              "    background-color: var(--bg-color);\n",
              "    border: none;\n",
              "    border-radius: 50%;\n",
              "    cursor: pointer;\n",
              "    display: none;\n",
              "    fill: var(--fill-color);\n",
              "    height: 32px;\n",
              "    padding: 0;\n",
              "    width: 32px;\n",
              "  }\n",
              "\n",
              "  .colab-df-quickchart:hover {\n",
              "    background-color: var(--hover-bg-color);\n",
              "    box-shadow: 0 1px 2px rgba(60, 64, 67, 0.3), 0 1px 3px 1px rgba(60, 64, 67, 0.15);\n",
              "    fill: var(--button-hover-fill-color);\n",
              "  }\n",
              "\n",
              "  .colab-df-quickchart-complete:disabled,\n",
              "  .colab-df-quickchart-complete:disabled:hover {\n",
              "    background-color: var(--disabled-bg-color);\n",
              "    fill: var(--disabled-fill-color);\n",
              "    box-shadow: none;\n",
              "  }\n",
              "\n",
              "  .colab-df-spinner {\n",
              "    border: 2px solid var(--fill-color);\n",
              "    border-color: transparent;\n",
              "    border-bottom-color: var(--fill-color);\n",
              "    animation:\n",
              "      spin 1s steps(1) infinite;\n",
              "  }\n",
              "\n",
              "  @keyframes spin {\n",
              "    0% {\n",
              "      border-color: transparent;\n",
              "      border-bottom-color: var(--fill-color);\n",
              "      border-left-color: var(--fill-color);\n",
              "    }\n",
              "    20% {\n",
              "      border-color: transparent;\n",
              "      border-left-color: var(--fill-color);\n",
              "      border-top-color: var(--fill-color);\n",
              "    }\n",
              "    30% {\n",
              "      border-color: transparent;\n",
              "      border-left-color: var(--fill-color);\n",
              "      border-top-color: var(--fill-color);\n",
              "      border-right-color: var(--fill-color);\n",
              "    }\n",
              "    40% {\n",
              "      border-color: transparent;\n",
              "      border-right-color: var(--fill-color);\n",
              "      border-top-color: var(--fill-color);\n",
              "    }\n",
              "    60% {\n",
              "      border-color: transparent;\n",
              "      border-right-color: var(--fill-color);\n",
              "    }\n",
              "    80% {\n",
              "      border-color: transparent;\n",
              "      border-right-color: var(--fill-color);\n",
              "      border-bottom-color: var(--fill-color);\n",
              "    }\n",
              "    90% {\n",
              "      border-color: transparent;\n",
              "      border-bottom-color: var(--fill-color);\n",
              "    }\n",
              "  }\n",
              "</style>\n",
              "\n",
              "  <script>\n",
              "    async function quickchart(key) {\n",
              "      const quickchartButtonEl =\n",
              "        document.querySelector('#' + key + ' button');\n",
              "      quickchartButtonEl.disabled = true;  // To prevent multiple clicks.\n",
              "      quickchartButtonEl.classList.add('colab-df-spinner');\n",
              "      try {\n",
              "        const charts = await google.colab.kernel.invokeFunction(\n",
              "            'suggestCharts', [key], {});\n",
              "      } catch (error) {\n",
              "        console.error('Error during call to suggestCharts:', error);\n",
              "      }\n",
              "      quickchartButtonEl.classList.remove('colab-df-spinner');\n",
              "      quickchartButtonEl.classList.add('colab-df-quickchart-complete');\n",
              "    }\n",
              "    (() => {\n",
              "      let quickchartButtonEl =\n",
              "        document.querySelector('#df-eadba96a-f0f7-41ac-a75d-eb3561d1d59b button');\n",
              "      quickchartButtonEl.style.display =\n",
              "        google.colab.kernel.accessAllowed ? 'block' : 'none';\n",
              "    })();\n",
              "  </script>\n",
              "</div>\n",
              "    </div>\n",
              "  </div>\n"
            ]
          },
          "metadata": {},
          "execution_count": 18
        }
      ]
    },
    {
      "cell_type": "code",
      "metadata": {
        "id": "Bqnk0y76pC8p",
        "colab": {
          "base_uri": "https://localhost:8080/"
        },
        "outputId": "7a40efc3-722a-4c28-cbf3-c2c9da759aa9"
      },
      "source": [
        "categories = list(ytrain.columns)\n",
        "categories = [i[2:] for i in categories]\n",
        "categories"
      ],
      "execution_count": 19,
      "outputs": [
        {
          "output_type": "execute_result",
          "data": {
            "text/plain": [
              "['ABBR', 'DESC', 'ENTY', 'HUM', 'LOC', 'NUM']"
            ]
          },
          "metadata": {},
          "execution_count": 19
        }
      ]
    },
    {
      "cell_type": "markdown",
      "metadata": {
        "id": "RHaiJMIVqIcb"
      },
      "source": [
        "### Text Classification using Transfer learning"
      ]
    },
    {
      "cell_type": "code",
      "metadata": {
        "id": "Io5eVHdyqHqt"
      },
      "source": [
        "# create a function which will accept a text doc and return the corresponding vector\n",
        "def sent2vec(doc):\n",
        "  vector = embedding_model(tf.squeeze(tf.cast(doc,tf.string),axis=1))\n",
        "  return vector"
      ],
      "execution_count": 23,
      "outputs": []
    },
    {
      "cell_type": "code",
      "metadata": {
        "id": "6v4iwecapr98"
      },
      "source": [
        "from tensorflow.keras import models,layers"
      ],
      "execution_count": 24,
      "outputs": []
    },
    {
      "cell_type": "code",
      "metadata": {
        "id": "T3hyI3-orHCi",
        "colab": {
          "base_uri": "https://localhost:8080/"
        },
        "outputId": "b043201f-a429-46f7-8532-0c9b540ae2e7"
      },
      "source": [
        "input_layer = layers.Input(shape=(1,),dtype='string')\n",
        "embedding_layer = layers.Lambda(sent2vec,output_shape=(512,))(input_layer)\n",
        "dense1 = layers.Dense(256,activation='relu')(embedding_layer)\n",
        "output_layer = layers.Dense(6,activation='softmax')(dense1)\n",
        "\n",
        "model = models.Model(inputs=[input_layer],outputs=output_layer)\n",
        "model.compile(loss='categorical_crossentropy',optimizer='adam',metrics=['accuracy'])"
      ],
      "execution_count": 25,
      "outputs": [
        {
          "output_type": "stream",
          "name": "stderr",
          "text": [
            "WARNING:tensorflow:\n",
            "The following Variables were used a Lambda layer's call (lambda_1), but\n",
            "are not present in its tracked objects:\n",
            "  <tf.Variable 'pooler_transform/bias:0' shape=(512,) dtype=float32>\n",
            "  <tf.Variable 'pooler_transform/kernel:0' shape=(512, 512) dtype=float32>\n",
            "  <tf.Variable 'transformer/layer_3/output_layer_norm/beta:0' shape=(512,) dtype=float32>\n",
            "  <tf.Variable 'transformer/layer_3/output_layer_norm/gamma:0' shape=(512,) dtype=float32>\n",
            "  <tf.Variable 'transformer/layer_3/output/bias:0' shape=(512,) dtype=float32>\n",
            "  <tf.Variable 'transformer/layer_3/output/kernel:0' shape=(2048, 512) dtype=float32>\n",
            "  <tf.Variable 'transformer/layer_3/intermediate/bias:0' shape=(2048,) dtype=float32>\n",
            "  <tf.Variable 'transformer/layer_3/intermediate/kernel:0' shape=(512, 2048) dtype=float32>\n",
            "  <tf.Variable 'transformer/layer_3/self_attention_layer_norm/beta:0' shape=(512,) dtype=float32>\n",
            "  <tf.Variable 'transformer/layer_3/self_attention_layer_norm/gamma:0' shape=(512,) dtype=float32>\n",
            "  <tf.Variable 'transformer/layer_3/self_attention/attention_output/bias:0' shape=(512,) dtype=float32>\n",
            "  <tf.Variable 'transformer/layer_3/self_attention/attention_output/kernel:0' shape=(8, 64, 512) dtype=float32>\n",
            "  <tf.Variable 'transformer/layer_3/self_attention/value/bias:0' shape=(8, 64) dtype=float32>\n",
            "  <tf.Variable 'transformer/layer_3/self_attention/value/kernel:0' shape=(512, 8, 64) dtype=float32>\n",
            "  <tf.Variable 'transformer/layer_3/self_attention/key/bias:0' shape=(8, 64) dtype=float32>\n",
            "  <tf.Variable 'transformer/layer_3/self_attention/key/kernel:0' shape=(512, 8, 64) dtype=float32>\n",
            "  <tf.Variable 'transformer/layer_3/self_attention/query/bias:0' shape=(8, 64) dtype=float32>\n",
            "  <tf.Variable 'transformer/layer_3/self_attention/query/kernel:0' shape=(512, 8, 64) dtype=float32>\n",
            "  <tf.Variable 'transformer/layer_2/output_layer_norm/beta:0' shape=(512,) dtype=float32>\n",
            "  <tf.Variable 'transformer/layer_2/output_layer_norm/gamma:0' shape=(512,) dtype=float32>\n",
            "  <tf.Variable 'transformer/layer_2/output/bias:0' shape=(512,) dtype=float32>\n",
            "  <tf.Variable 'transformer/layer_2/output/kernel:0' shape=(2048, 512) dtype=float32>\n",
            "  <tf.Variable 'transformer/layer_2/intermediate/bias:0' shape=(2048,) dtype=float32>\n",
            "  <tf.Variable 'transformer/layer_2/intermediate/kernel:0' shape=(512, 2048) dtype=float32>\n",
            "  <tf.Variable 'transformer/layer_2/self_attention_layer_norm/beta:0' shape=(512,) dtype=float32>\n",
            "  <tf.Variable 'transformer/layer_2/self_attention_layer_norm/gamma:0' shape=(512,) dtype=float32>\n",
            "  <tf.Variable 'transformer/layer_2/self_attention/attention_output/bias:0' shape=(512,) dtype=float32>\n",
            "  <tf.Variable 'transformer/layer_2/self_attention/attention_output/kernel:0' shape=(8, 64, 512) dtype=float32>\n",
            "  <tf.Variable 'transformer/layer_2/self_attention/value/bias:0' shape=(8, 64) dtype=float32>\n",
            "  <tf.Variable 'transformer/layer_2/self_attention/value/kernel:0' shape=(512, 8, 64) dtype=float32>\n",
            "  <tf.Variable 'transformer/layer_2/self_attention/key/bias:0' shape=(8, 64) dtype=float32>\n",
            "  <tf.Variable 'transformer/layer_2/self_attention/key/kernel:0' shape=(512, 8, 64) dtype=float32>\n",
            "  <tf.Variable 'transformer/layer_2/self_attention/query/bias:0' shape=(8, 64) dtype=float32>\n",
            "  <tf.Variable 'transformer/layer_2/self_attention/query/kernel:0' shape=(512, 8, 64) dtype=float32>\n",
            "  <tf.Variable 'transformer/layer_1/output_layer_norm/beta:0' shape=(512,) dtype=float32>\n",
            "  <tf.Variable 'transformer/layer_1/output_layer_norm/gamma:0' shape=(512,) dtype=float32>\n",
            "  <tf.Variable 'transformer/layer_1/output/bias:0' shape=(512,) dtype=float32>\n",
            "  <tf.Variable 'transformer/layer_1/output/kernel:0' shape=(2048, 512) dtype=float32>\n",
            "  <tf.Variable 'transformer/layer_1/intermediate/bias:0' shape=(2048,) dtype=float32>\n",
            "  <tf.Variable 'transformer/layer_1/intermediate/kernel:0' shape=(512, 2048) dtype=float32>\n",
            "  <tf.Variable 'transformer/layer_1/self_attention_layer_norm/beta:0' shape=(512,) dtype=float32>\n",
            "  <tf.Variable 'transformer/layer_1/self_attention_layer_norm/gamma:0' shape=(512,) dtype=float32>\n",
            "  <tf.Variable 'transformer/layer_1/self_attention/attention_output/bias:0' shape=(512,) dtype=float32>\n",
            "  <tf.Variable 'transformer/layer_1/self_attention/attention_output/kernel:0' shape=(8, 64, 512) dtype=float32>\n",
            "  <tf.Variable 'transformer/layer_1/self_attention/value/bias:0' shape=(8, 64) dtype=float32>\n",
            "  <tf.Variable 'transformer/layer_1/self_attention/value/kernel:0' shape=(512, 8, 64) dtype=float32>\n",
            "  <tf.Variable 'transformer/layer_1/self_attention/key/bias:0' shape=(8, 64) dtype=float32>\n",
            "  <tf.Variable 'transformer/layer_1/self_attention/key/kernel:0' shape=(512, 8, 64) dtype=float32>\n",
            "  <tf.Variable 'transformer/layer_1/self_attention/query/bias:0' shape=(8, 64) dtype=float32>\n",
            "  <tf.Variable 'transformer/layer_1/self_attention/query/kernel:0' shape=(512, 8, 64) dtype=float32>\n",
            "  <tf.Variable 'transformer/layer_0/output_layer_norm/beta:0' shape=(512,) dtype=float32>\n",
            "  <tf.Variable 'transformer/layer_0/output_layer_norm/gamma:0' shape=(512,) dtype=float32>\n",
            "  <tf.Variable 'transformer/layer_0/output/bias:0' shape=(512,) dtype=float32>\n",
            "  <tf.Variable 'transformer/layer_0/output/kernel:0' shape=(2048, 512) dtype=float32>\n",
            "  <tf.Variable 'transformer/layer_0/intermediate/bias:0' shape=(2048,) dtype=float32>\n",
            "  <tf.Variable 'transformer/layer_0/intermediate/kernel:0' shape=(512, 2048) dtype=float32>\n",
            "  <tf.Variable 'transformer/layer_0/self_attention_layer_norm/beta:0' shape=(512,) dtype=float32>\n",
            "  <tf.Variable 'transformer/layer_0/self_attention_layer_norm/gamma:0' shape=(512,) dtype=float32>\n",
            "  <tf.Variable 'transformer/layer_0/self_attention/attention_output/bias:0' shape=(512,) dtype=float32>\n",
            "  <tf.Variable 'transformer/layer_0/self_attention/attention_output/kernel:0' shape=(8, 64, 512) dtype=float32>\n",
            "  <tf.Variable 'transformer/layer_0/self_attention/value/bias:0' shape=(8, 64) dtype=float32>\n",
            "  <tf.Variable 'transformer/layer_0/self_attention/value/kernel:0' shape=(512, 8, 64) dtype=float32>\n",
            "  <tf.Variable 'transformer/layer_0/self_attention/key/bias:0' shape=(8, 64) dtype=float32>\n",
            "  <tf.Variable 'transformer/layer_0/self_attention/key/kernel:0' shape=(512, 8, 64) dtype=float32>\n",
            "  <tf.Variable 'transformer/layer_0/self_attention/query/bias:0' shape=(8, 64) dtype=float32>\n",
            "  <tf.Variable 'transformer/layer_0/self_attention/query/kernel:0' shape=(512, 8, 64) dtype=float32>\n",
            "  <tf.Variable 'embeddings/layer_norm/beta:0' shape=(512,) dtype=float32>\n",
            "  <tf.Variable 'embeddings/layer_norm/gamma:0' shape=(512,) dtype=float32>\n",
            "  <tf.Variable 'type_embeddings/embeddings:0' shape=(2, 512) dtype=float32>\n",
            "  <tf.Variable 'position_embedding/embeddings:0' shape=(512, 512) dtype=float32>\n",
            "  <tf.Variable 'word_embeddings/embeddings:0' shape=(30522, 512) dtype=float32>\n",
            "It is possible that this is intended behavior, but it is more likely\n",
            "an omission. This is a strong indication that this layer should be\n",
            "formulated as a subclassed Layer rather than a Lambda layer.\n"
          ]
        }
      ]
    },
    {
      "cell_type": "code",
      "metadata": {
        "id": "doFLeyrEujrJ",
        "colab": {
          "base_uri": "https://localhost:8080/"
        },
        "outputId": "c79d69a8-38c7-42c6-b313-1e2d41dedc28"
      },
      "source": [
        "import numpy as np\n",
        "xtrain = np.array(xtrain).reshape(-1,1)\n",
        "xtest = np.array(xtest).reshape(-1,1)\n",
        "print(xtrain.shape)\n",
        "print(xtest.shape)"
      ],
      "execution_count": 26,
      "outputs": [
        {
          "output_type": "stream",
          "name": "stdout",
          "text": [
            "(5452, 1)\n",
            "(500, 1)\n"
          ]
        }
      ]
    },
    {
      "cell_type": "code",
      "metadata": {
        "id": "be_JzeQtsMRl",
        "colab": {
          "base_uri": "https://localhost:8080/"
        },
        "outputId": "2bb85142-8a69-4545-cf34-65d3605058c4"
      },
      "source": [
        "model.fit(xtrain,ytrain,epochs=20,batch_size=64,validation_data=(xtest,ytest))"
      ],
      "execution_count": 27,
      "outputs": [
        {
          "output_type": "stream",
          "name": "stdout",
          "text": [
            "Epoch 1/20\n",
            "86/86 [==============================] - 62s 302ms/step - loss: 1.2779 - accuracy: 0.4932 - val_loss: 0.9145 - val_accuracy: 0.6800\n",
            "Epoch 2/20\n",
            "86/86 [==============================] - 26s 298ms/step - loss: 1.0352 - accuracy: 0.6042 - val_loss: 0.6762 - val_accuracy: 0.7600\n",
            "Epoch 3/20\n",
            "86/86 [==============================] - 26s 305ms/step - loss: 0.9600 - accuracy: 0.6339 - val_loss: 0.6438 - val_accuracy: 0.7860\n",
            "Epoch 4/20\n",
            "86/86 [==============================] - 26s 299ms/step - loss: 0.9452 - accuracy: 0.6381 - val_loss: 0.5950 - val_accuracy: 0.8000\n",
            "Epoch 5/20\n",
            "86/86 [==============================] - 26s 298ms/step - loss: 0.9027 - accuracy: 0.6570 - val_loss: 0.5781 - val_accuracy: 0.8320\n",
            "Epoch 6/20\n",
            "86/86 [==============================] - 26s 305ms/step - loss: 0.8865 - accuracy: 0.6605 - val_loss: 0.6542 - val_accuracy: 0.7120\n",
            "Epoch 7/20\n",
            "86/86 [==============================] - 26s 300ms/step - loss: 0.8535 - accuracy: 0.6792 - val_loss: 0.5625 - val_accuracy: 0.8200\n",
            "Epoch 8/20\n",
            "86/86 [==============================] - 26s 306ms/step - loss: 0.8293 - accuracy: 0.6814 - val_loss: 0.5659 - val_accuracy: 0.8100\n",
            "Epoch 9/20\n",
            "86/86 [==============================] - 26s 299ms/step - loss: 0.8526 - accuracy: 0.6706 - val_loss: 0.5182 - val_accuracy: 0.8300\n",
            "Epoch 10/20\n",
            "86/86 [==============================] - 26s 308ms/step - loss: 0.8130 - accuracy: 0.6919 - val_loss: 0.5023 - val_accuracy: 0.8220\n",
            "Epoch 11/20\n",
            "86/86 [==============================] - 26s 308ms/step - loss: 0.8239 - accuracy: 0.6919 - val_loss: 0.5385 - val_accuracy: 0.8020\n",
            "Epoch 12/20\n",
            "86/86 [==============================] - 26s 304ms/step - loss: 0.7983 - accuracy: 0.6911 - val_loss: 0.5111 - val_accuracy: 0.8280\n",
            "Epoch 13/20\n",
            "86/86 [==============================] - 26s 304ms/step - loss: 0.7702 - accuracy: 0.7096 - val_loss: 0.4902 - val_accuracy: 0.8280\n",
            "Epoch 14/20\n",
            "86/86 [==============================] - 26s 302ms/step - loss: 0.7916 - accuracy: 0.6948 - val_loss: 0.5251 - val_accuracy: 0.7900\n",
            "Epoch 15/20\n",
            "86/86 [==============================] - 28s 326ms/step - loss: 0.7861 - accuracy: 0.6983 - val_loss: 0.4769 - val_accuracy: 0.8160\n",
            "Epoch 16/20\n",
            "86/86 [==============================] - 26s 302ms/step - loss: 0.7594 - accuracy: 0.7122 - val_loss: 0.4631 - val_accuracy: 0.8280\n",
            "Epoch 17/20\n",
            "86/86 [==============================] - 26s 305ms/step - loss: 0.7515 - accuracy: 0.7159 - val_loss: 0.5902 - val_accuracy: 0.7520\n",
            "Epoch 18/20\n",
            "86/86 [==============================] - 26s 304ms/step - loss: 0.7332 - accuracy: 0.7216 - val_loss: 0.4521 - val_accuracy: 0.8360\n",
            "Epoch 19/20\n",
            "86/86 [==============================] - 26s 303ms/step - loss: 0.7370 - accuracy: 0.7210 - val_loss: 0.5274 - val_accuracy: 0.7880\n",
            "Epoch 20/20\n",
            "86/86 [==============================] - 26s 308ms/step - loss: 0.7266 - accuracy: 0.7295 - val_loss: 0.4423 - val_accuracy: 0.8360\n"
          ]
        },
        {
          "output_type": "execute_result",
          "data": {
            "text/plain": [
              "<keras.src.callbacks.History at 0x7947e0afa5c0>"
            ]
          },
          "metadata": {},
          "execution_count": 27
        }
      ]
    },
    {
      "cell_type": "code",
      "metadata": {
        "id": "QNu0tJaCuNsm",
        "outputId": "4b08e2a4-3529-47ec-b35f-48d48e9a5888",
        "colab": {
          "base_uri": "https://localhost:8080/"
        }
      },
      "source": [
        "new_doc = [\"Who is president of United States of America?\",\"What is price for Harley Davidson?\"]\n",
        "new_doc = np.array(new_doc).reshape(-1,1)\n",
        "output = model.predict(new_doc)"
      ],
      "execution_count": 28,
      "outputs": [
        {
          "output_type": "stream",
          "name": "stdout",
          "text": [
            "1/1 [==============================] - 0s 427ms/step\n"
          ]
        }
      ]
    },
    {
      "cell_type": "code",
      "metadata": {
        "id": "06KNi_1CxoGn",
        "colab": {
          "base_uri": "https://localhost:8080/"
        },
        "outputId": "dcd363f1-9bb4-43fa-9110-d45895db1ad4"
      },
      "source": [
        "output2 = [np.argmax(i) for i in output]\n",
        "output2 = [categories[i] for i in output2]\n",
        "output2"
      ],
      "execution_count": 29,
      "outputs": [
        {
          "output_type": "execute_result",
          "data": {
            "text/plain": [
              "['HUM', 'DESC']"
            ]
          },
          "metadata": {},
          "execution_count": 29
        }
      ]
    },
    {
      "cell_type": "code",
      "metadata": {
        "id": "bfdGBvuXx3A_"
      },
      "source": [],
      "execution_count": null,
      "outputs": []
    }
  ]
}