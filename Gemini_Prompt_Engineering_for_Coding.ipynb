{
  "cells": [
    {
      "cell_type": "markdown",
      "metadata": {
        "id": "view-in-github",
        "colab_type": "text"
      },
      "source": [
        "<a href=\"https://colab.research.google.com/github/anshupandey/Generative-AI-and-Prompt-Engineering/blob/main/Gemini_Prompt_Engineering_for_Coding.ipynb\" target=\"_parent\"><img src=\"https://colab.research.google.com/assets/colab-badge.svg\" alt=\"Open In Colab\"/></a>"
      ]
    },
    {
      "cell_type": "markdown",
      "source": [
        "# Gemini: Prompt Engineering for Coding"
      ],
      "metadata": {
        "id": "hAeE2XnZDsqX"
      }
    },
    {
      "cell_type": "markdown",
      "metadata": {
        "id": "No17Cw5hgx12"
      },
      "source": [
        "### Install Vertex AI SDK for Python\n"
      ]
    },
    {
      "cell_type": "code",
      "execution_count": 1,
      "metadata": {
        "id": "tFy3H3aPgx12"
      },
      "outputs": [],
      "source": [
        "! pip3 install --upgrade --user --quiet google-cloud-aiplatform"
      ]
    },
    {
      "cell_type": "markdown",
      "metadata": {
        "id": "dmWOrTJ3gx13"
      },
      "source": [
        "### Authenticate your notebook environment (Colab only)\n",
        "\n",
        "If you are running this notebook on Google Colab, run the cell below to authenticate your environment.\n"
      ]
    },
    {
      "cell_type": "code",
      "execution_count": 2,
      "metadata": {
        "id": "NyKGtVQjgx13"
      },
      "outputs": [],
      "source": [
        "import sys\n",
        "\n",
        "if \"google.colab\" in sys.modules:\n",
        "    from google.colab import auth\n",
        "    auth.authenticate_user()"
      ]
    },
    {
      "cell_type": "markdown",
      "metadata": {
        "id": "DF4l8DTdWgPY"
      },
      "source": [
        "### Set Google Cloud project information and initialize Vertex AI SDK\n",
        "\n",
        "To get started using Vertex AI, you must have an existing Google Cloud project and [enable the Vertex AI API](https://console.cloud.google.com/flows/enableapi?apiid=aiplatform.googleapis.com).\n",
        "\n",
        "Learn more about [setting up a project and a development environment](https://cloud.google.com/vertex-ai/docs/start/cloud-environment)."
      ]
    },
    {
      "cell_type": "code",
      "execution_count": 3,
      "metadata": {
        "id": "Nqwi-5ufWp_B"
      },
      "outputs": [],
      "source": [
        "PROJECT_ID = \"jrproject-402905\"  # @param {type:\"string\"}\n",
        "LOCATION = \"us-central1\"  # @param {type:\"string\"}\n",
        "MODEL_ID = \"gemini-1.5-flash-preview-0514\"  # @param {type:\"string\"}\n",
        "import vertexai\n",
        "vertexai.init(project=PROJECT_ID, location=LOCATION)"
      ]
    },
    {
      "cell_type": "code",
      "execution_count": 4,
      "metadata": {
        "id": "lslYAvw37JGQ"
      },
      "outputs": [],
      "source": [
        "from vertexai.generative_models import GenerationConfig, GenerativeModel\n",
        "# load the model\n",
        "model = GenerativeModel(MODEL_ID, system_instruction=[ \"You are a helpful Coding Expert.\",\"Your answer questions related to coding in effective way, following standard coding best practices.\",],)\n",
        "\n",
        "# Set model parameters\n",
        "generation_config = GenerationConfig( temperature=0.9, top_k=32,)\n",
        "\n",
        "def generate_response(prompt,model=model):\n",
        "  contents = [prompt]\n",
        "  response = model.generate_content(contents, generation_config=generation_config,)\n",
        "  return response.text"
      ]
    },
    {
      "cell_type": "markdown",
      "metadata": {
        "id": "qjb3J7DzygTu"
      },
      "source": [
        "# Calculate Code Complexity"
      ]
    },
    {
      "cell_type": "code",
      "execution_count": 5,
      "metadata": {
        "colab": {
          "base_uri": "https://localhost:8080/"
        },
        "id": "IVXYhAUHyfUJ",
        "outputId": "bb009407-98e9-4d08-c43f-3ce72fe16c39"
      },
      "outputs": [
        {
          "output_type": "stream",
          "name": "stdout",
          "text": [
            "The time complexity of the provided Python code is **O(c * v)**. Here's why:\n",
            "\n",
            "* **Nested Loops:** The code has two nested `for` loops. The outer loop iterates `c` times, and for each iteration of the outer loop, the inner loop iterates `v` times.\n",
            "\n",
            "* **Constant Time Operations:**  Inside the nested loops, the operation `counter += 1` takes constant time.\n",
            "\n",
            "**Explanation:**\n",
            "\n",
            "* The outer loop runs `c` times.\n",
            "* For each iteration of the outer loop, the inner loop runs `v` times.\n",
            "* This means the total number of times the `counter += 1` operation executes is `c * v`. \n",
            "\n",
            "**Therefore, the time complexity is directly proportional to the product of `c` and `v`, resulting in O(c * v).** \n",
            "\n",
            "**Important Note:** Time complexity analysis focuses on the dominant term in the expression. While the code has a few other operations outside the loops, their time complexity is constant, which is negligible compared to the nested loops' time complexity.\n",
            "\n"
          ]
        }
      ],
      "source": [
        "code = \"\"\"\n",
        "def myfun(c,v):\n",
        "  counter = 0\n",
        "  for i in range(c):\n",
        "    for j in range(v):\n",
        "      counter +=1\n",
        "  return counter\n",
        "\"\"\"\n",
        "\n",
        "prompt = f\"\"\"\n",
        "you will be provided with python code, and your task is to calculate its time complexity.\n",
        "Code: {code}\n",
        "\"\"\"\n",
        "\n",
        "print(generate_response(prompt))"
      ]
    },
    {
      "cell_type": "markdown",
      "metadata": {
        "id": "LOKpnaYF2DE0"
      },
      "source": [
        "# Improve code efficiency"
      ]
    },
    {
      "cell_type": "code",
      "execution_count": 7,
      "metadata": {
        "id": "2K0FKxFmz5ZN",
        "outputId": "3f2d8aef-4cbb-4600-92af-de3849c26d0a",
        "colab": {
          "base_uri": "https://localhost:8080/"
        }
      },
      "outputs": [
        {
          "output_type": "stream",
          "name": "stdout",
          "text": [
            "```python\n",
            "from typing import List\n",
            "\n",
            "def has_sum_k(nums: List[int], k: int) -> bool:\n",
            "    \"\"\"\n",
            "    Checks if there are two numbers in the list that add up to k.\n",
            "\n",
            "    Args:\n",
            "        nums: A list of integers.\n",
            "        k: The target sum.\n",
            "\n",
            "    Returns:\n",
            "        True if there are two numbers in the list that add up to k, False otherwise.\n",
            "    \"\"\"\n",
            "\n",
            "    seen = set()  # Use a set for efficient lookups\n",
            "    for num in nums:\n",
            "        complement = k - num\n",
            "        if complement in seen:\n",
            "            return True\n",
            "        seen.add(num)\n",
            "    return False\n",
            "```\n",
            "\n",
            "**Explanation of Improvements:**\n",
            "\n",
            "1. **Using a Set for Efficient Lookups:**\n",
            "   - Instead of nested loops, we use a set `seen` to store the numbers we've encountered. Sets provide constant-time membership checking (`in` operation), which is significantly faster than iterating through a list.\n",
            "\n",
            "2. **Direct Complement Check:**\n",
            "   - For each number `num` in the list, we calculate its `complement` (the value that would add up to `k`).\n",
            "   - We check if the `complement` is already in the `seen` set. If it is, we've found our pair and return `True`.\n",
            "\n",
            "3. **Avoiding Redundant Checks:**\n",
            "   - By using a set, we avoid checking for pairs that have already been examined. For example, if `nums = [1, 2, 3, 4]` and `k = 5`, the nested loop approach would check (1, 2), (1, 3), (1, 4), (2, 3), (2, 4), and (3, 4). Our improved approach only checks (1, 4), (2, 3) since the set `seen` prevents redundant checks.\n",
            "\n",
            "**Time Complexity:**\n",
            "- Original: O(n^2) due to the nested loops\n",
            "- Improved: O(n) due to iterating through the list once and using constant-time set lookups.\n",
            "\n",
            "**Space Complexity:**\n",
            "- Original: O(1)\n",
            "- Improved: O(n) due to the `seen` set, which in the worst case could store all elements of the input list.\n",
            "\n",
            "**Advantages of the Improved Approach:**\n",
            "- **Faster Execution:** The improved approach runs in linear time, making it significantly faster for larger input lists.\n",
            "- **More Efficient Memory Usage:** While the improved approach uses a set, it typically uses less memory than the nested loop approach, especially for large lists. \n",
            "- **Easier to Understand:** The improved approach is more concise and easier to grasp conceptually.\n",
            "\n"
          ]
        }
      ],
      "source": [
        "code = \"\"\"\n",
        "from typing import List\n",
        "def has_sum_k(nums: List[int], k: int) -> bool:\n",
        "\n",
        "    n = len(nums)\n",
        "    for i in range(n):\n",
        "        for j in range(i+1, n):\n",
        "            if nums[i] + nums[j] == k:\n",
        "                return True\n",
        "    return False\n",
        "\"\"\"\n",
        "\n",
        "prompt = f\"\"\"\n",
        "please help in providing better ideas for efficiency improvement for the following function:\n",
        "Code:\n",
        "\n",
        "{code}\n",
        "\"\"\"\n",
        "\n",
        "print(generate_response(prompt))"
      ]
    },
    {
      "cell_type": "markdown",
      "metadata": {
        "id": "8LxdSdLf22pr"
      },
      "source": [
        "# Explain a piece of code"
      ]
    },
    {
      "cell_type": "code",
      "execution_count": 8,
      "metadata": {
        "colab": {
          "base_uri": "https://localhost:8080/"
        },
        "id": "jyGTdcws22FM",
        "outputId": "cf7e9f2a-c97c-4dfc-978e-4ea6a477f14c"
      },
      "outputs": [
        {
          "output_type": "stream",
          "name": "stdout",
          "text": [
            "This Python code defines a function `has_sum_k` that checks if there are two distinct elements in a list `nums` whose sum equals a given target value `k`. \n",
            "\n",
            "Here's a breakdown:\n",
            "\n",
            "1. **Function Definition:**\n",
            "   - `from typing import List`: This line imports the `List` type from the `typing` module for type hints, improving code readability and maintainability.\n",
            "   - `def has_sum_k(nums: List[int], k: int) -> bool:`: This line defines the function named `has_sum_k`. It takes two arguments:\n",
            "     - `nums`: A list of integers.\n",
            "     - `k`: The target sum.\n",
            "     - `-> bool`: This indicates the function returns a boolean value (`True` or `False`).\n",
            "   - `''' ... '''`: This is a docstring, providing a description of what the function does.\n",
            "\n",
            "2. **Initialization:**\n",
            "   - `n = len(nums)`: This line calculates the length of the input list `nums` and stores it in variable `n`.\n",
            "\n",
            "3. **Nested Loops:**\n",
            "   - `for i in range(n):`: This outer loop iterates over each element in the list `nums`.\n",
            "   - `for j in range(i+1, n):`: This inner loop iterates over the remaining elements in the list, starting from the index after `i`. This ensures that we consider only distinct pairs of elements.\n",
            "\n",
            "4. **Sum Check:**\n",
            "   - `if nums[i] + nums[j] == k:`: This line checks if the sum of the current elements at indices `i` and `j` is equal to the target value `k`.\n",
            "\n",
            "5. **Return True:**\n",
            "   - `return True`: If the sum is equal to `k`, the function immediately returns `True`, indicating that two distinct elements with the desired sum exist.\n",
            "\n",
            "6. **Return False:**\n",
            "   - `return False`: If the loop completes without finding a pair of elements whose sum equals `k`, the function returns `False`.\n",
            "\n",
            "**In essence, the function uses nested loops to check all possible pairs of distinct elements in the input list. If a pair is found whose sum equals the target value, the function returns True; otherwise, it returns False.** \n",
            "\n"
          ]
        }
      ],
      "source": [
        "code = \"\"\"\n",
        "from typing import List\n",
        "def has_sum_k(nums: List[int], k: int) -> bool:\n",
        "    '''\n",
        "    Returns True if there are two distinct elements in nums such that their sum\n",
        "    is equal to k, and otherwise returns False.\n",
        "    '''\n",
        "    n = len(nums)\n",
        "    for i in range(n):\n",
        "        for j in range(i+1, n):\n",
        "            if nums[i] + nums[j] == k:\n",
        "                return True\n",
        "    return False\n",
        "\"\"\"\n",
        "\n",
        "\n",
        "prompt = f\"\"\"\n",
        "you will be provided with a piece of python code, and your task is to explain it in a concise way.\n",
        "Code: {code}\n",
        "\"\"\"\n",
        "\n",
        "print(generate_response(prompt))"
      ]
    },
    {
      "cell_type": "markdown",
      "metadata": {
        "id": "CC5fOCC239ct"
      },
      "source": [
        "# Code Generation with Gemini 1.5 Flash"
      ]
    },
    {
      "cell_type": "code",
      "execution_count": 9,
      "metadata": {
        "id": "AKKLdRSVUa8-",
        "outputId": "a303e9eb-2358-4b9e-afdc-aa29d7caf88f",
        "colab": {
          "base_uri": "https://localhost:8080/"
        }
      },
      "outputs": [
        {
          "output_type": "stream",
          "name": "stdout",
          "text": [
            "```python\n",
            "def binary_search(array, target):\n",
            "  \"\"\"\n",
            "  Performs a binary search on a sorted array.\n",
            "\n",
            "  Args:\n",
            "    array: A sorted list of elements.\n",
            "    target: The element to search for.\n",
            "\n",
            "  Returns:\n",
            "    The index of the target element if found, otherwise -1.\n",
            "  \"\"\"\n",
            "\n",
            "  left = 0\n",
            "  right = len(array) - 1\n",
            "\n",
            "  while left <= right:\n",
            "    mid = (left + right) // 2\n",
            "    \n",
            "    if array[mid] == target:\n",
            "      return mid\n",
            "    elif array[mid] < target:\n",
            "      left = mid + 1\n",
            "    else:\n",
            "      right = mid - 1\n",
            "\n",
            "  return -1\n",
            "\n",
            "# Example usage:\n",
            "sorted_array = [2, 5, 7, 8, 11, 12]\n",
            "target_value = 12\n",
            "\n",
            "result = binary_search(sorted_array, target_value)\n",
            "\n",
            "if result != -1:\n",
            "  print(\"Element found at index:\", result)\n",
            "else:\n",
            "  print(\"Element not found in the array.\")\n",
            "\n",
            "```\n",
            "\n",
            "**Explanation:**\n",
            "\n",
            "1. **Function Definition:**\n",
            "   - `def binary_search(array, target):` defines the function named `binary_search` that takes two arguments: `array` (the sorted list) and `target` (the element to search for).\n",
            "\n",
            "2. **Initialization:**\n",
            "   - `left = 0`: Sets the left pointer to the beginning of the array.\n",
            "   - `right = len(array) - 1`: Sets the right pointer to the end of the array.\n",
            "\n",
            "3. **Search Loop:**\n",
            "   - `while left <= right:`: The loop continues as long as the left pointer is less than or equal to the right pointer.\n",
            "   - `mid = (left + right) // 2`: Calculates the middle index.\n",
            "   - **Comparison:**\n",
            "     - `if array[mid] == target:`: If the element at the middle index matches the `target`, the index `mid` is returned.\n",
            "     - `elif array[mid] < target:`: If the element at the middle index is less than the `target`, the `left` pointer is moved to `mid + 1` (search in the right half).\n",
            "     - `else:`: If the element at the middle index is greater than the `target`, the `right` pointer is moved to `mid - 1` (search in the left half).\n",
            "\n",
            "4. **Not Found:**\n",
            "   - `return -1`: If the loop completes without finding the target, it returns `-1`, indicating that the target is not present in the array.\n",
            "\n",
            "**Example Usage:**\n",
            "\n",
            "- The code demonstrates how to call the `binary_search` function with a sorted array and a target value.\n",
            "- It prints the index of the target if found or a message indicating that the element is not found.\n",
            "\n"
          ]
        }
      ],
      "source": [
        "prompt = f\"\"\"\n",
        "you will be provided with a task to write a python code, and your task is to write it.\n",
        "write a function for binary search in python\n",
        "\"\"\"\n",
        "\n",
        "print(generate_response(prompt))"
      ]
    },
    {
      "cell_type": "code",
      "source": [
        "def binary_search(array, target):\n",
        "  \"\"\"\n",
        "  Performs a binary search on a sorted array.\n",
        "\n",
        "  Args:\n",
        "    array: The sorted array to search.\n",
        "    target: The value to search for.\n",
        "\n",
        "  Returns:\n",
        "    The index of the target value in the array if found, otherwise -1.\n",
        "  \"\"\"\n",
        "\n",
        "  left = 0\n",
        "  right = len(array) - 1\n",
        "\n",
        "  while left <= right:\n",
        "    mid = (left + right) // 2\n",
        "\n",
        "    if array[mid] == target:\n",
        "      return mid\n",
        "    elif array[mid] < target:\n",
        "      left = mid + 1\n",
        "    else:\n",
        "      right = mid - 1\n",
        "\n",
        "  return -1"
      ],
      "metadata": {
        "id": "Fslg650O4IIy"
      },
      "execution_count": 10,
      "outputs": []
    },
    {
      "cell_type": "code",
      "source": [
        "sorted_array = [2, 5, 7, 8, 11, 12]\n",
        "target = 12\n",
        "\n",
        "index = binary_search(sorted_array, target)\n",
        "\n",
        "if index != -1:\n",
        "  print(f\"Target {target} found at index {index}\")\n",
        "else:\n",
        "  print(\"Target not found in the array.\")"
      ],
      "metadata": {
        "id": "MyT0_Ccg4JTF",
        "outputId": "f1fbd6e9-357b-464d-e75e-2daaa93af9f8",
        "colab": {
          "base_uri": "https://localhost:8080/"
        }
      },
      "execution_count": 11,
      "outputs": [
        {
          "output_type": "stream",
          "name": "stdout",
          "text": [
            "Target 12 found at index 5\n"
          ]
        }
      ]
    },
    {
      "cell_type": "code",
      "source": [
        "prompt=\"\"\"\n",
        "Write a java code to generate fibiniocci series.\n",
        "\"\"\"\n",
        "print(generate_response(prompt))"
      ],
      "metadata": {
        "id": "b4OEETbh4bPs",
        "outputId": "88a1aab6-07c6-437d-ebdd-b12e9433fc6d",
        "colab": {
          "base_uri": "https://localhost:8080/"
        }
      },
      "execution_count": 12,
      "outputs": [
        {
          "output_type": "stream",
          "name": "stdout",
          "text": [
            "```java\n",
            "public class FibonacciSeries {\n",
            "\n",
            "    public static void main(String[] args) {\n",
            "        int n = 10; // Number of Fibonacci numbers to generate\n",
            "\n",
            "        // Generate and print the Fibonacci series\n",
            "        System.out.println(\"Fibonacci Series up to \" + n + \" terms:\");\n",
            "        for (int i = 0; i < n; i++) {\n",
            "            System.out.print(fibonacci(i) + \" \");\n",
            "        }\n",
            "    }\n",
            "\n",
            "    // Recursive function to calculate the nth Fibonacci number\n",
            "    public static int fibonacci(int n) {\n",
            "        if (n <= 1) {\n",
            "            return n;\n",
            "        } else {\n",
            "            return fibonacci(n - 1) + fibonacci(n - 2);\n",
            "        }\n",
            "    }\n",
            "}\n",
            "```\n",
            "\n",
            "**Explanation:**\n",
            "\n",
            "1. **Class Definition:** The code starts with a class named `FibonacciSeries`.\n",
            "2. **Main Method:** The `main` method is the entry point of the program.\n",
            "3. **Number of Terms:** We define an integer variable `n` to specify the number of Fibonacci numbers to generate (in this case, 10).\n",
            "4. **Print Statement:** A print statement displays a message indicating the number of terms in the series.\n",
            "5. **Loop:** A `for` loop iterates from 0 to `n` (exclusive), generating each Fibonacci number.\n",
            "6. **fibonacci() Function:** The `fibonacci()` function is a recursive function that calculates the nth Fibonacci number.\n",
            "   - **Base Case:** If `n` is less than or equal to 1, it returns `n` (0 or 1, respectively).\n",
            "   - **Recursive Case:** Otherwise, it recursively calculates the sum of the (n-1)th and (n-2)th Fibonacci numbers and returns the result.\n",
            "7. **Output:** The loop calls the `fibonacci()` function for each iteration, printing the calculated Fibonacci number.\n",
            "\n",
            "**Output:**\n",
            "\n",
            "```\n",
            "Fibonacci Series up to 10 terms:\n",
            "0 1 1 2 3 5 8 13 21 34 \n",
            "```\n",
            "\n",
            "**Best Practices:**\n",
            "\n",
            "- **Descriptive Variable Names:** The variable names (`n`, `i`) are clear and concise.\n",
            "- **Function Decomposition:** The `fibonacci()` function is separate from the main logic, improving code organization.\n",
            "- **Recursive Approach:** While recursion provides a concise solution, it can be inefficient for large values of `n`. For larger sequences, consider using an iterative approach to avoid potential stack overflow. \n",
            "\n",
            "**Note:** The recursive approach can be less efficient for large `n` values due to repeated calculations. For larger sequences, an iterative approach using a loop would be more efficient.\n",
            "\n"
          ]
        }
      ]
    },
    {
      "cell_type": "markdown",
      "metadata": {
        "id": "R1bK602QUa8_"
      },
      "source": [
        "## Create a single page website"
      ]
    },
    {
      "cell_type": "code",
      "execution_count": 14,
      "metadata": {
        "colab": {
          "base_uri": "https://localhost:8080/"
        },
        "id": "uFegvaqx2oga",
        "outputId": "991fb440-a206-4153-b473-77fa80fc3348"
      },
      "outputs": [
        {
          "output_type": "stream",
          "name": "stdout",
          "text": [
            "```html\n",
            "<!DOCTYPE html>\n",
            "<html>\n",
            "<head>\n",
            "<style>\n",
            "body {\n",
            "  font-family: sans-serif;\n",
            "}\n",
            "\n",
            ".dropdown {\n",
            "  position: relative;\n",
            "  display: inline-block;\n",
            "}\n",
            "\n",
            ".dropdown-content {\n",
            "  display: none;\n",
            "  position: absolute;\n",
            "  background-color: #f9f9f9;\n",
            "  min-width: 160px;\n",
            "  box-shadow: 0px 8px 16px 0px rgba(0,0,0,0.2);\n",
            "  z-index: 1;\n",
            "}\n",
            "\n",
            ".dropdown-content a {\n",
            "  color: black;\n",
            "  padding: 12px 16px;\n",
            "  text-decoration: none;\n",
            "  display: block;\n",
            "}\n",
            "\n",
            ".dropdown-content a:hover {\n",
            "  background-color: #f1f1f1;\n",
            "}\n",
            "\n",
            ".dropdown:hover .dropdown-content {\n",
            "  display: block;\n",
            "}\n",
            "\n",
            ".show-info {\n",
            "  display: none;\n",
            "  margin-top: 10px;\n",
            "  border: 1px solid #ccc;\n",
            "  padding: 10px;\n",
            "}\n",
            "</style>\n",
            "</head>\n",
            "<body>\n",
            "\n",
            "<h2>JavaScript Dropdown and Information Display</h2>\n",
            "\n",
            "<div class=\"dropdown\">\n",
            "  <button onclick=\"myFunction()\">Click me</button>\n",
            "  <div id=\"myDropdown\" class=\"dropdown-content\">\n",
            "    <a href=\"#\">Link 1</a>\n",
            "    <a href=\"#\">Link 2</a>\n",
            "    <a href=\"#\">Link 3</a>\n",
            "  </div>\n",
            "</div>\n",
            "\n",
            "<script>\n",
            "function myFunction() {\n",
            "  document.getElementById(\"myDropdown\").classList.toggle(\"show\");\n",
            "}\n",
            "</script>\n",
            "\n",
            "<div class=\"dropdown\">\n",
            "  <button onclick=\"showInfo('info1')\">Show Info 1</button>\n",
            "  <div id=\"info1\" class=\"show-info\">\n",
            "    This is information 1.\n",
            "  </div>\n",
            "</div>\n",
            "\n",
            "<div class=\"dropdown\">\n",
            "  <button onclick=\"showInfo('info2')\">Show Info 2</button>\n",
            "  <div id=\"info2\" class=\"show-info\">\n",
            "    This is information 2.\n",
            "  </div>\n",
            "</div>\n",
            "\n",
            "<script>\n",
            "function showInfo(id) {\n",
            "  document.getElementById(id).style.display = \"block\";\n",
            "}\n",
            "</script>\n",
            "\n",
            "</body>\n",
            "</html>\n",
            "```\n"
          ]
        }
      ],
      "source": [
        "\n",
        "prompt = f\"\"\"\n",
        "Make a single page website that shows off different neat javascript features for drop downs and things to display information. The website should be an HTML file with embedded javascript and css. In the output only provide code without description.\n",
        "\n",
        "\"\"\"\n",
        "\n",
        "response = generate_response(prompt)\n",
        "print(response)"
      ]
    },
    {
      "cell_type": "code",
      "execution_count": 15,
      "metadata": {
        "colab": {
          "base_uri": "https://localhost:8080/",
          "height": 103
        },
        "id": "o_goKgWh4tuA",
        "outputId": "41afab4a-4586-4b8e-8885-39511ce2002b"
      },
      "outputs": [
        {
          "output_type": "display_data",
          "data": {
            "text/plain": [
              "<IPython.core.display.HTML object>"
            ],
            "text/html": [
              "```html\n",
              "<!DOCTYPE html>\n",
              "<html>\n",
              "<head>\n",
              "<style>\n",
              "body {\n",
              "  font-family: sans-serif;\n",
              "}\n",
              "\n",
              ".dropdown {\n",
              "  position: relative;\n",
              "  display: inline-block;\n",
              "}\n",
              "\n",
              ".dropdown-content {\n",
              "  display: none;\n",
              "  position: absolute;\n",
              "  background-color: #f9f9f9;\n",
              "  min-width: 160px;\n",
              "  box-shadow: 0px 8px 16px 0px rgba(0,0,0,0.2);\n",
              "  z-index: 1;\n",
              "}\n",
              "\n",
              ".dropdown-content a {\n",
              "  color: black;\n",
              "  padding: 12px 16px;\n",
              "  text-decoration: none;\n",
              "  display: block;\n",
              "}\n",
              "\n",
              ".dropdown-content a:hover {\n",
              "  background-color: #f1f1f1;\n",
              "}\n",
              "\n",
              ".dropdown:hover .dropdown-content {\n",
              "  display: block;\n",
              "}\n",
              "\n",
              ".show-info {\n",
              "  display: none;\n",
              "  margin-top: 10px;\n",
              "  border: 1px solid #ccc;\n",
              "  padding: 10px;\n",
              "}\n",
              "</style>\n",
              "</head>\n",
              "<body>\n",
              "\n",
              "<h2>JavaScript Dropdown and Information Display</h2>\n",
              "\n",
              "<div class=\"dropdown\">\n",
              "  <button onclick=\"myFunction()\">Click me</button>\n",
              "  <div id=\"myDropdown\" class=\"dropdown-content\">\n",
              "    <a href=\"#\">Link 1</a>\n",
              "    <a href=\"#\">Link 2</a>\n",
              "    <a href=\"#\">Link 3</a>\n",
              "  </div>\n",
              "</div>\n",
              "\n",
              "<script>\n",
              "function myFunction() {\n",
              "  document.getElementById(\"myDropdown\").classList.toggle(\"show\");\n",
              "}\n",
              "</script>\n",
              "\n",
              "<div class=\"dropdown\">\n",
              "  <button onclick=\"showInfo('info1')\">Show Info 1</button>\n",
              "  <div id=\"info1\" class=\"show-info\">\n",
              "    This is information 1.\n",
              "  </div>\n",
              "</div>\n",
              "\n",
              "<div class=\"dropdown\">\n",
              "  <button onclick=\"showInfo('info2')\">Show Info 2</button>\n",
              "  <div id=\"info2\" class=\"show-info\">\n",
              "    This is information 2.\n",
              "  </div>\n",
              "</div>\n",
              "\n",
              "<script>\n",
              "function showInfo(id) {\n",
              "  document.getElementById(id).style.display = \"block\";\n",
              "}\n",
              "</script>\n",
              "\n",
              "</body>\n",
              "</html>\n",
              "```"
            ]
          },
          "metadata": {}
        }
      ],
      "source": [
        "from IPython.display import display, HTML\n",
        "display(HTML(response))"
      ]
    },
    {
      "cell_type": "markdown",
      "metadata": {
        "id": "zfp3-BgDUa9A"
      },
      "source": [
        "## Complete a partial code"
      ]
    },
    {
      "cell_type": "code",
      "execution_count": 16,
      "metadata": {
        "id": "h-UgNBxxUa9A",
        "outputId": "903361e0-61ea-4e1d-ce2c-0a3a30927bbb",
        "colab": {
          "base_uri": "https://localhost:8080/"
        }
      },
      "outputs": [
        {
          "output_type": "stream",
          "name": "stdout",
          "text": [
            "```python\n",
            "# calculate the average of the numbers in an array, but only if they're even\n",
            "def average_of_evens(numbers):\n",
            "  \"\"\"Calculates the average of even numbers in a list.\n",
            "\n",
            "  Args:\n",
            "    numbers: A list of numbers.\n",
            "\n",
            "  Returns:\n",
            "    The average of the even numbers in the list, or 0 if there are no even numbers.\n",
            "  \"\"\"\n",
            "  even_numbers = [num for num in numbers if num % 2 == 0]\n",
            "  if even_numbers:\n",
            "    return sum(even_numbers) / len(even_numbers)\n",
            "  else:\n",
            "    return 0\n",
            "```\n"
          ]
        }
      ],
      "source": [
        "prompt = f\"\"\"\n",
        "you will be provided with a task to complete a partial python code, and your task is to complete it.\n",
        "\n",
        "complete the following function\n",
        "# calculate the average of the numbers in an array, but only if they're even\n",
        "def\n",
        "\"\"\"\n",
        "\n",
        "print(generate_response(prompt))"
      ]
    },
    {
      "cell_type": "markdown",
      "metadata": {
        "id": "u3f1TCax5QUR"
      },
      "source": [
        "# Generate SQL Queries from natural language"
      ]
    },
    {
      "cell_type": "code",
      "execution_count": 17,
      "metadata": {
        "colab": {
          "base_uri": "https://localhost:8080/"
        },
        "id": "X-ghdsec5Msf",
        "outputId": "dc60ebd5-f318-40be-9128-f38255e38831"
      },
      "outputs": [
        {
          "output_type": "stream",
          "name": "stdout",
          "text": [
            "```sql\n",
            "SELECT AVG(TotalOrderValue) AS AverageOrderValue\n",
            "FROM (\n",
            "    SELECT \n",
            "        O.OrderID,\n",
            "        SUM(OD.Quantity * P.UnitPrice) AS TotalOrderValue\n",
            "    FROM Orders O\n",
            "    JOIN OrderDetails OD ON O.OrderID = OD.OrderID\n",
            "    JOIN Products P ON OD.ProductID = P.ProductID\n",
            "    WHERE CAST(O.OrderDate AS DATE) = '2023-09-20'\n",
            "    GROUP BY O.OrderID\n",
            ") AS OrderTotals;\n",
            "```\n",
            "\n",
            "**Explanation:**\n",
            "\n",
            "1. **Subquery:**\n",
            "   - This query calculates the total order value for each order on '2023-09-20'.\n",
            "   - It joins the `Orders`, `OrderDetails`, and `Products` tables based on their respective foreign keys.\n",
            "   - It filters the orders to include only those placed on '2023-09-20' using `CAST(O.OrderDate AS DATE) = '2023-09-20'`.\n",
            "   - It groups the results by `OrderID` to calculate the total value for each individual order.\n",
            "   - `SUM(OD.Quantity * P.UnitPrice)` calculates the total value of each order by multiplying the quantity ordered with the unit price of each product.\n",
            "   - The alias `OrderTotals` is given to this subquery.\n",
            "\n",
            "2. **Main Query:**\n",
            "   - This query calculates the average of the `TotalOrderValue` from the subquery (`OrderTotals`).\n",
            "   - `AVG(TotalOrderValue)` computes the average of all total order values retrieved from the subquery.\n",
            "   - `AS AverageOrderValue` provides a descriptive alias for the result column. \n",
            "\n",
            "**Note:** This query assumes that the `OrderDate` column is stored in a format that allows for direct comparison with a date string. If not, you might need to adjust the `WHERE` clause to use date functions appropriate for your specific database system.\n",
            "\n"
          ]
        }
      ],
      "source": [
        "table_code = \"\"\"\n",
        "CREATE TABLE Orders (\n",
        "  OrderID int,\n",
        "  CustomerID int,\n",
        "  OrderDate datetime,\n",
        "  OrderTime varchar(8),\n",
        "  PRIMARY KEY (OrderID)\n",
        ");\n",
        "\n",
        "CREATE TABLE OrderDetails (\n",
        "  OrderDetailID int,\n",
        "  OrderID int,\n",
        "  ProductID int,\n",
        "  Quantity int,\n",
        "  PRIMARY KEY (OrderDetailID)\n",
        ");\n",
        "\n",
        "CREATE TABLE Products (\n",
        "  ProductID int,\n",
        "  ProductName varchar(50),\n",
        "  Category varchar(50),\n",
        "  UnitPrice decimal(10, 2),\n",
        "  Stock int,\n",
        "  PRIMARY KEY (ProductID)\n",
        ");\n",
        "\n",
        "CREATE TABLE Customers (\n",
        "  CustomerID int,\n",
        "  FirstName varchar(50),\n",
        "  LastName varchar(50),\n",
        "  Email varchar(100),\n",
        "  Phone varchar(20),\n",
        "  PRIMARY KEY (CustomerID)\n",
        ");\n",
        "\"\"\"\n",
        "\n",
        "\n",
        "prompt = f\"\"\"\n",
        "Given the following SQL tables, your job is to write queries given a user's input request.\n",
        "\n",
        "Tables: {table_code}\n",
        "\n",
        "Write a query which calculates the average of total order values for all orders on 20-09-2023\n",
        "\n",
        "\"\"\"\n",
        "\n",
        "print(generate_response(prompt))"
      ]
    },
    {
      "cell_type": "markdown",
      "metadata": {
        "id": "XlkePjd0L8N5"
      },
      "source": [
        "# Code from Description"
      ]
    },
    {
      "cell_type": "code",
      "execution_count": 21,
      "metadata": {
        "id": "XJZ2F754L5Ii",
        "outputId": "e96541b7-70fe-4449-cb24-9f13b6542664",
        "colab": {
          "base_uri": "https://localhost:8080/"
        }
      },
      "outputs": [
        {
          "output_type": "stream",
          "name": "stdout",
          "text": [
            "```python\n",
            "import numpy as np\n",
            "from PIL import Image\n",
            "\n",
            "def crop_image(image_path, threshold=50):\n",
            "  \"\"\"\n",
            "  Crops an image by removing rows and columns with mean pixel values below a threshold.\n",
            "\n",
            "  Args:\n",
            "      image_path (str): The path to the image file.\n",
            "      threshold (int): The threshold value for determining dark rows and columns.\n",
            "\n",
            "  Returns:\n",
            "      numpy.ndarray: The cropped image as a NumPy array.\n",
            "  \"\"\"\n",
            "\n",
            "  # Load the image\n",
            "  image = Image.open(image_path).convert('RGB')\n",
            "  image_array = np.array(image)\n",
            "\n",
            "  # Calculate mean values for each row and column\n",
            "  row_means = np.mean(image_array, axis=1)\n",
            "  col_means = np.mean(image_array, axis=0)\n",
            "\n",
            "  # Find rows and columns to remove\n",
            "  rows_to_remove = np.where(row_means < threshold)[0]\n",
            "  cols_to_remove = np.where(col_means < threshold)[0]\n",
            "\n",
            "  # Crop the image\n",
            "  cropped_image = image_array[\n",
            "      np.min(rows_to_remove):np.max(rows_to_remove) + 1,\n",
            "      np.min(cols_to_remove):np.max(cols_to_remove) + 1\n",
            "  ]\n",
            "\n",
            "  return cropped_image\n",
            "\n",
            "```\n",
            "\n",
            "**Explanation:**\n",
            "\n",
            "1. **Import Libraries:**\n",
            "   - `numpy` for array manipulation.\n",
            "   - `PIL` (Pillow) for image loading and processing.\n",
            "\n",
            "2. **`crop_image` Function:**\n",
            "   - Takes `image_path` (path to the image) and `threshold` (darkness threshold) as arguments.\n",
            "   - **Load Image:** Opens the image using `Image.open` and converts it to RGB mode using `.convert('RGB')`. Converts the image to a NumPy array using `np.array`.\n",
            "   - **Calculate Mean Values:** \n",
            "     - `np.mean(image_array, axis=1)` calculates the mean pixel value for each row (axis 1).\n",
            "     - `np.mean(image_array, axis=0)` calculates the mean pixel value for each column (axis 0).\n",
            "   - **Find Rows/Columns to Remove:**\n",
            "     - `np.where(row_means < threshold)[0]` finds the indices of rows with mean values below the threshold.\n",
            "     - `np.where(col_means < threshold)[0]` finds the indices of columns with mean values below the threshold.\n",
            "   - **Crop Image:**\n",
            "     - Extracts the region of the image excluding the identified rows and columns.\n",
            "     - `np.min(rows_to_remove)` and `np.max(rows_to_remove) + 1` determine the starting and ending row indices for cropping.\n",
            "     - Similar logic applies for column indices.\n",
            "\n",
            "3. **Return the Cropped Image:** The function returns the cropped image as a NumPy array.\n",
            "\n",
            "**How to Use:**\n",
            "\n",
            "```python\n",
            "# Example usage\n",
            "image_path = \"your_image.jpg\"\n",
            "cropped_array = crop_image(image_path, threshold=50)\n",
            "\n",
            "# You can then use the cropped_array to save or display the image\n",
            "```\n",
            "\n",
            "**Key Points:**\n",
            "\n",
            "- **Threshold Value:** Adjust the `threshold` value (default is 50) based on the image's brightness and desired cropping intensity.\n",
            "- **RGB Mode:** The code assumes the image is in RGB format. If it's in another format, convert it to RGB before processing.\n",
            "- **Handling Empty Cropping:**  If all rows or columns are marked for removal (e.g., very dark image), the code will still return a NumPy array, but it will be empty. You might want to handle this scenario with an error or a default image. \n",
            "\n"
          ]
        }
      ],
      "source": [
        "prompt = f\"\"\"\n",
        "Create a python function which takes as input a file path to an image, loads the image into memory as a numpy array,\n",
        "then crops the rows and columns around the perimeter if they are darker than a threshold value. Use the mean value of rows and columns to decide if they should be marked for deletion.\n",
        "\"\"\"\n",
        "\n",
        "print(generate_response(prompt))\n"
      ]
    },
    {
      "cell_type": "code",
      "execution_count": 22,
      "metadata": {
        "id": "zuZ6Pyoh5FcM",
        "outputId": "7f194f1d-ba75-45dd-9792-50862fcd7fca",
        "colab": {
          "base_uri": "https://localhost:8080/"
        }
      },
      "outputs": [
        {
          "output_type": "stream",
          "name": "stdout",
          "text": [
            "```python\n",
            "import numpy as np\n",
            "from PIL import Image\n",
            "\n",
            "def crop_image(image_path, threshold=10):\n",
            "  \"\"\"\n",
            "  Crops an image by removing rows and columns around the perimeter that are darker than a given threshold.\n",
            "\n",
            "  Args:\n",
            "    image_path: The path to the image file.\n",
            "    threshold: The darkness threshold value. Rows and columns with mean values below this threshold will be cropped.\n",
            "\n",
            "  Returns:\n",
            "    A NumPy array representing the cropped image.\n",
            "  \"\"\"\n",
            "\n",
            "  image = np.array(Image.open(image_path))\n",
            "\n",
            "  # Calculate the mean values of each row and column\n",
            "  row_means = np.mean(image, axis=1)\n",
            "  col_means = np.mean(image, axis=0)\n",
            "\n",
            "  # Find the indices of rows and columns to crop\n",
            "  rows_to_crop = np.where(row_means < threshold)[0]\n",
            "  cols_to_crop = np.where(col_means < threshold)[0]\n",
            "\n",
            "  # Crop the image\n",
            "  cropped_image = image[rows_to_crop[0]:-rows_to_crop[-1], cols_to_crop[0]:-cols_to_crop[-1]]\n",
            "\n",
            "  return cropped_image\n",
            "```\n"
          ]
        }
      ],
      "source": [
        "prompt = f\"\"\"\n",
        "Create a python function which takes as input a file path to an image, loads the image into memory as a numpy array,\n",
        "then crops the rows and columns around the perimeter if they are darker than a threshold value. Use the mean value of rows and columns to decide if they should be marked for deletion.\n",
        "Make sure the output is only the python function code in string format.\n",
        "\n",
        "\"\"\"\n",
        "\n",
        "print(generate_response(prompt))\n"
      ]
    },
    {
      "cell_type": "markdown",
      "metadata": {
        "id": "YX6jG58SNCt5"
      },
      "source": [
        "# Bug fixing in a given code"
      ]
    },
    {
      "cell_type": "code",
      "execution_count": 23,
      "metadata": {
        "colab": {
          "base_uri": "https://localhost:8080/"
        },
        "id": "_V-_QKEDM6b0",
        "outputId": "f8b31af1-c42e-42d1-e3a1-9066a6b9e8d6"
      },
      "outputs": [
        {
          "output_type": "stream",
          "name": "stdout",
          "text": [
            "```python\n",
            "qus = \"What is 4+2+9*8 ?\"\n",
            "ans = input(qus)\n",
            "\n",
            "# Convert the input to an integer for comparison\n",
            "ans = int(ans)\n",
            "\n",
            "if ans == 78:  # Correct answer is 78\n",
            "  print(\"Hello\")  # Remove \"none\" and correct the syntax error\n",
            "else:\n",
            "  print(\"Bye\")\n",
            "```\n",
            "\n",
            "**Explanation of the bug and fixes:**\n",
            "\n",
            "1. **Incorrect answer:** The provided code checks if the answer is 12, which is incorrect. The correct answer to the equation \"4+2+9*8\" is 78.\n",
            "2. **Type mismatch:** The `input()` function returns a string. You need to convert it to an integer using `int(ans)` for comparison.\n",
            "3. **Syntax error:**  `print(none)` should be `print(\"Hello\")` to print the word \"Hello\". \n",
            "4. **Missing quote:** `print(\"hello)` should be `print(\"hello\")` to print the word \"hello\".\n",
            "\n",
            "**Corrected code:** The corrected code now correctly calculates the answer, converts the input to an integer, compares it to the correct answer, and prints the appropriate message. \n",
            "\n"
          ]
        }
      ],
      "source": [
        "\n",
        "\n",
        "prompt = f\"\"\"\n",
        "you will be provided with a piece of python code, and your task is to find and fix the bug in it.\n",
        "Code:\n",
        "qus = \"WHat is 4+2+9*8 ?\"\n",
        "ans = input(qus)\n",
        "if ans = 12:\n",
        "  print(none)\n",
        "  print(\"hello)\n",
        "else:\n",
        "  print(\"bye\")\n",
        "\"\"\"\n",
        "\n",
        "print(generate_response(prompt))"
      ]
    },
    {
      "cell_type": "markdown",
      "metadata": {
        "id": "arR_49tPUa9B"
      },
      "source": [
        "# Change Coding Language\n"
      ]
    },
    {
      "cell_type": "code",
      "execution_count": 24,
      "metadata": {
        "id": "rXNnJ1klNxbB",
        "outputId": "8c5f62da-de68-4ae9-b7aa-c7d481a9e807",
        "colab": {
          "base_uri": "https://localhost:8080/"
        }
      },
      "outputs": [
        {
          "output_type": "stream",
          "name": "stdout",
          "text": [
            "```c\n",
            "#include <stdio.h>\n",
            "\n",
            "void print_squares(int n) {\n",
            "  for (int i = 1; i <= n; i++) {\n",
            "    printf(\"%d\\n\", i * i);\n",
            "  }\n",
            "}\n",
            "\n",
            "int main() {\n",
            "  int n = 5; // Example value for n\n",
            "  print_squares(n);\n",
            "  return 0;\n",
            "}\n",
            "```\n",
            "\n",
            "**Explanation:**\n",
            "\n",
            "1. **Headers:**\n",
            "   - `#include <stdio.h>`:  This line includes the standard input/output library, which provides functions like `printf` for printing to the console.\n",
            "\n",
            "2. **Function Definition:**\n",
            "   - `void print_squares(int n)`: Defines a function named `print_squares` that takes an integer `n` as input and doesn't return anything (`void`).\n",
            "\n",
            "3. **Loop:**\n",
            "   - `for (int i = 1; i <= n; i++)`:  This is a `for` loop that iterates from 1 to `n`, inclusive.\n",
            "     - `int i = 1`: Initializes a loop counter variable `i` to 1.\n",
            "     - `i <= n`:  The loop continues as long as `i` is less than or equal to `n`.\n",
            "     - `i++`: Increments `i` by 1 after each iteration.\n",
            "\n",
            "4. **Printing the Square:**\n",
            "   - `printf(\"%d\\n\", i * i);`:  Prints the square of `i` (`i * i`) followed by a newline character. \n",
            "     - `%d`: Placeholder for an integer value.\n",
            "     - `\\n`: Newline character for formatting.\n",
            "\n",
            "5. **Main Function:**\n",
            "   - `int main()`:  The `main` function is the entry point of the C program.\n",
            "     - `int n = 5;`:  Declares an integer variable `n` and assigns it the value 5 (this is an example; you can change this).\n",
            "     - `print_squares(n);`:  Calls the `print_squares` function, passing `n` as an argument.\n",
            "     - `return 0;`:  Indicates successful execution of the program.\n",
            "\n",
            "**Key Differences from Python:**\n",
            "\n",
            "- **Data Types:**  In C, you must explicitly declare the data type of variables (e.g., `int` for integers).\n",
            "- **Function Syntax:**  C uses a more rigid function declaration syntax.\n",
            "- **Printing:**  C uses the `printf` function for printing output, while Python uses the `print` function.\n",
            "- **Power Operator:** C uses the `*` operator for multiplication, and there's no dedicated power operator. We use `i * i` to calculate the square. \n",
            "\n"
          ]
        }
      ],
      "source": [
        "# Changing coding language from python to c\n",
        "\n",
        "code = \"\"\"\n",
        "def print_squares(n):\n",
        "    for i in range(1, n+1):\n",
        "        print(i**2)\n",
        "        \"\"\"\n",
        "\n",
        "\n",
        "prompt = f\"\"\"\n",
        "you will be provided with a piece of python code, and your task is to convert it to c.\n",
        "\n",
        "Code: {code}\n",
        "\"\"\"\n",
        "\n",
        "print(generate_response(prompt))"
      ]
    },
    {
      "cell_type": "markdown",
      "metadata": {
        "id": "N_BqAQmaUa9B"
      },
      "source": [
        "# Write unit tests"
      ]
    },
    {
      "cell_type": "code",
      "execution_count": 25,
      "metadata": {
        "id": "Z3VZ0rWeUa9B",
        "outputId": "d587ced5-6fd4-46a4-a67c-09a55512b038",
        "colab": {
          "base_uri": "https://localhost:8080/"
        }
      },
      "outputs": [
        {
          "output_type": "stream",
          "name": "stdout",
          "text": [
            "```python\n",
            "import unittest\n",
            "\n",
            "def binary_search(arr, target):\n",
            "    left, right = 0, len(arr) - 1\n",
            "    while left <= right:\n",
            "        mid = (left + right) // 2\n",
            "        if arr[mid] == target:\n",
            "            return mid\n",
            "        elif arr[mid] < target:\n",
            "            left = mid + 1\n",
            "        else:\n",
            "            right = mid - 1\n",
            "    return -1\n",
            "\n",
            "class TestBinarySearch(unittest.TestCase):\n",
            "\n",
            "    def test_target_present(self):\n",
            "        arr = [2, 5, 7, 8, 11, 12]\n",
            "        target = 12\n",
            "        self.assertEqual(binary_search(arr, target), 5)\n",
            "\n",
            "    def test_target_absent(self):\n",
            "        arr = [2, 5, 7, 8, 11, 12]\n",
            "        target = 13\n",
            "        self.assertEqual(binary_search(arr, target), -1)\n",
            "\n",
            "    def test_empty_array(self):\n",
            "        arr = []\n",
            "        target = 5\n",
            "        self.assertEqual(binary_search(arr, target), -1)\n",
            "```\n",
            "\n",
            "**Explanation of the Tests:**\n",
            "\n",
            "1. **`test_target_present`:**\n",
            "   - This test verifies that the function correctly returns the index of the target value when it is present in the sorted array.\n",
            "   - It uses a sample array `[2, 5, 7, 8, 11, 12]` and the target `12`.\n",
            "   - The expected result is `5`, as the target is at the 5th index (remember zero-based indexing).\n",
            "\n",
            "2. **`test_target_absent`:**\n",
            "   - This test checks the scenario where the target is not present in the array.\n",
            "   - The same array `[2, 5, 7, 8, 11, 12]` is used, but the target is `13`, which is not in the array.\n",
            "   - The function should return `-1` to indicate that the target is not found.\n",
            "\n",
            "3. **`test_empty_array`:**\n",
            "   - This test handles the case of an empty array.\n",
            "   - An empty array `[]` and a target value `5` are used.\n",
            "   - The function should return `-1` because the target cannot be found in an empty array.\n",
            "\n"
          ]
        }
      ],
      "source": [
        "# write unit tests for a given code\n",
        "\n",
        "code = \"\"\"\n",
        "def binary_search(arr, target):\n",
        "    left, right = 0, len(arr) - 1\n",
        "    while left <= right:\n",
        "        mid = (left + right) // 2\n",
        "        if arr[mid] == target:\n",
        "            return mid\n",
        "        elif arr[mid] < target:\n",
        "            left = mid + 1\n",
        "        else:\n",
        "            right = mid - 1\n",
        "    return -1\n",
        "\"\"\"\n",
        "prompt = f\"\"\"\n",
        "you will be provided with a piece of python code, and your task is to write unit tests for it.\n",
        "Write 3 unit tests for the following function:\n",
        "\n",
        "{code}\n",
        "\"\"\"\n",
        "\n",
        "print(generate_response(prompt))"
      ]
    },
    {
      "cell_type": "markdown",
      "metadata": {
        "id": "2YXm_0NJUa9C"
      },
      "source": [
        "# Add comments and generate documentation"
      ]
    },
    {
      "cell_type": "code",
      "execution_count": 26,
      "metadata": {
        "id": "eHon_zPfUa9C",
        "outputId": "0919950b-aa8f-4d6e-ecb3-1d5076d045fa",
        "colab": {
          "base_uri": "https://localhost:8080/"
        }
      },
      "outputs": [
        {
          "output_type": "stream",
          "name": "stdout",
          "text": [
            "```python\n",
            "def permutations(lst):\n",
            "  \"\"\"\n",
            "  This function generates all possible permutations of a given list.\n",
            "\n",
            "  Args:\n",
            "    lst: A list of elements.\n",
            "\n",
            "  Returns:\n",
            "    A list of all possible permutations of the input list.\n",
            "\n",
            "  For example:\n",
            "    permutations([1, 2, 3]) == [[1, 2, 3], [1, 3, 2], [2, 1, 3], [2, 3, 1], [3, 1, 2], [3, 2, 1]]\n",
            "  \"\"\"\n",
            "  # Base cases:\n",
            "  # If the list is empty, return an empty list of permutations.\n",
            "  if len(lst) == 0:\n",
            "    return []\n",
            "  # If the list has only one element, return a list containing that element.\n",
            "  elif len(lst) == 1:\n",
            "    return [lst]\n",
            "  else:\n",
            "    # Create a list to store the resulting permutations.\n",
            "    result = []\n",
            "    # Iterate over each element in the list.\n",
            "    for i in range(len(lst)):\n",
            "      # Extract the current element.\n",
            "      temp = lst[i]\n",
            "      # Create a new list containing all elements except the current element.\n",
            "      remaining = lst[:i] + lst[i+1:]\n",
            "      # Recursively call the permutations function on the remaining elements.\n",
            "      for p in permutations(remaining):\n",
            "        # For each permutation of the remaining elements, append the current element to the front.\n",
            "        result.append([temp] + p)\n",
            "    # Return the list of all permutations.\n",
            "    return result\n",
            "```\n"
          ]
        }
      ],
      "source": [
        "# Add comments and generate documentation\n",
        "\n",
        "code = \"\"\"\n",
        "def permutations(lst):\n",
        "    if len(lst) == 0:\n",
        "        return []\n",
        "    elif len(lst) == 1:\n",
        "        return [lst]\n",
        "    else:\n",
        "        result = []\n",
        "        for i in range(len(lst)):\n",
        "            temp = lst[i]\n",
        "            remaining = lst[:i] + lst[i+1:]\n",
        "            for p in permutations(remaining):\n",
        "                result.append([temp] + p)\n",
        "        return result\n",
        "\n",
        "\"\"\"\n",
        "\n",
        "prompt = f\"\"\"\n",
        "you will be provided with a piece of python code, and your task is to add comments and documentation strings to it.\n",
        "\n",
        "Add comments and documentation strings to the following function:\n",
        "{code}\"\"\"\n",
        "\n",
        "\n",
        "print(generate_response(prompt))"
      ]
    },
    {
      "cell_type": "markdown",
      "source": [
        "# Zero Shot Prompting"
      ],
      "metadata": {
        "id": "xL9DKWHkDpXR"
      }
    },
    {
      "cell_type": "code",
      "execution_count": 28,
      "metadata": {
        "id": "LILta5HxUa9C",
        "outputId": "b47fc056-94cf-4431-fcb1-6ec49979d342",
        "colab": {
          "base_uri": "https://localhost:8080/"
        }
      },
      "outputs": [
        {
          "output_type": "stream",
          "name": "stdout",
          "text": [
            "```python\n",
            "def factorial(n):\n",
            "  \"\"\"\n",
            "  This function calculates the factorial of a given number.\n",
            "\n",
            "  Args:\n",
            "    n: The number to calculate the factorial of.\n",
            "\n",
            "  Returns:\n",
            "    The factorial of n.\n",
            "  \"\"\"\n",
            "  if n == 0:\n",
            "    return 1\n",
            "  else:\n",
            "    return n * factorial(n - 1)\n",
            "\n",
            "# Calculate factorial(5)\n",
            "result = factorial(5)\n",
            "print(f\"The factorial of 5 is: {result}\")\n",
            "```\n",
            "\n",
            "**Explanation:**\n",
            "\n",
            "1. **Function Definition:** \n",
            "   - The code defines a function named `factorial(n)` that takes an integer `n` as input.\n",
            "\n",
            "2. **Base Case:**\n",
            "   - `if n == 0:`: This condition handles the base case for the recursive function. The factorial of 0 is defined as 1.\n",
            "   - `return 1`:  If `n` is 0, the function immediately returns 1.\n",
            "\n",
            "3. **Recursive Step:**\n",
            "   - `else:`: This block handles the recursive step. \n",
            "   - `return n * factorial(n - 1)`: This line calculates the factorial recursively. It multiplies `n` with the result of calling the `factorial` function with `n-1`. This process continues until the base case (n=0) is reached.\n",
            "\n",
            "4. **Function Call:**\n",
            "   - `result = factorial(5)`: This line calls the `factorial` function with the input 5 and stores the result in the `result` variable.\n",
            "\n",
            "5. **Output:**\n",
            "   - `print(f\"The factorial of 5 is: {result}\")`:  This line prints the calculated factorial of 5.\n",
            "\n",
            "**How it works:**\n",
            "\n",
            "The `factorial` function uses recursion to calculate the factorial. Recursion means a function calling itself. In this case, the function calls itself with a smaller value of `n` until it reaches the base case (n=0).  \n",
            "\n",
            "**Example Breakdown:**\n",
            "\n",
            "- `factorial(5)` calls `factorial(4)`, `factorial(4)` calls `factorial(3)`, and so on until it reaches `factorial(0)`.\n",
            "- `factorial(0)` returns 1.\n",
            "- `factorial(1)` returns 1 * factorial(0) = 1 * 1 = 1.\n",
            "- `factorial(2)` returns 2 * factorial(1) = 2 * 1 = 2.\n",
            "- ... and so on, until `factorial(5)` returns 5 * 4 * 3 * 2 * 1 = 120.\n",
            "\n",
            "This code demonstrates a common and elegant way to calculate factorials using recursion in Python. \n",
            "\n"
          ]
        }
      ],
      "source": [
        "prompt = \"\"\"\n",
        "Write a python code to generate factorial for any give input number, consider writing a python function.\n",
        "\n",
        "Calculate factorial(5)\n",
        "\"\"\"\n",
        "\n",
        "print(generate_response(prompt))"
      ]
    },
    {
      "cell_type": "markdown",
      "source": [
        "# Few Shot Prompting"
      ],
      "metadata": {
        "id": "-K2TgShvEhrG"
      }
    },
    {
      "cell_type": "code",
      "execution_count": 29,
      "metadata": {
        "id": "7F5Eh3jWUa9C",
        "outputId": "84160dc8-d1de-49e2-bbde-4d79ff1b23b3",
        "colab": {
          "base_uri": "https://localhost:8080/"
        }
      },
      "outputs": [
        {
          "output_type": "stream",
          "name": "stdout",
          "text": [
            "```python\n",
            "def factorial(n):\n",
            "  \"\"\"\n",
            "  This function calculates the factorial of a non-negative integer.\n",
            "\n",
            "  Args:\n",
            "    n: The non-negative integer for which the factorial is to be calculated.\n",
            "\n",
            "  Returns:\n",
            "    The factorial of n.\n",
            "  \"\"\"\n",
            "  if n == 0:\n",
            "    return 1\n",
            "  else:\n",
            "    return n * factorial(n - 1)\n",
            "\n",
            "print(factorial(9))\n",
            "```\n",
            "\n",
            "**Output:** 362880\n",
            "\n",
            "**Explanation:**\n",
            "\n",
            "1. **Function Definition:** The code defines a function called `factorial(n)` which takes a non-negative integer `n` as input.\n",
            "\n",
            "2. **Base Case:** The function handles the base case where `n` is 0. The factorial of 0 is defined as 1. \n",
            "\n",
            "3. **Recursive Step:** If `n` is not 0, the function calculates the factorial recursively by multiplying `n` with the factorial of `n-1`.\n",
            "\n",
            "4. **Function Call:**  The line `print(factorial(9))` calls the `factorial` function with the input `9` and prints the result, which is 362880.\n",
            "\n",
            "**Key Concepts:**\n",
            "\n",
            "* **Recursion:** The `factorial` function calls itself within its definition, leading to a recursive solution.\n",
            "* **Base Case:** A base case is essential for terminating the recursion and preventing infinite loops.\n",
            "\n",
            "**Best Practices:**\n",
            "\n",
            "* **Clear Function Naming:** The function name `factorial` is descriptive and easy to understand.\n",
            "* **Docstring:** The function has a docstring that explains its purpose, arguments, and return value.\n",
            "* **Recursion:**  Using recursion for factorial calculation is a common and elegant approach.\n",
            "* **Code Readability:** The code is well-formatted and easy to read. \n",
            "\n"
          ]
        }
      ],
      "source": [
        "# Few shot prompting to generate factorial\n",
        "prompt = \"\"\"\n",
        "factorial(5)\n",
        "Ans:  120\n",
        "\n",
        "factorial(3)\n",
        "Ans:  6\n",
        "\n",
        "factorial(9)\n",
        "\"\"\"\n",
        "print(generate_response(prompt))"
      ]
    },
    {
      "cell_type": "code",
      "source": [
        "prompt = \"\"\"\n",
        "\n",
        "Question:\n",
        "You are given a Pandas dataframe named students_df:\n",
        "- Columns: ['Name', 'Nationality', 'Overall Grade', 'Age', 'Major', 'GPA']\n",
        "User's Question: How to find the youngest student?\n",
        "\n",
        "Answer:\n",
        "result = students_df[students_df['Age'] == students_df['Age'].min()]\n",
        "\n",
        "Question:\n",
        "You are given a Pandas dataframe named students_df:\n",
        "- Columns: ['Name', 'Nationality', 'Overall Grade', 'Age', 'Major', 'GPA']\n",
        "User's Question: What are the number of unique majors?\n",
        "\n",
        "Answer:\n",
        "result = students_df['Major'].nunique()\n",
        "\n",
        "Question:\n",
        "You are given a Pandas dataframe named students_df:\n",
        "- Columns: ['Name', 'Nationality', 'Overall Grade', 'Age', 'Major', 'GPA']\n",
        "User's Question: How to find the students with GPAs between 3.5 and 3.8?\n",
        "\"\"\"\n",
        "\n",
        "print(generate_response(prompt))"
      ],
      "metadata": {
        "id": "f5nprs2BE6Z8",
        "outputId": "8296359b-e74e-4aab-96c8-e52c311b84e0",
        "colab": {
          "base_uri": "https://localhost:8080/"
        }
      },
      "execution_count": 30,
      "outputs": [
        {
          "output_type": "stream",
          "name": "stdout",
          "text": [
            "```python\n",
            "result = students_df[(students_df['GPA'] >= 3.5) & (students_df['GPA'] <= 3.8)]\n",
            "```\n"
          ]
        }
      ]
    },
    {
      "cell_type": "code",
      "source": [
        "# Zero Shot Prompting with context\n",
        "prompt = \"\"\"\n",
        "\n",
        "For a custom instruction based interpreter, below are standard set of commands and their description.\n",
        "\n",
        "command,description,\n",
        "<INIT>,initiating conversation,\n",
        "<ASK>, asking user input,\n",
        "<ANSWER>, providing answer,\n",
        "<TERMINATE>,terminating conversation,\n",
        "<CALL>, calling a function,\n",
        "<END>,Ending conversation\n",
        "\n",
        "write a code using custom instruction from above context for below task\n",
        "\n",
        "the code should initiate conversation, ask for user input and end conversation, Do not write any other text, do not write explanation only commands in sequence.\n",
        "\"\"\"\n",
        "\n",
        "print(generate_response(prompt))\n"
      ],
      "metadata": {
        "id": "5xN65rcYHa3v",
        "outputId": "be3e62f4-a6b6-475d-b01d-fa4e52004030",
        "colab": {
          "base_uri": "https://localhost:8080/"
        }
      },
      "execution_count": null,
      "outputs": [
        {
          "output_type": "stream",
          "name": "stdout",
          "text": [
            "<INIT>,<ASK>,<ANSWER>,<END> \n",
            "\n"
          ]
        }
      ]
    },
    {
      "cell_type": "code",
      "source": [
        "# Few shot prompting with context\n",
        "prompt = \"\"\"\n",
        "\n",
        "For a custom instruction based interpreter, below are standard set of commands and their description.\n",
        "\n",
        "command,description,\n",
        "<INIT>,initiating conversation,\n",
        "<ASK>, asking user input,\n",
        "<ANSWER>, providing answer,\n",
        "<TERMINATE>,terminating conversation,\n",
        "<CALL>, calling a function,\n",
        "<END>,Ending conversation\n",
        "\n",
        "\n",
        "QUS: initiate conversation, ask for user input and end conversation\n",
        "ANS: <INIT>,<ASK>,<ANSWER>,<END>\n",
        "\n",
        "QUS: initiate conversation, ask user input, call a function and end conversation\n",
        "ANS: <INIT>,<ASK>,<CALL>,<ANSWER>,<END>\n",
        "\n",
        "QUS: initiate conversation, procide answer, terminate conversation\n",
        "ANS:\n",
        "\"\"\"\n",
        "\n",
        "print(generate_response(prompt))\n"
      ],
      "metadata": {
        "id": "Yge48eqTHa0o",
        "outputId": "2d99f6ca-0c02-49c1-8e05-87cd1eb173ee",
        "colab": {
          "base_uri": "https://localhost:8080/"
        }
      },
      "execution_count": null,
      "outputs": [
        {
          "output_type": "stream",
          "name": "stdout",
          "text": [
            "ANS: `<INIT>,<ANSWER>,<TERMINATE>` \n",
            "\n"
          ]
        }
      ]
    },
    {
      "cell_type": "markdown",
      "source": [
        "# Chain of Thought Prompting"
      ],
      "metadata": {
        "id": "Dd7teyfvFdST"
      }
    },
    {
      "cell_type": "code",
      "source": [
        "# without CoT\n",
        "prompt = \"\"\"\n",
        "Write a Python program that counts the occurrences of each word in a given text file and prints the result sorted by frequency.\n",
        "\n",
        "\"\"\"\n",
        "\n",
        "print(generate_response(prompt))"
      ],
      "metadata": {
        "colab": {
          "base_uri": "https://localhost:8080/"
        },
        "id": "fhmYexg0KD6k",
        "outputId": "08b287ca-b81b-492d-fdab-f38d64fd72cb"
      },
      "execution_count": 31,
      "outputs": [
        {
          "output_type": "stream",
          "name": "stdout",
          "text": [
            "```python\n",
            "from collections import Counter\n",
            "\n",
            "def count_word_occurrences(filename):\n",
            "    \"\"\"\n",
            "    Counts the occurrences of each word in a given text file and prints the result sorted by frequency.\n",
            "\n",
            "    Args:\n",
            "        filename: The name of the text file to process.\n",
            "    \"\"\"\n",
            "\n",
            "    with open(filename, 'r') as file:\n",
            "        text = file.read().lower()  # Read file and convert to lowercase for case-insensitive counting\n",
            "\n",
            "    # Split the text into words using whitespace as a delimiter\n",
            "    words = text.split()\n",
            "\n",
            "    # Use Counter to efficiently count word occurrences\n",
            "    word_counts = Counter(words)\n",
            "\n",
            "    # Sort the word counts by frequency in descending order\n",
            "    sorted_word_counts = word_counts.most_common()\n",
            "\n",
            "    # Print the results\n",
            "    print(\"Word Frequency:\")\n",
            "    for word, count in sorted_word_counts:\n",
            "        print(f\"{word}: {count}\")\n",
            "\n",
            "# Example usage\n",
            "filename = \"your_text_file.txt\"  # Replace with the actual filename\n",
            "count_word_occurrences(filename)\n",
            "```\n",
            "\n",
            "**Explanation:**\n",
            "\n",
            "1. **Import `Counter`:** We import the `Counter` class from the `collections` module. This class provides a convenient way to count hashable objects (like words).\n",
            "2. **Function Definition:** We define a function `count_word_occurrences` that takes the filename as input.\n",
            "3. **File Handling:**\n",
            "   - The `with open(...) as file:` block opens the file for reading in a safe way.\n",
            "   - We read the entire file content using `file.read()`.\n",
            "   - We convert the text to lowercase using `.lower()` to make the counting case-insensitive.\n",
            "4. **Word Tokenization:**\n",
            "   - We split the text into a list of words using `text.split()`. This splits the text at whitespace characters (spaces, tabs, newlines).\n",
            "5. **Counting with `Counter`:**\n",
            "   - We create a `Counter` object named `word_counts` and pass the `words` list to it. This automatically counts the occurrences of each unique word.\n",
            "6. **Sorting:**\n",
            "   - We use `word_counts.most_common()` to get a list of (word, count) pairs sorted by count in descending order.\n",
            "7. **Printing Results:**\n",
            "   - We iterate through the `sorted_word_counts` list and print each word and its corresponding count.\n",
            "\n",
            "**To use this code:**\n",
            "\n",
            "1. **Replace `\"your_text_file.txt\"`** with the actual name of your text file.\n",
            "2. **Save the code** as a Python file (e.g., `word_counter.py`).\n",
            "3. **Run the code** from your terminal: `python word_counter.py`\n",
            "\n",
            "This will print the word frequency analysis for the specified file.\n",
            "\n"
          ]
        }
      ]
    },
    {
      "cell_type": "code",
      "source": [
        "# with CoT\n",
        "prompt = \"\"\"\n",
        "Write a Python program that counts the occurrences of each word in a given text file and prints the result sorted by frequency.\n",
        "\n",
        "First, read the content of the text file.\n",
        "Next, split the content into words.\n",
        "Then, create a dictionary to store word frequencies.\n",
        "After that, iterate through the words and update their counts in the dictionary.\n",
        "Finally, sort the dictionary by frequency and print the results.\n",
        "Feel free to break down each step further if needed.\n",
        "\n",
        "\"\"\"\n",
        "\n",
        "print(generate_response(prompt))"
      ],
      "metadata": {
        "colab": {
          "base_uri": "https://localhost:8080/"
        },
        "id": "n9WgYYSOJ8bf",
        "outputId": "93e67687-b90c-4f55-8279-2cc9de02fa92"
      },
      "execution_count": 32,
      "outputs": [
        {
          "output_type": "stream",
          "name": "stdout",
          "text": [
            "```python\n",
            "def count_word_frequencies(filename):\n",
            "  \"\"\"Counts the occurrences of each word in a text file and prints the result sorted by frequency.\n",
            "\n",
            "  Args:\n",
            "    filename: The name of the text file to read.\n",
            "  \"\"\"\n",
            "\n",
            "  # Read the content of the text file.\n",
            "  with open(filename, 'r') as file:\n",
            "    text = file.read()\n",
            "\n",
            "  # Split the content into words.\n",
            "  words = text.lower().split()\n",
            "\n",
            "  # Create a dictionary to store word frequencies.\n",
            "  word_counts = {}\n",
            "\n",
            "  # Iterate through the words and update their counts in the dictionary.\n",
            "  for word in words:\n",
            "    if word in word_counts:\n",
            "      word_counts[word] += 1\n",
            "    else:\n",
            "      word_counts[word] = 1\n",
            "\n",
            "  # Sort the dictionary by frequency.\n",
            "  sorted_word_counts = sorted(word_counts.items(), key=lambda item: item[1], reverse=True)\n",
            "\n",
            "  # Print the results.\n",
            "  for word, count in sorted_word_counts:\n",
            "    print(f\"{word}: {count}\")\n",
            "\n",
            "# Example usage:\n",
            "filename = \"your_text_file.txt\"  # Replace with the actual filename\n",
            "count_word_frequencies(filename)\n",
            "```\n",
            "\n",
            "**Explanation:**\n",
            "\n",
            "1. **`count_word_frequencies(filename)` function:**\n",
            "   - Takes the filename as input.\n",
            "   - Opens the file in read mode (`'r'`) using `with open(filename, 'r') as file:` which ensures the file is automatically closed after use.\n",
            "   - Reads the entire file content into the `text` variable.\n",
            "   - Converts the text to lowercase using `.lower()` to ensure case-insensitive counting.\n",
            "   - Splits the text into words using `.split()`.\n",
            "   - Creates an empty dictionary `word_counts` to store word frequencies.\n",
            "\n",
            "2. **Iterating through words and counting:**\n",
            "   - Uses a `for` loop to iterate through each `word` in the `words` list.\n",
            "   - Checks if the `word` already exists in the `word_counts` dictionary.\n",
            "     - If it does, increment its count by 1.\n",
            "     - If it doesn't, add the `word` to the dictionary with a count of 1.\n",
            "\n",
            "3. **Sorting by frequency:**\n",
            "   - Uses `sorted(word_counts.items(), key=lambda item: item[1], reverse=True)` to sort the dictionary by frequency.\n",
            "     - `word_counts.items()` converts the dictionary into key-value pairs.\n",
            "     - `key=lambda item: item[1]` specifies that sorting should be based on the value (count) of each item.\n",
            "     - `reverse=True` sorts in descending order (highest frequency first).\n",
            "\n",
            "4. **Printing results:**\n",
            "   - Iterates through the sorted `sorted_word_counts` list.\n",
            "   - For each `word` and `count` pair, prints them in the format \"word: count\".\n",
            "\n",
            "**To use this code:**\n",
            "\n",
            "1. Replace `\"your_text_file.txt\"` with the actual name of your text file.\n",
            "2. Run the Python script.\n",
            "\n",
            "This will print the words in your text file along with their frequencies, sorted from most frequent to least frequent.\n",
            "\n"
          ]
        }
      ]
    },
    {
      "cell_type": "markdown",
      "source": [
        "## Thank You"
      ],
      "metadata": {
        "id": "Is3KP_pzFmIX"
      }
    }
  ],
  "metadata": {
    "colab": {
      "provenance": [],
      "include_colab_link": true
    },
    "kernelspec": {
      "display_name": "Python 3",
      "name": "python3"
    },
    "language_info": {
      "codemirror_mode": {
        "name": "ipython",
        "version": 3
      },
      "file_extension": ".py",
      "mimetype": "text/x-python",
      "name": "python",
      "nbconvert_exporter": "python",
      "pygments_lexer": "ipython3",
      "version": "3.10.9"
    }
  },
  "nbformat": 4,
  "nbformat_minor": 0
}