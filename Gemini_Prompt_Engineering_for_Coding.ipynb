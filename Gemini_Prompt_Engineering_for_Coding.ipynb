{
  "cells": [
    {
      "cell_type": "markdown",
      "metadata": {
        "id": "view-in-github",
        "colab_type": "text"
      },
      "source": [
        "<a href=\"https://colab.research.google.com/github/anshupandey/Generative-AI-and-Prompt-Engineering/blob/main/Gemini_Prompt_Engineering_for_Coding.ipynb\" target=\"_parent\"><img src=\"https://colab.research.google.com/assets/colab-badge.svg\" alt=\"Open In Colab\"/></a>"
      ]
    },
    {
      "cell_type": "markdown",
      "source": [
        "# Gemini: Prompt Engineering for Coding"
      ],
      "metadata": {
        "id": "hAeE2XnZDsqX"
      }
    },
    {
      "cell_type": "markdown",
      "metadata": {
        "id": "No17Cw5hgx12"
      },
      "source": [
        "### Install Vertex AI SDK for Python\n"
      ]
    },
    {
      "cell_type": "code",
      "execution_count": 1,
      "metadata": {
        "id": "tFy3H3aPgx12"
      },
      "outputs": [],
      "source": [
        "! pip3 install --upgrade --user --quiet google-cloud-aiplatform"
      ]
    },
    {
      "cell_type": "markdown",
      "metadata": {
        "id": "dmWOrTJ3gx13"
      },
      "source": [
        "### Authenticate your notebook environment (Colab only)\n",
        "\n",
        "If you are running this notebook on Google Colab, run the cell below to authenticate your environment.\n"
      ]
    },
    {
      "cell_type": "code",
      "execution_count": 2,
      "metadata": {
        "id": "NyKGtVQjgx13"
      },
      "outputs": [],
      "source": [
        "import sys\n",
        "\n",
        "if \"google.colab\" in sys.modules:\n",
        "    from google.colab import auth\n",
        "    auth.authenticate_user()"
      ]
    },
    {
      "cell_type": "markdown",
      "metadata": {
        "id": "DF4l8DTdWgPY"
      },
      "source": [
        "### Set Google Cloud project information and initialize Vertex AI SDK\n",
        "\n",
        "To get started using Vertex AI, you must have an existing Google Cloud project and [enable the Vertex AI API](https://console.cloud.google.com/flows/enableapi?apiid=aiplatform.googleapis.com).\n",
        "\n",
        "Learn more about [setting up a project and a development environment](https://cloud.google.com/vertex-ai/docs/start/cloud-environment)."
      ]
    },
    {
      "cell_type": "code",
      "execution_count": 3,
      "metadata": {
        "id": "Nqwi-5ufWp_B"
      },
      "outputs": [],
      "source": [
        "PROJECT_ID = \"jrproject-402905\"  # @param {type:\"string\"}\n",
        "LOCATION = \"us-central1\"  # @param {type:\"string\"}\n",
        "MODEL_ID = \"gemini-1.5-flash-preview-0514\"  # @param {type:\"string\"}\n",
        "import vertexai\n",
        "vertexai.init(project=PROJECT_ID, location=LOCATION)"
      ]
    },
    {
      "cell_type": "code",
      "execution_count": 5,
      "metadata": {
        "id": "lslYAvw37JGQ"
      },
      "outputs": [],
      "source": [
        "from vertexai.generative_models import GenerationConfig, GenerativeModel\n",
        "# load the model\n",
        "model = GenerativeModel(MODEL_ID, system_instruction=[ \"You are a helpful Coding Expert.\",\"Your answer questions related to coding in effective way, following standard coding best practices.\",],)\n",
        "\n",
        "# Set model parameters\n",
        "generation_config = GenerationConfig( temperature=0.9, top_k=32,)\n",
        "\n",
        "def generate_response(prompt,model=model):\n",
        "  contents = [prompt]\n",
        "  response = model.generate_content(contents, generation_config=generation_config,)\n",
        "  return response.text"
      ]
    },
    {
      "cell_type": "markdown",
      "metadata": {
        "id": "qjb3J7DzygTu"
      },
      "source": [
        "# Calculate Code Complexity"
      ]
    },
    {
      "cell_type": "code",
      "execution_count": 6,
      "metadata": {
        "colab": {
          "base_uri": "https://localhost:8080/"
        },
        "id": "IVXYhAUHyfUJ",
        "outputId": "33db7f79-9167-413b-c62a-4812b19caca7"
      },
      "outputs": [
        {
          "output_type": "stream",
          "name": "stdout",
          "text": [
            "The time complexity of the provided Python code is **O(c * v)**. Here's why:\n",
            "\n",
            "* **Nested Loops:** The code has two nested loops. The outer loop iterates `c` times, and for each iteration of the outer loop, the inner loop iterates `v` times. \n",
            "* **Constant Time Operations:**  Inside the loops, the only operation is `counter += 1`, which takes constant time.\n",
            "\n",
            "**Therefore, the total number of operations is directly proportional to c * v, making the time complexity O(c * v).** \n",
            "\n"
          ]
        }
      ],
      "source": [
        "code = \"\"\"\n",
        "def myfun(c,v):\n",
        "  counter = 0\n",
        "  for i in range(c):\n",
        "    for j in range(v):\n",
        "      counter +=1\n",
        "  return counter\n",
        "\"\"\"\n",
        "\n",
        "prompt = f\"\"\"\n",
        "you will be provided with python code, and your task is to calculate its time complexity.\n",
        "Code: {code}\n",
        "\"\"\"\n",
        "\n",
        "print(generate_response(prompt))"
      ]
    },
    {
      "cell_type": "markdown",
      "metadata": {
        "id": "LOKpnaYF2DE0"
      },
      "source": [
        "# Improve code efficiency"
      ]
    },
    {
      "cell_type": "code",
      "execution_count": null,
      "metadata": {
        "id": "2K0FKxFmz5ZN"
      },
      "outputs": [],
      "source": [
        "code = \"\"\"\n",
        "from typing import List\n",
        "def has_sum_k(nums: List[int], k: int) -> bool:\n",
        "    '''\n",
        "    Returns True if there are two distinct elements in nums such that their sum\n",
        "    is equal to k, and otherwise returns False.\n",
        "    '''\n",
        "    n = len(nums)\n",
        "    for i in range(n):\n",
        "        for j in range(i+1, n):\n",
        "            if nums[i] + nums[j] == k:\n",
        "                return True\n",
        "    return False\n",
        "\"\"\"\n",
        "\n",
        "prompt = f\"\"\"\n",
        "please help in providing better ideas for efficiency improvement for the following function:\n",
        "Code:\n",
        "\n",
        "{code}\n",
        "\"\"\"\n",
        "\n",
        "print(generate_response(prompt))"
      ]
    },
    {
      "cell_type": "markdown",
      "metadata": {
        "id": "8LxdSdLf22pr"
      },
      "source": [
        "# Explain a piece of code"
      ]
    },
    {
      "cell_type": "code",
      "execution_count": 13,
      "metadata": {
        "colab": {
          "base_uri": "https://localhost:8080/"
        },
        "id": "jyGTdcws22FM",
        "outputId": "37dd94b3-1051-4878-982a-caf64f911caa"
      },
      "outputs": [
        {
          "output_type": "stream",
          "name": "stdout",
          "text": [
            "This Python code defines a function `has_sum_k` that checks if there are two distinct elements in a list `nums` that add up to a given `k`. Here's a breakdown:\n",
            "\n",
            "**1. Function Definition and Type Hints:**\n",
            "\n",
            "   - `from typing import List`: This line imports the `List` type from the `typing` module for type hinting. Type hinting improves code readability and allows for better static analysis.\n",
            "   - `def has_sum_k(nums: List[int], k: int) -> bool:`: This defines the function `has_sum_k` which takes two arguments:\n",
            "      - `nums`: A list of integers.\n",
            "      - `k`: An integer representing the target sum.\n",
            "      - `-> bool`: This indicates that the function returns a Boolean value (True or False).\n",
            "   - `''' ... '''`: This is a docstring, used to explain the function's purpose.\n",
            "\n",
            "**2. Function Logic:**\n",
            "\n",
            "   - `n = len(nums)`: Calculates the length of the input list `nums` and stores it in `n`.\n",
            "   - `for i in range(n):`: This outer loop iterates through each element in the list using its index `i`.\n",
            "   - `for j in range(i+1, n):`: This inner loop iterates through the remaining elements in the list, starting from `i+1` to avoid checking the same element twice.\n",
            "   - `if nums[i] + nums[j] == k:`: Checks if the sum of the current elements at indices `i` and `j` equals `k`.\n",
            "   - `return True`: If the sum equals `k`, the function immediately returns `True`, indicating that a pair with the desired sum was found.\n",
            "   - `return False`: If the loop completes without finding such a pair, the function returns `False`.\n",
            "\n",
            "**In Summary:** The `has_sum_k` function uses nested loops to check all possible pairs of distinct elements in the list. If any pair adds up to the target `k`, it returns `True`; otherwise, it returns `False`. \n",
            "\n"
          ]
        }
      ],
      "source": [
        "code = \"\"\"\n",
        "from typing import List\n",
        "def has_sum_k(nums: List[int], k: int) -> bool:\n",
        "    '''\n",
        "    Returns True if there are two distinct elements in nums such that their sum\n",
        "    is equal to k, and otherwise returns False.\n",
        "    '''\n",
        "    n = len(nums)\n",
        "    for i in range(n):\n",
        "        for j in range(i+1, n):\n",
        "            if nums[i] + nums[j] == k:\n",
        "                return True\n",
        "    return False\n",
        "\"\"\"\n",
        "\n",
        "\n",
        "prompt = f\"\"\"\n",
        "you will be provided with a piece of python code, and your task is to explain it in a concise way.\n",
        "Code: {code}\n",
        "\"\"\"\n",
        "\n",
        "print(generate_response(prompt))"
      ]
    },
    {
      "cell_type": "markdown",
      "metadata": {
        "id": "CC5fOCC239ct"
      },
      "source": [
        "# Code Generation with Gemini 1.5 Flash"
      ]
    },
    {
      "cell_type": "code",
      "execution_count": 14,
      "metadata": {
        "id": "AKKLdRSVUa8-",
        "outputId": "ada88774-0f3f-4de9-b812-6fd788de77b4",
        "colab": {
          "base_uri": "https://localhost:8080/"
        }
      },
      "outputs": [
        {
          "output_type": "stream",
          "name": "stdout",
          "text": [
            "```python\n",
            "def binary_search(array, target):\n",
            "  \"\"\"\n",
            "  Performs a binary search on a sorted array.\n",
            "\n",
            "  Args:\n",
            "      array: A sorted array of elements.\n",
            "      target: The element to search for.\n",
            "\n",
            "  Returns:\n",
            "      The index of the target element if found, otherwise -1.\n",
            "  \"\"\"\n",
            "  left = 0\n",
            "  right = len(array) - 1\n",
            "\n",
            "  while left <= right:\n",
            "    mid = (left + right) // 2\n",
            "\n",
            "    if array[mid] == target:\n",
            "      return mid\n",
            "    elif array[mid] < target:\n",
            "      left = mid + 1\n",
            "    else:\n",
            "      right = mid - 1\n",
            "\n",
            "  return -1\n",
            "```\n",
            "\n",
            "**Explanation:**\n",
            "\n",
            "1. **Function Definition:**\n",
            "   - `def binary_search(array, target):` defines a function named `binary_search` that takes two arguments:\n",
            "     - `array`: The sorted array to search within.\n",
            "     - `target`: The element to find.\n",
            "\n",
            "2. **Initialization:**\n",
            "   - `left = 0`: Initializes the left pointer to the beginning of the array.\n",
            "   - `right = len(array) - 1`: Initializes the right pointer to the end of the array.\n",
            "\n",
            "3. **Search Loop:**\n",
            "   - `while left <= right:`: The loop continues as long as the left pointer is less than or equal to the right pointer.\n",
            "   - `mid = (left + right) // 2`: Calculates the middle index.\n",
            "   - `if array[mid] == target:`: If the element at the middle index is the target, the index is returned.\n",
            "   - `elif array[mid] < target:`: If the target is greater than the middle element, the search continues in the right half (`left = mid + 1`).\n",
            "   - `else:`: If the target is less than the middle element, the search continues in the left half (`right = mid - 1`).\n",
            "\n",
            "4. **Not Found:**\n",
            "   - `return -1`: If the loop completes without finding the target, `-1` is returned to indicate that the target is not present in the array.\n",
            "\n",
            "**Example Usage:**\n",
            "\n",
            "```python\n",
            "numbers = [2, 5, 7, 8, 11, 12]\n",
            "target = 12\n",
            "\n",
            "index = binary_search(numbers, target)\n",
            "\n",
            "if index != -1:\n",
            "  print(f\"Target {target} found at index: {index}\")\n",
            "else:\n",
            "  print(\"Target not found\")\n",
            "```\n",
            "\n",
            "**Output:**\n",
            "\n",
            "```\n",
            "Target 12 found at index: 5\n",
            "```\n",
            "\n"
          ]
        }
      ],
      "source": [
        "prompt = f\"\"\"\n",
        "you will be provided with a task to write a python code, and your task is to write it.\n",
        "write a function for binary search in python\n",
        "\"\"\"\n",
        "\n",
        "print(generate_response(prompt))"
      ]
    },
    {
      "cell_type": "markdown",
      "metadata": {
        "id": "R1bK602QUa8_"
      },
      "source": [
        "## Create a single page website"
      ]
    },
    {
      "cell_type": "code",
      "execution_count": 15,
      "metadata": {
        "colab": {
          "base_uri": "https://localhost:8080/"
        },
        "id": "uFegvaqx2oga",
        "outputId": "a6e65b22-2d92-457b-e05e-dd4693e5689a"
      },
      "outputs": [
        {
          "output_type": "stream",
          "name": "stdout",
          "text": [
            "```html\n",
            "<!DOCTYPE html>\n",
            "<html>\n",
            "<head>\n",
            "<style>\n",
            "body {\n",
            "  font-family: sans-serif;\n",
            "}\n",
            ".dropdown {\n",
            "  position: relative;\n",
            "  display: inline-block;\n",
            "}\n",
            ".dropdown-content {\n",
            "  display: none;\n",
            "  position: absolute;\n",
            "  background-color: #f9f9f9;\n",
            "  min-width: 160px;\n",
            "  box-shadow: 0px 8px 16px 0px rgba(0,0,0,0.2);\n",
            "  z-index: 1;\n",
            "}\n",
            ".dropdown-content a {\n",
            "  color: black;\n",
            "  padding: 12px 16px;\n",
            "  text-decoration: none;\n",
            "  display: block;\n",
            "}\n",
            ".dropdown-content a:hover {\n",
            "  background-color: #f1f1f1;\n",
            "}\n",
            ".dropdown:hover .dropdown-content {\n",
            "  display: block;\n",
            "}\n",
            ".show {\n",
            "  display: block;\n",
            "}\n",
            ".info-box {\n",
            "  border: 1px solid #ccc;\n",
            "  padding: 10px;\n",
            "  margin-bottom: 10px;\n",
            "  background-color: #f9f9f9;\n",
            "}\n",
            ".info-box h3 {\n",
            "  margin-top: 0;\n",
            "}\n",
            "</style>\n",
            "</head>\n",
            "<body>\n",
            "\n",
            "<h2>JavaScript Features</h2>\n",
            "\n",
            "<div class=\"dropdown\">\n",
            "  <button onclick=\"myFunction()\">Click me</button>\n",
            "  <div id=\"myDropdown\" class=\"dropdown-content\">\n",
            "    <a href=\"#\">Link 1</a>\n",
            "    <a href=\"#\">Link 2</a>\n",
            "    <a href=\"#\">Link 3</a>\n",
            "  </div>\n",
            "</div>\n",
            "\n",
            "<script>\n",
            "function myFunction() {\n",
            "  document.getElementById(\"myDropdown\").classList.toggle(\"show\");\n",
            "}\n",
            "</script>\n",
            "\n",
            "<h3>Information Display</h3>\n",
            "\n",
            "<div class=\"info-box\">\n",
            "  <h3>Information Box 1</h3>\n",
            "  <p>This is some information about the first box.</p>\n",
            "</div>\n",
            "\n",
            "<div class=\"info-box\">\n",
            "  <h3>Information Box 2</h3>\n",
            "  <p>This is some more information about the second box.</p>\n",
            "</div>\n",
            "\n",
            "<script>\n",
            "const boxes = document.querySelectorAll('.info-box');\n",
            "boxes.forEach(box => {\n",
            "  const toggleButton = document.createElement('button');\n",
            "  toggleButton.textContent = 'Show/Hide';\n",
            "  toggleButton.addEventListener('click', () => {\n",
            "    box.classList.toggle('show');\n",
            "  });\n",
            "  box.appendChild(toggleButton);\n",
            "});\n",
            "</script>\n",
            "\n",
            "</body>\n",
            "</html>\n",
            "```\n"
          ]
        }
      ],
      "source": [
        "\n",
        "prompt = f\"\"\"\n",
        "Make a single page website that shows off different neat javascript features for drop downs and things to display information. The website should be an HTML file with embedded javascript and css. In the output only provide code without description.\n",
        "\n",
        "\"\"\"\n",
        "\n",
        "response = generate_response(prompt)\n",
        "print(response)"
      ]
    },
    {
      "cell_type": "code",
      "execution_count": 16,
      "metadata": {
        "colab": {
          "base_uri": "https://localhost:8080/",
          "height": 366
        },
        "id": "o_goKgWh4tuA",
        "outputId": "b2d21ac7-24f7-48f3-cb5d-5d4b33808e4a"
      },
      "outputs": [
        {
          "output_type": "display_data",
          "data": {
            "text/plain": [
              "<IPython.core.display.HTML object>"
            ],
            "text/html": [
              "```html\n",
              "<!DOCTYPE html>\n",
              "<html>\n",
              "<head>\n",
              "<style>\n",
              "body {\n",
              "  font-family: sans-serif;\n",
              "}\n",
              ".dropdown {\n",
              "  position: relative;\n",
              "  display: inline-block;\n",
              "}\n",
              ".dropdown-content {\n",
              "  display: none;\n",
              "  position: absolute;\n",
              "  background-color: #f9f9f9;\n",
              "  min-width: 160px;\n",
              "  box-shadow: 0px 8px 16px 0px rgba(0,0,0,0.2);\n",
              "  z-index: 1;\n",
              "}\n",
              ".dropdown-content a {\n",
              "  color: black;\n",
              "  padding: 12px 16px;\n",
              "  text-decoration: none;\n",
              "  display: block;\n",
              "}\n",
              ".dropdown-content a:hover {\n",
              "  background-color: #f1f1f1;\n",
              "}\n",
              ".dropdown:hover .dropdown-content {\n",
              "  display: block;\n",
              "}\n",
              ".show {\n",
              "  display: block;\n",
              "}\n",
              ".info-box {\n",
              "  border: 1px solid #ccc;\n",
              "  padding: 10px;\n",
              "  margin-bottom: 10px;\n",
              "  background-color: #f9f9f9;\n",
              "}\n",
              ".info-box h3 {\n",
              "  margin-top: 0;\n",
              "}\n",
              "</style>\n",
              "</head>\n",
              "<body>\n",
              "\n",
              "<h2>JavaScript Features</h2>\n",
              "\n",
              "<div class=\"dropdown\">\n",
              "  <button onclick=\"myFunction()\">Click me</button>\n",
              "  <div id=\"myDropdown\" class=\"dropdown-content\">\n",
              "    <a href=\"#\">Link 1</a>\n",
              "    <a href=\"#\">Link 2</a>\n",
              "    <a href=\"#\">Link 3</a>\n",
              "  </div>\n",
              "</div>\n",
              "\n",
              "<script>\n",
              "function myFunction() {\n",
              "  document.getElementById(\"myDropdown\").classList.toggle(\"show\");\n",
              "}\n",
              "</script>\n",
              "\n",
              "<h3>Information Display</h3>\n",
              "\n",
              "<div class=\"info-box\">\n",
              "  <h3>Information Box 1</h3>\n",
              "  <p>This is some information about the first box.</p>\n",
              "</div>\n",
              "\n",
              "<div class=\"info-box\">\n",
              "  <h3>Information Box 2</h3>\n",
              "  <p>This is some more information about the second box.</p>\n",
              "</div>\n",
              "\n",
              "<script>\n",
              "const boxes = document.querySelectorAll('.info-box');\n",
              "boxes.forEach(box => {\n",
              "  const toggleButton = document.createElement('button');\n",
              "  toggleButton.textContent = 'Show/Hide';\n",
              "  toggleButton.addEventListener('click', () => {\n",
              "    box.classList.toggle('show');\n",
              "  });\n",
              "  box.appendChild(toggleButton);\n",
              "});\n",
              "</script>\n",
              "\n",
              "</body>\n",
              "</html>\n",
              "```"
            ]
          },
          "metadata": {}
        }
      ],
      "source": [
        "from IPython.display import display, HTML\n",
        "display(HTML(response))"
      ]
    },
    {
      "cell_type": "markdown",
      "metadata": {
        "id": "zfp3-BgDUa9A"
      },
      "source": [
        "## Complete a partial code"
      ]
    },
    {
      "cell_type": "code",
      "execution_count": 17,
      "metadata": {
        "id": "h-UgNBxxUa9A",
        "outputId": "6a078819-76d7-4b3f-c749-05b6bc8bccd8",
        "colab": {
          "base_uri": "https://localhost:8080/"
        }
      },
      "outputs": [
        {
          "output_type": "stream",
          "name": "stdout",
          "text": [
            "```python\n",
            "# calculate the average of the numbers in an array, but only if they're even\n",
            "def average_of_evens(numbers):\n",
            "  \"\"\"Calculates the average of even numbers in a list.\n",
            "\n",
            "  Args:\n",
            "    numbers: A list of numbers.\n",
            "\n",
            "  Returns:\n",
            "    The average of the even numbers in the list, or 0 if there are no even numbers.\n",
            "  \"\"\"\n",
            "  even_numbers = [num for num in numbers if num % 2 == 0]\n",
            "  if even_numbers:\n",
            "    return sum(even_numbers) / len(even_numbers)\n",
            "  else:\n",
            "    return 0\n",
            "```\n"
          ]
        }
      ],
      "source": [
        "prompt = f\"\"\"\n",
        "you will be provided with a task to complete a partial python code, and your task is to complete it.\n",
        "\n",
        "complete the following function\n",
        "# calculate the average of the numbers in an array, but only if they're even\n",
        "def\n",
        "\"\"\"\n",
        "\n",
        "print(generate_response(prompt))"
      ]
    },
    {
      "cell_type": "markdown",
      "metadata": {
        "id": "u3f1TCax5QUR"
      },
      "source": [
        "# Generate SQL Queries from natural language"
      ]
    },
    {
      "cell_type": "code",
      "execution_count": 18,
      "metadata": {
        "colab": {
          "base_uri": "https://localhost:8080/"
        },
        "id": "X-ghdsec5Msf",
        "outputId": "9923a0d7-4ef7-41ae-a6d3-8355cc4eecd0"
      },
      "outputs": [
        {
          "output_type": "stream",
          "name": "stdout",
          "text": [
            "```sql\n",
            "-- Calculate the average of total order values for all orders on 20-09-2023\n",
            "SELECT AVG(TotalOrderValue) AS AverageOrderValue\n",
            "FROM (\n",
            "    SELECT \n",
            "        o.OrderID,\n",
            "        SUM(od.Quantity * p.UnitPrice) AS TotalOrderValue\n",
            "    FROM Orders o\n",
            "    JOIN OrderDetails od ON o.OrderID = od.OrderID\n",
            "    JOIN Products p ON od.ProductID = p.ProductID\n",
            "    WHERE DATE(o.OrderDate) = '2023-09-20' \n",
            "    GROUP BY o.OrderID\n",
            ") AS Subquery;\n",
            "```\n",
            "\n",
            "**Explanation:**\n",
            "\n",
            "1. **Subquery:**\n",
            "   - We use a subquery to calculate the `TotalOrderValue` for each order on the specified date.\n",
            "   - `JOIN` the `Orders`, `OrderDetails`, and `Products` tables based on their respective foreign keys.\n",
            "   - Filter the orders to only include those with `OrderDate` equal to '2023-09-20'.\n",
            "   - Calculate the `TotalOrderValue` for each order by multiplying the `Quantity` from `OrderDetails` with the `UnitPrice` from `Products` and summing the result for each order.\n",
            "   - `GROUP BY` `OrderID` to calculate the `TotalOrderValue` for each individual order.\n",
            "\n",
            "2. **Outer Query:**\n",
            "   - The outer query uses the `AVG` function to calculate the average of the `TotalOrderValue` calculated in the subquery.\n",
            "   - This gives us the average order value for all orders on the specified date.\n",
            "\n",
            "**Result:** The query will return a single value representing the average total order value for all orders placed on 20-09-2023. \n",
            "\n"
          ]
        }
      ],
      "source": [
        "table_code = \"\"\"\n",
        "CREATE TABLE Orders (\n",
        "  OrderID int,\n",
        "  CustomerID int,\n",
        "  OrderDate datetime,\n",
        "  OrderTime varchar(8),\n",
        "  PRIMARY KEY (OrderID)\n",
        ");\n",
        "\n",
        "CREATE TABLE OrderDetails (\n",
        "  OrderDetailID int,\n",
        "  OrderID int,\n",
        "  ProductID int,\n",
        "  Quantity int,\n",
        "  PRIMARY KEY (OrderDetailID)\n",
        ");\n",
        "\n",
        "CREATE TABLE Products (\n",
        "  ProductID int,\n",
        "  ProductName varchar(50),\n",
        "  Category varchar(50),\n",
        "  UnitPrice decimal(10, 2),\n",
        "  Stock int,\n",
        "  PRIMARY KEY (ProductID)\n",
        ");\n",
        "\n",
        "CREATE TABLE Customers (\n",
        "  CustomerID int,\n",
        "  FirstName varchar(50),\n",
        "  LastName varchar(50),\n",
        "  Email varchar(100),\n",
        "  Phone varchar(20),\n",
        "  PRIMARY KEY (CustomerID)\n",
        ");\n",
        "\"\"\"\n",
        "\n",
        "\n",
        "prompt = f\"\"\"\n",
        "Given the following SQL tables, your job is to write queries given a user's input request.\n",
        "\n",
        "Tables: {table_code}\n",
        "\n",
        "Write a query which calculates the average of total order values for all orders on 20-09-2023\n",
        "\n",
        "\"\"\"\n",
        "\n",
        "print(generate_response(prompt))"
      ]
    },
    {
      "cell_type": "markdown",
      "metadata": {
        "id": "XlkePjd0L8N5"
      },
      "source": [
        "# Code from Description"
      ]
    },
    {
      "cell_type": "code",
      "execution_count": 19,
      "metadata": {
        "id": "XJZ2F754L5Ii",
        "outputId": "4119074c-57f8-4205-cf2a-50f3727396a6",
        "colab": {
          "base_uri": "https://localhost:8080/"
        }
      },
      "outputs": [
        {
          "output_type": "stream",
          "name": "stdout",
          "text": [
            "```python\n",
            "import numpy as np\n",
            "from PIL import Image\n",
            "\n",
            "def crop_dark_perimeter(image_path, threshold=10):\n",
            "  \"\"\"\n",
            "  Crops the rows and columns around the perimeter of an image if they are darker than a threshold value.\n",
            "\n",
            "  Args:\n",
            "      image_path (str): The path to the image file.\n",
            "      threshold (int, optional): The darkness threshold value. Defaults to 10.\n",
            "\n",
            "  Returns:\n",
            "      numpy.ndarray: The cropped image as a NumPy array.\n",
            "  \"\"\"\n",
            "\n",
            "  # Load the image\n",
            "  image = np.array(Image.open(image_path))\n",
            "\n",
            "  # Calculate mean values of rows and columns\n",
            "  row_means = np.mean(image, axis=1)\n",
            "  col_means = np.mean(image, axis=0)\n",
            "\n",
            "  # Find indices of rows and columns to crop\n",
            "  rows_to_crop = np.where(row_means < threshold)[0]\n",
            "  cols_to_crop = np.where(col_means < threshold)[0]\n",
            "\n",
            "  # Crop the image\n",
            "  cropped_image = image[rows_to_crop[0]:-rows_to_crop[-1], cols_to_crop[0]:-cols_to_crop[-1]]\n",
            "\n",
            "  return cropped_image\n",
            "\n",
            "```\n",
            "\n",
            "**Explanation:**\n",
            "\n",
            "1. **Import necessary libraries:**\n",
            "   - `numpy` for array operations.\n",
            "   - `PIL.Image` for loading the image.\n",
            "\n",
            "2. **Define the function:**\n",
            "   - `crop_dark_perimeter(image_path, threshold=10)`:\n",
            "     - Takes the image path and an optional threshold value (defaults to 10).\n",
            "\n",
            "3. **Load the image:**\n",
            "   - `image = np.array(Image.open(image_path))`: Loads the image using `PIL.Image` and converts it to a NumPy array.\n",
            "\n",
            "4. **Calculate mean values:**\n",
            "   - `row_means = np.mean(image, axis=1)`: Calculates the mean intensity value for each row.\n",
            "   - `col_means = np.mean(image, axis=0)`: Calculates the mean intensity value for each column.\n",
            "\n",
            "5. **Find indices to crop:**\n",
            "   - `rows_to_crop = np.where(row_means < threshold)[0]`: Finds the indices of rows where the mean intensity is below the threshold.\n",
            "   - `cols_to_crop = np.where(col_means < threshold)[0]`: Finds the indices of columns where the mean intensity is below the threshold.\n",
            "\n",
            "6. **Crop the image:**\n",
            "   - `cropped_image = image[rows_to_crop[0]:-rows_to_crop[-1], cols_to_crop[0]:-cols_to_crop[-1]]`: Crops the image by removing the rows and columns identified in the previous steps.\n",
            "\n",
            "7. **Return the cropped image:**\n",
            "   - The function returns the cropped image as a NumPy array.\n",
            "\n",
            "**How to use the function:**\n",
            "\n",
            "```python\n",
            "# Example usage\n",
            "image_path = \"path/to/your/image.jpg\"\n",
            "cropped_image = crop_dark_perimeter(image_path, threshold=20) \n",
            "\n",
            "# Save the cropped image\n",
            "Image.fromarray(cropped_image).save(\"cropped_image.jpg\")\n",
            "```\n",
            "\n",
            "**Note:**\n",
            "\n",
            "- Adjust the `threshold` value based on the darkness of the perimeter in your specific images.\n",
            "- This function assumes that the perimeter is darker than the central content of the image. If this is not the case, you may need to adjust the logic or use a different approach.\n",
            "- The `threshold` parameter can be adjusted to be more or less sensitive to dark areas based on your specific image.  \n",
            "- You can visualize the cropped image by using `matplotlib` or another image visualization library. \n",
            "\n"
          ]
        }
      ],
      "source": [
        "prompt = f\"\"\"\n",
        "Create a python function which takes as input a file path to an image, loads the image into memory as a numpy array,\n",
        "then crops the rows and columns around the perimeter if they are darker than a threshold value. Use the mean value of rows and columns to decide if they should be marked for deletion.\n",
        "\"\"\"\n",
        "\n",
        "print(generate_response(prompt))\n"
      ]
    },
    {
      "cell_type": "code",
      "execution_count": 20,
      "metadata": {
        "id": "zuZ6Pyoh5FcM",
        "outputId": "3ef2e891-1a72-4be5-ac93-8fb5623391a6",
        "colab": {
          "base_uri": "https://localhost:8080/"
        }
      },
      "outputs": [
        {
          "output_type": "stream",
          "name": "stdout",
          "text": [
            "```python\n",
            "import numpy as np\n",
            "from PIL import Image\n",
            "\n",
            "def crop_image(image_path, threshold):\n",
            "  \"\"\"\n",
            "  Crops an image by removing rows and columns with mean pixel values below a given threshold.\n",
            "\n",
            "  Args:\n",
            "    image_path: Path to the image file.\n",
            "    threshold: Threshold value for determining whether a row or column should be cropped.\n",
            "\n",
            "  Returns:\n",
            "    A NumPy array representing the cropped image.\n",
            "  \"\"\"\n",
            "  image = np.array(Image.open(image_path))\n",
            "  \n",
            "  # Calculate mean values of each row and column\n",
            "  row_means = np.mean(image, axis=1)\n",
            "  col_means = np.mean(image, axis=0)\n",
            "\n",
            "  # Find rows and columns to crop\n",
            "  rows_to_crop = np.where(row_means < threshold)[0]\n",
            "  cols_to_crop = np.where(col_means < threshold)[0]\n",
            "\n",
            "  # Crop the image\n",
            "  cropped_image = image[rows_to_crop[0]:-rows_to_crop[-1], cols_to_crop[0]:-cols_to_crop[-1]]\n",
            "  return cropped_image\n",
            "```\n"
          ]
        }
      ],
      "source": [
        "prompt = f\"\"\"\n",
        "Create a python function which takes as input a file path to an image, loads the image into memory as a numpy array,\n",
        "then crops the rows and columns around the perimeter if they are darker than a threshold value. Use the mean value of rows and columns to decide if they should be marked for deletion.\n",
        "Make sure the output is only the python function code in string format.\n",
        "\n",
        "\"\"\"\n",
        "\n",
        "print(generate_response(prompt))\n"
      ]
    },
    {
      "cell_type": "markdown",
      "metadata": {
        "id": "YX6jG58SNCt5"
      },
      "source": [
        "# Bug fixing in a given code"
      ]
    },
    {
      "cell_type": "code",
      "execution_count": 21,
      "metadata": {
        "colab": {
          "base_uri": "https://localhost:8080/"
        },
        "id": "_V-_QKEDM6b0",
        "outputId": "ec8adb61-7c09-466c-f81e-41af49d31245"
      },
      "outputs": [
        {
          "output_type": "stream",
          "name": "stdout",
          "text": [
            "```python\n",
            "qus = \"What is 4+2+9*8 ?\"\n",
            "ans = input(qus)\n",
            "# Convert the input to an integer for comparison\n",
            "ans = int(ans) \n",
            "if ans == 78: \n",
            "  print(\"Correct!\")\n",
            "else:\n",
            "  print(\"Incorrect\")\n",
            "```\n",
            "\n",
            "**Explanation of the bug and fixes:**\n",
            "\n",
            "1. **Incorrect Comparison:** The original code uses `ans = 12`, which is an assignment statement. This assigns the value `12` to `ans`, instead of comparing it. To compare, we need to use the equality operator `==`. \n",
            "\n",
            "2. **Missing Parentheses in print statement:** The line `print(\"hello)` is missing a closing parenthesis. This will result in a syntax error.\n",
            "\n",
            "3. **Incorrect Answer:** The answer to the mathematical problem `4+2+9*8` is `78`.  The original code was checking for `12`, which is incorrect.\n",
            "\n",
            "4. **Typo in Print statement:** The line `print(none)` is trying to print the value `none` (which should be `None`), but there is no such variable defined. Also, it's more common to print a message that indicates whether the answer is correct or not.\n",
            "\n",
            "**Corrected code:** The corrected code includes the following changes:\n",
            "\n",
            "*   It uses `==` for comparison.\n",
            "*   It converts the input to an integer using `int(ans)` before comparison.\n",
            "*   It checks for the correct answer, `78`.\n",
            "*   It uses `print(\"Correct!\")` and `print(\"Incorrect\")` to provide feedback. \n",
            "*   It fixes the syntax errors in the `print` statements.\n",
            "\n"
          ]
        }
      ],
      "source": [
        "\n",
        "\n",
        "prompt = f\"\"\"\n",
        "you will be provided with a piece of python code, and your task is to find and fix the bug in it.\n",
        "Code:\n",
        "qus = \"WHat is 4+2+9*8 ?\"\n",
        "ans = input(qus)\n",
        "if ans = 12:\n",
        "  print(none)\n",
        "  print(\"hello)\n",
        "else:\n",
        "  print(\"bye\")\n",
        "\"\"\"\n",
        "\n",
        "print(generate_response(prompt))"
      ]
    },
    {
      "cell_type": "markdown",
      "metadata": {
        "id": "arR_49tPUa9B"
      },
      "source": [
        "# Change Coding Language\n"
      ]
    },
    {
      "cell_type": "code",
      "execution_count": 22,
      "metadata": {
        "id": "rXNnJ1klNxbB",
        "outputId": "a3fa8032-1e0f-40ff-e621-218848312a42",
        "colab": {
          "base_uri": "https://localhost:8080/"
        }
      },
      "outputs": [
        {
          "output_type": "stream",
          "name": "stdout",
          "text": [
            "```c\n",
            "#include <stdio.h>\n",
            "\n",
            "void print_squares(int n) {\n",
            "  for (int i = 1; i <= n; i++) {\n",
            "    printf(\"%d\\n\", i * i);\n",
            "  }\n",
            "}\n",
            "\n",
            "int main() {\n",
            "  int n = 5; // Example value for n\n",
            "  print_squares(n);\n",
            "  return 0;\n",
            "}\n",
            "```\n",
            "\n",
            "**Explanation:**\n",
            "\n",
            "1. **Headers:**\n",
            "   - `#include <stdio.h>`: Includes the standard input/output library for functions like `printf`.\n",
            "\n",
            "2. **Function Definition:**\n",
            "   - `void print_squares(int n)`: Defines a function named `print_squares` that takes an integer `n` as input and doesn't return anything (hence `void`).\n",
            "\n",
            "3. **Loop:**\n",
            "   - `for (int i = 1; i <= n; i++)`: A `for` loop iterates from `i = 1` to `i = n`, incrementing `i` by 1 in each iteration.\n",
            "\n",
            "4. **Printing:**\n",
            "   - `printf(\"%d\\n\", i * i);`:  The `printf` function prints the square of `i` (`i * i`) followed by a newline character (`\\n`).\n",
            "\n",
            "5. **Main Function:**\n",
            "   - `int main()`: The entry point of the program.\n",
            "   - `int n = 5;`: Initializes an integer variable `n` with the value `5`.\n",
            "   - `print_squares(n);`: Calls the `print_squares` function with the value of `n`.\n",
            "   - `return 0;`: Indicates successful program execution.\n",
            "\n",
            "**Key Differences from Python:**\n",
            "\n",
            "- **Explicit Type Declarations:** C requires explicit type declarations for variables (e.g., `int n`).\n",
            "- **Loop Syntax:** The `for` loop syntax in C is different.\n",
            "- **Printing:** C uses `printf` for output.\n",
            "- **Function Return Type:**  C functions require a defined return type (e.g., `void` if no value is returned).\n",
            "- **Main Function:**  The program execution starts at the `main` function.\n",
            "\n"
          ]
        }
      ],
      "source": [
        "# Changing coding language from python to c\n",
        "\n",
        "code = \"\"\"\n",
        "def print_squares(n):\n",
        "    for i in range(1, n+1):\n",
        "        print(i**2)\n",
        "        \"\"\"\n",
        "\n",
        "\n",
        "prompt = f\"\"\"\n",
        "you will be provided with a piece of python code, and your task is to convert it to c.\n",
        "\n",
        "Code: {code}\n",
        "\"\"\"\n",
        "\n",
        "print(generate_response(prompt))"
      ]
    },
    {
      "cell_type": "markdown",
      "metadata": {
        "id": "N_BqAQmaUa9B"
      },
      "source": [
        "# Write unit tests"
      ]
    },
    {
      "cell_type": "code",
      "execution_count": 23,
      "metadata": {
        "id": "Z3VZ0rWeUa9B",
        "outputId": "a97e497e-0a74-41ca-9b6e-9466b487e86d",
        "colab": {
          "base_uri": "https://localhost:8080/"
        }
      },
      "outputs": [
        {
          "output_type": "stream",
          "name": "stdout",
          "text": [
            "```python\n",
            "import unittest\n",
            "\n",
            "def binary_search(arr, target):\n",
            "    left, right = 0, len(arr) - 1\n",
            "    while left <= right:\n",
            "        mid = (left + right) // 2\n",
            "        if arr[mid] == target:\n",
            "            return mid\n",
            "        elif arr[mid] < target:\n",
            "            left = mid + 1\n",
            "        else:\n",
            "            right = mid - 1\n",
            "    return -1\n",
            "\n",
            "class TestBinarySearch(unittest.TestCase):\n",
            "\n",
            "    def test_target_present(self):\n",
            "        arr = [2, 5, 7, 8, 11, 12]\n",
            "        target = 12\n",
            "        self.assertEqual(binary_search(arr, target), 5)\n",
            "\n",
            "    def test_target_not_present(self):\n",
            "        arr = [2, 5, 7, 8, 11, 12]\n",
            "        target = 13\n",
            "        self.assertEqual(binary_search(arr, target), -1)\n",
            "\n",
            "    def test_empty_array(self):\n",
            "        arr = []\n",
            "        target = 5\n",
            "        self.assertEqual(binary_search(arr, target), -1)\n",
            "\n",
            "if __name__ == '__main__':\n",
            "    unittest.main()\n",
            "```\n",
            "\n",
            "**Explanation of the tests:**\n",
            "\n",
            "1. **`test_target_present`:**\n",
            "   - This test ensures the function returns the correct index when the target value is present in the array.\n",
            "   - It uses a sorted array `[2, 5, 7, 8, 11, 12]` and searches for `12`.\n",
            "   - The expected result is `5` (the index of 12 in the array), and `self.assertEqual` asserts that the actual result matches the expected result.\n",
            "\n",
            "2. **`test_target_not_present`:**\n",
            "   - This test verifies that the function returns `-1` when the target value is not in the array.\n",
            "   - It uses the same array as the previous test but searches for `13`.\n",
            "   - The expected result is `-1`, indicating the target is not found.\n",
            "\n",
            "3. **`test_empty_array`:**\n",
            "   - This test checks the function's behavior with an empty array.\n",
            "   - It creates an empty array `[]` and searches for `5`.\n",
            "   - The expected result is `-1` as there are no elements to search in the array.\n",
            "\n",
            "These tests cover different scenarios to ensure the `binary_search` function works correctly in various cases.\n",
            "\n"
          ]
        }
      ],
      "source": [
        "# write unit tests for a given code\n",
        "\n",
        "code = \"\"\"\n",
        "def binary_search(arr, target):\n",
        "    left, right = 0, len(arr) - 1\n",
        "    while left <= right:\n",
        "        mid = (left + right) // 2\n",
        "        if arr[mid] == target:\n",
        "            return mid\n",
        "        elif arr[mid] < target:\n",
        "            left = mid + 1\n",
        "        else:\n",
        "            right = mid - 1\n",
        "    return -1\n",
        "\"\"\"\n",
        "prompt = f\"\"\"\n",
        "you will be provided with a piece of python code, and your task is to write unit tests for it.\n",
        "Write 3 unit tests for the following function:\n",
        "{code}\n",
        "\"\"\"\n",
        "\n",
        "print(generate_response(prompt))"
      ]
    },
    {
      "cell_type": "markdown",
      "metadata": {
        "id": "2YXm_0NJUa9C"
      },
      "source": [
        "# Add comments and generate documentation"
      ]
    },
    {
      "cell_type": "code",
      "execution_count": 24,
      "metadata": {
        "id": "eHon_zPfUa9C",
        "outputId": "8d9b4008-eb21-425f-d1b9-85ee86f56b44",
        "colab": {
          "base_uri": "https://localhost:8080/"
        }
      },
      "outputs": [
        {
          "output_type": "stream",
          "name": "stdout",
          "text": [
            "```python\n",
            "def permutations(lst):\n",
            "  \"\"\"\n",
            "  This function generates all possible permutations of a given list.\n",
            "\n",
            "  Args:\n",
            "    lst: A list of elements.\n",
            "\n",
            "  Returns:\n",
            "    A list of lists, where each inner list represents a permutation of the input list.\n",
            "  \"\"\"\n",
            "  # Base case: If the list is empty, return an empty list\n",
            "  if len(lst) == 0:\n",
            "    return []\n",
            "  # Base case: If the list has only one element, return a list containing that element\n",
            "  elif len(lst) == 1:\n",
            "    return [lst]\n",
            "  else:\n",
            "    # Initialize an empty list to store the permutations\n",
            "    result = []\n",
            "    # Iterate through each element in the list\n",
            "    for i in range(len(lst)):\n",
            "      # Extract the current element\n",
            "      temp = lst[i]\n",
            "      # Create a new list containing all elements except the current one\n",
            "      remaining = lst[:i] + lst[i+1:]\n",
            "      # Recursively generate permutations of the remaining list\n",
            "      for p in permutations(remaining):\n",
            "        # Add the current element to the beginning of each permutation of the remaining list\n",
            "        result.append([temp] + p)\n",
            "    # Return the list of all permutations\n",
            "    return result\n",
            "```\n"
          ]
        }
      ],
      "source": [
        "# Add comments and generate documentation\n",
        "\n",
        "code = \"\"\"\n",
        "def permutations(lst):\n",
        "    if len(lst) == 0:\n",
        "        return []\n",
        "    elif len(lst) == 1:\n",
        "        return [lst]\n",
        "    else:\n",
        "        result = []\n",
        "        for i in range(len(lst)):\n",
        "            temp = lst[i]\n",
        "            remaining = lst[:i] + lst[i+1:]\n",
        "            for p in permutations(remaining):\n",
        "                result.append([temp] + p)\n",
        "        return result\n",
        "\n",
        "\"\"\"\n",
        "\n",
        "prompt = f\"\"\"\n",
        "you will be provided with a piece of python code, and your task is to add comments and documentation strings to it.\n",
        "\n",
        "Add comments and documentation strings to the following function:\n",
        "{code}\"\"\"\n",
        "\n",
        "\n",
        "print(generate_response(prompt))"
      ]
    },
    {
      "cell_type": "code",
      "execution_count": null,
      "metadata": {
        "id": "LILta5HxUa9C"
      },
      "outputs": [],
      "source": []
    },
    {
      "cell_type": "code",
      "execution_count": null,
      "metadata": {
        "id": "7F5Eh3jWUa9C"
      },
      "outputs": [],
      "source": []
    },
    {
      "cell_type": "markdown",
      "source": [
        "## Thank You"
      ],
      "metadata": {
        "id": "Is3KP_pzFmIX"
      }
    }
  ],
  "metadata": {
    "colab": {
      "provenance": [],
      "include_colab_link": true
    },
    "kernelspec": {
      "display_name": "Python 3",
      "name": "python3"
    },
    "language_info": {
      "codemirror_mode": {
        "name": "ipython",
        "version": 3
      },
      "file_extension": ".py",
      "mimetype": "text/x-python",
      "name": "python",
      "nbconvert_exporter": "python",
      "pygments_lexer": "ipython3",
      "version": "3.10.9"
    }
  },
  "nbformat": 4,
  "nbformat_minor": 0
}