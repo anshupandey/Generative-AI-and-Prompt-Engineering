{
  "cells": [
    {
      "cell_type": "code",
      "execution_count": null,
      "metadata": {
        "colab": {
          "base_uri": "https://localhost:8080/"
        },
        "id": "7KQD1SXcnSYu",
        "outputId": "6c184b9d-16c0-4198-d969-bf5c620004a6"
      },
      "outputs": [
        {
          "name": "stdout",
          "output_type": "stream",
          "text": [
            "\u001b[2K     \u001b[90m━━━━━━━━━━━━━━━━━━━━━━━━━━━━━━━━━━━━━━━━\u001b[0m \u001b[32m76.5/76.5 kB\u001b[0m \u001b[31m1.4 MB/s\u001b[0m eta \u001b[36m0:00:00\u001b[0m\n",
            "\u001b[2K     \u001b[90m━━━━━━━━━━━━━━━━━━━━━━━━━━━━━━━━━━━━━━━━\u001b[0m \u001b[32m1.6/1.6 MB\u001b[0m \u001b[31m8.1 MB/s\u001b[0m eta \u001b[36m0:00:00\u001b[0m\n",
            "\u001b[?25h"
          ]
        }
      ],
      "source": [
        "!pip install openai --quiet\n",
        "!pip install ipython --quiet"
      ]
    },
    {
      "cell_type": "code",
      "execution_count": null,
      "metadata": {
        "id": "qP21QdTRno_A"
      },
      "outputs": [],
      "source": [
        "key = \"sk-kQRxxxxxxxxxxxxxxxxxxxxxxxxxc8Xhl0xj2ezY\"\n",
        "import openai\n",
        "import json\n",
        "import requests\n",
        "openai.api_key = key"
      ]
    },
    {
      "cell_type": "code",
      "execution_count": null,
      "metadata": {
        "id": "AAoRt2AvoCJ_"
      },
      "outputs": [],
      "source": [
        "# create a dummy function to respond temperature\n",
        "def get_current_weather(location, unit=\"fahrenheit\"):\n",
        "  \"This function can be used to fetch the current weather information when provided with details such as location and unit for temperature\"\n",
        "  weather_info = {\n",
        "      \"location\":location,\n",
        "      \"temperature\":\"125\",\n",
        "      \"unit\":unit,\n",
        "      \"forecast\":['sunny','windy']\n",
        "  }\n",
        "  return json.dumps(weather_info)"
      ]
    },
    {
      "cell_type": "code",
      "execution_count": null,
      "metadata": {
        "id": "FUAVQTH1FCob"
      },
      "outputs": [],
      "source": [
        "owm_api = \"714fc19dbcb1741906cf9c832b1fa4af\"\n",
        "\n",
        "# create a dummy function to respond temperature\n",
        "def get_current_weather(location, unit=\"fahrenheit\"):\n",
        "  \"This function can be used to fetch the current weather information when provided with details such as location and unit for temperature\"\n",
        "\n",
        "  url = f\"https://api.openweathermap.org/data/2.5/weather?q={location}&appid={owm_api}\"\n",
        "  response = requests.get(url)\n",
        "  temp = response.json()['main']['temp']\n",
        "  forecast = [response.json()['weather'][0]['main'],response.json()['weather'][0]['description']]\n",
        "\n",
        "  weather_info = {\n",
        "      \"location\":location,\n",
        "      \"temperature\":temp,\n",
        "      \"unit\":'Kelvin',\n",
        "      \"forecast\":forecast\n",
        "  }\n",
        "  return json.dumps(weather_info)"
      ]
    },
    {
      "cell_type": "code",
      "execution_count": null,
      "metadata": {
        "colab": {
          "base_uri": "https://localhost:8080/",
          "height": 35
        },
        "id": "zvpewsATGB30",
        "outputId": "3594ab83-0983-4525-cf0d-20ea4fa7abcc"
      },
      "outputs": [
        {
          "data": {
            "application/vnd.google.colaboratory.intrinsic+json": {
              "type": "string"
            },
            "text/plain": [
              "'{\"location\": \"Mumbai\", \"temperature\": 300.14, \"unit\": \"Kelvin\", \"forecast\": [\"Mist\", \"mist\"]}'"
            ]
          },
          "execution_count": 19,
          "metadata": {},
          "output_type": "execute_result"
        }
      ],
      "source": [
        "get_current_weather(\"Mumbai\")"
      ]
    },
    {
      "cell_type": "code",
      "execution_count": null,
      "metadata": {
        "id": "GSSkDmeiokTL"
      },
      "outputs": [],
      "source": [
        "def chatbot(prompt):\n",
        "  messages = [{\"role\":\"user\",\"content\":prompt}]\n",
        "\n",
        "  functions = [{\n",
        "      \"name\":\"get_current_weather\",\n",
        "      \"description\":\"This function can be used to fetch the current weather information when provided with details such as location and unit for temperature\",\n",
        "      \"parameters\":{\n",
        "          \"type\":\"object\",\n",
        "          \"properties\":{\n",
        "              \"location\":{\"type\":\"string\"},\n",
        "              \"unit\": {\"type\":\"string\",\"enum\":[\"celsius\",\"fahrenheit\"]},\n",
        "          },\n",
        "          \"required\":[\"location\"],\n",
        "      },\n",
        "  }]\n",
        "\n",
        "  response = openai.ChatCompletion.create(\n",
        "      model = \"gpt-3.5-turbo\",\n",
        "      messages = messages,\n",
        "      temperature=0.0,\n",
        "      max_tokens=200,\n",
        "      functions = functions,\n",
        "      function_call=\"auto\"\n",
        "  )\n",
        "\n",
        "  # extracting response from openAI API\n",
        "  response_message = response.choices[0]['message']\n",
        "  #print(response_message)\n",
        "\n",
        "  try:\n",
        "\n",
        "    if response_message.get(\"function_call\"):\n",
        "      # get available functions\n",
        "      available_functions = {\n",
        "          \"get_current_weather\":get_current_weather,\n",
        "      }\n",
        "\n",
        "      # get details to call the function\n",
        "      func_name = response_message['function_call']['name']\n",
        "      func_to_call = available_functions[func_name]\n",
        "      func_args = json.loads(response_message['function_call']['arguments'])\n",
        "\n",
        "      # call the external api by calling the function\n",
        "      func_response = func_to_call(location=func_args.get(\"location\"))\n",
        "\n",
        "      # again make a call to openai api to communicate results from external function/API\n",
        "      messages.append(response_message)\n",
        "      messages.append(\n",
        "          {\"role\":\"function\",\n",
        "          \"name\":func_name,\n",
        "          \"content\":func_response}\n",
        "      )\n",
        "\n",
        "      second_response = openai.ChatCompletion.create(\n",
        "      model = \"gpt-3.5-turbo\",\n",
        "      messages = messages)\n",
        "      return second_response\n",
        "  except Exception as e:\n",
        "      print(\"Error occurred \",e)\n",
        "  return response_message"
      ]
    },
    {
      "cell_type": "code",
      "execution_count": null,
      "metadata": {
        "colab": {
          "base_uri": "https://localhost:8080/"
        },
        "id": "LfFrw3yYrYlH",
        "outputId": "dee22d29-8bc2-43ac-8d98-a42a9e319eb7"
      },
      "outputs": [
        {
          "data": {
            "text/plain": [
              "<OpenAIObject chat.completion id=chatcmpl-80fvr2UAnaLTJqwrs1Bh59tLTWBJN at 0x7c5a43746ca0> JSON: {\n",
              "  \"id\": \"chatcmpl-80fvr2UAnaLTJqwrs1Bh59tLTWBJN\",\n",
              "  \"object\": \"chat.completion\",\n",
              "  \"created\": 1695171879,\n",
              "  \"model\": \"gpt-3.5-turbo-0613\",\n",
              "  \"choices\": [\n",
              "    {\n",
              "      \"index\": 0,\n",
              "      \"message\": {\n",
              "        \"role\": \"assistant\",\n",
              "        \"content\": \"The current weather in Berlin is clear with a temperature of 288.58 Kelvin.\"\n",
              "      },\n",
              "      \"finish_reason\": \"stop\"\n",
              "    }\n",
              "  ],\n",
              "  \"usage\": {\n",
              "    \"prompt_tokens\": 71,\n",
              "    \"completion_tokens\": 17,\n",
              "    \"total_tokens\": 88\n",
              "  }\n",
              "}"
            ]
          },
          "execution_count": 21,
          "metadata": {},
          "output_type": "execute_result"
        }
      ],
      "source": [
        "chatbot(\"What is the weather in Berlin today?\")"
      ]
    },
    {
      "cell_type": "code",
      "execution_count": null,
      "metadata": {
        "colab": {
          "base_uri": "https://localhost:8080/"
        },
        "id": "ATlQF57Cre8v",
        "outputId": "48524b64-9832-4fb0-b1d8-611fea5541b3"
      },
      "outputs": [
        {
          "data": {
            "text/plain": [
              "<OpenAIObject at 0x7c5a43785d50> JSON: {\n",
              "  \"role\": \"assistant\",\n",
              "  \"content\": \"Sure, here's a joke for you:\\n\\nWhy don't scientists trust atoms?\\n\\nBecause they make up everything!\"\n",
              "}"
            ]
          },
          "execution_count": 22,
          "metadata": {},
          "output_type": "execute_result"
        }
      ],
      "source": [
        "chatbot(\"Tell me a joke\")"
      ]
    },
    {
      "cell_type": "code",
      "execution_count": null,
      "metadata": {
        "colab": {
          "base_uri": "https://localhost:8080/"
        },
        "id": "lTb_CD6br8Qx",
        "outputId": "076d0fbc-941b-4dde-b490-a3e3c820475b"
      },
      "outputs": [
        {
          "data": {
            "text/plain": [
              "<OpenAIObject chat.completion id=chatcmpl-80fwATG1WD7LgHmj8uY9fiZ922fYa at 0x7c5a437015d0> JSON: {\n",
              "  \"id\": \"chatcmpl-80fwATG1WD7LgHmj8uY9fiZ922fYa\",\n",
              "  \"object\": \"chat.completion\",\n",
              "  \"created\": 1695171898,\n",
              "  \"model\": \"gpt-3.5-turbo-0613\",\n",
              "  \"choices\": [\n",
              "    {\n",
              "      \"index\": 0,\n",
              "      \"message\": {\n",
              "        \"role\": \"assistant\",\n",
              "        \"content\": \"The weather in Manila today is partly cloudy with scattered clouds. The temperature is approximately 303.49 Kelvin.\"\n",
              "      },\n",
              "      \"finish_reason\": \"stop\"\n",
              "    }\n",
              "  ],\n",
              "  \"usage\": {\n",
              "    \"prompt_tokens\": 75,\n",
              "    \"completion_tokens\": 22,\n",
              "    \"total_tokens\": 97\n",
              "  }\n",
              "}"
            ]
          },
          "execution_count": 23,
          "metadata": {},
          "output_type": "execute_result"
        }
      ],
      "source": [
        "chatbot(\"What is the weather in Manila today?\")"
      ]
    },
    {
      "cell_type": "code",
      "execution_count": null,
      "metadata": {
        "id": "Cp6RiF-Eud6X"
      },
      "outputs": [],
      "source": []
    }
  ],
  "metadata": {
    "colab": {
      "provenance": []
    },
    "kernelspec": {
      "display_name": "Python 3",
      "name": "python3"
    },
    "language_info": {
      "name": "python"
    }
  },
  "nbformat": 4,
  "nbformat_minor": 0
}
