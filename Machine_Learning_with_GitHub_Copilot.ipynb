{
  "cells": [
    {
      "cell_type": "markdown",
      "metadata": {
        "id": "view-in-github",
        "colab_type": "text"
      },
      "source": [
        "<a href=\"https://colab.research.google.com/github/anshupandey/Generative-AI-and-Prompt-Engineering/blob/main/Machine_Learning_with_GitHub_Copilot.ipynb\" target=\"_parent\"><img src=\"https://colab.research.google.com/assets/colab-badge.svg\" alt=\"Open In Colab\"/></a>"
      ]
    },
    {
      "cell_type": "markdown",
      "source": [
        "# Machine Learning with GitHub Copilot"
      ],
      "metadata": {
        "id": "H5uL36zZNCag"
      }
    },
    {
      "cell_type": "markdown",
      "source": [
        "## Instructions to Acquire GitHub Copilot Access\n",
        "\n",
        "GitHub Copilot is an AI-powered coding assistant that helps you write better code faster. To use GitHub Copilot for free, you can request access to the trial.\n",
        "\n",
        "To apply for access to the trial go to the GitHub Copilot website (https://copilot.github.com )  and follow the instructions. Once you have been granted access to the trial, you can install the GitHub Copilot extension (https://aka.ms/get-copilot) and the GitHub Copilot Labs extension (https://marketplace.visualstudio.com/items?itemName=GitHub.copilot-labs ) in VSCode.\n",
        "\n",
        "GitHub Copilot is free for verified students and teachers. To apply for the free student and teacher plan, go to the GitHub Education website and follow the instructions."
      ],
      "metadata": {
        "id": "NT9YG7GpMRDT"
      }
    },
    {
      "cell_type": "markdown",
      "metadata": {
        "id": "zKSWJAHoL5Ml"
      },
      "source": [
        "## Machine Learning Fundamentals\n",
        "\n",
        "By using the provided questions, we can leverage GitHub Copilot's assistance in answering (and learning) the topic at hand. Pressing `ENTER` at the end of each question, followed by pressing the `Tab` key once the CoPilot suggestion pops up, will carry out the demo as shown in the videos."
      ]
    },
    {
      "cell_type": "code",
      "execution_count": null,
      "metadata": {
        "id": "ttMe7BIgL5Mp"
      },
      "outputs": [],
      "source": [
        "# q: What is Machine Learning?"
      ]
    },
    {
      "cell_type": "markdown",
      "metadata": {
        "id": "M1qovacKL5Ms"
      },
      "source": [
        "### Supervised Learning"
      ]
    },
    {
      "cell_type": "code",
      "execution_count": null,
      "metadata": {
        "id": "Ph_MJRyHL5Mt"
      },
      "outputs": [],
      "source": [
        "# q: What is Supervised Learning?"
      ]
    },
    {
      "cell_type": "code",
      "execution_count": null,
      "metadata": {
        "id": "bRuiP1FUL5Mt"
      },
      "outputs": [],
      "source": [
        "# q: What are examples of Supervised Learning?"
      ]
    },
    {
      "cell_type": "markdown",
      "metadata": {
        "id": "yBZ8xqVrL5Mt"
      },
      "source": [
        "### Training a model"
      ]
    },
    {
      "cell_type": "code",
      "execution_count": null,
      "metadata": {
        "id": "_mm8MVNLL5Mu"
      },
      "outputs": [],
      "source": [
        "# q: What is a Label and a Feature?"
      ]
    },
    {
      "cell_type": "code",
      "execution_count": null,
      "metadata": {
        "id": "6wnGFxN_L5Mu"
      },
      "outputs": [],
      "source": [
        "# q: What is a training and a test set?"
      ]
    },
    {
      "cell_type": "markdown",
      "metadata": {
        "id": "uq3AUSOuL5Mv"
      },
      "source": [
        "### Evaluating a model"
      ]
    },
    {
      "cell_type": "code",
      "execution_count": null,
      "metadata": {
        "id": "GS_0QHUVL5Mv"
      },
      "outputs": [],
      "source": [
        "# q: What does it mean to evaluate a model?"
      ]
    },
    {
      "cell_type": "markdown",
      "metadata": {
        "id": "ya-tBe6sMPov"
      },
      "source": [
        "# Classification in Python with GitHub Copilot\n",
        "\n",
        "To run and replicate this demo, leverage Copilot's assistance by pressing the `ENTER` key after each comment, followed by `Tab` when the Copilot suggestion appears on the screen. Once the cells are complete, just run them in order."
      ]
    },
    {
      "cell_type": "code",
      "execution_count": null,
      "metadata": {
        "id": "C_dIA8fPMPo2"
      },
      "outputs": [],
      "source": [
        "import pandas as pd\n",
        "url = \"https://raw.githubusercontent.com/MicrosoftDocs/mslearn-introduction-to-machine-learning/main/Data/ml-basics/penguins.csv\"\n",
        "df = pd.read_csv(url)"
      ]
    },
    {
      "cell_type": "code",
      "execution_count": null,
      "metadata": {
        "id": "bb_y5yJJMPo7"
      },
      "outputs": [],
      "source": [
        "# printing the first 5 rows of the dataset"
      ]
    },
    {
      "cell_type": "code",
      "execution_count": null,
      "metadata": {
        "id": "fuxhTIE_MPo8"
      },
      "outputs": [],
      "source": [
        "# Let's visualize the distribution of the penguins species with a bar plot in matplotlib"
      ]
    },
    {
      "cell_type": "code",
      "execution_count": null,
      "metadata": {
        "id": "PtEytYX1MPo9"
      },
      "outputs": [],
      "source": [
        "# Let's visualize with boxplots how the FlipperLength, CulmenLength and CulmenDepth are distributed for each species\n",
        "# importing seaborn"
      ]
    },
    {
      "cell_type": "code",
      "execution_count": null,
      "metadata": {
        "id": "ti4GiaCnMPo9"
      },
      "outputs": [],
      "source": [
        "# Show rows with missing values"
      ]
    },
    {
      "cell_type": "code",
      "execution_count": null,
      "metadata": {
        "id": "z4scfBxSMPo-"
      },
      "outputs": [],
      "source": [
        "# Drop rows with missing values"
      ]
    },
    {
      "cell_type": "code",
      "execution_count": null,
      "metadata": {
        "id": "lKDWNpFkMPpA"
      },
      "outputs": [],
      "source": [
        "# Let's prepare for training:\n",
        "# 1. Split the data into features and labels\n",
        "# 2. Split the data into training and test sets\n",
        "\n",
        "# Split the data into features and labels\n",
        "# features are CulmenLength, CulmenDepth, FlipperLength\n",
        "# labels are Species"
      ]
    },
    {
      "cell_type": "code",
      "execution_count": null,
      "metadata": {
        "id": "WQPxJz2CMPpB"
      },
      "outputs": [],
      "source": [
        "# Split the data into training and test sets in a way to have 30% of the data for testing"
      ]
    },
    {
      "cell_type": "code",
      "execution_count": null,
      "metadata": {
        "id": "FwAHP4INMPpC"
      },
      "outputs": [],
      "source": [
        "# Let's train a Logistic Regression model\n",
        "# 1. Create a multiclass Logistic Regression model\n",
        "# 2. Train the model\n",
        "\n",
        "# Create a multiclass Logistic Regression model"
      ]
    },
    {
      "cell_type": "code",
      "execution_count": null,
      "metadata": {
        "id": "r2eThl8bMPpF"
      },
      "outputs": [],
      "source": [
        "# Let's evaluate the model\n",
        "# 1. Predict the labels of the test set\n",
        "# 2. Calculate the accuracy of the model\n"
      ]
    },
    {
      "cell_type": "markdown",
      "source": [
        "# Thank You"
      ],
      "metadata": {
        "id": "8ZqsqiXBNGHK"
      }
    }
  ],
  "metadata": {
    "kernelspec": {
      "display_name": "venv",
      "language": "python",
      "name": "python3"
    },
    "language_info": {
      "codemirror_mode": {
        "name": "ipython",
        "version": 3
      },
      "file_extension": ".py",
      "mimetype": "text/x-python",
      "name": "python",
      "nbconvert_exporter": "python",
      "pygments_lexer": "ipython3",
      "version": "3.8.16"
    },
    "orig_nbformat": 4,
    "colab": {
      "provenance": [],
      "include_colab_link": true
    }
  },
  "nbformat": 4,
  "nbformat_minor": 0
}