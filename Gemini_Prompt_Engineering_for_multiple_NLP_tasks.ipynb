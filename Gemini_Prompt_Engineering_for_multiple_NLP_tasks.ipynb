{
  "cells": [
    {
      "cell_type": "markdown",
      "metadata": {
        "id": "view-in-github",
        "colab_type": "text"
      },
      "source": [
        "<a href=\"https://colab.research.google.com/github/anshupandey/Generative-AI-and-Prompt-Engineering/blob/main/Gemini_Prompt_Engineering_for_multiple_NLP_tasks.ipynb\" target=\"_parent\"><img src=\"https://colab.research.google.com/assets/colab-badge.svg\" alt=\"Open In Colab\"/></a>"
      ]
    },
    {
      "cell_type": "markdown",
      "source": [
        "# Prompt Engineering for mulitple NLP Tasks"
      ],
      "metadata": {
        "id": "apOVw7TjD2O8"
      }
    },
    {
      "cell_type": "markdown",
      "metadata": {
        "id": "No17Cw5hgx12"
      },
      "source": [
        "### Install Vertex AI SDK for Python\n"
      ]
    },
    {
      "cell_type": "code",
      "execution_count": 1,
      "metadata": {
        "id": "tFy3H3aPgx12",
        "outputId": "e7812a2a-be8b-4f23-a79d-72da98e8609a",
        "colab": {
          "base_uri": "https://localhost:8080/"
        }
      },
      "outputs": [
        {
          "output_type": "stream",
          "name": "stdout",
          "text": [
            "\u001b[2K     \u001b[90m━━━━━━━━━━━━━━━━━━━━━━━━━━━━━━━━━━━━━━━━\u001b[0m \u001b[32m5.1/5.1 MB\u001b[0m \u001b[31m14.0 MB/s\u001b[0m eta \u001b[36m0:00:00\u001b[0m\n",
            "\u001b[?25h\u001b[33m  WARNING: The script tb-gcp-uploader is installed in '/root/.local/bin' which is not on PATH.\n",
            "  Consider adding this directory to PATH or, if you prefer to suppress this warning, use --no-warn-script-location.\u001b[0m\u001b[33m\n",
            "\u001b[0m"
          ]
        }
      ],
      "source": [
        "! pip3 install --upgrade --user --quiet google-cloud-aiplatform"
      ]
    },
    {
      "cell_type": "markdown",
      "metadata": {
        "id": "dmWOrTJ3gx13"
      },
      "source": [
        "### Authenticate your notebook environment (Colab only)\n",
        "\n",
        "If you are running this notebook on Google Colab, run the cell below to authenticate your environment.\n"
      ]
    },
    {
      "cell_type": "code",
      "execution_count": 2,
      "metadata": {
        "id": "NyKGtVQjgx13"
      },
      "outputs": [],
      "source": [
        "import sys\n",
        "\n",
        "if \"google.colab\" in sys.modules:\n",
        "    from google.colab import auth\n",
        "    auth.authenticate_user()"
      ]
    },
    {
      "cell_type": "markdown",
      "metadata": {
        "id": "DF4l8DTdWgPY"
      },
      "source": [
        "### Set Google Cloud project information and initialize Vertex AI SDK\n",
        "\n",
        "To get started using Vertex AI, you must have an existing Google Cloud project and [enable the Vertex AI API](https://console.cloud.google.com/flows/enableapi?apiid=aiplatform.googleapis.com).\n",
        "\n",
        "Learn more about [setting up a project and a development environment](https://cloud.google.com/vertex-ai/docs/start/cloud-environment)."
      ]
    },
    {
      "cell_type": "code",
      "execution_count": 13,
      "metadata": {
        "id": "Nqwi-5ufWp_B"
      },
      "outputs": [],
      "source": [
        "PROJECT_ID = \"jrproject-402905\"  # @param {type:\"string\"}\n",
        "LOCATION = \"us-central1\"  # @param {type:\"string\"}\n",
        "MODEL_ID = \"gemini-1.5-flash-001\"  # @param {type:\"string\"}\n",
        "import vertexai\n",
        "vertexai.init(project=PROJECT_ID, location=LOCATION)"
      ]
    },
    {
      "cell_type": "code",
      "execution_count": 14,
      "metadata": {
        "id": "lslYAvw37JGQ"
      },
      "outputs": [],
      "source": [
        "from vertexai.generative_models import GenerationConfig, GenerativeModel\n",
        "# load the model\n",
        "model = GenerativeModel(MODEL_ID, system_instruction=[ \"You are a helpful assistant.\",\"Your answer questions in a concise way\",],)\n",
        "\n",
        "# Set model parameters\n",
        "generation_config = GenerationConfig( temperature=0.9, top_k=32,)\n",
        "\n",
        "def generate_response(prompt,model=model):\n",
        "  contents = [prompt]\n",
        "  response = model.generate_content(contents, generation_config=generation_config,)\n",
        "  return response.text"
      ]
    },
    {
      "cell_type": "markdown",
      "metadata": {
        "id": "uLiyOECFIfFL"
      },
      "source": [
        "## Prompt Engineering for Inferense and prediction with Gemini 1.5 Flash"
      ]
    },
    {
      "cell_type": "code",
      "execution_count": 15,
      "metadata": {
        "id": "DDTd9S_KIlZf"
      },
      "outputs": [],
      "source": [
        "review = \"\"\"\n",
        "The HP Envy x360 15 is a premium convertible laptop that offers a perfect blend of performance, portability, and versatility. It's powered by up to an Intel Core i7-13800H processor, 32GB of RAM, and a 1TB SSD, making it a powerhouse that can handle any task you throw at it, from demanding productivity workloads to intensive creative projects and AAA gaming.\n",
        "The Envy x360 15 also features a stunning 15.6-inch touchscreen display with a resolution of 1920x1080 pixels. The display is bright, sharp, and color-accurate, making it ideal for watching movies, editing photos and videos, or simply browsing the web.\n",
        "Thanks to its convertible design, the Envy x360 15 can be used in a variety of different modes, including laptop mode, tablet mode, tent mode, and stand mode. This makes it ideal for students, professionals, and creatives who need a laptop that can adapt to their changing needs.\n",
        "The Envy x360 15 also comes with a number of other premium features, including a backlit keyboard, a fingerprint sensor, a webcam with privacy shutter, Bang & Olufsen speakers, and a variety of ports, including Thunderbolt 4, USB-C, and HDMI.\n",
        "Overall, the HP Envy x360 15 is a fantastic convertible laptop that offers a great combination of performance, portability, versatility, and features. If you're looking for a premium convertible laptop that can do it all, the Envy x360 15 is a great choice.\n",
        "\"\"\"\n"
      ]
    },
    {
      "cell_type": "markdown",
      "metadata": {
        "id": "ENZHEK_9Je3r"
      },
      "source": [
        "### Sentiment Analysis"
      ]
    },
    {
      "cell_type": "code",
      "execution_count": 16,
      "metadata": {
        "colab": {
          "base_uri": "https://localhost:8080/"
        },
        "id": "SVT2oDbYJhQW",
        "outputId": "0c2f9825-7e0d-497e-cf72-a0fbf828e1fa"
      },
      "outputs": [
        {
          "output_type": "stream",
          "name": "stdout",
          "text": [
            "Positive \n",
            "\n"
          ]
        }
      ],
      "source": [
        "prompt = f\"\"\"What is the senitment for the below review delimited by triple backticks:\n",
        "Review: ```{review}```\n",
        "\"\"\"\n",
        "\n",
        "response = generate_response(prompt)\n",
        "print(response)"
      ]
    },
    {
      "cell_type": "code",
      "execution_count": 17,
      "metadata": {
        "colab": {
          "base_uri": "https://localhost:8080/"
        },
        "id": "f_HbKtK7JrSl",
        "outputId": "e88a072c-b17a-4a3e-8ba6-7fafaa272678"
      },
      "outputs": [
        {
          "output_type": "stream",
          "name": "stdout",
          "text": [
            "Positive \n",
            "\n"
          ]
        }
      ],
      "source": [
        "prompt = f\"\"\" What is the senitment for the below review delimited by triple backticks.\n",
        "\n",
        "Provide the output as a single word e.g. 'Positive' or 'Negative'\n",
        "\n",
        "Review: ```{review}```\n",
        "\"\"\"\n",
        "\n",
        "response = generate_response(prompt)\n",
        "print(response)"
      ]
    },
    {
      "cell_type": "markdown",
      "metadata": {
        "id": "Py8KMLpaKzeT"
      },
      "source": [
        "### Extracting emotions"
      ]
    },
    {
      "cell_type": "code",
      "execution_count": 18,
      "metadata": {
        "colab": {
          "base_uri": "https://localhost:8080/"
        },
        "id": "pTU84XGCKIkn",
        "outputId": "0554e0a0-cba8-4614-93bb-b44bef0557d1"
      },
      "outputs": [
        {
          "output_type": "stream",
          "name": "stdout",
          "text": [
            "```\n",
            "admiration, excitement, satisfaction, joy\n",
            "```\n"
          ]
        }
      ],
      "source": [
        "\n",
        "prompt = f\"\"\"\n",
        "Identify a list of emotions the user is expressing while writing the below reivew separated by triple backticks.\n",
        "Provide output as a list of emotions in lowercase separated by comma.\n",
        "Review: ```{review}```\n",
        "\"\"\"\n",
        "\n",
        "response = generate_response(prompt)\n",
        "print(response)"
      ]
    },
    {
      "cell_type": "code",
      "source": [
        "\n",
        "prompt = f\"\"\"\n",
        "Identify a list of emotions the user is expressing while writing the below reivew separated by triple backticks.\n",
        "Provide output as a list of emotions in lowercase separated by comma.\n",
        "For each emotion, also provide an approximated probability score representing the confidence in the prediction. each emotion and its score can be in JSON\n",
        "Review: ```{review}```\n",
        "\"\"\"\n",
        "\n",
        "response = generate_response(prompt)\n",
        "print(response)"
      ],
      "metadata": {
        "id": "VHO5hcF3hXj9",
        "outputId": "b6892a4c-f730-4481-d887-08beca9aaa91",
        "colab": {
          "base_uri": "https://localhost:8080/"
        }
      },
      "execution_count": 19,
      "outputs": [
        {
          "output_type": "stream",
          "name": "stdout",
          "text": [
            "```\n",
            "{\"positive\": 0.9}, {\"enthusiastic\": 0.8}, {\"impressed\": 0.7}, {\"satisfied\": 0.6}\n",
            "```\n"
          ]
        }
      ]
    },
    {
      "cell_type": "markdown",
      "metadata": {
        "id": "swDLa36uK0vV"
      },
      "source": [
        "### Identifying anger"
      ]
    },
    {
      "cell_type": "code",
      "execution_count": 21,
      "metadata": {
        "colab": {
          "base_uri": "https://localhost:8080/"
        },
        "id": "E7EVWQdzKlip",
        "outputId": "2c2f1941-f5cf-4a41-8879-7519b2608cd3"
      },
      "outputs": [
        {
          "output_type": "stream",
          "name": "stdout",
          "text": [
            "no \n",
            "\n"
          ]
        }
      ],
      "source": [
        "\n",
        "prompt = f\"\"\"\n",
        "Whether the user is expresssing anger or not in the below reivew separated by triple backticks.\n",
        "Provide output as yes or no\n",
        "Review: ```{review}```\n",
        "\"\"\"\n",
        "\n",
        "response = generate_response(prompt)\n",
        "print(response)"
      ]
    },
    {
      "cell_type": "markdown",
      "metadata": {
        "id": "bT14kM8PLOE0"
      },
      "source": [
        "### Entity Extraction"
      ]
    },
    {
      "cell_type": "code",
      "execution_count": 22,
      "metadata": {
        "colab": {
          "base_uri": "https://localhost:8080/"
        },
        "id": "PsCg0bm8K-56",
        "outputId": "732a759b-eaab-457c-becf-e793d3ddd0b2"
      },
      "outputs": [
        {
          "output_type": "stream",
          "name": "stdout",
          "text": [
            "```json\n",
            "{\"item\": \"HP Envy x360 15\", \"brand\": \"HP\"}\n",
            "```\n"
          ]
        }
      ],
      "source": [
        "\n",
        "prompt = f\"\"\"\n",
        "Identify the key entities given below from the provided review separated by triple backticks.\n",
        "1. Name of Product mentioned in the review\n",
        "2. Name of company that made the item\n",
        "\n",
        "\n",
        "Provide output as a JSON value, use keys such as 'item' and 'brand'. if the entities are not present, use the word 'unknown' for the value of respective key.\n",
        "keep the result as short as possible.\n",
        "Review: ```{review}```\n",
        "\"\"\"\n",
        "\n",
        "response = generate_response(prompt)\n",
        "print(response)"
      ]
    },
    {
      "cell_type": "markdown",
      "metadata": {
        "id": "tZhJV_XkUH2w"
      },
      "source": [
        "### Asking for mulitple info at once"
      ]
    },
    {
      "cell_type": "code",
      "execution_count": 23,
      "metadata": {
        "colab": {
          "base_uri": "https://localhost:8080/"
        },
        "id": "8ZsGoO9DL5my",
        "outputId": "e4a8976a-6e1a-483c-f83c-297f6ab5f436"
      },
      "outputs": [
        {
          "output_type": "stream",
          "name": "stdout",
          "text": [
            "```json\n",
            "{\"sentiment\": \"positive\", \"anger\": \"no\", \"emotions\": [\"happy\", \"excited\"], \"item\": \"HP Envy x360 15\", \"brand\": \"HP\"}\n",
            "```\n"
          ]
        }
      ],
      "source": [
        "\n",
        "prompt = f\"\"\"\n",
        "Identify items given below from the provided review separated by triple backticks.\n",
        "1. Sentiment (positive/negative)\n",
        "2. Is user expressing anger (yes/no)\n",
        "3. A list of emotions user is expressing while writing review (lowercase, comma separated, in a list [ ])\n",
        "4. Item purchased by the user\n",
        "5. Name of company that made the item\n",
        "\n",
        "\n",
        "Provide output as a JSON value, use keys such as 'sentiment','anger','emotions','item' and 'brand'. if the entities are not present, use the word 'unknown' for the value of respective key.\n",
        "keep the result as short as possible.\n",
        "Review: ```{review}```\n",
        "\"\"\"\n",
        "\n",
        "response = generate_response(prompt)\n",
        "print(response)"
      ]
    },
    {
      "cell_type": "markdown",
      "metadata": {
        "id": "it-kYeuPUKsg"
      },
      "source": [
        "### Topic Extraction"
      ]
    },
    {
      "cell_type": "code",
      "execution_count": 24,
      "metadata": {
        "id": "o44-M3aZT62n"
      },
      "outputs": [],
      "source": [
        "article = \"\"\"\n",
        "Israeli Prime Minister Benjamin Netanyahu urged Elon Musk to strike a balance between protecting free expression and fighting hate speech at a meeting on Monday after weeks of controversy over antisemitic content on Mr. Musk's social media platform X.\n",
        "Earlier this month, Mr. Musk attacked the Anti-Defamation League, accusing the nonprofit that works to fight antisemitism of primarily causing a 60% decrease in U.S. ad revenue at X, without providing evidence.\n",
        "Mr. Musk bought the platform, then known as Twitter, in October.\n",
        "Mr. Musk previously joined a conversation on X with the hashtag #BantheADL, engaging with users who expressed white supremacist views, and asked followers whether he should poll the platform about banning the ADL.\n",
        "\"I hope you find within the confines of the First Amendment, the ability to not only stop antisemitism... but any collective hatred of a people,\" Mr. Netanyahu said during the meeting that was broadcast live on X from Tesla's factory in Fremont, California.\n",
        "\"I know you're committed to that... but I encourage and urge you to find a balance,\" Mr. Netanyahu said.\n",
        "Mr. Musk responded by saying he was against antisemitism and against anything that \"promotes hate and conflict,\" repeating his previous statements that X would not promote hate speech.\n",
        "Mr. Musk has said X should be a platform for people to post diverse viewpoints, but the company will limit the distribution of certain posts that may violate its policies, calling the approach \"freedom of speech, not reach.\"\n",
        "The billionaire, who also runs Tesla and SpaceX, noted that he received more pushback from Tesla employees about the meeting with Mr. Netanyahu than \"anything else I've ever done.\"\n",
        "Mr. Netanyahu and his nationalist-religious coalition are trying to limit some of the Israeli Supreme Court's powers, arguing it is necessary to prevent political overreach by unelected judges.\n",
        "Opponents say the changes could encourage corruption and abuses of power by removing effective oversight, and the issue has split Israeli society and raised concerns over Israel's democratic health.\n",
        "About 200 people protesting the judicial overhaul gathered outside Tesla's California factory, where the event was held.\n",
        "Mr. Musk and Mr. Netanyahu also discussed how to harness the benefits of the rapid advancement of artificial intelligence, while limiting the risks to society, a concern Mr. Musk and others in the tech industry have raised in recent months.\n",
        "\"We stand today at a juncture for all humanity, where we have to choose between a blessing and a curse,\" Mr. Netanyahu said, adding that AI could advance medicine but lead to risks like disrupting democracy.\n",
        "Israel is considered a world-leader in AI, thanks to burgeoning computing and robotics industries that draw on talent developed in the technologically advanced conscript military.\n",
        "Foreign investment in Israeli tech startups has plunged in the last year, partly due to a global slowdown and exacerbated by investor fears that the push to trim the Supreme Court's powers would remove a key check and balance.\n",
        "\"\"\""
      ]
    },
    {
      "cell_type": "code",
      "execution_count": 25,
      "metadata": {
        "colab": {
          "base_uri": "https://localhost:8080/"
        },
        "id": "fNXW7OvvU4ci",
        "outputId": "560a1ac3-8a10-45b7-ffda-f7de408d5987"
      },
      "outputs": [
        {
          "output_type": "stream",
          "name": "stdout",
          "text": [
            "free speech, hate speech, antisemitism, ai, judicial reform \n",
            "\n"
          ]
        }
      ],
      "source": [
        "\n",
        "prompt = f\"\"\"\n",
        "Identify the 5 key topics which are being discussed in the below reivew separated by triple backticks.\n",
        "Make each item no longer than one or two words.\n",
        "\n",
        "Provide output list of topics, lowercase, comma separated\n",
        "Review: ```{article}```\n",
        "\"\"\"\n",
        "\n",
        "response = generate_response(prompt)\n",
        "print(response)"
      ]
    },
    {
      "cell_type": "markdown",
      "metadata": {
        "id": "gi-IhWDyVavb"
      },
      "source": [
        "### Language Translation"
      ]
    },
    {
      "cell_type": "code",
      "execution_count": 26,
      "metadata": {
        "colab": {
          "base_uri": "https://localhost:8080/"
        },
        "id": "lqzlvNLkVPjG",
        "outputId": "50b2d82e-7e40-4cd9-dd4b-adcc2ae728d9"
      },
      "outputs": [
        {
          "output_type": "stream",
          "name": "stdout",
          "text": [
            "```\n",
            "Halo, Apa kabar?\n",
            "```\n"
          ]
        }
      ],
      "source": [
        "\n",
        "prompt = f\"\"\"\n",
        "Translate below text into indonesian separated by triple backticks.\n",
        "Text: ```Hello, How are you?```\n",
        "\"\"\"\n",
        "\n",
        "response = generate_response(prompt)\n",
        "print(response)"
      ]
    },
    {
      "cell_type": "code",
      "execution_count": 27,
      "metadata": {
        "colab": {
          "base_uri": "https://localhost:8080/"
        },
        "id": "bVfG0IsVVrgA",
        "outputId": "fa55734c-ecb0-48d9-95b5-f242871d5a84"
      },
      "outputs": [
        {
          "output_type": "stream",
          "name": "stdout",
          "text": [
            "```\n",
            "Bonjour, comment vas-tu ?\n",
            "```\n"
          ]
        }
      ],
      "source": [
        "\n",
        "prompt = f\"\"\"\n",
        "Translate below text into french separated by triple backticks.\n",
        "Text: ```Hello, How are you?```\n",
        "\"\"\"\n",
        "\n",
        "response = generate_response(prompt)\n",
        "print(response)"
      ]
    },
    {
      "cell_type": "code",
      "execution_count": 28,
      "metadata": {
        "colab": {
          "base_uri": "https://localhost:8080/"
        },
        "id": "jz0GVTVsVv1F",
        "outputId": "fba6a615-eb5c-4b83-eecc-0879863980bf"
      },
      "outputs": [
        {
          "output_type": "stream",
          "name": "stdout",
          "text": [
            "Indonesian \n",
            "\n"
          ]
        }
      ],
      "source": [
        "\n",
        "prompt = f\"\"\"\n",
        "Identify the language for the text separated by triple backticks.\n",
        "Text: ```Terima Kasih```\n",
        "\"\"\"\n",
        "\n",
        "response = generate_response(prompt)\n",
        "print(response)"
      ]
    },
    {
      "cell_type": "code",
      "execution_count": 29,
      "metadata": {
        "colab": {
          "base_uri": "https://localhost:8080/"
        },
        "id": "0AbYP_jZV416",
        "outputId": "cbe73f20-8815-4438-ca82-8331c4e3515f"
      },
      "outputs": [
        {
          "output_type": "stream",
          "name": "stdout",
          "text": [
            "```\n",
            "Bonjour, comment allez-vous ?\n",
            "```\n",
            "\n",
            "```\n",
            "नमस्ते, आप कैसे हैं?\n",
            "```\n",
            "\n",
            "```\n",
            "مرحبا، كيف حالك؟\n",
            "``` \n",
            "\n"
          ]
        }
      ],
      "source": [
        "\n",
        "prompt = f\"\"\"\n",
        "Translate below text into french, hindi and arabic separated by triple backticks.\n",
        "Text: ```Hello, How are you?```\n",
        "\"\"\"\n",
        "\n",
        "response = generate_response(prompt)\n",
        "print(response)"
      ]
    },
    {
      "cell_type": "code",
      "execution_count": 31,
      "metadata": {
        "id": "A-sF3VyOWBwu",
        "outputId": "3169f14a-c2d6-45dc-9f7c-a9ec3bdc8f06",
        "colab": {
          "base_uri": "https://localhost:8080/"
        }
      },
      "outputs": [
        {
          "output_type": "stream",
          "name": "stdout",
          "text": [
            "## Translations:\n",
            "\n",
            "**Filipino:**  \"Kumusta ka?\"\n",
            "\n",
            "**Arabic:** \"مرحبا، كيف حالك؟\" (Marhaba, kayf halik?) \n",
            "\n"
          ]
        }
      ],
      "source": [
        "\n",
        "prompt = \"\"\"\n",
        "\n",
        "Translate below text\n",
        "Text: \"Hello, How are you?\"\n",
        "Target Language: \"Filipino\",\"Arabic\"\n",
        "\n",
        "\"\"\"\n",
        "\n",
        "response = generate_response(prompt)\n",
        "print(response)"
      ]
    },
    {
      "cell_type": "markdown",
      "metadata": {
        "id": "YAkIjn9ob6su"
      },
      "source": [
        "### TOne transformation"
      ]
    },
    {
      "cell_type": "code",
      "execution_count": 32,
      "metadata": {
        "colab": {
          "base_uri": "https://localhost:8080/"
        },
        "id": "Ru54muMAWOCh",
        "outputId": "14562953-7380-4ceb-814c-cbb9822b3d9b"
      },
      "outputs": [
        {
          "output_type": "stream",
          "name": "stdout",
          "text": [
            "Dear Bob,\n",
            "\n",
            "I wanted to share my enthusiasm regarding the recent integration of the OpenAI API. Their advancements are truly impressive and a significant development in the field.\n",
            "\n",
            "Sincerely,\n",
            "\n",
            "[Your Name] \n",
            "\n"
          ]
        }
      ],
      "source": [
        "prompt = \"\"\"\n",
        "Translate the following text into a business letter:\n",
        " Hey bob, look at the recent integration at openai api, these guys are amazing, such a cool advancement man!.\n",
        "\"\"\"\n",
        "response = generate_response(prompt)\n",
        "print(response)"
      ]
    },
    {
      "cell_type": "markdown",
      "metadata": {
        "id": "e6GLCIBlcmG2"
      },
      "source": [
        "### Format conversion"
      ]
    },
    {
      "cell_type": "code",
      "execution_count": 33,
      "metadata": {
        "id": "HxkWiJoCcXRq",
        "outputId": "9066293c-efe8-4f4c-d694-9d6e11ab9ea4",
        "colab": {
          "base_uri": "https://localhost:8080/"
        }
      },
      "outputs": [
        {
          "output_type": "stream",
          "name": "stdout",
          "text": [
            "```html\n",
            "<!DOCTYPE html>\n",
            "<html>\n",
            "<head>\n",
            "  <title>Cognizant Employees</title>\n",
            "  <style>\n",
            "    table {\n",
            "      border-collapse: collapse;\n",
            "      width: 100%;\n",
            "    }\n",
            "\n",
            "    th, td {\n",
            "      text-align: left;\n",
            "      padding: 8px;\n",
            "      border: 1px solid black;\n",
            "    }\n",
            "\n",
            "    th {\n",
            "      background-color: #f2f2f2; /* Light gray background for headers */\n",
            "      color: black; /* Black text for better contrast */\n",
            "    }\n",
            "  </style>\n",
            "</head>\n",
            "<body>\n",
            "\n",
            "  <h2>Cognizant Employees</h2>\n",
            "\n",
            "  <table>\n",
            "    <thead>\n",
            "      <tr>\n",
            "        <th>Name</th>\n",
            "        <th>Email</th>\n",
            "      </tr>\n",
            "    </thead>\n",
            "    <tbody>\n",
            "      <tr>\n",
            "        <td>Axex</td>\n",
            "        <td>alex@cog.com</td>\n",
            "      </tr>\n",
            "      <tr>\n",
            "        <td>Arturo</td>\n",
            "        <td>arturo@cog.com</td>\n",
            "      </tr>\n",
            "      <tr>\n",
            "        <td>Kanchan</td>\n",
            "        <td>kanchan@cog.com</td>\n",
            "      </tr>\n",
            "    </tbody>\n",
            "  </table>\n",
            "\n",
            "</body>\n",
            "</html>\n",
            "```\n"
          ]
        }
      ],
      "source": [
        "data_json = {\"Cognizant employees\":[\n",
        "    {\"name\":\"Axex\",\"email\":\"alex@cog.com\"}, {\"name\":\"Arturo\",\"email\":\"arturo@cog.com\"},  {\"name\":\"Kanchan\",\"email\":\"kanchan@cog.com\"},\n",
        "]}\n",
        "\n",
        "prompt = f\"\"\"\n",
        "Translate the following python dictionary  from JSON to an HTML table with column headers and title:{data_json}\n",
        "If you are using CSS, consider the contrast between background and text color\n",
        "\"\"\"\n",
        "response = generate_response(prompt)\n",
        "print(response)"
      ]
    },
    {
      "cell_type": "code",
      "execution_count": 34,
      "metadata": {
        "id": "otwi-oYCdTLk"
      },
      "outputs": [],
      "source": [
        "from IPython.display import display,HTML"
      ]
    },
    {
      "cell_type": "code",
      "execution_count": 35,
      "metadata": {
        "id": "IrYUMzMtdO5T",
        "outputId": "57c28fbc-23bb-495b-9568-0f6d8cd32fe2",
        "colab": {
          "base_uri": "https://localhost:8080/",
          "height": 237
        }
      },
      "outputs": [
        {
          "output_type": "display_data",
          "data": {
            "text/plain": [
              "<IPython.core.display.HTML object>"
            ],
            "text/html": [
              "```html\n",
              "<!DOCTYPE html>\n",
              "<html>\n",
              "<head>\n",
              "  <title>Cognizant Employees</title>\n",
              "  <style>\n",
              "    table {\n",
              "      border-collapse: collapse;\n",
              "      width: 100%;\n",
              "    }\n",
              "\n",
              "    th, td {\n",
              "      text-align: left;\n",
              "      padding: 8px;\n",
              "      border: 1px solid black;\n",
              "    }\n",
              "\n",
              "    th {\n",
              "      background-color: #f2f2f2; /* Light gray background for headers */\n",
              "      color: black; /* Black text for better contrast */\n",
              "    }\n",
              "  </style>\n",
              "</head>\n",
              "<body>\n",
              "\n",
              "  <h2>Cognizant Employees</h2>\n",
              "\n",
              "  <table>\n",
              "    <thead>\n",
              "      <tr>\n",
              "        <th>Name</th>\n",
              "        <th>Email</th>\n",
              "      </tr>\n",
              "    </thead>\n",
              "    <tbody>\n",
              "      <tr>\n",
              "        <td>Axex</td>\n",
              "        <td>alex@cog.com</td>\n",
              "      </tr>\n",
              "      <tr>\n",
              "        <td>Arturo</td>\n",
              "        <td>arturo@cog.com</td>\n",
              "      </tr>\n",
              "      <tr>\n",
              "        <td>Kanchan</td>\n",
              "        <td>kanchan@cog.com</td>\n",
              "      </tr>\n",
              "    </tbody>\n",
              "  </table>\n",
              "\n",
              "</body>\n",
              "</html>\n",
              "```"
            ]
          },
          "metadata": {}
        }
      ],
      "source": [
        "display(HTML(response))"
      ]
    },
    {
      "cell_type": "markdown",
      "source": [
        "## Thank You"
      ],
      "metadata": {
        "id": "yGILShLlCn8g"
      }
    }
  ],
  "metadata": {
    "colab": {
      "provenance": [],
      "include_colab_link": true
    },
    "kernelspec": {
      "display_name": "Python 3",
      "name": "python3"
    },
    "language_info": {
      "name": "python"
    }
  },
  "nbformat": 4,
  "nbformat_minor": 0
}