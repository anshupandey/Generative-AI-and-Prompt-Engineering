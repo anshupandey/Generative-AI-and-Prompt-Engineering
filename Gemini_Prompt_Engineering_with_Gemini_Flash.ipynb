{
  "cells": [
    {
      "cell_type": "markdown",
      "metadata": {
        "id": "view-in-github",
        "colab_type": "text"
      },
      "source": [
        "<a href=\"https://colab.research.google.com/github/anshupandey/Generative-AI-and-Prompt-Engineering/blob/main/Gemini_Prompt_Engineering_with_Gemini_Flash.ipynb\" target=\"_parent\"><img src=\"https://colab.research.google.com/assets/colab-badge.svg\" alt=\"Open In Colab\"/></a>"
      ]
    },
    {
      "cell_type": "markdown",
      "metadata": {
        "id": "5ZBMUH466r3l"
      },
      "source": [
        "# VertextAI Gemini : Prompt Engineering"
      ]
    },
    {
      "cell_type": "markdown",
      "metadata": {
        "id": "cNXxs3UNLkGj"
      },
      "source": [
        "### Prompt Engineering\n",
        "\n",
        "Prompt engineering is the process of designing and optimizing prompts to better utilize LLMs. Designing effective prompts is critical to the success of prompt engineering, and it can significantly improve the AI model's performance on specific tasks. Providing relevant, specific, unambiguous, and well structured prompts can help the model better understand the context and generate more accurate responses.\n",
        "\n",
        "For example, if we want an OpenAI model to generate product descriptions, we can provide it with a detailed description that describes the features and benefits of the product. By providing this context, the model can generate more accurate and relevant product descriptions."
      ]
    },
    {
      "cell_type": "markdown",
      "metadata": {
        "id": "No17Cw5hgx12"
      },
      "source": [
        "### Install Vertex AI SDK for Python\n"
      ]
    },
    {
      "cell_type": "code",
      "execution_count": null,
      "metadata": {
        "id": "tFy3H3aPgx12"
      },
      "outputs": [],
      "source": [
        "! pip3 install --upgrade --user --quiet google-cloud-aiplatform"
      ]
    },
    {
      "cell_type": "markdown",
      "metadata": {
        "id": "dmWOrTJ3gx13"
      },
      "source": [
        "### Authenticate your notebook environment (Colab only)\n",
        "\n",
        "If you are running this notebook on Google Colab, run the cell below to authenticate your environment.\n"
      ]
    },
    {
      "cell_type": "code",
      "execution_count": null,
      "metadata": {
        "id": "NyKGtVQjgx13"
      },
      "outputs": [],
      "source": [
        "import sys\n",
        "\n",
        "if \"google.colab\" in sys.modules:\n",
        "    from google.colab import auth\n",
        "    auth.authenticate_user()"
      ]
    },
    {
      "cell_type": "markdown",
      "metadata": {
        "id": "DF4l8DTdWgPY"
      },
      "source": [
        "### Set Google Cloud project information and initialize Vertex AI SDK\n",
        "\n",
        "To get started using Vertex AI, you must have an existing Google Cloud project and [enable the Vertex AI API](https://console.cloud.google.com/flows/enableapi?apiid=aiplatform.googleapis.com).\n",
        "\n",
        "Learn more about [setting up a project and a development environment](https://cloud.google.com/vertex-ai/docs/start/cloud-environment)."
      ]
    },
    {
      "cell_type": "code",
      "execution_count": null,
      "metadata": {
        "id": "Nqwi-5ufWp_B"
      },
      "outputs": [],
      "source": [
        "PROJECT_ID = \"jrproject-402905\"  # @param {type:\"string\"}\n",
        "LOCATION = \"us-central1\"  # @param {type:\"string\"}\n",
        "MODEL_ID = \"gemini-1.5-flash-preview-0514\"  # @param {type:\"string\"}\n",
        "import vertexai\n",
        "vertexai.init(project=PROJECT_ID, location=LOCATION)"
      ]
    },
    {
      "cell_type": "code",
      "execution_count": null,
      "metadata": {
        "id": "lslYAvw37JGQ"
      },
      "outputs": [],
      "source": [
        "from vertexai.generative_models import GenerationConfig, GenerativeModel\n",
        "# load the model\n",
        "model = GenerativeModel(MODEL_ID, system_instruction=[ \"You are a helpful assistant.\",\"Your answer questions in a concise way\",],)\n",
        "\n",
        "# Set model parameters\n",
        "generation_config = GenerationConfig( temperature=0.9, top_k=32,)\n",
        "\n",
        "def generate_response(prompt,model=model):\n",
        "  contents = [prompt]\n",
        "  response = model.generate_content(contents, generation_config=generation_config,)\n",
        "  return response.text"
      ]
    },
    {
      "cell_type": "code",
      "execution_count": null,
      "metadata": {
        "colab": {
          "base_uri": "https://localhost:8080/"
        },
        "id": "tLgNfQbz7xpQ",
        "outputId": "158aeda2-2315-45c1-9883-68e8f143cbbf"
      },
      "outputs": [
        {
          "output_type": "stream",
          "name": "stdout",
          "text": [
            "```python\n",
            "print(\"Hello World\")\n",
            "``` \n",
            "\n"
          ]
        }
      ],
      "source": [
        "response = generate_response(\"Write a python code to print 'Hello World'\")\n",
        "print(response)"
      ]
    },
    {
      "cell_type": "markdown",
      "metadata": {
        "id": "Ij40o9G0ESfg"
      },
      "source": [
        "# Key guidelines for prompt engineering\n",
        "\n",
        "1. CCS: Clear, Concise and Specific instructions\n",
        "\n",
        "  a. Use proper delimeters\n",
        "      - Triple Quotes \"\"\"\n",
        "      - Triple backticks ```\n",
        "      - Triple Dashes ---\n",
        "      - Angle bracket <>\n",
        "      - xml tags \"< start> < /start>\"\n",
        "\n",
        "  b. be structured in content: Use Persona, Task, constraints, output format\n",
        "2. Give the model time to think\n"
      ]
    },
    {
      "cell_type": "markdown",
      "metadata": {
        "id": "SyGpCUafNffB"
      },
      "source": [
        "## component 1: Use proper delimeters\n"
      ]
    },
    {
      "cell_type": "code",
      "execution_count": null,
      "metadata": {
        "id": "rSkCESQV7-Iw",
        "outputId": "38cafa07-f8af-49b9-b380-782c170d9ea3",
        "colab": {
          "base_uri": "https://localhost:8080/",
          "height": 139
        }
      },
      "outputs": [
        {
          "output_type": "execute_result",
          "data": {
            "text/plain": [
              "'\\nSummarize the text delimited by triple backticks into a single sentence.\\n```\\nNorth Korean leader Kim Jong Un, currently visiting Russia, inspected several state-of-the-art systems deployed in the ongoing Ukraine war, including the Kinzhal hypersonic missile, supersonic bombers, and the latest weapons mounted on the MiG-31 missile carrier.\\nThis information was published by the Russian Ministry of Defense (RuMoD) on its official Telegram channel. The inspection of the next-generation missile system was also accompanied by a meeting with Russian Defense Minister Sergei Shoigu at the Knevichi airfield near Vladivostok in the Far East of Russia.\\n“At the Knevichi airfield, Russian Minister of Defense General of the Army Sergei Shoigu presented the Russian MiG-31I missile carrier with the latest weaponry – the Kinzhal hypersonic air-launched missile – to the leader of the Democratic People’s Republic of Korea Kim Jong-un,” the RuMoD said in a statement on Telegram.\\nBriefing the North Korean leader, Commander of the Long-Range Aviation of the Russian Aerospace Forces Lieutenant General Sergei Kobylash reported on the flight and technical characteristics of the Kinzhal hypersonic missile system. On top of that, he noted that the system includes a Mig-31I missile carrier equipped with the Kinzhal hypersonic aero-ballistic missile and a missile control system.\\n“This Russian aircraft system has no equivalent anywhere in the world and has shown to be very combat-effective,” the Russian MoD said in a statement emphasizing the deadly combination of MiG-31 and the Kinzhal hypersonic missiles. Russia has fired these missiles, touted as invincible by Russia, on Ukrainian targets several times during this bloody conflict.\\nAs he spoke with Shoigu and other military officials through interpreters about technical specifics, Kim looked at the Kinzhal missile, gestured, and asked questions about the jets’ capabilities.\\nThe inspection is significant as it comes amid heightened concerns in the West about a potential arms agreement that will be signed between the two of its adversaries, which have been inching closer to each other since the Russian invasion led to Moscow’s isolation.\\nhttps://twitter.com/i/status/1703110950822293981\\nWestern commentators believe Kim’s visit to Russia’s military and technical installations may have hinted at what he wants from Russia in return for giving ammunition to top off Putin’s depleting supplies. However, there is no information as to what systems the North Korean President would be interested in if an arms agreement is indeed in the works.\\nAccording to experts, prospective military cooperation between the two nations may entail initiatives to update North Korea’s obsolete air force, which was still dependent on jets from the Soviet Union in the 1980s. However, experts also believe that the Kinzhal and the MiG-31 inspection do not automatically translate into a deal.\\nKh-47M2 Kinzhal - Wikipedia\\nIndian Air Force veteran and military expert who keenly watches the Russian military, Squadron Leader Vijainder K. Thakur (retd.), explained to EurAsian Times, “Kinzhal is not just a missile that you can shoot at the adversary. It needs a launch platform that is expensive and difficult to operate. It needs intelligence for targeting. North Korea does not have MiG-31D. Since the heavy fighter is not in production, it is very doubtful that Russia can transfer it to North Korea.”\\nWhen it was pointed out that Russia is reportedly firing the Kinzhal from its Su-34 Fullback fighter bomber, Thakur retorted, “North Korea does not have Su 34. Russia has as yet not met its demand for its Su-34 frontline bomber. So, it is improbable.”\\nThe US has accused Kim of supplying weapons and ammunition, including shells and rockets, to support Putin’s conflict for months. Although the US claims that the guns won’t dramatically change the battlefield, they can still be used to shell Ukraine. More importantly, these sales could give North Korea a new source of income for a country whose economy is mainly cut off from international trade.\\nSome officials in the US as well as South Korea have warned that any such deal would be in contravention of the UN sanctions and would come at a heavy price.\\nCutting-Edge Systems Shown To North Korean Leader\\nThe North Korean leader was also shown an array of cutting-edge warplanes, out of which its strategic supersonic bombers particularly stood out. Bombers like Tu-160, Tu-95, and Tu-22 bombers that have been extensively deployed to launch cruise missiles were presented to Kim Jong Un.\\nIn addition, Kim was informed by Shoigu and Lt. Gen. Sergei Kobylash that the Tu-160 had just acquired brand-new cruise missiles with a 4,040-mile range. Shoigu pointed to the weapons bay and stated that each bomber had 12 missiles.\\nBesides the bombers, Kim also had the chance to see Russia’s fifth-generation stealth jet. The RuMoD noted that Kim also visited the Russian Marshal Shaposhnikov frigate to inspect the Su-35 and the Su-57 stealth combat fighter during a tour of a factory producing fighter jets and other aircraft types.\\n```\\n'"
            ],
            "application/vnd.google.colaboratory.intrinsic+json": {
              "type": "string"
            }
          },
          "metadata": {},
          "execution_count": 13
        }
      ],
      "source": [
        "\n",
        "text = \"\"\"\n",
        "North Korean leader Kim Jong Un, currently visiting Russia, inspected several state-of-the-art systems deployed in the ongoing Ukraine war, including the Kinzhal hypersonic missile, supersonic bombers, and the latest weapons mounted on the MiG-31 missile carrier.\n",
        "This information was published by the Russian Ministry of Defense (RuMoD) on its official Telegram channel. The inspection of the next-generation missile system was also accompanied by a meeting with Russian Defense Minister Sergei Shoigu at the Knevichi airfield near Vladivostok in the Far East of Russia.\n",
        "“At the Knevichi airfield, Russian Minister of Defense General of the Army Sergei Shoigu presented the Russian MiG-31I missile carrier with the latest weaponry – the Kinzhal hypersonic air-launched missile – to the leader of the Democratic People’s Republic of Korea Kim Jong-un,” the RuMoD said in a statement on Telegram.\n",
        "Briefing the North Korean leader, Commander of the Long-Range Aviation of the Russian Aerospace Forces Lieutenant General Sergei Kobylash reported on the flight and technical characteristics of the Kinzhal hypersonic missile system. On top of that, he noted that the system includes a Mig-31I missile carrier equipped with the Kinzhal hypersonic aero-ballistic missile and a missile control system.\n",
        "“This Russian aircraft system has no equivalent anywhere in the world and has shown to be very combat-effective,” the Russian MoD said in a statement emphasizing the deadly combination of MiG-31 and the Kinzhal hypersonic missiles. Russia has fired these missiles, touted as invincible by Russia, on Ukrainian targets several times during this bloody conflict.\n",
        "As he spoke with Shoigu and other military officials through interpreters about technical specifics, Kim looked at the Kinzhal missile, gestured, and asked questions about the jets’ capabilities.\n",
        "The inspection is significant as it comes amid heightened concerns in the West about a potential arms agreement that will be signed between the two of its adversaries, which have been inching closer to each other since the Russian invasion led to Moscow’s isolation.\n",
        "https://twitter.com/i/status/1703110950822293981\n",
        "Western commentators believe Kim’s visit to Russia’s military and technical installations may have hinted at what he wants from Russia in return for giving ammunition to top off Putin’s depleting supplies. However, there is no information as to what systems the North Korean President would be interested in if an arms agreement is indeed in the works.\n",
        "According to experts, prospective military cooperation between the two nations may entail initiatives to update North Korea’s obsolete air force, which was still dependent on jets from the Soviet Union in the 1980s. However, experts also believe that the Kinzhal and the MiG-31 inspection do not automatically translate into a deal.\n",
        "Kh-47M2 Kinzhal - Wikipedia\n",
        "Indian Air Force veteran and military expert who keenly watches the Russian military, Squadron Leader Vijainder K. Thakur (retd.), explained to EurAsian Times, “Kinzhal is not just a missile that you can shoot at the adversary. It needs a launch platform that is expensive and difficult to operate. It needs intelligence for targeting. North Korea does not have MiG-31D. Since the heavy fighter is not in production, it is very doubtful that Russia can transfer it to North Korea.”\n",
        "When it was pointed out that Russia is reportedly firing the Kinzhal from its Su-34 Fullback fighter bomber, Thakur retorted, “North Korea does not have Su 34. Russia has as yet not met its demand for its Su-34 frontline bomber. So, it is improbable.”\n",
        "The US has accused Kim of supplying weapons and ammunition, including shells and rockets, to support Putin’s conflict for months. Although the US claims that the guns won’t dramatically change the battlefield, they can still be used to shell Ukraine. More importantly, these sales could give North Korea a new source of income for a country whose economy is mainly cut off from international trade.\n",
        "Some officials in the US as well as South Korea have warned that any such deal would be in contravention of the UN sanctions and would come at a heavy price.\n",
        "Cutting-Edge Systems Shown To North Korean Leader\n",
        "The North Korean leader was also shown an array of cutting-edge warplanes, out of which its strategic supersonic bombers particularly stood out. Bombers like Tu-160, Tu-95, and Tu-22 bombers that have been extensively deployed to launch cruise missiles were presented to Kim Jong Un.\n",
        "In addition, Kim was informed by Shoigu and Lt. Gen. Sergei Kobylash that the Tu-160 had just acquired brand-new cruise missiles with a 4,040-mile range. Shoigu pointed to the weapons bay and stated that each bomber had 12 missiles.\n",
        "Besides the bombers, Kim also had the chance to see Russia’s fifth-generation stealth jet. The RuMoD noted that Kim also visited the Russian Marshal Shaposhnikov frigate to inspect the Su-35 and the Su-57 stealth combat fighter during a tour of a factory producing fighter jets and other aircraft types.\n",
        "\"\"\"\n",
        "\n",
        "prompt = f\"\"\"\n",
        "Summarize the text delimited by triple backticks into a single sentence.\n",
        "```{text}```\n",
        "\"\"\"\n",
        "prompt"
      ]
    },
    {
      "cell_type": "code",
      "execution_count": null,
      "metadata": {
        "colab": {
          "base_uri": "https://localhost:8080/"
        },
        "id": "EzTSEbwLF44U",
        "outputId": "cba22e0d-0a9e-4cc2-9258-aac5bf9509f7"
      },
      "outputs": [
        {
          "output_type": "stream",
          "name": "stdout",
          "text": [
            "During a visit to Russia, North Korean leader Kim Jong Un inspected advanced Russian military technology, including hypersonic missiles, supersonic bombers, and fighter jets, sparking speculation about a potential arms deal between the two countries. \n",
            "\n"
          ]
        }
      ],
      "source": [
        "response = generate_response(prompt)\n",
        "print(response)"
      ]
    },
    {
      "cell_type": "markdown",
      "metadata": {
        "id": "b_xtLoDINhff"
      },
      "source": [
        "## component 2: Ask for the output in a specific format\n"
      ]
    },
    {
      "cell_type": "code",
      "execution_count": null,
      "metadata": {
        "id": "Nj7eA0p1LkGo",
        "outputId": "0637eaad-7e11-4edb-8150-45c4263ed8e7",
        "colab": {
          "base_uri": "https://localhost:8080/"
        }
      },
      "outputs": [
        {
          "output_type": "stream",
          "name": "stdout",
          "text": [
            "| Animal | Genus | Species |\n",
            "|---|---|---|\n",
            "| Lion | Panthera | leo |\n",
            "| Tiger | Panthera | tigris |\n",
            "| Elephant | Elephas | maximus |\n",
            "| Giraffe | Giraffa | camelopardalis |\n",
            "| Gorilla | Gorilla | gorilla |\n",
            "| Penguin | Spheniscus | humboldti | \n",
            "\n"
          ]
        }
      ],
      "source": [
        "prompt = \"\"\"Write a table in markdown with 6 animal names in it, with their genus and species\"\"\"\n",
        "response = generate_response(prompt)\n",
        "print(response)"
      ]
    },
    {
      "cell_type": "code",
      "execution_count": null,
      "metadata": {
        "id": "GV-WtC6DNnTf"
      },
      "outputs": [],
      "source": [
        "# Task , format\n",
        "prompt = \"\"\"\n",
        "Generate a list of 10 job titles related to Analytics and Software Engineering along with important skills and tools used.\n",
        "provide them in JSON format with the following  keys:\n",
        "job_id, job_title, job_skills, job_tools\n",
        "\"\"\"\n",
        "response = generate_response(prompt)"
      ]
    },
    {
      "cell_type": "code",
      "execution_count": null,
      "metadata": {
        "id": "dtxu5SY5OXEx",
        "outputId": "6c2e995a-6fc1-4442-a7ea-c1bddef6bd03",
        "colab": {
          "base_uri": "https://localhost:8080/"
        }
      },
      "outputs": [
        {
          "output_type": "stream",
          "name": "stdout",
          "text": [
            "```json\n",
            "[\n",
            "  {\n",
            "    \"job_id\": \"1\",\n",
            "    \"job_title\": \"Data Scientist\",\n",
            "    \"job_skills\": [\"Machine Learning\", \"Statistical Modeling\", \"Data Visualization\", \"Python\", \"R\", \"SQL\"],\n",
            "    \"job_tools\": [\"Scikit-learn\", \"TensorFlow\", \"PyTorch\", \"Tableau\", \"Power BI\"]\n",
            "  },\n",
            "  {\n",
            "    \"job_id\": \"2\",\n",
            "    \"job_title\": \"Data Analyst\",\n",
            "    \"job_skills\": [\"Data Cleaning\", \"Data Manipulation\", \"Data Interpretation\", \"SQL\", \"Excel\", \"Tableau\"],\n",
            "    \"job_tools\": [\"SQL Server\", \"MySQL\", \"PostgreSQL\", \"Power BI\", \"Excel\"]\n",
            "  },\n",
            "  {\n",
            "    \"job_id\": \"3\",\n",
            "    \"job_title\": \"Software Engineer\",\n",
            "    \"job_skills\": [\"Programming Languages (Java, Python, C++), Object-Oriented Programming, Algorithms, Data Structures, Software Design\"],\n",
            "    \"job_tools\": [\"Git\", \"GitHub\", \"IDE (Eclipse, IntelliJ, Visual Studio Code), Unit Testing Frameworks\"]\n",
            "  },\n",
            "  {\n",
            "    \"job_id\": \"4\",\n",
            "    \"job_title\": \"Data Engineer\",\n",
            "    \"job_skills\": [\"Data Pipelines\", \"Cloud Computing (AWS, Azure, GCP), Big Data Technologies (Hadoop, Spark), SQL, Python\"],\n",
            "    \"job_tools\": [\"AWS Glue\", \"Azure Data Factory\", \"Google Cloud Dataflow\", \"Hadoop\", \"Spark\", \"Kafka\"]\n",
            "  },\n",
            "  {\n",
            "    \"job_id\": \"5\",\n",
            "    \"job_title\": \"Business Intelligence Analyst\",\n",
            "    \"job_skills\": [\"Data Visualization\", \"Reporting\", \"Business Acumen\", \"SQL\", \"Tableau\", \"Power BI\"],\n",
            "    \"job_tools\": [\"Tableau\", \"Power BI\", \"Qlik Sense\", \"SQL Server Reporting Services\"]\n",
            "  },\n",
            "  {\n",
            "    \"job_id\": \"6\",\n",
            "    \"job_title\": \"Machine Learning Engineer\",\n",
            "    \"job_skills\": [\"Machine Learning Algorithms\", \"Deep Learning\", \"Natural Language Processing\", \"Python\", \"TensorFlow\", \"PyTorch\"],\n",
            "    \"job_tools\": [\"TensorFlow\", \"PyTorch\", \"Keras\", \"Scikit-learn\", \"Jupyter Notebook\"]\n",
            "  },\n",
            "  {\n",
            "    \"job_id\": \"7\",\n",
            "    \"job_title\": \"Analytics Consultant\",\n",
            "    \"job_skills\": [\"Data Analysis\", \"Business Consulting\", \"Problem Solving\", \"Communication\", \"Presentation Skills\", \"SQL\", \"Tableau\"],\n",
            "    \"job_tools\": [\"Tableau\", \"Power BI\", \"Excel\", \"SQL Server\"]\n",
            "  },\n",
            "  {\n",
            "    \"job_id\": \"8\",\n",
            "    \"job_title\": \"DevOps Engineer\",\n",
            "    \"job_skills\": [\"Automation\", \"Cloud Computing\", Infrastructure as Code (IaC), Continuous Integration/Continuous Delivery (CI/CD), Linux, Scripting\"],\n",
            "    \"job_tools\": [\"Docker\", \"Kubernetes\", \"Ansible\", \"Terraform\", \"Jenkins\", \"GitHub Actions\"]\n",
            "  },\n",
            "  {\n",
            "    \"job_id\": \"9\",\n",
            "    \"job_title\": \"Full Stack Developer\",\n",
            "    \"job_skills\": [\"Front-End Development (HTML, CSS, JavaScript), Back-End Development (Java, Python, Node.js), Databases, APIs\"],\n",
            "    \"job_tools\": [\"React\", \"Angular\", \"Vue.js\", \"Node.js\", \"Express.js\", \"MongoDB\", \"MySQL\"]\n",
            "  },\n",
            "  {\n",
            "    \"job_id\": \"10\",\n",
            "    \"job_title\": \"Data Architect\",\n",
            "    \"job_skills\": [\"Data Modeling\", \"Database Design\", \"Data Warehousing\", \"Big Data Technologies\", \"SQL\", \"Cloud Computing\"],\n",
            "    \"job_tools\": [\"AWS Redshift\", \"Azure SQL Database\", \"Google Cloud SQL\", \"Hadoop\", \"Spark\", \"Snowflake\"]\n",
            "  }\n",
            "]\n",
            "```\n"
          ]
        }
      ],
      "source": [
        "print(response)"
      ]
    },
    {
      "cell_type": "code",
      "execution_count": null,
      "metadata": {
        "id": "mnp0q_V0OZvQ"
      },
      "outputs": [],
      "source": [
        "# Task , format\n",
        "prompt = \"\"\"\n",
        "Generate a list of 10 job titles related to Analytics and Software Engineering along with important skills and tools used.\n",
        "provide them in CSV format with the following headers:\n",
        "job_id, job_title, job_skills, job_tools\n",
        "\"\"\"\n",
        "response = generate_response(prompt)"
      ]
    },
    {
      "cell_type": "code",
      "execution_count": null,
      "metadata": {
        "id": "ITVZTujKOswJ",
        "outputId": "fb6935f1-375b-4089-e2fd-cdfe5f705c99",
        "colab": {
          "base_uri": "https://localhost:8080/"
        }
      },
      "outputs": [
        {
          "output_type": "stream",
          "name": "stdout",
          "text": [
            "job_id,job_title,job_skills,job_tools\n",
            "1,Data Scientist,Statistical analysis, machine learning, data visualization, Python, R, SQL, Jupyter Notebook, TensorFlow, PyTorch\n",
            "2,Software Engineer,Programming languages (e.g., Java, Python, C++), software design, data structures, algorithms, Git, Agile methodologies, IDEs (e.g., IntelliJ IDEA, Eclipse)\n",
            "3,Data Analyst,Data cleaning and manipulation, SQL, data visualization, Excel, Tableau, Power BI\n",
            "4,Machine Learning Engineer,Machine learning algorithms, deep learning, cloud computing (AWS, Azure, GCP), Python, TensorFlow, PyTorch, Scikit-learn\n",
            "5,Business Intelligence Analyst,Data analysis, data visualization, SQL, business intelligence tools (e.g., Tableau, Power BI), Excel, reporting\n",
            "6,Data Engineer,Data pipelines, data warehousing, cloud computing, SQL, Python, Spark, Hadoop, Kafka\n",
            "7,DevOps Engineer,Automation, scripting, cloud computing, containerization (Docker, Kubernetes), CI/CD, Linux\n",
            "8,Full Stack Developer,Front-end development (HTML, CSS, JavaScript), back-end development (e.g., Python, Java), databases, APIs, frameworks (e.g., React, Angular, Node.js)\n",
            "9,Data Architect,Data modeling, database design, cloud computing, SQL, NoSQL databases, data warehousing\n",
            "10,Analytics Manager,Data analysis, reporting, team management, communication skills, business acumen, SQL, data visualization tools, business intelligence tools \n",
            "\n"
          ]
        }
      ],
      "source": [
        "print(response)"
      ]
    },
    {
      "cell_type": "code",
      "execution_count": null,
      "metadata": {
        "id": "loIN5Ys_OtnB"
      },
      "outputs": [],
      "source": [
        "# Task , format, constraint\n",
        "prompt = \"\"\"\n",
        "Generate a list of 10 job titles related to Analytics and Software Engineering along with important skills and tools used.\n",
        "provide them in CSV format with the following headers:\n",
        "job_id, job_title, job_skills, job_tools\n",
        "In a single column such as job_skills and job_tools, keep multiple values separated by a semicolon.\n",
        "\"\"\"\n",
        "response = generate_response(prompt)"
      ]
    },
    {
      "cell_type": "code",
      "execution_count": null,
      "metadata": {
        "id": "5NFwrZ0hPbqD",
        "outputId": "96e63560-5bda-487b-92de-ed82159a9b46",
        "colab": {
          "base_uri": "https://localhost:8080/"
        }
      },
      "outputs": [
        {
          "output_type": "stream",
          "name": "stdout",
          "text": [
            "job_id,job_title,job_skills,job_tools\n",
            "1,Data Scientist,Statistical modeling;Machine learning;Data visualization;Python;R;SQL;SAS;Tableau;Spark;Hadoop;AWS;Azure;Google Cloud Platform\n",
            "2,Data Analyst,Data cleaning;Data analysis;Data reporting;SQL;Excel;Power BI;Tableau;Python;R\n",
            "3,Software Engineer,Programming languages (e.g., Python, Java, C++, JavaScript);Software design;Data structures and algorithms;Version control (e.g., Git);Agile methodologies;Cloud computing (e.g., AWS, Azure, GCP);Databases (e.g., MySQL, PostgreSQL);DevOps tools (e.g., Docker, Kubernetes)\n",
            "4,Machine Learning Engineer,Machine learning algorithms;Deep learning;Natural language processing;Computer vision;Python;R;TensorFlow;PyTorch;Keras;Scikit-learn;AWS SageMaker;Azure ML Studio\n",
            "5,Data Engineer,Data pipelines;Data warehousing;Big data processing;SQL;Python;Java;Scala;Spark;Hadoop;Kafka;AWS Glue;Azure Data Factory;Google Cloud Dataflow\n",
            "6,Business Intelligence Analyst,Data analysis;Data visualization;Reporting;Business intelligence tools (e.g., Power BI, Tableau, Qlik Sense);SQL;Excel\n",
            "7,Analytics Manager,Data analysis;Business intelligence;Strategic planning;Project management;Leadership skills;Communication skills;Data visualization tools (e.g., Tableau, Power BI)\n",
            "8,Software Development Manager,Software development;Project management;Leadership skills;Team management;Agile methodologies;Communication skills;Version control (e.g., Git)\n",
            "9,DevOps Engineer,Infrastructure automation;Cloud computing;Containerization (e.g., Docker, Kubernetes);Continuous integration and continuous delivery (CI/CD);Scripting (e.g., Python, Bash);Monitoring and logging tools\n",
            "10,Data Architect,Database design;Data modeling;Big data architecture;Data governance;Cloud computing;Data warehousing;SQL;NoSQL databases;Data virtualization tools\n",
            "\n"
          ]
        }
      ],
      "source": [
        "print(response)"
      ]
    },
    {
      "cell_type": "code",
      "execution_count": null,
      "metadata": {
        "id": "oLt0pk3APfps"
      },
      "outputs": [],
      "source": [
        "with open(\"job_data.csv\",'w') as file:\n",
        "  file.write(response)"
      ]
    },
    {
      "cell_type": "code",
      "execution_count": null,
      "metadata": {
        "id": "o1fNlBgbP1kR",
        "outputId": "5ab718f9-ab0f-4313-e2f1-8788532417c6",
        "colab": {
          "base_uri": "https://localhost:8080/"
        }
      },
      "outputs": [
        {
          "output_type": "stream",
          "name": "stdout",
          "text": [
            "Step 1: Fill a container with warm water and add detergent.\n",
            "Step 2: Submerge the dirty clothes in the water and let them soak for a period of time.\n",
            "Step 3: Remove the clothes from the water and rub any remaining stains with a soft brush.\n",
            "Step 4: Rinse the clothes thoroughly with clean water to remove detergent.\n",
            "Step 5: Hang the clothes on a rope to dry. \n",
            "\n"
          ]
        }
      ],
      "source": [
        "# asking for a specific format\n",
        "text = \"\"\"\n",
        "Washing clothes without washing machines is easy!\n",
        "First you need to get some warm water. Mix the warm water with some detergent. Second you can put the dirty clothes in it and let it stay wet for some time.\n",
        "During this period the stains will get loose and mixed with water.\n",
        "thereafter you can take clothes out, rub the dirt/stains with a soft brush to remove the stains if any.\n",
        "get the clothes mixed with water to get the detergent out of it. and then put it for drying on a rope.\n",
        "Enjoy the clean clothes.\n",
        "\"\"\"\n",
        "\n",
        "prompt = f\"\"\"\n",
        "you will be provided with some text delimited by triple backticks. Rewrite those into a set of instructions in the following format:\n",
        "\n",
        "Step 1: ...\n",
        "Step 2: ....\n",
        "..\n",
        "Step N:...\n",
        "\n",
        "```{text}\n",
        "```\n",
        "\"\"\"\n",
        "response = generate_response(prompt)\n",
        "print(response)\n"
      ]
    },
    {
      "cell_type": "code",
      "execution_count": null,
      "metadata": {
        "id": "I-I0CzPKTyfd",
        "outputId": "eb38ce83-27f6-4293-c7f6-1e69980e9f4f",
        "colab": {
          "base_uri": "https://localhost:8080/"
        }
      },
      "outputs": [
        {
          "output_type": "stream",
          "name": "stdout",
          "text": [
            "Step 1: Observe the bright sun shining through the clouds.\n",
            "Step 2: Enjoy the pleasant weather.\n",
            "Step 3: Feel the refreshing wind.\n",
            "Step 4: Appreciate the overall wonderful morning. \n",
            "\n"
          ]
        }
      ],
      "source": [
        "# asking for a specific format\n",
        "text = \"\"\"\n",
        "THe morning today is amazing, the sun is looking bright in between clouds, the weather is pleasent and the wind is mindblowing. on a whole i am loving the day today.\n",
        "\"\"\"\n",
        "\n",
        "prompt = f\"\"\"\n",
        "you will be provided with some text delimited by triple backticks. Rewrite those into a set of instructions in the following format:\n",
        "\n",
        "Step 1: ...\n",
        "Step 2: ....\n",
        "..\n",
        "Step N:...\n",
        "\n",
        "```{text}\n",
        "```\n",
        "\"\"\"\n",
        "response = generate_response(prompt)\n",
        "print(response)\n"
      ]
    },
    {
      "cell_type": "code",
      "execution_count": null,
      "metadata": {
        "colab": {
          "base_uri": "https://localhost:8080/"
        },
        "id": "GTuKaTEeUVWE",
        "outputId": "0e8aebff-f4ca-4947-82cd-5101a1b89a3d"
      },
      "outputs": [
        {
          "output_type": "stream",
          "name": "stdout",
          "text": [
            "Step 1: Get some warm water and mix it with detergent.\n",
            "Step 2: Put the dirty clothes in the water and let them soak.\n",
            "Step 3: Rub the stains with a soft brush to remove them.\n",
            "Step 4: Rinse the clothes to get rid of the detergent.\n",
            "Step 5: Hang the clothes on a rope to dry. \n",
            "\n"
          ]
        }
      ],
      "source": [
        "# asking for a specific format\n",
        "text = \"\"\"\n",
        "Washing clothes without washing machines is easy!\n",
        "First you need to get some warm water. Mix the warm water with some detergent. Second you can put the dirty clothes in it and let it stay wet for some time.\n",
        "During this period the stains will get loose and mixed with water.\n",
        "thereafter you can take clothes out, rub the dirt/stains with a soft brush to remove the stains if any.\n",
        "get the clothes mixed with water to get the detergent out of it. and then put it for drying on a rope.\n",
        "Enjoy the clean clothes.\n",
        "\"\"\"\n",
        "\n",
        "prompt = f\"\"\"\n",
        "you will be provided with some text delimited by triple backticks.\n",
        "Rewrite those into a set of instructions in the following format only if contains a sequence of instructions:\n",
        "\n",
        "Step 1: ...\n",
        "Step 2: ....\n",
        "..\n",
        "Step N:...\n",
        "\n",
        "```{text}\n",
        "```\n",
        "\n",
        "if the text does not contain a sequence of instructions, then simply write 'No steps provided'\n",
        "\"\"\"\n",
        "response = generate_response(prompt)\n",
        "print(response)\n"
      ]
    },
    {
      "cell_type": "code",
      "execution_count": null,
      "metadata": {
        "colab": {
          "base_uri": "https://localhost:8080/"
        },
        "id": "nAZGUBpTUrgv",
        "outputId": "314dd32b-30e7-432d-e6a0-ce6ba80d0b1f"
      },
      "outputs": [
        {
          "output_type": "stream",
          "name": "stdout",
          "text": [
            "No steps provided \n",
            "\n"
          ]
        }
      ],
      "source": [
        "# asking for a specific format\n",
        "text = \"\"\"\n",
        "THe morning today is amazing, the sun is looking bright in between clouds, the weather is pleasent and the wind is mindblowing. on a whole i am loving the day today.\n",
        "\"\"\"\n",
        "\n",
        "prompt = f\"\"\"\n",
        "you will be provided with some text delimited by triple backticks.\n",
        "Rewrite those into a set of instructions in the following format only if contains a sequence of instructions:\n",
        "\n",
        "Step 1: ...\n",
        "Step 2: ....\n",
        "..\n",
        "Step N:...\n",
        "\n",
        "```{text}\n",
        "```\n",
        "\n",
        "if the text does not contain a sequence of instructions, then simply write 'No steps provided'\n",
        "\"\"\"\n",
        "response = generate_response(prompt)\n",
        "print(response)\n"
      ]
    },
    {
      "cell_type": "markdown",
      "metadata": {
        "id": "pcBE11_6vwJd"
      },
      "source": [
        "## Zero Shot Prompting\n",
        "\n",
        "Here, the model is given a no examples (shots) to guide its response.\n"
      ]
    },
    {
      "cell_type": "code",
      "execution_count": null,
      "metadata": {
        "id": "1DpqkFzDvsTe",
        "outputId": "7d38faa2-5014-4a0d-f9ad-9ea0ef1ba310",
        "colab": {
          "base_uri": "https://localhost:8080/"
        }
      },
      "outputs": [
        {
          "output_type": "stream",
          "name": "stdout",
          "text": [
            "\"Grandma, why is the sky blue?\" \n",
            "\n",
            "\"That's a great question, sweetie! It's because the sun's light bounces off all the tiny particles in the air, and blue light bounces the most.\" \n",
            "\n",
            "\"So the air is full of tiny rainbows?\"\n",
            "\n",
            "\"You could say that! But the rainbows are too small to see, so all we see is blue.\" \n",
            "\n",
            "\"Wow, that's amazing! Can we look for rainbows tomorrow?\" \n",
            "\n",
            "\"Of course, my little scientist! We can even make our own with a hose.\" \n",
            "\n"
          ]
        }
      ],
      "source": [
        "# zero shot prompting\n",
        "prompt = f\"\"\"\n",
        "\n",
        "Create a conversation story between child and grandparent.\n",
        "\"\"\"\n",
        "response = generate_response(prompt)\n",
        "print(response)"
      ]
    },
    {
      "cell_type": "markdown",
      "source": [
        "## Few Shot Prompting\n",
        "\n",
        "Here, the model is given a few examples (shots) to guide its response. By providing context or previous instances, the model can better understand and generate the desired output. For example, showing a model several examples of translated sentences before asking it to translate a new one.\n"
      ],
      "metadata": {
        "id": "xPlUESWjZpDQ"
      }
    },
    {
      "cell_type": "code",
      "execution_count": null,
      "metadata": {
        "colab": {
          "base_uri": "https://localhost:8080/"
        },
        "id": "8SurLNqfa6wi",
        "outputId": "578667d0-91d7-4d8f-8eff-60432a19b058"
      },
      "outputs": [
        {
          "output_type": "stream",
          "name": "stdout",
          "text": [
            "<grandma>: Resilience is like a small seed that grows into a big tree even after facing harsh weather and strong winds. \n",
            "\n"
          ]
        }
      ],
      "source": [
        "# few shot prompting\n",
        "prompt = f\"\"\"\n",
        "your task is to answer in a consistent sytle:\n",
        "\n",
        "<child>: Teach me about patience.\n",
        "<grandma>: Patience is like waiting for whole day to see the moon in the evening and then sleeping after having a look at it.\n",
        "\n",
        "<child>\" Teach me about resilience.\n",
        "\"\"\"\n",
        "response = generate_response(prompt)\n",
        "print(response)"
      ]
    },
    {
      "cell_type": "markdown",
      "metadata": {
        "id": "6osQJS0czIu-"
      },
      "source": [
        "### Component: ALlow the model to process the outcome progressively"
      ]
    },
    {
      "cell_type": "code",
      "execution_count": null,
      "metadata": {
        "id": "SGtXe-NfwsW0",
        "outputId": "41add849-085f-4e56-c9b0-10cd001335a1",
        "colab": {
          "base_uri": "https://localhost:8080/"
        }
      },
      "outputs": [
        {
          "output_type": "stream",
          "name": "stdout",
          "text": [
            "The weather is beautiful today with sunshine, pleasant temperatures and windy conditions.\n",
            "\n",
            "French: Le temps est magnifique aujourd'hui avec du soleil, des températures agréables et du vent.\n",
            "\n",
            "French names: None\n",
            "\n",
            "JSON output:\n",
            "```json\n",
            "{\n",
            "  \"summary\": \"The weather is beautiful today with sunshine, pleasant temperatures and windy conditions.\",\n",
            "  \"french_summary\": \"Le temps est magnifique aujourd'hui avec du soleil, des températures agréables et du vent.\",\n",
            "  \"french_names\": []\n",
            "}\n",
            "``` \n",
            "\n"
          ]
        }
      ],
      "source": [
        "text = \"\"\"\n",
        "THe morning today is amazing, the sun is looking bright in between clouds, the weather is pleasent and the wind is mindblowing. on a whole i am loving the day today.\n",
        "\"\"\"\n",
        "\n",
        "prompt = f\"\"\" summarize the below text in 15 words, translate to french and list each name in the french summary, also createa json output.\n",
        "```{text}```\n",
        "\"\"\"\n",
        "\n",
        "response = generate_response(prompt)\n",
        "print(response)\n"
      ]
    },
    {
      "cell_type": "code",
      "execution_count": null,
      "metadata": {
        "id": "ic51u_OxzGQN",
        "outputId": "a31c3eb1-666f-4f3a-bc54-ea00c54a37d1",
        "colab": {
          "base_uri": "https://localhost:8080/"
        }
      },
      "outputs": [
        {
          "output_type": "stream",
          "name": "stdout",
          "text": [
            "```json\n",
            "{\n",
            "\"french_summary\": \"Le matin est magnifique, le soleil brille entre les nuages, le temps est agréable et le vent est incroyable. J'ai rencontré Jenny aujourd'hui et nous avons passé un bon moment.\",\n",
            "\"num_names\": 1\n",
            "}\n",
            "```\n"
          ]
        }
      ],
      "source": [
        "text = \"\"\"\n",
        "THe morning today is amazing, the sun is looking bright in between clouds, the weather is pleasent and the wind is mindblowing. on a whole i am loving the day today.\n",
        "I met Jenny today and we spent good time.\n",
        "\"\"\"\n",
        "\n",
        "prompt = f\"\"\"\n",
        "Perform the following tasks:\n",
        "1. Summarize the following text delimited by triple backticks in 15 words.\n",
        "2. translate the summary to French\n",
        "3. LIst each name in the french summary\n",
        "4. Output a json object that contains the following keys: french_summary, num_names.\n",
        "\n",
        "Text:\n",
        "```{text}```\n",
        "\"\"\"\n",
        "\n",
        "response = generate_response(prompt)\n",
        "print(response)\n"
      ]
    },
    {
      "cell_type": "code",
      "execution_count": null,
      "metadata": {
        "colab": {
          "base_uri": "https://localhost:8080/"
        },
        "id": "-1WZs8Lg0SlZ",
        "outputId": "95ff41b8-3321-4d58-9ea5-d7202f36592a"
      },
      "outputs": [
        {
          "output_type": "stream",
          "name": "stdout",
          "text": [
            "Text:\n",
            "<\n",
            "THe morning today is amazing, the sun is looking bright in between clouds, the weather is pleasent and the wind is mindblowing. on a whole i am loving the day today.\n",
            "I met Jenny today and we spent good time.\n",
            ">\n",
            "\n",
            "Summary:  The author enjoys a beautiful day and spends time with Jenny.\n",
            "\n",
            "Translation:  L'auteur apprécie une belle journée et passe du temps avec Jenny.\n",
            "\n",
            "Names: Jenny\n",
            "\n",
            "Output JSON:\n",
            "```json\n",
            "{\n",
            "  \"french_summary\": \"L'auteur apprécie une belle journée et passe du temps avec Jenny.\",\n",
            "  \"num_names\": 1\n",
            "}\n",
            "``` \n",
            "\n"
          ]
        }
      ],
      "source": [
        "text = \"\"\"\n",
        "THe morning today is amazing, the sun is looking bright in between clouds, the weather is pleasent and the wind is mindblowing. on a whole i am loving the day today.\n",
        "I met Jenny today and we spent good time.\n",
        "\"\"\"\n",
        "\n",
        "prompt = f\"\"\"\n",
        "Perform the following tasks:\n",
        "1. Summarize the following text delimited by <> in 15 words.\n",
        "2. translate the summary to French\n",
        "3. LIst each name in the french summary\n",
        "4. Output a json object that contains the following keys: french_summary, num_names.\n",
        "\n",
        "Use the following format:\n",
        "Text: <text to summarize>\n",
        "Summary: <summary >\n",
        "Tranlation: <Summary translation>\n",
        "Names: <list of names>\n",
        "Output JSON: <json with summary and num_names>\n",
        "\n",
        "Text:\n",
        "<{text}>\n",
        "\"\"\"\n",
        "\n",
        "response = generate_response(prompt)\n",
        "print(response)\n"
      ]
    },
    {
      "cell_type": "code",
      "execution_count": null,
      "metadata": {
        "colab": {
          "base_uri": "https://localhost:8080/",
          "height": 35
        },
        "id": "BP-Z6_8m0w2t",
        "outputId": "de3db54a-70f7-4bea-ef80-72b2d3524b74"
      },
      "outputs": [
        {
          "output_type": "execute_result",
          "data": {
            "text/plain": [
              "'False.  In boolean logic, \"+\" represents the logical OR operation. True OR True is True. \\n'"
            ],
            "application/vnd.google.colaboratory.intrinsic+json": {
              "type": "string"
            }
          },
          "metadata": {},
          "execution_count": 39
        }
      ],
      "source": [
        "prompt = f\"\"\"\n",
        "\n",
        "Evaluate the following expression considering boolean logic (All Values are in boolean):\n",
        "  True + True = True\n",
        "\"\"\"\n",
        "generate_response(prompt)\n"
      ]
    },
    {
      "cell_type": "markdown",
      "metadata": {
        "id": "tQI21lUDLkG4"
      },
      "source": [
        "## Chain of Thought Prompting"
      ]
    },
    {
      "cell_type": "code",
      "execution_count": null,
      "metadata": {
        "id": "JbMnOeiq2atC",
        "outputId": "0aeec538-78f8-41b2-a988-0b1185c38db3",
        "colab": {
          "base_uri": "https://localhost:8080/"
        }
      },
      "outputs": [
        {
          "output_type": "stream",
          "name": "stdout",
          "text": [
            "8 pens \n",
            "\n"
          ]
        }
      ],
      "source": [
        "# Without Chain of Thought Prompting\n",
        "prompt = f\"\"\"\n",
        "\n",
        "Teacher: Johan had 5 apples, he bought 4 more boxes with 5 apples each. How many apples does he have now?\n",
        "Student: 25 apples\n",
        "\n",
        "Teacher: Marry had 5 pens, she gave 3 to her friend. and bought 2 boxes of pen with 3 pen in each box. How many pens does she have now?\n",
        "Student:\n",
        "\n",
        "\"\"\"\n",
        "response = generate_response(prompt)\n",
        "print(response)"
      ]
    },
    {
      "cell_type": "code",
      "execution_count": null,
      "metadata": {
        "id": "Sz5Uhv68LkG4",
        "outputId": "a796fe4e-45ce-42f1-9ba3-06e4f1fe130f",
        "colab": {
          "base_uri": "https://localhost:8080/"
        }
      },
      "outputs": [
        {
          "output_type": "stream",
          "name": "stdout",
          "text": [
            "Marry had 5 pens, gave 3 away = 5 - 3 = 2 pens\n",
            "She bought 2 boxes with 3 pens each = 2 * 3 = 6 pens\n",
            "Now she has 2 + 6 = 8 pens \n",
            "\n"
          ]
        }
      ],
      "source": [
        "# with Chain of Thought prompting\n",
        "prompt = f\"\"\"\n",
        "\n",
        "Teacher: Johan had 5 apples, he bought 4 more boxes with 5 apples each. How many apples does he have now?\n",
        "Student: Johan had 5 apples, 4 boxes with 5 apples each = 5 + 4*5 = 25 apples\n",
        "\n",
        "Teacher: Marry had 5 pens, she gave 3 to her friend. and bought 2 boxes of pen with 3 pen in each box. How many pens does she have now?\n",
        "Student:\n",
        "\n",
        "\"\"\"\n",
        "response = generate_response(prompt)\n",
        "print(response)"
      ]
    },
    {
      "cell_type": "markdown",
      "metadata": {
        "id": "Z8_TNNG2Ozu6"
      },
      "source": [
        "# Model Limitations: Hallucinations"
      ]
    },
    {
      "cell_type": "code",
      "execution_count": null,
      "metadata": {
        "colab": {
          "base_uri": "https://localhost:8080/",
          "height": 53
        },
        "id": "n4rvOOeSPIDV",
        "outputId": "901fc667-68c9-4f4c-812b-753e66ef123a"
      },
      "outputs": [
        {
          "output_type": "execute_result",
          "data": {
            "text/plain": [
              "'There is no information available about an \"Ergonamic Toothbrush\" by Cognizant. Cognizant is a technology solutions company and does not produce consumer products like toothbrushes. \\n'"
            ],
            "application/vnd.google.colaboratory.intrinsic+json": {
              "type": "string"
            }
          },
          "metadata": {},
          "execution_count": 55
        }
      ],
      "source": [
        "prompt = f\"\"\"\n",
        "Tell me about Ergonamic Toothbrush by Cognizant.\n",
        "\"\"\"\n",
        "\n",
        "generate_response(prompt)"
      ]
    },
    {
      "cell_type": "code",
      "execution_count": null,
      "metadata": {
        "colab": {
          "base_uri": "https://localhost:8080/",
          "height": 53
        },
        "id": "hzawWC-7PT_l",
        "outputId": "763e1fb2-7605-4135-dbc0-11e5ccd5a43a"
      },
      "outputs": [
        {
          "output_type": "execute_result",
          "data": {
            "text/plain": [
              "'I do not have access to real-time information, including product details like the Ultraslim Toothbrush by Cognixia. To learn about this product, I recommend searching online retailers or the Cognixia website. \\n'"
            ],
            "application/vnd.google.colaboratory.intrinsic+json": {
              "type": "string"
            }
          },
          "metadata": {},
          "execution_count": 58
        }
      ],
      "source": [
        "prompt = f\"\"\"\n",
        "Tell me about Ultraslim Toothbrush by Cognixia.\n",
        "\"\"\"\n",
        "\n",
        "generate_response(prompt)"
      ]
    },
    {
      "cell_type": "code",
      "execution_count": null,
      "metadata": {
        "colab": {
          "base_uri": "https://localhost:8080/"
        },
        "id": "gjWPGpKzPdQB",
        "outputId": "dfe6fbaf-9023-438e-82bb-c0121c359e31"
      },
      "outputs": [
        {
          "output_type": "stream",
          "name": "stdout",
          "text": [
            "1. **Manila:** The vibrant capital of the Philippines.\n",
            "2. **Delhi:** India's bustling capital city, rich in history and culture.\n",
            "3. **Cognizantonia:** A fictional city, likely created for a specific purpose.\n",
            "4. **Tokyo:** Japan's modern metropolis, known for its unique blend of tradition and technology. \n",
            "\n"
          ]
        }
      ],
      "source": [
        "prompt = f\"\"\"\n",
        "Generate one line description for each of the following:\n",
        "1. Manila\n",
        "2. Delhi\n",
        "3. Cognizantonia\n",
        "4. Tokyo\n",
        "\"\"\"\n",
        "\n",
        "print(generate_response(prompt))"
      ]
    },
    {
      "cell_type": "code",
      "execution_count": null,
      "metadata": {
        "colab": {
          "base_uri": "https://localhost:8080/"
        },
        "id": "Io6r-CoeRP5r",
        "outputId": "fca76c4e-4763-4d8f-a8fa-fb43ef61456f"
      },
      "outputs": [
        {
          "output_type": "stream",
          "name": "stdout",
          "text": [
            "1. Manila: A bustling capital city in the Philippines known for its rich history and vibrant culture.\n",
            "2. Delhi: A sprawling metropolis in India, renowned for its ancient monuments and modern infrastructure.\n",
            "3. Cognizantonia: No description can be generated.\n",
            "4. Tokyo: A modern megacity in Japan, famous for its technological advancements and unique blend of tradition and modernity. \n",
            "\n"
          ]
        }
      ],
      "source": [
        "prompt = f\"\"\"\n",
        "Generate one line description for each of the following city, check if the city exists, if it does not exist, say no description can be generated:\n",
        "1. Manila\n",
        "2. Delhi\n",
        "3. Cognizantonia\n",
        "4. Tokyo\n",
        "\"\"\"\n",
        "\n",
        "print(generate_response(prompt))"
      ]
    },
    {
      "cell_type": "code",
      "execution_count": null,
      "metadata": {
        "id": "Lap6MZ-ARdKd"
      },
      "outputs": [],
      "source": []
    },
    {
      "cell_type": "markdown",
      "source": [
        "## Thank You"
      ],
      "metadata": {
        "id": "ePrDePleC-kJ"
      }
    }
  ],
  "metadata": {
    "colab": {
      "provenance": [],
      "include_colab_link": true
    },
    "kernelspec": {
      "display_name": "Python 3",
      "name": "python3"
    },
    "language_info": {
      "codemirror_mode": {
        "name": "ipython",
        "version": 3
      },
      "file_extension": ".py",
      "mimetype": "text/x-python",
      "name": "python",
      "nbconvert_exporter": "python",
      "pygments_lexer": "ipython3",
      "version": "3.10.9"
    }
  },
  "nbformat": 4,
  "nbformat_minor": 0
}