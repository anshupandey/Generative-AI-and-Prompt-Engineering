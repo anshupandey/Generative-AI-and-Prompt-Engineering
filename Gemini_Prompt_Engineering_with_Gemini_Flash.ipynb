{
  "cells": [
    {
      "cell_type": "markdown",
      "metadata": {
        "id": "view-in-github",
        "colab_type": "text"
      },
      "source": [
        "<a href=\"https://colab.research.google.com/github/anshupandey/Generative-AI-and-Prompt-Engineering/blob/main/Gemini_Prompt_Engineering_with_Gemini_Flash.ipynb\" target=\"_parent\"><img src=\"https://colab.research.google.com/assets/colab-badge.svg\" alt=\"Open In Colab\"/></a>"
      ]
    },
    {
      "cell_type": "markdown",
      "metadata": {
        "id": "5ZBMUH466r3l"
      },
      "source": [
        "# VertextAI Gemini : Prompt Engineering"
      ]
    },
    {
      "cell_type": "markdown",
      "metadata": {
        "id": "cNXxs3UNLkGj"
      },
      "source": [
        "### Prompt Engineering\n",
        "\n",
        "Prompt engineering is the process of designing and optimizing prompts to better utilize LLMs. Designing effective prompts is critical to the success of prompt engineering, and it can significantly improve the AI model's performance on specific tasks. Providing relevant, specific, unambiguous, and well structured prompts can help the model better understand the context and generate more accurate responses.\n",
        "\n",
        "For example, if we want an OpenAI model to generate product descriptions, we can provide it with a detailed description that describes the features and benefits of the product. By providing this context, the model can generate more accurate and relevant product descriptions."
      ]
    },
    {
      "cell_type": "markdown",
      "metadata": {
        "id": "No17Cw5hgx12"
      },
      "source": [
        "### Install Vertex AI SDK for Python\n"
      ]
    },
    {
      "cell_type": "code",
      "execution_count": 1,
      "metadata": {
        "id": "tFy3H3aPgx12"
      },
      "outputs": [],
      "source": [
        "! pip3 install --upgrade --user --quiet google-cloud-aiplatform"
      ]
    },
    {
      "cell_type": "markdown",
      "metadata": {
        "id": "dmWOrTJ3gx13"
      },
      "source": [
        "### Authenticate your notebook environment (Colab only)\n",
        "\n",
        "If you are running this notebook on Google Colab, run the cell below to authenticate your environment.\n"
      ]
    },
    {
      "cell_type": "code",
      "execution_count": 2,
      "metadata": {
        "id": "NyKGtVQjgx13"
      },
      "outputs": [],
      "source": [
        "import sys\n",
        "\n",
        "if \"google.colab\" in sys.modules:\n",
        "    from google.colab import auth\n",
        "    auth.authenticate_user()"
      ]
    },
    {
      "cell_type": "markdown",
      "metadata": {
        "id": "DF4l8DTdWgPY"
      },
      "source": [
        "### Set Google Cloud project information and initialize Vertex AI SDK\n",
        "\n",
        "To get started using Vertex AI, you must have an existing Google Cloud project and [enable the Vertex AI API](https://console.cloud.google.com/flows/enableapi?apiid=aiplatform.googleapis.com).\n",
        "\n",
        "Learn more about [setting up a project and a development environment](https://cloud.google.com/vertex-ai/docs/start/cloud-environment)."
      ]
    },
    {
      "cell_type": "code",
      "execution_count": 3,
      "metadata": {
        "id": "Nqwi-5ufWp_B"
      },
      "outputs": [],
      "source": [
        "PROJECT_ID = \"jrproject-402905\"  # @param {type:\"string\"}\n",
        "LOCATION = \"us-central1\"  # @param {type:\"string\"}\n",
        "MODEL_ID = \"gemini-1.5-flash-preview-0514\"  # @param {type:\"string\"}\n",
        "import vertexai\n",
        "vertexai.init(project=PROJECT_ID, location=LOCATION)"
      ]
    },
    {
      "cell_type": "code",
      "execution_count": 4,
      "metadata": {
        "id": "lslYAvw37JGQ"
      },
      "outputs": [],
      "source": [
        "from vertexai.generative_models import GenerationConfig, GenerativeModel\n",
        "# load the model\n",
        "model = GenerativeModel(MODEL_ID, system_instruction=[ \"You are a helpful assistant.\",\"Your answer questions in a concise way\",],)\n",
        "\n",
        "# Set model parameters\n",
        "generation_config = GenerationConfig( temperature=0.9, top_k=32,)\n",
        "\n",
        "def generate_response(prompt,model=model):\n",
        "  contents = [prompt]\n",
        "  response = model.generate_content(contents, generation_config=generation_config,)\n",
        "  return response.text"
      ]
    },
    {
      "cell_type": "code",
      "execution_count": 5,
      "metadata": {
        "colab": {
          "base_uri": "https://localhost:8080/"
        },
        "id": "tLgNfQbz7xpQ",
        "outputId": "01df29a5-39f6-46f0-8d3b-b8149611347e"
      },
      "outputs": [
        {
          "output_type": "stream",
          "name": "stdout",
          "text": [
            "```python\n",
            "print(\"Hello World\")\n",
            "``` \n",
            "\n"
          ]
        }
      ],
      "source": [
        "response = generate_response(\"Write a python code to print 'Hello World'\")\n",
        "print(response)"
      ]
    },
    {
      "cell_type": "markdown",
      "metadata": {
        "id": "Ij40o9G0ESfg"
      },
      "source": [
        "# Key guidelines for prompt engineering\n",
        "\n",
        "1. CCS: Clear, Concise and Specific instructions\n",
        "\n",
        "  a. Use proper delimeters\n",
        "      - Triple Quotes \"\"\"\n",
        "      - Triple backticks ```\n",
        "      - Triple Dashes ---\n",
        "      - Angle bracket <>\n",
        "      - xml tags \"< start> < /start>\"\n",
        "\n",
        "  b. be structured in content: Use Persona, Task, constraints, output format\n",
        "2. Give the model time to think\n"
      ]
    },
    {
      "cell_type": "markdown",
      "metadata": {
        "id": "SyGpCUafNffB"
      },
      "source": [
        "## component 1: Use proper delimeters\n"
      ]
    },
    {
      "cell_type": "code",
      "execution_count": 6,
      "metadata": {
        "id": "rSkCESQV7-Iw",
        "outputId": "92a22916-4571-4008-9197-a3452e587137",
        "colab": {
          "base_uri": "https://localhost:8080/",
          "height": 139
        }
      },
      "outputs": [
        {
          "output_type": "execute_result",
          "data": {
            "text/plain": [
              "'\\nSummarize the text delimited by triple backticks into a single sentence.\\n```\\nNorth Korean leader Kim Jong Un, currently visiting Russia, inspected several state-of-the-art systems deployed in the ongoing Ukraine war, including the Kinzhal hypersonic missile, supersonic bombers, and the latest weapons mounted on the MiG-31 missile carrier.\\nThis information was published by the Russian Ministry of Defense (RuMoD) on its official Telegram channel. The inspection of the next-generation missile system was also accompanied by a meeting with Russian Defense Minister Sergei Shoigu at the Knevichi airfield near Vladivostok in the Far East of Russia.\\n“At the Knevichi airfield, Russian Minister of Defense General of the Army Sergei Shoigu presented the Russian MiG-31I missile carrier with the latest weaponry – the Kinzhal hypersonic air-launched missile – to the leader of the Democratic People’s Republic of Korea Kim Jong-un,” the RuMoD said in a statement on Telegram.\\nBriefing the North Korean leader, Commander of the Long-Range Aviation of the Russian Aerospace Forces Lieutenant General Sergei Kobylash reported on the flight and technical characteristics of the Kinzhal hypersonic missile system. On top of that, he noted that the system includes a Mig-31I missile carrier equipped with the Kinzhal hypersonic aero-ballistic missile and a missile control system.\\n“This Russian aircraft system has no equivalent anywhere in the world and has shown to be very combat-effective,” the Russian MoD said in a statement emphasizing the deadly combination of MiG-31 and the Kinzhal hypersonic missiles. Russia has fired these missiles, touted as invincible by Russia, on Ukrainian targets several times during this bloody conflict.\\nAs he spoke with Shoigu and other military officials through interpreters about technical specifics, Kim looked at the Kinzhal missile, gestured, and asked questions about the jets’ capabilities.\\nThe inspection is significant as it comes amid heightened concerns in the West about a potential arms agreement that will be signed between the two of its adversaries, which have been inching closer to each other since the Russian invasion led to Moscow’s isolation.\\nhttps://twitter.com/i/status/1703110950822293981\\nWestern commentators believe Kim’s visit to Russia’s military and technical installations may have hinted at what he wants from Russia in return for giving ammunition to top off Putin’s depleting supplies. However, there is no information as to what systems the North Korean President would be interested in if an arms agreement is indeed in the works.\\nAccording to experts, prospective military cooperation between the two nations may entail initiatives to update North Korea’s obsolete air force, which was still dependent on jets from the Soviet Union in the 1980s. However, experts also believe that the Kinzhal and the MiG-31 inspection do not automatically translate into a deal.\\nKh-47M2 Kinzhal - Wikipedia\\nIndian Air Force veteran and military expert who keenly watches the Russian military, Squadron Leader Vijainder K. Thakur (retd.), explained to EurAsian Times, “Kinzhal is not just a missile that you can shoot at the adversary. It needs a launch platform that is expensive and difficult to operate. It needs intelligence for targeting. North Korea does not have MiG-31D. Since the heavy fighter is not in production, it is very doubtful that Russia can transfer it to North Korea.”\\nWhen it was pointed out that Russia is reportedly firing the Kinzhal from its Su-34 Fullback fighter bomber, Thakur retorted, “North Korea does not have Su 34. Russia has as yet not met its demand for its Su-34 frontline bomber. So, it is improbable.”\\nThe US has accused Kim of supplying weapons and ammunition, including shells and rockets, to support Putin’s conflict for months. Although the US claims that the guns won’t dramatically change the battlefield, they can still be used to shell Ukraine. More importantly, these sales could give North Korea a new source of income for a country whose economy is mainly cut off from international trade.\\nSome officials in the US as well as South Korea have warned that any such deal would be in contravention of the UN sanctions and would come at a heavy price.\\nCutting-Edge Systems Shown To North Korean Leader\\nThe North Korean leader was also shown an array of cutting-edge warplanes, out of which its strategic supersonic bombers particularly stood out. Bombers like Tu-160, Tu-95, and Tu-22 bombers that have been extensively deployed to launch cruise missiles were presented to Kim Jong Un.\\nIn addition, Kim was informed by Shoigu and Lt. Gen. Sergei Kobylash that the Tu-160 had just acquired brand-new cruise missiles with a 4,040-mile range. Shoigu pointed to the weapons bay and stated that each bomber had 12 missiles.\\nBesides the bombers, Kim also had the chance to see Russia’s fifth-generation stealth jet. The RuMoD noted that Kim also visited the Russian Marshal Shaposhnikov frigate to inspect the Su-35 and the Su-57 stealth combat fighter during a tour of a factory producing fighter jets and other aircraft types.\\n```\\n'"
            ],
            "application/vnd.google.colaboratory.intrinsic+json": {
              "type": "string"
            }
          },
          "metadata": {},
          "execution_count": 6
        }
      ],
      "source": [
        "\n",
        "text = \"\"\"\n",
        "North Korean leader Kim Jong Un, currently visiting Russia, inspected several state-of-the-art systems deployed in the ongoing Ukraine war, including the Kinzhal hypersonic missile, supersonic bombers, and the latest weapons mounted on the MiG-31 missile carrier.\n",
        "This information was published by the Russian Ministry of Defense (RuMoD) on its official Telegram channel. The inspection of the next-generation missile system was also accompanied by a meeting with Russian Defense Minister Sergei Shoigu at the Knevichi airfield near Vladivostok in the Far East of Russia.\n",
        "“At the Knevichi airfield, Russian Minister of Defense General of the Army Sergei Shoigu presented the Russian MiG-31I missile carrier with the latest weaponry – the Kinzhal hypersonic air-launched missile – to the leader of the Democratic People’s Republic of Korea Kim Jong-un,” the RuMoD said in a statement on Telegram.\n",
        "Briefing the North Korean leader, Commander of the Long-Range Aviation of the Russian Aerospace Forces Lieutenant General Sergei Kobylash reported on the flight and technical characteristics of the Kinzhal hypersonic missile system. On top of that, he noted that the system includes a Mig-31I missile carrier equipped with the Kinzhal hypersonic aero-ballistic missile and a missile control system.\n",
        "“This Russian aircraft system has no equivalent anywhere in the world and has shown to be very combat-effective,” the Russian MoD said in a statement emphasizing the deadly combination of MiG-31 and the Kinzhal hypersonic missiles. Russia has fired these missiles, touted as invincible by Russia, on Ukrainian targets several times during this bloody conflict.\n",
        "As he spoke with Shoigu and other military officials through interpreters about technical specifics, Kim looked at the Kinzhal missile, gestured, and asked questions about the jets’ capabilities.\n",
        "The inspection is significant as it comes amid heightened concerns in the West about a potential arms agreement that will be signed between the two of its adversaries, which have been inching closer to each other since the Russian invasion led to Moscow’s isolation.\n",
        "https://twitter.com/i/status/1703110950822293981\n",
        "Western commentators believe Kim’s visit to Russia’s military and technical installations may have hinted at what he wants from Russia in return for giving ammunition to top off Putin’s depleting supplies. However, there is no information as to what systems the North Korean President would be interested in if an arms agreement is indeed in the works.\n",
        "According to experts, prospective military cooperation between the two nations may entail initiatives to update North Korea’s obsolete air force, which was still dependent on jets from the Soviet Union in the 1980s. However, experts also believe that the Kinzhal and the MiG-31 inspection do not automatically translate into a deal.\n",
        "Kh-47M2 Kinzhal - Wikipedia\n",
        "Indian Air Force veteran and military expert who keenly watches the Russian military, Squadron Leader Vijainder K. Thakur (retd.), explained to EurAsian Times, “Kinzhal is not just a missile that you can shoot at the adversary. It needs a launch platform that is expensive and difficult to operate. It needs intelligence for targeting. North Korea does not have MiG-31D. Since the heavy fighter is not in production, it is very doubtful that Russia can transfer it to North Korea.”\n",
        "When it was pointed out that Russia is reportedly firing the Kinzhal from its Su-34 Fullback fighter bomber, Thakur retorted, “North Korea does not have Su 34. Russia has as yet not met its demand for its Su-34 frontline bomber. So, it is improbable.”\n",
        "The US has accused Kim of supplying weapons and ammunition, including shells and rockets, to support Putin’s conflict for months. Although the US claims that the guns won’t dramatically change the battlefield, they can still be used to shell Ukraine. More importantly, these sales could give North Korea a new source of income for a country whose economy is mainly cut off from international trade.\n",
        "Some officials in the US as well as South Korea have warned that any such deal would be in contravention of the UN sanctions and would come at a heavy price.\n",
        "Cutting-Edge Systems Shown To North Korean Leader\n",
        "The North Korean leader was also shown an array of cutting-edge warplanes, out of which its strategic supersonic bombers particularly stood out. Bombers like Tu-160, Tu-95, and Tu-22 bombers that have been extensively deployed to launch cruise missiles were presented to Kim Jong Un.\n",
        "In addition, Kim was informed by Shoigu and Lt. Gen. Sergei Kobylash that the Tu-160 had just acquired brand-new cruise missiles with a 4,040-mile range. Shoigu pointed to the weapons bay and stated that each bomber had 12 missiles.\n",
        "Besides the bombers, Kim also had the chance to see Russia’s fifth-generation stealth jet. The RuMoD noted that Kim also visited the Russian Marshal Shaposhnikov frigate to inspect the Su-35 and the Su-57 stealth combat fighter during a tour of a factory producing fighter jets and other aircraft types.\n",
        "\"\"\"\n",
        "\n",
        "prompt = f\"\"\"\n",
        "Summarize the text delimited by triple backticks into a single sentence.\n",
        "\n",
        "```{text}```\n",
        "\"\"\"\n",
        "prompt"
      ]
    },
    {
      "cell_type": "code",
      "execution_count": 7,
      "metadata": {
        "colab": {
          "base_uri": "https://localhost:8080/"
        },
        "id": "EzTSEbwLF44U",
        "outputId": "1f238eb7-c311-4c3a-81bb-5fda81f201cf"
      },
      "outputs": [
        {
          "output_type": "stream",
          "name": "stdout",
          "text": [
            "North Korean leader Kim Jong Un inspected Russia's latest weaponry, including the Kinzhal hypersonic missile and the MiG-31 fighter jet, during a visit to Russia, raising concerns about a potential arms deal between the two countries. \n",
            "\n"
          ]
        }
      ],
      "source": [
        "response = generate_response(prompt)\n",
        "print(response)"
      ]
    },
    {
      "cell_type": "markdown",
      "metadata": {
        "id": "b_xtLoDINhff"
      },
      "source": [
        "## component 2: Ask for the output in a specific format\n"
      ]
    },
    {
      "cell_type": "code",
      "execution_count": 8,
      "metadata": {
        "id": "Nj7eA0p1LkGo",
        "outputId": "0e6d5697-15e5-47c0-ffca-989947f12e13",
        "colab": {
          "base_uri": "https://localhost:8080/"
        }
      },
      "outputs": [
        {
          "output_type": "stream",
          "name": "stdout",
          "text": [
            "| Animal | Genus | Species |\n",
            "|---|---|---|\n",
            "| Lion | Panthera | leo |\n",
            "| Tiger | Panthera | tigris |\n",
            "| Elephant | Loxodonta | africana |\n",
            "| Giraffe | Giraffa | camelopardalis |\n",
            "| Zebra | Equus | quagga |\n",
            "| Penguin | Spheniscus | humboldti | \n",
            "\n"
          ]
        }
      ],
      "source": [
        "prompt = \"\"\"Write a table in markdown with 6 animal names in it, with their type and species\"\"\"\n",
        "response = generate_response(prompt)\n",
        "print(response)"
      ]
    },
    {
      "cell_type": "code",
      "execution_count": 10,
      "metadata": {
        "id": "GV-WtC6DNnTf"
      },
      "outputs": [],
      "source": [
        "# Task , format\n",
        "prompt = \"\"\"\n",
        "Generate a list of 10 job titles related to Analytics and Software Engineering along with important skills and tools used.\n",
        "provide them in JSON format with the following  keys:\n",
        "job_id, job_title, job_skills, job_tools\n",
        "\"\"\"\n",
        "response = generate_response(prompt)"
      ]
    },
    {
      "cell_type": "code",
      "execution_count": 11,
      "metadata": {
        "id": "dtxu5SY5OXEx",
        "outputId": "d508c892-49b4-49cf-f166-e0e1a7b225bf",
        "colab": {
          "base_uri": "https://localhost:8080/"
        }
      },
      "outputs": [
        {
          "output_type": "stream",
          "name": "stdout",
          "text": [
            "```json\n",
            "[\n",
            "  {\n",
            "    \"job_id\": \"1\",\n",
            "    \"job_title\": \"Data Scientist\",\n",
            "    \"job_skills\": [\"Machine Learning\", \"Statistical Modeling\", \"Data Visualization\", \"Python\", \"R\", \"SQL\"],\n",
            "    \"job_tools\": [\"Scikit-learn\", \"TensorFlow\", \"Pandas\", \"Tableau\", \"Power BI\"]\n",
            "  },\n",
            "  {\n",
            "    \"job_id\": \"2\",\n",
            "    \"job_title\": \"Data Analyst\",\n",
            "    \"job_skills\": [\"Data Cleaning\", \"Data Transformation\", \"SQL\", \"Excel\", \"Data Visualization\", \"Business Intelligence\"],\n",
            "    \"job_tools\": [\"Tableau\", \"Power BI\", \"SQL Server\", \"MySQL\"]\n",
            "  },\n",
            "  {\n",
            "    \"job_id\": \"3\",\n",
            "    \"job_title\": \"Software Engineer\",\n",
            "    \"job_skills\": [\"Programming (Java, Python, C++),\", \"Object-Oriented Programming\", \"Software Design\", \"Version Control (Git)\"],\n",
            "    \"job_tools\": [\"Eclipse\", \"IntelliJ\", \"Git\", \"Jenkins\", \"Docker\"]\n",
            "  },\n",
            "  {\n",
            "    \"job_id\": \"4\",\n",
            "    \"job_title\": \"Data Engineer\",\n",
            "    \"job_skills\": [\"Data Pipelines\", \"Big Data Technologies\", \"Cloud Computing\", \"SQL\", \"Python\", \"Spark\", \"Hadoop\"],\n",
            "    \"job_tools\": [\"AWS\", \"Azure\", \"Google Cloud\", \"Spark\", \"Hadoop\", \"Kafka\"]\n",
            "  },\n",
            "  {\n",
            "    \"job_id\": \"5\",\n",
            "    \"job_title\": \"Machine Learning Engineer\",\n",
            "    \"job_skills\": [\"Machine Learning Algorithms\", \"Deep Learning\", \"Python\", \"R\", \"TensorFlow\", \"PyTorch\"],\n",
            "    \"job_tools\": [\"TensorFlow\", \"PyTorch\", \"Keras\", \"Scikit-learn\", \"Jupyter Notebook\"]\n",
            "  },\n",
            "  {\n",
            "    \"job_id\": \"6\",\n",
            "    \"job_title\": \"Business Intelligence Analyst\",\n",
            "    \"job_skills\": [\"Data Analysis\", \"Reporting\", \"Data Visualization\", \"SQL\", \"Excel\", \"Business Acumen\"],\n",
            "    \"job_tools\": [\"Tableau\", \"Power BI\", \"Qlik Sense\", \"SQL Server\", \"MySQL\"]\n",
            "  },\n",
            "  {\n",
            "    \"job_id\": \"7\",\n",
            "    \"job_title\": \"Analytics Manager\",\n",
            "    \"job_skills\": [\"Leadership\", \"Strategic Thinking\", \"Data Analysis\", \"Communication\", \"Team Management\"],\n",
            "    \"job_tools\": [\"Tableau\", \"Power BI\", \"Excel\", \"Project Management Tools\"]\n",
            "  },\n",
            "  {\n",
            "    \"job_id\": \"8\",\n",
            "    \"job_title\": \"Full Stack Developer\",\n",
            "    \"job_skills\": [\"Front-end Development (HTML, CSS, JavaScript)\", \"Back-end Development (Python, Node.js)\", \"Databases (SQL, NoSQL)\"],\n",
            "    \"job_tools\": [\"React\", \"Angular\", \"Vue.js\", \"Node.js\", \"Express.js\", \"MongoDB\", \"PostgreSQL\"]\n",
            "  },\n",
            "  {\n",
            "    \"job_id\": \"9\",\n",
            "    \"job_title\": \"DevOps Engineer\",\n",
            "    \"job_skills\": [\"Cloud Computing (AWS, Azure, GCP)\", \"Infrastructure Automation\", \"Continuous Integration/Continuous Delivery (CI/CD)\", \"Scripting (Bash, Python)\"],\n",
            "    \"job_tools\": [\"AWS\", \"Azure\", \"GCP\", \"Docker\", \"Kubernetes\", \"Ansible\", \"Terraform\", \"Jenkins\"]\n",
            "  },\n",
            "  {\n",
            "    \"job_id\": \"10\",\n",
            "    \"job_title\": \"Data Architect\",\n",
            "    \"job_skills\": [\"Database Design\", \"Data Modeling\", \"Data Warehousing\", \"Cloud Computing\", \"SQL\"],\n",
            "    \"job_tools\": [\"SQL Server\", \"Oracle\", \"MySQL\", \"AWS Redshift\", \"Azure SQL Database\", \"Snowflake\"]\n",
            "  }\n",
            "]\n",
            "```\n"
          ]
        }
      ],
      "source": [
        "print(response)"
      ]
    },
    {
      "cell_type": "code",
      "execution_count": 12,
      "metadata": {
        "id": "mnp0q_V0OZvQ"
      },
      "outputs": [],
      "source": [
        "# Task , format\n",
        "prompt = \"\"\"\n",
        "Generate a list of 10 job titles related to Analytics and Software Engineering along with important skills and tools used.\n",
        "provide them in CSV format with the following headers:\n",
        "job_id, job_title, job_skills, job_tools\n",
        "\"\"\"\n",
        "response = generate_response(prompt)"
      ]
    },
    {
      "cell_type": "code",
      "execution_count": 13,
      "metadata": {
        "id": "ITVZTujKOswJ",
        "outputId": "f869d51b-29f7-433d-caf2-8347bb5e746c",
        "colab": {
          "base_uri": "https://localhost:8080/"
        }
      },
      "outputs": [
        {
          "output_type": "stream",
          "name": "stdout",
          "text": [
            "job_id,job_title,job_skills,job_tools\n",
            "1,Data Scientist,Statistical analysis,Machine learning,Python,R,SQL,Spark\n",
            "2,Software Engineer,Programming,Problem-solving,Software design,Java,C++,Python,Git\n",
            "3,Data Analyst,Data visualization,Data cleaning,SQL,Excel,Tableau\n",
            "4,Business Intelligence Analyst,Data analysis,Reporting,SQL,Power BI,Tableau\n",
            "5,Machine Learning Engineer,Machine learning algorithms,Deep learning,Python,TensorFlow,PyTorch\n",
            "6,Data Engineer,Data pipeline development,Data warehousing,SQL,Python,Spark,Hadoop\n",
            "7,Analytics Manager,Data analysis,Team management,Leadership,SQL,Python,Tableau\n",
            "8,Software Architect,Software design,System architecture,Programming,Java,C++,Python\n",
            "9,DevOps Engineer,Automation,Infrastructure management,Linux,Docker,Kubernetes\n",
            "10,AI Engineer,Artificial intelligence,Machine learning,Deep learning,Python,TensorFlow,PyTorch \n",
            "\n"
          ]
        }
      ],
      "source": [
        "print(response)"
      ]
    },
    {
      "cell_type": "code",
      "execution_count": 14,
      "metadata": {
        "id": "loIN5Ys_OtnB"
      },
      "outputs": [],
      "source": [
        "# Task , format, constraint\n",
        "prompt = \"\"\"\n",
        "Generate a list of 10 job titles related to Analytics and Software Engineering along with important skills and tools used.\n",
        "provide them in CSV format with the following headers:\n",
        "job_id, job_title, job_skills, job_tools\n",
        "In a single column such as job_skills and job_tools, keep multiple values separated by a semicolon.\n",
        "\"\"\"\n",
        "response = generate_response(prompt)"
      ]
    },
    {
      "cell_type": "code",
      "execution_count": 15,
      "metadata": {
        "id": "5NFwrZ0hPbqD",
        "outputId": "6d1180b8-187d-4f23-cd9e-be6a11b84c2d",
        "colab": {
          "base_uri": "https://localhost:8080/"
        }
      },
      "outputs": [
        {
          "output_type": "stream",
          "name": "stdout",
          "text": [
            "job_id,job_title,job_skills,job_tools\n",
            "1,Data Scientist,Statistical modeling;Machine learning;Data visualization;Python;R;SQL;Spark;TensorFlow;Scikit-learn,Jupyter Notebook;Tableau;Power BI;RStudio\n",
            "2,Software Engineer,Software development;Object-oriented programming;Data structures and algorithms;Agile development;Version control;Cloud computing;Java;Python;C++;JavaScript,Git;GitHub;Jira;Jenkins;Docker\n",
            "3,Data Analyst,Data cleaning;Data transformation;Data visualization;SQL;Python;Excel;Tableau;Power BI,SQL Server;MySQL;PostgreSQL;Excel;Tableau\n",
            "4,Business Intelligence Analyst,Data analysis;Data reporting;Business intelligence tools;SQL;Python;Excel;Tableau;Power BI,SQL Server;MySQL;PostgreSQL;Excel;Tableau;Power BI\n",
            "5,Machine Learning Engineer,Machine learning algorithms;Deep learning;Natural language processing;Computer vision;Python;R;Java;Scala,TensorFlow;PyTorch;Keras;Scikit-learn;Spark;Hadoop\n",
            "6,Data Engineer,Data warehousing;Data pipelines;Big data technologies;SQL;Python;Java;Scala;Spark;Hadoop,AWS;Azure;GCP;Hive;Kafka;Airflow\n",
            "7,Analytics Manager,Data analysis;Strategic planning;Team management;Communication skills;Leadership skills;SQL;Python;Excel;Tableau;Power BI,SQL Server;MySQL;PostgreSQL;Excel;Tableau;Power BI\n",
            "8,Data Architect,Data modeling;Database design;Data warehousing;Data governance;SQL;Python;Java;Scala,SQL Server;MySQL;PostgreSQL;Oracle;MongoDB\n",
            "9,DevOps Engineer,Infrastructure automation;Continuous integration and delivery;Cloud computing;Scripting languages;Python;Bash;Go;JavaScript,Docker;Kubernetes;Ansible;Terraform;Jenkins\n",
            "10,Software Development Manager,Software development;Project management;Agile development;Team leadership;Communication skills;Java;Python;C++;JavaScript,Git;GitHub;Jira;Jenkins;Docker \n",
            "\n"
          ]
        }
      ],
      "source": [
        "print(response)"
      ]
    },
    {
      "cell_type": "code",
      "execution_count": 16,
      "metadata": {
        "id": "oLt0pk3APfps"
      },
      "outputs": [],
      "source": [
        "with open(\"job_data.csv\",'w') as file:\n",
        "  file.write(response)"
      ]
    },
    {
      "cell_type": "code",
      "execution_count": 17,
      "metadata": {
        "id": "o1fNlBgbP1kR",
        "outputId": "4a28739b-3d9a-4aa6-89d1-a8b3ad493254",
        "colab": {
          "base_uri": "https://localhost:8080/"
        }
      },
      "outputs": [
        {
          "output_type": "stream",
          "name": "stdout",
          "text": [
            "Step 1: Fill a basin or tub with warm water.\n",
            "Step 2: Add detergent to the water and mix it well.\n",
            "Step 3: Submerge the dirty clothes in the soapy water and let them soak for a while.\n",
            "Step 4: Remove the clothes from the water and use a soft brush to scrub any remaining stains.\n",
            "Step 5: Rinse the clothes thoroughly with clean water to remove all traces of detergent.\n",
            "Step 6: Hang the wet clothes on a rope or drying rack to dry. \n",
            "\n"
          ]
        }
      ],
      "source": [
        "# asking for a specific format\n",
        "text = \"\"\"\n",
        "Washing clothes without washing machines is easy!\n",
        "First you need to get some warm water. Mix the warm water with some detergent. Second you can put the dirty clothes in it and let it stay wet for some time.\n",
        "During this period the stains will get loose and mixed with water.\n",
        "thereafter you can take clothes out, rub the dirt/stains with a soft brush to remove the stains if any.\n",
        "get the clothes mixed with water to get the detergent out of it. and then put it for drying on a rope.\n",
        "Enjoy the clean clothes.\n",
        "\"\"\"\n",
        "\n",
        "prompt = f\"\"\"\n",
        "you will be provided with some text delimited by triple backticks. Rewrite those into a set of instructions in the following format:\n",
        "\n",
        "Step 1: ...\n",
        "Step 2: ....\n",
        "..\n",
        "Step N:...\n",
        "\n",
        "```{text}\n",
        "```\n",
        "\"\"\"\n",
        "response = generate_response(prompt)\n",
        "print(response)\n"
      ]
    },
    {
      "cell_type": "code",
      "execution_count": 19,
      "metadata": {
        "id": "I-I0CzPKTyfd",
        "outputId": "1066f6ee-1033-4138-8490-5bdaa023e5bb",
        "colab": {
          "base_uri": "https://localhost:8080/"
        }
      },
      "outputs": [
        {
          "output_type": "stream",
          "name": "stdout",
          "text": [
            "Step 1:  Enjoy the pleasant weather.\n",
            "Step 2: Appreciate the bright sun peeking through the clouds.\n",
            "Step 3: Embrace the invigorating wind.\n",
            "Step 4: Have a wonderful day! \n",
            "\n"
          ]
        }
      ],
      "source": [
        "# asking for a specific format\n",
        "text = \"\"\"\n",
        "THe morning today is amazing, the sun is looking bright in between clouds, the weather is pleasent and the wind is mindblowing. on a whole i am loving the day today.\n",
        "\"\"\"\n",
        "\n",
        "prompt = f\"\"\"\n",
        "you will be provided with some text delimited by triple backticks. Rewrite those into a set of instructions in the following format:\n",
        "\n",
        "Step 1: ...\n",
        "Step 2: ....\n",
        "..\n",
        "Step N:...\n",
        "\n",
        "```{text}\n",
        "```\n",
        "\"\"\"\n",
        "response = generate_response(prompt)\n",
        "print(response)\n"
      ]
    },
    {
      "cell_type": "code",
      "execution_count": 20,
      "metadata": {
        "colab": {
          "base_uri": "https://localhost:8080/"
        },
        "id": "GTuKaTEeUVWE",
        "outputId": "b346ac15-480d-443f-f42b-b2e86d7f2a2b"
      },
      "outputs": [
        {
          "output_type": "stream",
          "name": "stdout",
          "text": [
            "Step 1: Get some warm water and mix it with detergent.\n",
            "Step 2: Put the dirty clothes in the water and let them soak for a while.\n",
            "Step 3: Remove the clothes from the water and rub any remaining stains with a soft brush.\n",
            "Step 4: Rinse the clothes in clean water to remove the detergent.\n",
            "Step 5: Hang the clothes on a rope to dry. \n",
            "\n"
          ]
        }
      ],
      "source": [
        "# asking for a specific format\n",
        "text = \"\"\"\n",
        "Washing clothes without washing machines is easy!\n",
        "First you need to get some warm water. Mix the warm water with some detergent. Second you can put the dirty clothes in it and let it stay wet for some time.\n",
        "During this period the stains will get loose and mixed with water.\n",
        "thereafter you can take clothes out, rub the dirt/stains with a soft brush to remove the stains if any.\n",
        "get the clothes mixed with water to get the detergent out of it. and then put it for drying on a rope.\n",
        "Enjoy the clean clothes.\n",
        "\"\"\"\n",
        "\n",
        "prompt = f\"\"\"\n",
        "you will be provided with some text delimited by triple backticks.\n",
        "Rewrite those into a set of instructions in the following format only if contains a sequence of instructions:\n",
        "\n",
        "Step 1: ...\n",
        "Step 2: ....\n",
        "..\n",
        "Step N:...\n",
        "\n",
        "```{text}\n",
        "```\n",
        "\n",
        "if the text does not contain a sequence of instructions, then simply write 'No steps provided'\n",
        "\"\"\"\n",
        "response = generate_response(prompt)\n",
        "print(response)\n"
      ]
    },
    {
      "cell_type": "code",
      "execution_count": 21,
      "metadata": {
        "colab": {
          "base_uri": "https://localhost:8080/"
        },
        "id": "nAZGUBpTUrgv",
        "outputId": "7cfcf40e-b8a1-4f2a-a273-8f8a2ce17568"
      },
      "outputs": [
        {
          "output_type": "stream",
          "name": "stdout",
          "text": [
            "No steps provided \n",
            "\n"
          ]
        }
      ],
      "source": [
        "# asking for a specific format\n",
        "text = \"\"\"\n",
        "THe morning today is amazing, the sun is looking bright in between clouds, the weather is pleasent and the wind is mindblowing. on a whole i am loving the day today.\n",
        "\"\"\"\n",
        "\n",
        "prompt = f\"\"\"\n",
        "you will be provided with some text delimited by triple backticks.\n",
        "Rewrite those into a set of instructions in the following format only if contains a sequence of instructions:\n",
        "\n",
        "Step 1: ...\n",
        "Step 2: ....\n",
        "..\n",
        "Step N:...\n",
        "\n",
        "```{text}\n",
        "```\n",
        "\n",
        "if the text does not contain a sequence of instructions, then simply write 'No steps provided'\n",
        "\"\"\"\n",
        "response = generate_response(prompt)\n",
        "print(response)\n"
      ]
    },
    {
      "cell_type": "markdown",
      "metadata": {
        "id": "pcBE11_6vwJd"
      },
      "source": [
        "## Zero Shot Prompting\n",
        "\n",
        "Here, the model is given a no examples (shots) to guide its response.\n"
      ]
    },
    {
      "cell_type": "code",
      "execution_count": 22,
      "metadata": {
        "id": "1DpqkFzDvsTe",
        "outputId": "cce7f2fd-bfcd-4287-da44-e195486b4082",
        "colab": {
          "base_uri": "https://localhost:8080/"
        }
      },
      "outputs": [
        {
          "output_type": "stream",
          "name": "stdout",
          "text": [
            "\"Grandma, why is the sky blue?\" \n",
            "\n",
            "\"Well, little one, the sun shines a bright white light. But that light is made of all the colours of the rainbow, just like a prism. When the light goes through the air, it bounces off the tiny particles, and the blue colour scatters more than the others. That's why we see the sky as blue!\" \n",
            "\n",
            "\"Wow, that's amazing! So, if the sun is white, why do we see it as yellow?\"\n",
            "\n",
            "\"Good question! The sun actually looks yellow because the air absorbs some of the blue light. It's like a filter, making the sun appear yellow to us.\"\n",
            "\n",
            "\"So, the sun is actually white, and the sky is actually all the colours of the rainbow?\"\n",
            "\n",
            "\"That's right! It's all about how light travels and how our eyes see it.\"\n",
            "\n"
          ]
        }
      ],
      "source": [
        "# zero shot prompting\n",
        "prompt = f\"\"\"\n",
        "\n",
        "Create a conversation story between child and grandparent.\n",
        "\"\"\"\n",
        "\n",
        "response = generate_response(prompt)\n",
        "print(response)"
      ]
    },
    {
      "cell_type": "markdown",
      "source": [
        "## Few Shot Prompting\n",
        "\n",
        "Here, the model is given a few examples (shots) to guide its response. By providing context or previous instances, the model can better understand and generate the desired output. For example, showing a model several examples of translated sentences before asking it to translate a new one.\n"
      ],
      "metadata": {
        "id": "xPlUESWjZpDQ"
      }
    },
    {
      "cell_type": "code",
      "execution_count": 23,
      "metadata": {
        "colab": {
          "base_uri": "https://localhost:8080/"
        },
        "id": "8SurLNqfa6wi",
        "outputId": "afd5b8a4-1f69-4110-a8b2-af95072e252c"
      },
      "outputs": [
        {
          "output_type": "stream",
          "name": "stdout",
          "text": [
            "<grandma>: Resilience is like a small seed that grows into a strong tree, even when it faces storms and harsh weather. \n",
            "\n"
          ]
        }
      ],
      "source": [
        "# few shot prompting\n",
        "prompt = f\"\"\"\n",
        "your task is to answer in a consistent sytle:\n",
        "\n",
        "<child>: Teach me about patience.\n",
        "<grandma>: Patience is like waiting for whole day to see the moon in the evening and then sleeping after having a look at it.\n",
        "\n",
        "<child>\" Teach me about resilience.\n",
        "\"\"\"\n",
        "response = generate_response(prompt)\n",
        "print(response)"
      ]
    },
    {
      "cell_type": "markdown",
      "metadata": {
        "id": "6osQJS0czIu-"
      },
      "source": [
        "### Component: ALlow the model to process the outcome progressively"
      ]
    },
    {
      "cell_type": "code",
      "execution_count": 24,
      "metadata": {
        "id": "SGtXe-NfwsW0",
        "outputId": "07a9c562-f113-4318-8842-9f79b541b87f",
        "colab": {
          "base_uri": "https://localhost:8080/"
        }
      },
      "outputs": [
        {
          "output_type": "stream",
          "name": "stdout",
          "text": [
            "The weather is beautiful today, with sunshine and wind.\n",
            "\n",
            "French: Le temps est magnifique aujourd'hui, avec du soleil et du vent.\n",
            "\n",
            "Names in French summary: None\n",
            "\n",
            "JSON Output: \n",
            "```json\n",
            "{\n",
            "  \"summary\": \"The weather is beautiful today, with sunshine and wind.\",\n",
            "  \"french_summary\": \"Le temps est magnifique aujourd'hui, avec du soleil et du vent.\",\n",
            "  \"names\": []\n",
            "}\n",
            "``` \n",
            "\n"
          ]
        }
      ],
      "source": [
        "text = \"\"\"\n",
        "THe morning today is amazing, the sun is looking bright in between clouds, the weather is pleasent and the wind is mindblowing. on a whole i am loving the day today.\n",
        "\"\"\"\n",
        "\n",
        "prompt = f\"\"\" summarize the below text in 15 words, translate to french and list each name in the french summary, also createa json output.\n",
        "```{text}```\n",
        "\"\"\"\n",
        "\n",
        "response = generate_response(prompt)\n",
        "print(response)\n"
      ]
    },
    {
      "cell_type": "code",
      "execution_count": 25,
      "metadata": {
        "id": "ic51u_OxzGQN",
        "outputId": "b2b3edf3-8d50-45d7-d704-c66b27aec75f",
        "colab": {
          "base_uri": "https://localhost:8080/"
        }
      },
      "outputs": [
        {
          "output_type": "stream",
          "name": "stdout",
          "text": [
            "```json\n",
            "{\n",
            "  \"french_summary\": \"Le matin est magnifique, le soleil brille entre les nuages, le temps est agréable et le vent est incroyable. J'ai rencontré Jenny aujourd'hui et nous avons passé un bon moment.\",\n",
            "  \"num_names\": 1\n",
            "}\n",
            "```\n"
          ]
        }
      ],
      "source": [
        "text = \"\"\"\n",
        "THe morning today is amazing, the sun is looking bright in between clouds, the weather is pleasent and the wind is mindblowing. on a whole i am loving the day today.\n",
        "I met Jenny today and we spent good time.\n",
        "\"\"\"\n",
        "\n",
        "prompt = f\"\"\"\n",
        "Perform the following tasks:\n",
        "1. Summarize the following text delimited by triple backticks in 15 words.\n",
        "2. translate the summary to French\n",
        "3. LIst each name in the french summary\n",
        "4. Output a json object that contains the following keys: french_summary, num_names.\n",
        "\n",
        "Text:\n",
        "```{text}```\n",
        "\"\"\"\n",
        "\n",
        "response = generate_response(prompt)\n",
        "print(response)\n"
      ]
    },
    {
      "cell_type": "code",
      "execution_count": 26,
      "metadata": {
        "colab": {
          "base_uri": "https://localhost:8080/"
        },
        "id": "-1WZs8Lg0SlZ",
        "outputId": "93b7f077-51cd-4ee0-e36c-fc4e5abc7741"
      },
      "outputs": [
        {
          "output_type": "stream",
          "name": "stdout",
          "text": [
            "Text: <\n",
            "THe morning today is amazing, the sun is looking bright in between clouds, the weather is pleasent and the wind is mindblowing. on a whole i am loving the day today.\n",
            "I met Jenny today and we spent good time.\n",
            ">\n",
            "\n",
            "Summary:  The author enjoys a beautiful morning and a pleasant encounter with Jenny.\n",
            "\n",
            "Translation: L'auteur apprécie une belle matinée et une rencontre agréable avec Jenny.\n",
            "\n",
            "Names: Jenny\n",
            "\n",
            "Output JSON: \n",
            "```json\n",
            "{\n",
            "  \"french_summary\": \"L'auteur apprécie une belle matinée et une rencontre agréable avec Jenny.\",\n",
            "  \"num_names\": 1\n",
            "}\n",
            "``` \n",
            "\n"
          ]
        }
      ],
      "source": [
        "text = \"\"\"\n",
        "THe morning today is amazing, the sun is looking bright in between clouds, the weather is pleasent and the wind is mindblowing. on a whole i am loving the day today.\n",
        "I met Jenny today and we spent good time.\n",
        "\"\"\"\n",
        "\n",
        "prompt = f\"\"\"\n",
        "Perform the following tasks:\n",
        "1. Summarize the following text delimited by <> in 15 words.\n",
        "2. translate the summary to French\n",
        "3. LIst each name in the french summary\n",
        "4. Output a json object that contains the following keys: french_summary, num_names.\n",
        "\n",
        "Use the following format:\n",
        "Text: <text to summarize>\n",
        "Summary: <summary >\n",
        "Tranlation: <Summary translation>\n",
        "Names: <list of names>\n",
        "Output JSON: <json with summary and num_names>\n",
        "\n",
        "Text:\n",
        "<{text}>\n",
        "\"\"\"\n",
        "\n",
        "response = generate_response(prompt)\n",
        "print(response)\n"
      ]
    },
    {
      "cell_type": "code",
      "execution_count": 27,
      "metadata": {
        "colab": {
          "base_uri": "https://localhost:8080/",
          "height": 53
        },
        "id": "BP-Z6_8m0w2t",
        "outputId": "7a778ce5-c998-4c47-f60a-754ca840e79a"
      },
      "outputs": [
        {
          "output_type": "execute_result",
          "data": {
            "text/plain": [
              "'The expression is incorrect. In Boolean logic, `+` typically represents the logical OR operation.  \\n\\n**True OR True = True**\\n\\nThe expression `True + True = True`  would be evaluated as  `True = True`, which is **True**. \\n'"
            ],
            "application/vnd.google.colaboratory.intrinsic+json": {
              "type": "string"
            }
          },
          "metadata": {},
          "execution_count": 27
        }
      ],
      "source": [
        "prompt = f\"\"\"\n",
        "\n",
        "Evaluate the following expression considering boolean logic (All Values are in boolean):\n",
        "  True + True = True\n",
        "\"\"\"\n",
        "generate_response(prompt)\n"
      ]
    },
    {
      "cell_type": "markdown",
      "metadata": {
        "id": "tQI21lUDLkG4"
      },
      "source": [
        "## Chain of Thought Prompting"
      ]
    },
    {
      "cell_type": "code",
      "execution_count": 28,
      "metadata": {
        "id": "JbMnOeiq2atC",
        "outputId": "840c2bb3-ef34-4113-c5e1-bf066199ea3a",
        "colab": {
          "base_uri": "https://localhost:8080/"
        }
      },
      "outputs": [
        {
          "output_type": "stream",
          "name": "stdout",
          "text": [
            "8 pens \n",
            "\n"
          ]
        }
      ],
      "source": [
        "# Without Chain of Thought Prompting\n",
        "prompt = f\"\"\"\n",
        "\n",
        "Teacher: Johan had 5 apples, he bought 4 more boxes with 5 apples each. How many apples does he have now?\n",
        "Student: 25 apples\n",
        "\n",
        "Teacher: Marry had 5 pens, she gave 3 to her friend. and bought 2 boxes of pen with 3 pen in each box. How many pens does she have now?\n",
        "Student:\n",
        "\n",
        "\"\"\"\n",
        "response = generate_response(prompt)\n",
        "print(response)"
      ]
    },
    {
      "cell_type": "code",
      "execution_count": 29,
      "metadata": {
        "id": "Sz5Uhv68LkG4",
        "outputId": "24505f2e-7918-41e2-bd87-5542ef3f8e68",
        "colab": {
          "base_uri": "https://localhost:8080/"
        }
      },
      "outputs": [
        {
          "output_type": "stream",
          "name": "stdout",
          "text": [
            "Marry had 5 pens, gave away 3 = 5 - 3 = 2 pens\n",
            "She bought 2 boxes of 3 pens each = 2 * 3 = 6 pens\n",
            "Now she has 2 + 6 = 8 pens \n",
            "\n"
          ]
        }
      ],
      "source": [
        "# with Chain of Thought prompting\n",
        "prompt = f\"\"\"\n",
        "\n",
        "Teacher: Johan had 5 apples, he bought 4 more boxes with 5 apples each. How many apples does he have now?\n",
        "Student: Johan had 5 apples, 4 boxes with 5 apples each = 5 + 4*5 = 25 apples\n",
        "\n",
        "Teacher: Marry had 5 pens, she gave 3 to her friend. and bought 2 boxes of pen with 3 pen in each box. How many pens does she have now?\n",
        "Student:\n",
        "\n",
        "\"\"\"\n",
        "response = generate_response(prompt)\n",
        "print(response)"
      ]
    },
    {
      "cell_type": "markdown",
      "metadata": {
        "id": "Z8_TNNG2Ozu6"
      },
      "source": [
        "# Model Limitations: Hallucinations"
      ]
    },
    {
      "cell_type": "code",
      "execution_count": 30,
      "metadata": {
        "colab": {
          "base_uri": "https://localhost:8080/",
          "height": 53
        },
        "id": "n4rvOOeSPIDV",
        "outputId": "6fa7ce20-1370-413b-985b-54a26aa60e40"
      },
      "outputs": [
        {
          "output_type": "execute_result",
          "data": {
            "text/plain": [
              "'There is no known toothbrush called \"Ergonamic Toothbrush\" by Cognizant. Cognizant is a technology consulting and outsourcing company, not a toothbrush manufacturer. \\n\\nPlease check your information or provide more details about the product you\\'re looking for. \\n'"
            ],
            "application/vnd.google.colaboratory.intrinsic+json": {
              "type": "string"
            }
          },
          "metadata": {},
          "execution_count": 30
        }
      ],
      "source": [
        "prompt = f\"\"\"\n",
        "Tell me about Ergonamic Toothbrush by Cognizant.\n",
        "\"\"\"\n",
        "\n",
        "generate_response(prompt)"
      ]
    },
    {
      "cell_type": "code",
      "execution_count": 31,
      "metadata": {
        "colab": {
          "base_uri": "https://localhost:8080/",
          "height": 87
        },
        "id": "hzawWC-7PT_l",
        "outputId": "064040cf-a7b2-474d-8f28-d53a87496cf6"
      },
      "outputs": [
        {
          "output_type": "execute_result",
          "data": {
            "text/plain": [
              "\"I do not have access to real-time information, including product details like those for the Ultraslim Toothbrush by Cognixia. \\n\\nTo find information about this specific product, I suggest checking:\\n\\n* **Cognixia's website:** This is the most likely place to find details about their products.\\n* **Online retailers:** Websites like Amazon, Walmart, or Target might sell the toothbrush and provide product descriptions.\\n* **Review websites:** Sites like Consumer Reports or product review blogs may offer insights from users. \\n\""
            ],
            "application/vnd.google.colaboratory.intrinsic+json": {
              "type": "string"
            }
          },
          "metadata": {},
          "execution_count": 31
        }
      ],
      "source": [
        "prompt = f\"\"\"\n",
        "Tell me about Ultraslim Toothbrush by Cognixia.\n",
        "\"\"\"\n",
        "\n",
        "generate_response(prompt)"
      ]
    },
    {
      "cell_type": "code",
      "execution_count": 32,
      "metadata": {
        "colab": {
          "base_uri": "https://localhost:8080/"
        },
        "id": "gjWPGpKzPdQB",
        "outputId": "c9e596b2-90df-4d27-bac9-6a115949e3e2"
      },
      "outputs": [
        {
          "output_type": "stream",
          "name": "stdout",
          "text": [
            "1. Manila: **A bustling capital city in the Philippines.**\n",
            "2. Delhi: **A vibrant metropolis in India, steeped in history and culture.**\n",
            "3. Cognizantonia: **A fictional city, likely created for a specific context.**\n",
            "4. Tokyo: **A modern megacity in Japan, known for its technological advancements and unique culture.** \n",
            "\n"
          ]
        }
      ],
      "source": [
        "prompt = f\"\"\"\n",
        "Generate one line description for each of the following:\n",
        "1. Manila\n",
        "2. Delhi\n",
        "3. Cognizantonia\n",
        "4. Tokyo\n",
        "\"\"\"\n",
        "\n",
        "print(generate_response(prompt))"
      ]
    },
    {
      "cell_type": "code",
      "execution_count": 33,
      "metadata": {
        "colab": {
          "base_uri": "https://localhost:8080/"
        },
        "id": "Io6r-CoeRP5r",
        "outputId": "fac4831e-816a-4730-ca31-56140aa77656"
      },
      "outputs": [
        {
          "output_type": "stream",
          "name": "stdout",
          "text": [
            "1. Manila: A vibrant capital city in the Philippines known for its rich history and bustling streets.\n",
            "2. Delhi: A sprawling metropolis in India, a center of culture, politics, and commerce.\n",
            "3. Cognizantonia: No description can be generated.\n",
            "4. Tokyo: A modern megacity in Japan, renowned for its technological advancements and unique cultural experiences. \n",
            "\n"
          ]
        }
      ],
      "source": [
        "prompt = f\"\"\"\n",
        "Generate one line description for each of the following city, check if the city exists, if it does not exist, say no description can be generated:\n",
        "1. Manila\n",
        "2. Delhi\n",
        "3. Cognizantonia\n",
        "4. Tokyo\n",
        "\"\"\"\n",
        "\n",
        "print(generate_response(prompt))"
      ]
    },
    {
      "cell_type": "code",
      "execution_count": null,
      "metadata": {
        "id": "Lap6MZ-ARdKd"
      },
      "outputs": [],
      "source": []
    },
    {
      "cell_type": "markdown",
      "source": [
        "## Thank You"
      ],
      "metadata": {
        "id": "ePrDePleC-kJ"
      }
    }
  ],
  "metadata": {
    "colab": {
      "provenance": [],
      "include_colab_link": true
    },
    "kernelspec": {
      "display_name": "Python 3",
      "name": "python3"
    },
    "language_info": {
      "codemirror_mode": {
        "name": "ipython",
        "version": 3
      },
      "file_extension": ".py",
      "mimetype": "text/x-python",
      "name": "python",
      "nbconvert_exporter": "python",
      "pygments_lexer": "ipython3",
      "version": "3.10.9"
    }
  },
  "nbformat": 4,
  "nbformat_minor": 0
}